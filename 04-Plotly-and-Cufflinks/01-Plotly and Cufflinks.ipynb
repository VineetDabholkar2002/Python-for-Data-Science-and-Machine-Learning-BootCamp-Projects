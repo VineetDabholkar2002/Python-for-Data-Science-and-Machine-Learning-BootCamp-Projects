{
 "cells": [
  {
   "cell_type": "markdown",
   "metadata": {},
   "source": [
    "# Plotly and Cufflinks"
   ]
  },
  {
   "cell_type": "markdown",
   "metadata": {},
   "source": [
    "Plotly is a library that allows you to create interactive plots that you can use in dashboards or websites (you can save them as html files or static images).\n",
    "\n",
    "## Installation\n",
    "\n",
    "In order for this all to work, you'll need to install plotly and cufflinks to call plots directly off of a pandas dataframe. These libraries are not currently available through **conda** but are available through **pip**. Install the libraries at your command line/terminal using:\n",
    "\n",
    "    pip install plotly\n",
    "    pip install cufflinks\n",
    "\n",
    "** NOTE: Make sure you only have one installation of Python on your computer when you do this, otherwise the installation may not work. **\n",
    "\n",
    "## Imports and Set-up"
   ]
  },
  {
   "cell_type": "code",
   "execution_count": 1,
   "metadata": {},
   "outputs": [],
   "source": [
    "import pandas as pd\n",
    "import numpy as np\n",
    "%matplotlib inline\n"
   ]
  },
  {
   "cell_type": "code",
   "execution_count": 2,
   "metadata": {},
   "outputs": [
    {
     "name": "stdout",
     "output_type": "stream",
     "text": [
      "4.14.3\n"
     ]
    }
   ],
   "source": [
    "from plotly import __version__\n",
    "from plotly.offline import download_plotlyjs, init_notebook_mode, plot, iplot\n",
    "\n",
    "print(__version__) # requires version >= 1.9.0"
   ]
  },
  {
   "cell_type": "code",
   "execution_count": 3,
   "metadata": {},
   "outputs": [],
   "source": [
    "import cufflinks as cf"
   ]
  },
  {
   "cell_type": "code",
   "execution_count": 4,
   "metadata": {},
   "outputs": [
    {
     "data": {
      "text/html": [
       "        <script type=\"text/javascript\">\n",
       "        window.PlotlyConfig = {MathJaxConfig: 'local'};\n",
       "        if (window.MathJax) {MathJax.Hub.Config({SVG: {font: \"STIX-Web\"}});}\n",
       "        if (typeof require !== 'undefined') {\n",
       "        require.undef(\"plotly\");\n",
       "        requirejs.config({\n",
       "            paths: {\n",
       "                'plotly': ['https://cdn.plot.ly/plotly-latest.min']\n",
       "            }\n",
       "        });\n",
       "        require(['plotly'], function(Plotly) {\n",
       "            window._Plotly = Plotly;\n",
       "        });\n",
       "        }\n",
       "        </script>\n",
       "        "
      ]
     },
     "metadata": {},
     "output_type": "display_data"
    }
   ],
   "source": [
    "# For Notebooks\n",
    "init_notebook_mode(connected=True)"
   ]
  },
  {
   "cell_type": "code",
   "execution_count": 5,
   "metadata": {},
   "outputs": [
    {
     "data": {
      "text/html": [
       "        <script type=\"text/javascript\">\n",
       "        window.PlotlyConfig = {MathJaxConfig: 'local'};\n",
       "        if (window.MathJax) {MathJax.Hub.Config({SVG: {font: \"STIX-Web\"}});}\n",
       "        if (typeof require !== 'undefined') {\n",
       "        require.undef(\"plotly\");\n",
       "        requirejs.config({\n",
       "            paths: {\n",
       "                'plotly': ['https://cdn.plot.ly/plotly-latest.min']\n",
       "            }\n",
       "        });\n",
       "        require(['plotly'], function(Plotly) {\n",
       "            window._Plotly = Plotly;\n",
       "        });\n",
       "        }\n",
       "        </script>\n",
       "        "
      ]
     },
     "metadata": {},
     "output_type": "display_data"
    }
   ],
   "source": [
    "# For offline use\n",
    "cf.go_offline()"
   ]
  },
  {
   "cell_type": "markdown",
   "metadata": {},
   "source": [
    "### Fake Data"
   ]
  },
  {
   "cell_type": "code",
   "execution_count": 6,
   "metadata": {},
   "outputs": [],
   "source": [
    "df = pd.DataFrame(np.random.randn(100,4),columns='A B C D'.split())"
   ]
  },
  {
   "cell_type": "code",
   "execution_count": 7,
   "metadata": {},
   "outputs": [
    {
     "data": {
      "text/html": [
       "<div>\n",
       "<style scoped>\n",
       "    .dataframe tbody tr th:only-of-type {\n",
       "        vertical-align: middle;\n",
       "    }\n",
       "\n",
       "    .dataframe tbody tr th {\n",
       "        vertical-align: top;\n",
       "    }\n",
       "\n",
       "    .dataframe thead th {\n",
       "        text-align: right;\n",
       "    }\n",
       "</style>\n",
       "<table border=\"1\" class=\"dataframe\">\n",
       "  <thead>\n",
       "    <tr style=\"text-align: right;\">\n",
       "      <th></th>\n",
       "      <th>A</th>\n",
       "      <th>B</th>\n",
       "      <th>C</th>\n",
       "      <th>D</th>\n",
       "    </tr>\n",
       "  </thead>\n",
       "  <tbody>\n",
       "    <tr>\n",
       "      <th>0</th>\n",
       "      <td>-0.438854</td>\n",
       "      <td>-1.362722</td>\n",
       "      <td>1.052948</td>\n",
       "      <td>1.320171</td>\n",
       "    </tr>\n",
       "    <tr>\n",
       "      <th>1</th>\n",
       "      <td>0.384085</td>\n",
       "      <td>0.274648</td>\n",
       "      <td>0.293062</td>\n",
       "      <td>0.820267</td>\n",
       "    </tr>\n",
       "    <tr>\n",
       "      <th>2</th>\n",
       "      <td>-0.741376</td>\n",
       "      <td>0.700946</td>\n",
       "      <td>1.111920</td>\n",
       "      <td>1.719151</td>\n",
       "    </tr>\n",
       "    <tr>\n",
       "      <th>3</th>\n",
       "      <td>-2.028850</td>\n",
       "      <td>-1.381101</td>\n",
       "      <td>1.648938</td>\n",
       "      <td>-1.281638</td>\n",
       "    </tr>\n",
       "    <tr>\n",
       "      <th>4</th>\n",
       "      <td>0.862402</td>\n",
       "      <td>-1.742851</td>\n",
       "      <td>-0.443152</td>\n",
       "      <td>0.083170</td>\n",
       "    </tr>\n",
       "  </tbody>\n",
       "</table>\n",
       "</div>"
      ],
      "text/plain": [
       "          A         B         C         D\n",
       "0 -0.438854 -1.362722  1.052948  1.320171\n",
       "1  0.384085  0.274648  0.293062  0.820267\n",
       "2 -0.741376  0.700946  1.111920  1.719151\n",
       "3 -2.028850 -1.381101  1.648938 -1.281638\n",
       "4  0.862402 -1.742851 -0.443152  0.083170"
      ]
     },
     "execution_count": 7,
     "metadata": {},
     "output_type": "execute_result"
    }
   ],
   "source": [
    "df.head()"
   ]
  },
  {
   "cell_type": "code",
   "execution_count": 8,
   "metadata": {},
   "outputs": [],
   "source": [
    "df2 = pd.DataFrame({'Category':['A','B','C'],'Values':[32,43,50]})"
   ]
  },
  {
   "cell_type": "code",
   "execution_count": 9,
   "metadata": {},
   "outputs": [
    {
     "data": {
      "text/html": [
       "<div>\n",
       "<style scoped>\n",
       "    .dataframe tbody tr th:only-of-type {\n",
       "        vertical-align: middle;\n",
       "    }\n",
       "\n",
       "    .dataframe tbody tr th {\n",
       "        vertical-align: top;\n",
       "    }\n",
       "\n",
       "    .dataframe thead th {\n",
       "        text-align: right;\n",
       "    }\n",
       "</style>\n",
       "<table border=\"1\" class=\"dataframe\">\n",
       "  <thead>\n",
       "    <tr style=\"text-align: right;\">\n",
       "      <th></th>\n",
       "      <th>Category</th>\n",
       "      <th>Values</th>\n",
       "    </tr>\n",
       "  </thead>\n",
       "  <tbody>\n",
       "    <tr>\n",
       "      <th>0</th>\n",
       "      <td>A</td>\n",
       "      <td>32</td>\n",
       "    </tr>\n",
       "    <tr>\n",
       "      <th>1</th>\n",
       "      <td>B</td>\n",
       "      <td>43</td>\n",
       "    </tr>\n",
       "    <tr>\n",
       "      <th>2</th>\n",
       "      <td>C</td>\n",
       "      <td>50</td>\n",
       "    </tr>\n",
       "  </tbody>\n",
       "</table>\n",
       "</div>"
      ],
      "text/plain": [
       "  Category  Values\n",
       "0        A      32\n",
       "1        B      43\n",
       "2        C      50"
      ]
     },
     "execution_count": 9,
     "metadata": {},
     "output_type": "execute_result"
    }
   ],
   "source": [
    "df2.head()"
   ]
  },
  {
   "cell_type": "markdown",
   "metadata": {},
   "source": [
    "## Using Cufflinks and iplot()\n",
    "\n",
    "* scatter\n",
    "* bar\n",
    "* box\n",
    "* spread\n",
    "* ratio\n",
    "* heatmap\n",
    "* surface\n",
    "* histogram\n",
    "* bubble"
   ]
  },
  {
   "cell_type": "markdown",
   "metadata": {},
   "source": [
    "## Scatter"
   ]
  },
  {
   "cell_type": "code",
   "execution_count": 10,
   "metadata": {},
   "outputs": [
    {
     "data": {
      "application/vnd.plotly.v1+json": {
       "config": {
        "linkText": "Export to plot.ly",
        "plotlyServerURL": "https://plot.ly",
        "showLink": true
       },
       "data": [
        {
         "line": {
          "color": "rgba(255, 153, 51, 1.0)",
          "dash": "solid",
          "shape": "linear",
          "width": 1.3
         },
         "marker": {
          "size": 10,
          "symbol": "circle"
         },
         "mode": "markers",
         "name": "B",
         "text": "",
         "type": "scatter",
         "x": [
          -0.4388542745687468,
          0.38408546159996987,
          -0.7413763683855321,
          -2.0288498139440914,
          0.8624022381361729,
          -0.7390775027313098,
          -0.112055115702541,
          0.9806345007382388,
          -1.0309612695870745,
          -0.42208014577143504,
          -0.6589458881544358,
          1.6189909942527092,
          0.6280941855399383,
          0.5824415788359514,
          1.407947397974564,
          -0.6055181775783632,
          0.26145880753689704,
          -1.6728439093333693,
          1.6860521621788684,
          1.009329541212465,
          -1.8503028350686974,
          -0.20999184471500965,
          -2.2932587368033177,
          -1.052360060273866,
          0.7434586671733655,
          0.24587075068617625,
          -1.1941403964622943,
          -0.4868426790349285,
          0.8398227332351278,
          0.7617615697209622,
          0.14507569288658226,
          0.5443829206564472,
          0.937364315832808,
          1.2470954452432272,
          -0.5534980066811476,
          1.5123201135236342,
          0.8987462567974541,
          0.5791080389203644,
          -0.2169166729652307,
          1.1859624278722207,
          -1.0513105071512439,
          -0.5537498496696196,
          -1.1876608548600875,
          0.28581503368341776,
          -0.8373909670462102,
          -0.49908970926011703,
          -1.0529342880820247,
          -0.9248567740307652,
          1.764463447885169,
          0.5901326366414836,
          -1.142075713218274,
          -0.8946017497616889,
          0.0144652299158461,
          0.1279379505634851,
          -1.0120014602064225,
          0.0363380032435725,
          0.21366402851299293,
          -0.18459741491488368,
          0.550611238075139,
          -1.1964210420445283,
          0.27844714124707004,
          -0.601675012386725,
          0.09034648034734893,
          -1.019728088992673,
          -1.1810422893142594,
          -1.0302218578695155,
          -0.02807953192685473,
          2.1234225090964385,
          -1.7218913699279377,
          -1.107127947693045,
          0.07029646761054668,
          -0.44745598771982803,
          1.148766935793685,
          0.016377942985925025,
          -0.638644767078107,
          -0.6605524605312318,
          -0.12626451146059678,
          0.23314954919639108,
          0.13663921181967784,
          -1.0216268345305923,
          0.2665031884388046,
          0.35416299293513925,
          -0.053121967639487025,
          0.7862011170376131,
          -0.47712670671197815,
          0.7931940780649613,
          -0.32398602740064425,
          -0.7796188551276063,
          -1.0774772125396894,
          0.8366000799612457,
          -0.7252752826298803,
          0.47420209435821925,
          0.16479101958522108,
          0.7805292644873063,
          -0.1922784699312706,
          0.01984409354644912,
          -0.5905422812265733,
          0.2857750483391747,
          -0.8738282207287031,
          1.2715167674609458
         ],
         "y": [
          -1.3627216013659846,
          0.2746479273419688,
          0.7009464451380578,
          -1.3811013400556857,
          -1.7428511959512216,
          -0.8905026557041102,
          -0.551282879317178,
          0.22107331559969615,
          -1.5843865530614263,
          -1.9578013663048495,
          1.6767888897250252,
          0.5704931064566529,
          -0.6314149241481537,
          0.2757322702947673,
          0.7876966927085246,
          -0.8981643739025043,
          0.2948816739619415,
          0.1826302665386844,
          -0.9359073662486931,
          -1.457757479610927,
          -0.30185223399542666,
          0.9177284159277574,
          -0.5013513777674213,
          2.9904562197653792,
          1.2102048203993276,
          0.3463027009884661,
          -0.14875933083792445,
          -0.7241462815090236,
          -0.25408636699024595,
          -0.1011944206256832,
          -0.9111289589894425,
          0.09146337137093262,
          1.6008067662713046,
          1.2746041957302874,
          0.9851969510533377,
          -0.8543754688768727,
          1.6107325176724772,
          -1.4755417524303547,
          0.2324101126295466,
          -1.1624830197173044,
          -1.3561431982536194,
          0.5618943121972119,
          0.3401447906679545,
          -1.6615229986560336,
          -0.2078537594217146,
          0.727184088179305,
          -0.311201502392996,
          -0.5015752565114187,
          -1.1721312285095038,
          -1.5649694918407073,
          -1.0939670201572929,
          0.3619889697652782,
          3.367931842022976,
          -0.2521367382602952,
          -0.314242196876435,
          0.28725557906216953,
          -2.3182561631414584,
          -0.5554086695260209,
          -0.42168125402643714,
          1.689241224802193,
          0.07370559648891448,
          -0.6359492421783562,
          0.40914626446901686,
          0.06893059954535942,
          1.0029731029083802,
          1.4683660981628652,
          0.5641680851054268,
          -0.23720583119416894,
          -1.3720094046379412,
          -0.06317150115552012,
          -0.4646886627983753,
          -0.4653757228572715,
          0.26066881226261535,
          0.6871616119462791,
          -0.4920968386727682,
          -0.7887370928876344,
          -2.001483326801323,
          1.679334471231441,
          1.7345100201822912,
          -0.9727078661032714,
          0.2919188486713192,
          0.4653106873555381,
          0.3891081605002875,
          1.1844211163842735,
          -0.3689456505251842,
          0.5046777558050485,
          0.5212098489901662,
          -0.2810122685636921,
          -0.14805919194277323,
          0.25379447016412093,
          -0.3485665898351345,
          0.8050525463698355,
          -0.17894394437635838,
          -0.51770392029611,
          2.074133165916208,
          1.6404422314144023,
          0.4178381849479696,
          -0.11527328671374554,
          0.0746127850615184,
          -0.7620958143342098
         ]
        }
       ],
       "layout": {
        "legend": {
         "bgcolor": "#F5F6F9",
         "font": {
          "color": "#4D5663"
         }
        },
        "paper_bgcolor": "#F5F6F9",
        "plot_bgcolor": "#F5F6F9",
        "template": {
         "data": {
          "bar": [
           {
            "error_x": {
             "color": "#2a3f5f"
            },
            "error_y": {
             "color": "#2a3f5f"
            },
            "marker": {
             "line": {
              "color": "#E5ECF6",
              "width": 0.5
             }
            },
            "type": "bar"
           }
          ],
          "barpolar": [
           {
            "marker": {
             "line": {
              "color": "#E5ECF6",
              "width": 0.5
             }
            },
            "type": "barpolar"
           }
          ],
          "carpet": [
           {
            "aaxis": {
             "endlinecolor": "#2a3f5f",
             "gridcolor": "white",
             "linecolor": "white",
             "minorgridcolor": "white",
             "startlinecolor": "#2a3f5f"
            },
            "baxis": {
             "endlinecolor": "#2a3f5f",
             "gridcolor": "white",
             "linecolor": "white",
             "minorgridcolor": "white",
             "startlinecolor": "#2a3f5f"
            },
            "type": "carpet"
           }
          ],
          "choropleth": [
           {
            "colorbar": {
             "outlinewidth": 0,
             "ticks": ""
            },
            "type": "choropleth"
           }
          ],
          "contour": [
           {
            "colorbar": {
             "outlinewidth": 0,
             "ticks": ""
            },
            "colorscale": [
             [
              0,
              "#0d0887"
             ],
             [
              0.1111111111111111,
              "#46039f"
             ],
             [
              0.2222222222222222,
              "#7201a8"
             ],
             [
              0.3333333333333333,
              "#9c179e"
             ],
             [
              0.4444444444444444,
              "#bd3786"
             ],
             [
              0.5555555555555556,
              "#d8576b"
             ],
             [
              0.6666666666666666,
              "#ed7953"
             ],
             [
              0.7777777777777778,
              "#fb9f3a"
             ],
             [
              0.8888888888888888,
              "#fdca26"
             ],
             [
              1,
              "#f0f921"
             ]
            ],
            "type": "contour"
           }
          ],
          "contourcarpet": [
           {
            "colorbar": {
             "outlinewidth": 0,
             "ticks": ""
            },
            "type": "contourcarpet"
           }
          ],
          "heatmap": [
           {
            "colorbar": {
             "outlinewidth": 0,
             "ticks": ""
            },
            "colorscale": [
             [
              0,
              "#0d0887"
             ],
             [
              0.1111111111111111,
              "#46039f"
             ],
             [
              0.2222222222222222,
              "#7201a8"
             ],
             [
              0.3333333333333333,
              "#9c179e"
             ],
             [
              0.4444444444444444,
              "#bd3786"
             ],
             [
              0.5555555555555556,
              "#d8576b"
             ],
             [
              0.6666666666666666,
              "#ed7953"
             ],
             [
              0.7777777777777778,
              "#fb9f3a"
             ],
             [
              0.8888888888888888,
              "#fdca26"
             ],
             [
              1,
              "#f0f921"
             ]
            ],
            "type": "heatmap"
           }
          ],
          "heatmapgl": [
           {
            "colorbar": {
             "outlinewidth": 0,
             "ticks": ""
            },
            "colorscale": [
             [
              0,
              "#0d0887"
             ],
             [
              0.1111111111111111,
              "#46039f"
             ],
             [
              0.2222222222222222,
              "#7201a8"
             ],
             [
              0.3333333333333333,
              "#9c179e"
             ],
             [
              0.4444444444444444,
              "#bd3786"
             ],
             [
              0.5555555555555556,
              "#d8576b"
             ],
             [
              0.6666666666666666,
              "#ed7953"
             ],
             [
              0.7777777777777778,
              "#fb9f3a"
             ],
             [
              0.8888888888888888,
              "#fdca26"
             ],
             [
              1,
              "#f0f921"
             ]
            ],
            "type": "heatmapgl"
           }
          ],
          "histogram": [
           {
            "marker": {
             "colorbar": {
              "outlinewidth": 0,
              "ticks": ""
             }
            },
            "type": "histogram"
           }
          ],
          "histogram2d": [
           {
            "colorbar": {
             "outlinewidth": 0,
             "ticks": ""
            },
            "colorscale": [
             [
              0,
              "#0d0887"
             ],
             [
              0.1111111111111111,
              "#46039f"
             ],
             [
              0.2222222222222222,
              "#7201a8"
             ],
             [
              0.3333333333333333,
              "#9c179e"
             ],
             [
              0.4444444444444444,
              "#bd3786"
             ],
             [
              0.5555555555555556,
              "#d8576b"
             ],
             [
              0.6666666666666666,
              "#ed7953"
             ],
             [
              0.7777777777777778,
              "#fb9f3a"
             ],
             [
              0.8888888888888888,
              "#fdca26"
             ],
             [
              1,
              "#f0f921"
             ]
            ],
            "type": "histogram2d"
           }
          ],
          "histogram2dcontour": [
           {
            "colorbar": {
             "outlinewidth": 0,
             "ticks": ""
            },
            "colorscale": [
             [
              0,
              "#0d0887"
             ],
             [
              0.1111111111111111,
              "#46039f"
             ],
             [
              0.2222222222222222,
              "#7201a8"
             ],
             [
              0.3333333333333333,
              "#9c179e"
             ],
             [
              0.4444444444444444,
              "#bd3786"
             ],
             [
              0.5555555555555556,
              "#d8576b"
             ],
             [
              0.6666666666666666,
              "#ed7953"
             ],
             [
              0.7777777777777778,
              "#fb9f3a"
             ],
             [
              0.8888888888888888,
              "#fdca26"
             ],
             [
              1,
              "#f0f921"
             ]
            ],
            "type": "histogram2dcontour"
           }
          ],
          "mesh3d": [
           {
            "colorbar": {
             "outlinewidth": 0,
             "ticks": ""
            },
            "type": "mesh3d"
           }
          ],
          "parcoords": [
           {
            "line": {
             "colorbar": {
              "outlinewidth": 0,
              "ticks": ""
             }
            },
            "type": "parcoords"
           }
          ],
          "pie": [
           {
            "automargin": true,
            "type": "pie"
           }
          ],
          "scatter": [
           {
            "marker": {
             "colorbar": {
              "outlinewidth": 0,
              "ticks": ""
             }
            },
            "type": "scatter"
           }
          ],
          "scatter3d": [
           {
            "line": {
             "colorbar": {
              "outlinewidth": 0,
              "ticks": ""
             }
            },
            "marker": {
             "colorbar": {
              "outlinewidth": 0,
              "ticks": ""
             }
            },
            "type": "scatter3d"
           }
          ],
          "scattercarpet": [
           {
            "marker": {
             "colorbar": {
              "outlinewidth": 0,
              "ticks": ""
             }
            },
            "type": "scattercarpet"
           }
          ],
          "scattergeo": [
           {
            "marker": {
             "colorbar": {
              "outlinewidth": 0,
              "ticks": ""
             }
            },
            "type": "scattergeo"
           }
          ],
          "scattergl": [
           {
            "marker": {
             "colorbar": {
              "outlinewidth": 0,
              "ticks": ""
             }
            },
            "type": "scattergl"
           }
          ],
          "scattermapbox": [
           {
            "marker": {
             "colorbar": {
              "outlinewidth": 0,
              "ticks": ""
             }
            },
            "type": "scattermapbox"
           }
          ],
          "scatterpolar": [
           {
            "marker": {
             "colorbar": {
              "outlinewidth": 0,
              "ticks": ""
             }
            },
            "type": "scatterpolar"
           }
          ],
          "scatterpolargl": [
           {
            "marker": {
             "colorbar": {
              "outlinewidth": 0,
              "ticks": ""
             }
            },
            "type": "scatterpolargl"
           }
          ],
          "scatterternary": [
           {
            "marker": {
             "colorbar": {
              "outlinewidth": 0,
              "ticks": ""
             }
            },
            "type": "scatterternary"
           }
          ],
          "surface": [
           {
            "colorbar": {
             "outlinewidth": 0,
             "ticks": ""
            },
            "colorscale": [
             [
              0,
              "#0d0887"
             ],
             [
              0.1111111111111111,
              "#46039f"
             ],
             [
              0.2222222222222222,
              "#7201a8"
             ],
             [
              0.3333333333333333,
              "#9c179e"
             ],
             [
              0.4444444444444444,
              "#bd3786"
             ],
             [
              0.5555555555555556,
              "#d8576b"
             ],
             [
              0.6666666666666666,
              "#ed7953"
             ],
             [
              0.7777777777777778,
              "#fb9f3a"
             ],
             [
              0.8888888888888888,
              "#fdca26"
             ],
             [
              1,
              "#f0f921"
             ]
            ],
            "type": "surface"
           }
          ],
          "table": [
           {
            "cells": {
             "fill": {
              "color": "#EBF0F8"
             },
             "line": {
              "color": "white"
             }
            },
            "header": {
             "fill": {
              "color": "#C8D4E3"
             },
             "line": {
              "color": "white"
             }
            },
            "type": "table"
           }
          ]
         },
         "layout": {
          "annotationdefaults": {
           "arrowcolor": "#2a3f5f",
           "arrowhead": 0,
           "arrowwidth": 1
          },
          "autotypenumbers": "strict",
          "coloraxis": {
           "colorbar": {
            "outlinewidth": 0,
            "ticks": ""
           }
          },
          "colorscale": {
           "diverging": [
            [
             0,
             "#8e0152"
            ],
            [
             0.1,
             "#c51b7d"
            ],
            [
             0.2,
             "#de77ae"
            ],
            [
             0.3,
             "#f1b6da"
            ],
            [
             0.4,
             "#fde0ef"
            ],
            [
             0.5,
             "#f7f7f7"
            ],
            [
             0.6,
             "#e6f5d0"
            ],
            [
             0.7,
             "#b8e186"
            ],
            [
             0.8,
             "#7fbc41"
            ],
            [
             0.9,
             "#4d9221"
            ],
            [
             1,
             "#276419"
            ]
           ],
           "sequential": [
            [
             0,
             "#0d0887"
            ],
            [
             0.1111111111111111,
             "#46039f"
            ],
            [
             0.2222222222222222,
             "#7201a8"
            ],
            [
             0.3333333333333333,
             "#9c179e"
            ],
            [
             0.4444444444444444,
             "#bd3786"
            ],
            [
             0.5555555555555556,
             "#d8576b"
            ],
            [
             0.6666666666666666,
             "#ed7953"
            ],
            [
             0.7777777777777778,
             "#fb9f3a"
            ],
            [
             0.8888888888888888,
             "#fdca26"
            ],
            [
             1,
             "#f0f921"
            ]
           ],
           "sequentialminus": [
            [
             0,
             "#0d0887"
            ],
            [
             0.1111111111111111,
             "#46039f"
            ],
            [
             0.2222222222222222,
             "#7201a8"
            ],
            [
             0.3333333333333333,
             "#9c179e"
            ],
            [
             0.4444444444444444,
             "#bd3786"
            ],
            [
             0.5555555555555556,
             "#d8576b"
            ],
            [
             0.6666666666666666,
             "#ed7953"
            ],
            [
             0.7777777777777778,
             "#fb9f3a"
            ],
            [
             0.8888888888888888,
             "#fdca26"
            ],
            [
             1,
             "#f0f921"
            ]
           ]
          },
          "colorway": [
           "#636efa",
           "#EF553B",
           "#00cc96",
           "#ab63fa",
           "#FFA15A",
           "#19d3f3",
           "#FF6692",
           "#B6E880",
           "#FF97FF",
           "#FECB52"
          ],
          "font": {
           "color": "#2a3f5f"
          },
          "geo": {
           "bgcolor": "white",
           "lakecolor": "white",
           "landcolor": "#E5ECF6",
           "showlakes": true,
           "showland": true,
           "subunitcolor": "white"
          },
          "hoverlabel": {
           "align": "left"
          },
          "hovermode": "closest",
          "mapbox": {
           "style": "light"
          },
          "paper_bgcolor": "white",
          "plot_bgcolor": "#E5ECF6",
          "polar": {
           "angularaxis": {
            "gridcolor": "white",
            "linecolor": "white",
            "ticks": ""
           },
           "bgcolor": "#E5ECF6",
           "radialaxis": {
            "gridcolor": "white",
            "linecolor": "white",
            "ticks": ""
           }
          },
          "scene": {
           "xaxis": {
            "backgroundcolor": "#E5ECF6",
            "gridcolor": "white",
            "gridwidth": 2,
            "linecolor": "white",
            "showbackground": true,
            "ticks": "",
            "zerolinecolor": "white"
           },
           "yaxis": {
            "backgroundcolor": "#E5ECF6",
            "gridcolor": "white",
            "gridwidth": 2,
            "linecolor": "white",
            "showbackground": true,
            "ticks": "",
            "zerolinecolor": "white"
           },
           "zaxis": {
            "backgroundcolor": "#E5ECF6",
            "gridcolor": "white",
            "gridwidth": 2,
            "linecolor": "white",
            "showbackground": true,
            "ticks": "",
            "zerolinecolor": "white"
           }
          },
          "shapedefaults": {
           "line": {
            "color": "#2a3f5f"
           }
          },
          "ternary": {
           "aaxis": {
            "gridcolor": "white",
            "linecolor": "white",
            "ticks": ""
           },
           "baxis": {
            "gridcolor": "white",
            "linecolor": "white",
            "ticks": ""
           },
           "bgcolor": "#E5ECF6",
           "caxis": {
            "gridcolor": "white",
            "linecolor": "white",
            "ticks": ""
           }
          },
          "title": {
           "x": 0.05
          },
          "xaxis": {
           "automargin": true,
           "gridcolor": "white",
           "linecolor": "white",
           "ticks": "",
           "title": {
            "standoff": 15
           },
           "zerolinecolor": "white",
           "zerolinewidth": 2
          },
          "yaxis": {
           "automargin": true,
           "gridcolor": "white",
           "linecolor": "white",
           "ticks": "",
           "title": {
            "standoff": 15
           },
           "zerolinecolor": "white",
           "zerolinewidth": 2
          }
         }
        },
        "title": {
         "font": {
          "color": "#4D5663"
         }
        },
        "xaxis": {
         "gridcolor": "#E1E5ED",
         "showgrid": true,
         "tickfont": {
          "color": "#4D5663"
         },
         "title": {
          "font": {
           "color": "#4D5663"
          },
          "text": ""
         },
         "zerolinecolor": "#E1E5ED"
        },
        "yaxis": {
         "gridcolor": "#E1E5ED",
         "showgrid": true,
         "tickfont": {
          "color": "#4D5663"
         },
         "title": {
          "font": {
           "color": "#4D5663"
          },
          "text": ""
         },
         "zerolinecolor": "#E1E5ED"
        }
       }
      },
      "text/html": [
       "<div>                            <div id=\"40229b7e-2946-48bf-9ba7-5c891a696d41\" class=\"plotly-graph-div\" style=\"height:525px; width:100%;\"></div>            <script type=\"text/javascript\">                require([\"plotly\"], function(Plotly) {                    window.PLOTLYENV=window.PLOTLYENV || {};\n",
       "                    window.PLOTLYENV.BASE_URL='https://plot.ly';                                    if (document.getElementById(\"40229b7e-2946-48bf-9ba7-5c891a696d41\")) {                    Plotly.newPlot(                        \"40229b7e-2946-48bf-9ba7-5c891a696d41\",                        [{\"line\": {\"color\": \"rgba(255, 153, 51, 1.0)\", \"dash\": \"solid\", \"shape\": \"linear\", \"width\": 1.3}, \"marker\": {\"size\": 10, \"symbol\": \"circle\"}, \"mode\": \"markers\", \"name\": \"B\", \"text\": \"\", \"type\": \"scatter\", \"x\": [-0.4388542745687468, 0.38408546159996987, -0.7413763683855321, -2.0288498139440914, 0.8624022381361729, -0.7390775027313098, -0.112055115702541, 0.9806345007382388, -1.0309612695870745, -0.42208014577143504, -0.6589458881544358, 1.6189909942527092, 0.6280941855399383, 0.5824415788359514, 1.407947397974564, -0.6055181775783632, 0.26145880753689704, -1.6728439093333693, 1.6860521621788684, 1.009329541212465, -1.8503028350686974, -0.20999184471500965, -2.2932587368033177, -1.052360060273866, 0.7434586671733655, 0.24587075068617625, -1.1941403964622943, -0.4868426790349285, 0.8398227332351278, 0.7617615697209622, 0.14507569288658226, 0.5443829206564472, 0.937364315832808, 1.2470954452432272, -0.5534980066811476, 1.5123201135236342, 0.8987462567974541, 0.5791080389203644, -0.2169166729652307, 1.1859624278722207, -1.0513105071512439, -0.5537498496696196, -1.1876608548600875, 0.28581503368341776, -0.8373909670462102, -0.49908970926011703, -1.0529342880820247, -0.9248567740307652, 1.764463447885169, 0.5901326366414836, -1.142075713218274, -0.8946017497616889, 0.0144652299158461, 0.1279379505634851, -1.0120014602064225, 0.0363380032435725, 0.21366402851299293, -0.18459741491488368, 0.550611238075139, -1.1964210420445283, 0.27844714124707004, -0.601675012386725, 0.09034648034734893, -1.019728088992673, -1.1810422893142594, -1.0302218578695155, -0.02807953192685473, 2.1234225090964385, -1.7218913699279377, -1.107127947693045, 0.07029646761054668, -0.44745598771982803, 1.148766935793685, 0.016377942985925025, -0.638644767078107, -0.6605524605312318, -0.12626451146059678, 0.23314954919639108, 0.13663921181967784, -1.0216268345305923, 0.2665031884388046, 0.35416299293513925, -0.053121967639487025, 0.7862011170376131, -0.47712670671197815, 0.7931940780649613, -0.32398602740064425, -0.7796188551276063, -1.0774772125396894, 0.8366000799612457, -0.7252752826298803, 0.47420209435821925, 0.16479101958522108, 0.7805292644873063, -0.1922784699312706, 0.01984409354644912, -0.5905422812265733, 0.2857750483391747, -0.8738282207287031, 1.2715167674609458], \"y\": [-1.3627216013659846, 0.2746479273419688, 0.7009464451380578, -1.3811013400556857, -1.7428511959512216, -0.8905026557041102, -0.551282879317178, 0.22107331559969615, -1.5843865530614263, -1.9578013663048495, 1.6767888897250252, 0.5704931064566529, -0.6314149241481537, 0.2757322702947673, 0.7876966927085246, -0.8981643739025043, 0.2948816739619415, 0.1826302665386844, -0.9359073662486931, -1.457757479610927, -0.30185223399542666, 0.9177284159277574, -0.5013513777674213, 2.9904562197653792, 1.2102048203993276, 0.3463027009884661, -0.14875933083792445, -0.7241462815090236, -0.25408636699024595, -0.1011944206256832, -0.9111289589894425, 0.09146337137093262, 1.6008067662713046, 1.2746041957302874, 0.9851969510533377, -0.8543754688768727, 1.6107325176724772, -1.4755417524303547, 0.2324101126295466, -1.1624830197173044, -1.3561431982536194, 0.5618943121972119, 0.3401447906679545, -1.6615229986560336, -0.2078537594217146, 0.727184088179305, -0.311201502392996, -0.5015752565114187, -1.1721312285095038, -1.5649694918407073, -1.0939670201572929, 0.3619889697652782, 3.367931842022976, -0.2521367382602952, -0.314242196876435, 0.28725557906216953, -2.3182561631414584, -0.5554086695260209, -0.42168125402643714, 1.689241224802193, 0.07370559648891448, -0.6359492421783562, 0.40914626446901686, 0.06893059954535942, 1.0029731029083802, 1.4683660981628652, 0.5641680851054268, -0.23720583119416894, -1.3720094046379412, -0.06317150115552012, -0.4646886627983753, -0.4653757228572715, 0.26066881226261535, 0.6871616119462791, -0.4920968386727682, -0.7887370928876344, -2.001483326801323, 1.679334471231441, 1.7345100201822912, -0.9727078661032714, 0.2919188486713192, 0.4653106873555381, 0.3891081605002875, 1.1844211163842735, -0.3689456505251842, 0.5046777558050485, 0.5212098489901662, -0.2810122685636921, -0.14805919194277323, 0.25379447016412093, -0.3485665898351345, 0.8050525463698355, -0.17894394437635838, -0.51770392029611, 2.074133165916208, 1.6404422314144023, 0.4178381849479696, -0.11527328671374554, 0.0746127850615184, -0.7620958143342098]}],                        {\"legend\": {\"bgcolor\": \"#F5F6F9\", \"font\": {\"color\": \"#4D5663\"}}, \"paper_bgcolor\": \"#F5F6F9\", \"plot_bgcolor\": \"#F5F6F9\", \"template\": {\"data\": {\"bar\": [{\"error_x\": {\"color\": \"#2a3f5f\"}, \"error_y\": {\"color\": \"#2a3f5f\"}, \"marker\": {\"line\": {\"color\": \"#E5ECF6\", \"width\": 0.5}}, \"type\": \"bar\"}], \"barpolar\": [{\"marker\": {\"line\": {\"color\": \"#E5ECF6\", \"width\": 0.5}}, \"type\": \"barpolar\"}], \"carpet\": [{\"aaxis\": {\"endlinecolor\": \"#2a3f5f\", \"gridcolor\": \"white\", \"linecolor\": \"white\", \"minorgridcolor\": \"white\", \"startlinecolor\": \"#2a3f5f\"}, \"baxis\": {\"endlinecolor\": \"#2a3f5f\", \"gridcolor\": \"white\", \"linecolor\": \"white\", \"minorgridcolor\": \"white\", \"startlinecolor\": \"#2a3f5f\"}, \"type\": \"carpet\"}], \"choropleth\": [{\"colorbar\": {\"outlinewidth\": 0, \"ticks\": \"\"}, \"type\": \"choropleth\"}], \"contour\": [{\"colorbar\": {\"outlinewidth\": 0, \"ticks\": \"\"}, \"colorscale\": [[0.0, \"#0d0887\"], [0.1111111111111111, \"#46039f\"], [0.2222222222222222, \"#7201a8\"], [0.3333333333333333, \"#9c179e\"], [0.4444444444444444, \"#bd3786\"], [0.5555555555555556, \"#d8576b\"], [0.6666666666666666, \"#ed7953\"], [0.7777777777777778, \"#fb9f3a\"], [0.8888888888888888, \"#fdca26\"], [1.0, \"#f0f921\"]], \"type\": \"contour\"}], \"contourcarpet\": [{\"colorbar\": {\"outlinewidth\": 0, \"ticks\": \"\"}, \"type\": \"contourcarpet\"}], \"heatmap\": [{\"colorbar\": {\"outlinewidth\": 0, \"ticks\": \"\"}, \"colorscale\": [[0.0, \"#0d0887\"], [0.1111111111111111, \"#46039f\"], [0.2222222222222222, \"#7201a8\"], [0.3333333333333333, \"#9c179e\"], [0.4444444444444444, \"#bd3786\"], [0.5555555555555556, \"#d8576b\"], [0.6666666666666666, \"#ed7953\"], [0.7777777777777778, \"#fb9f3a\"], [0.8888888888888888, \"#fdca26\"], [1.0, \"#f0f921\"]], \"type\": \"heatmap\"}], \"heatmapgl\": [{\"colorbar\": {\"outlinewidth\": 0, \"ticks\": \"\"}, \"colorscale\": [[0.0, \"#0d0887\"], [0.1111111111111111, \"#46039f\"], [0.2222222222222222, \"#7201a8\"], [0.3333333333333333, \"#9c179e\"], [0.4444444444444444, \"#bd3786\"], [0.5555555555555556, \"#d8576b\"], [0.6666666666666666, \"#ed7953\"], [0.7777777777777778, \"#fb9f3a\"], [0.8888888888888888, \"#fdca26\"], [1.0, \"#f0f921\"]], \"type\": \"heatmapgl\"}], \"histogram\": [{\"marker\": {\"colorbar\": {\"outlinewidth\": 0, \"ticks\": \"\"}}, \"type\": \"histogram\"}], \"histogram2d\": [{\"colorbar\": {\"outlinewidth\": 0, \"ticks\": \"\"}, \"colorscale\": [[0.0, \"#0d0887\"], [0.1111111111111111, \"#46039f\"], [0.2222222222222222, \"#7201a8\"], [0.3333333333333333, \"#9c179e\"], [0.4444444444444444, \"#bd3786\"], [0.5555555555555556, \"#d8576b\"], [0.6666666666666666, \"#ed7953\"], [0.7777777777777778, \"#fb9f3a\"], [0.8888888888888888, \"#fdca26\"], [1.0, \"#f0f921\"]], \"type\": \"histogram2d\"}], \"histogram2dcontour\": [{\"colorbar\": {\"outlinewidth\": 0, \"ticks\": \"\"}, \"colorscale\": [[0.0, \"#0d0887\"], [0.1111111111111111, \"#46039f\"], [0.2222222222222222, \"#7201a8\"], [0.3333333333333333, \"#9c179e\"], [0.4444444444444444, \"#bd3786\"], [0.5555555555555556, \"#d8576b\"], [0.6666666666666666, \"#ed7953\"], [0.7777777777777778, \"#fb9f3a\"], [0.8888888888888888, \"#fdca26\"], [1.0, \"#f0f921\"]], \"type\": \"histogram2dcontour\"}], \"mesh3d\": [{\"colorbar\": {\"outlinewidth\": 0, \"ticks\": \"\"}, \"type\": \"mesh3d\"}], \"parcoords\": [{\"line\": {\"colorbar\": {\"outlinewidth\": 0, \"ticks\": \"\"}}, \"type\": \"parcoords\"}], \"pie\": [{\"automargin\": true, \"type\": \"pie\"}], \"scatter\": [{\"marker\": {\"colorbar\": {\"outlinewidth\": 0, \"ticks\": \"\"}}, \"type\": \"scatter\"}], \"scatter3d\": [{\"line\": {\"colorbar\": {\"outlinewidth\": 0, \"ticks\": \"\"}}, \"marker\": {\"colorbar\": {\"outlinewidth\": 0, \"ticks\": \"\"}}, \"type\": \"scatter3d\"}], \"scattercarpet\": [{\"marker\": {\"colorbar\": {\"outlinewidth\": 0, \"ticks\": \"\"}}, \"type\": \"scattercarpet\"}], \"scattergeo\": [{\"marker\": {\"colorbar\": {\"outlinewidth\": 0, \"ticks\": \"\"}}, \"type\": \"scattergeo\"}], \"scattergl\": [{\"marker\": {\"colorbar\": {\"outlinewidth\": 0, \"ticks\": \"\"}}, \"type\": \"scattergl\"}], \"scattermapbox\": [{\"marker\": {\"colorbar\": {\"outlinewidth\": 0, \"ticks\": \"\"}}, \"type\": \"scattermapbox\"}], \"scatterpolar\": [{\"marker\": {\"colorbar\": {\"outlinewidth\": 0, \"ticks\": \"\"}}, \"type\": \"scatterpolar\"}], \"scatterpolargl\": [{\"marker\": {\"colorbar\": {\"outlinewidth\": 0, \"ticks\": \"\"}}, \"type\": \"scatterpolargl\"}], \"scatterternary\": [{\"marker\": {\"colorbar\": {\"outlinewidth\": 0, \"ticks\": \"\"}}, \"type\": \"scatterternary\"}], \"surface\": [{\"colorbar\": {\"outlinewidth\": 0, \"ticks\": \"\"}, \"colorscale\": [[0.0, \"#0d0887\"], [0.1111111111111111, \"#46039f\"], [0.2222222222222222, \"#7201a8\"], [0.3333333333333333, \"#9c179e\"], [0.4444444444444444, \"#bd3786\"], [0.5555555555555556, \"#d8576b\"], [0.6666666666666666, \"#ed7953\"], [0.7777777777777778, \"#fb9f3a\"], [0.8888888888888888, \"#fdca26\"], [1.0, \"#f0f921\"]], \"type\": \"surface\"}], \"table\": [{\"cells\": {\"fill\": {\"color\": \"#EBF0F8\"}, \"line\": {\"color\": \"white\"}}, \"header\": {\"fill\": {\"color\": \"#C8D4E3\"}, \"line\": {\"color\": \"white\"}}, \"type\": \"table\"}]}, \"layout\": {\"annotationdefaults\": {\"arrowcolor\": \"#2a3f5f\", \"arrowhead\": 0, \"arrowwidth\": 1}, \"autotypenumbers\": \"strict\", \"coloraxis\": {\"colorbar\": {\"outlinewidth\": 0, \"ticks\": \"\"}}, \"colorscale\": {\"diverging\": [[0, \"#8e0152\"], [0.1, \"#c51b7d\"], [0.2, \"#de77ae\"], [0.3, \"#f1b6da\"], [0.4, \"#fde0ef\"], [0.5, \"#f7f7f7\"], [0.6, \"#e6f5d0\"], [0.7, \"#b8e186\"], [0.8, \"#7fbc41\"], [0.9, \"#4d9221\"], [1, \"#276419\"]], \"sequential\": [[0.0, \"#0d0887\"], [0.1111111111111111, \"#46039f\"], [0.2222222222222222, \"#7201a8\"], [0.3333333333333333, \"#9c179e\"], [0.4444444444444444, \"#bd3786\"], [0.5555555555555556, \"#d8576b\"], [0.6666666666666666, \"#ed7953\"], [0.7777777777777778, \"#fb9f3a\"], [0.8888888888888888, \"#fdca26\"], [1.0, \"#f0f921\"]], \"sequentialminus\": [[0.0, \"#0d0887\"], [0.1111111111111111, \"#46039f\"], [0.2222222222222222, \"#7201a8\"], [0.3333333333333333, \"#9c179e\"], [0.4444444444444444, \"#bd3786\"], [0.5555555555555556, \"#d8576b\"], [0.6666666666666666, \"#ed7953\"], [0.7777777777777778, \"#fb9f3a\"], [0.8888888888888888, \"#fdca26\"], [1.0, \"#f0f921\"]]}, \"colorway\": [\"#636efa\", \"#EF553B\", \"#00cc96\", \"#ab63fa\", \"#FFA15A\", \"#19d3f3\", \"#FF6692\", \"#B6E880\", \"#FF97FF\", \"#FECB52\"], \"font\": {\"color\": \"#2a3f5f\"}, \"geo\": {\"bgcolor\": \"white\", \"lakecolor\": \"white\", \"landcolor\": \"#E5ECF6\", \"showlakes\": true, \"showland\": true, \"subunitcolor\": \"white\"}, \"hoverlabel\": {\"align\": \"left\"}, \"hovermode\": \"closest\", \"mapbox\": {\"style\": \"light\"}, \"paper_bgcolor\": \"white\", \"plot_bgcolor\": \"#E5ECF6\", \"polar\": {\"angularaxis\": {\"gridcolor\": \"white\", \"linecolor\": \"white\", \"ticks\": \"\"}, \"bgcolor\": \"#E5ECF6\", \"radialaxis\": {\"gridcolor\": \"white\", \"linecolor\": \"white\", \"ticks\": \"\"}}, \"scene\": {\"xaxis\": {\"backgroundcolor\": \"#E5ECF6\", \"gridcolor\": \"white\", \"gridwidth\": 2, \"linecolor\": \"white\", \"showbackground\": true, \"ticks\": \"\", \"zerolinecolor\": \"white\"}, \"yaxis\": {\"backgroundcolor\": \"#E5ECF6\", \"gridcolor\": \"white\", \"gridwidth\": 2, \"linecolor\": \"white\", \"showbackground\": true, \"ticks\": \"\", \"zerolinecolor\": \"white\"}, \"zaxis\": {\"backgroundcolor\": \"#E5ECF6\", \"gridcolor\": \"white\", \"gridwidth\": 2, \"linecolor\": \"white\", \"showbackground\": true, \"ticks\": \"\", \"zerolinecolor\": \"white\"}}, \"shapedefaults\": {\"line\": {\"color\": \"#2a3f5f\"}}, \"ternary\": {\"aaxis\": {\"gridcolor\": \"white\", \"linecolor\": \"white\", \"ticks\": \"\"}, \"baxis\": {\"gridcolor\": \"white\", \"linecolor\": \"white\", \"ticks\": \"\"}, \"bgcolor\": \"#E5ECF6\", \"caxis\": {\"gridcolor\": \"white\", \"linecolor\": \"white\", \"ticks\": \"\"}}, \"title\": {\"x\": 0.05}, \"xaxis\": {\"automargin\": true, \"gridcolor\": \"white\", \"linecolor\": \"white\", \"ticks\": \"\", \"title\": {\"standoff\": 15}, \"zerolinecolor\": \"white\", \"zerolinewidth\": 2}, \"yaxis\": {\"automargin\": true, \"gridcolor\": \"white\", \"linecolor\": \"white\", \"ticks\": \"\", \"title\": {\"standoff\": 15}, \"zerolinecolor\": \"white\", \"zerolinewidth\": 2}}}, \"title\": {\"font\": {\"color\": \"#4D5663\"}}, \"xaxis\": {\"gridcolor\": \"#E1E5ED\", \"showgrid\": true, \"tickfont\": {\"color\": \"#4D5663\"}, \"title\": {\"font\": {\"color\": \"#4D5663\"}, \"text\": \"\"}, \"zerolinecolor\": \"#E1E5ED\"}, \"yaxis\": {\"gridcolor\": \"#E1E5ED\", \"showgrid\": true, \"tickfont\": {\"color\": \"#4D5663\"}, \"title\": {\"font\": {\"color\": \"#4D5663\"}, \"text\": \"\"}, \"zerolinecolor\": \"#E1E5ED\"}},                        {\"showLink\": true, \"linkText\": \"Export to plot.ly\", \"plotlyServerURL\": \"https://plot.ly\", \"responsive\": true}                    ).then(function(){\n",
       "                            \n",
       "var gd = document.getElementById('40229b7e-2946-48bf-9ba7-5c891a696d41');\n",
       "var x = new MutationObserver(function (mutations, observer) {{\n",
       "        var display = window.getComputedStyle(gd).display;\n",
       "        if (!display || display === 'none') {{\n",
       "            console.log([gd, 'removed!']);\n",
       "            Plotly.purge(gd);\n",
       "            observer.disconnect();\n",
       "        }}\n",
       "}});\n",
       "\n",
       "// Listen for the removal of the full notebook cells\n",
       "var notebookContainer = gd.closest('#notebook-container');\n",
       "if (notebookContainer) {{\n",
       "    x.observe(notebookContainer, {childList: true});\n",
       "}}\n",
       "\n",
       "// Listen for the clearing of the current output cell\n",
       "var outputEl = gd.closest('.output');\n",
       "if (outputEl) {{\n",
       "    x.observe(outputEl, {childList: true});\n",
       "}}\n",
       "\n",
       "                        })                };                });            </script>        </div>"
      ]
     },
     "metadata": {},
     "output_type": "display_data"
    }
   ],
   "source": [
    "df.iplot(kind='scatter',x='A',y='B',mode='markers',size=10)"
   ]
  },
  {
   "cell_type": "markdown",
   "metadata": {},
   "source": [
    "## Bar Plots"
   ]
  },
  {
   "cell_type": "code",
   "execution_count": 11,
   "metadata": {},
   "outputs": [
    {
     "data": {
      "application/vnd.plotly.v1+json": {
       "config": {
        "linkText": "Export to plot.ly",
        "plotlyServerURL": "https://plot.ly",
        "showLink": true
       },
       "data": [
        {
         "marker": {
          "color": "rgba(255, 153, 51, 0.6)",
          "line": {
           "color": "rgba(255, 153, 51, 1.0)",
           "width": 1
          }
         },
         "name": "Values",
         "orientation": "v",
         "text": "",
         "type": "bar",
         "x": [
          "A",
          "B",
          "C"
         ],
         "y": [
          32,
          43,
          50
         ]
        }
       ],
       "layout": {
        "legend": {
         "bgcolor": "#F5F6F9",
         "font": {
          "color": "#4D5663"
         }
        },
        "paper_bgcolor": "#F5F6F9",
        "plot_bgcolor": "#F5F6F9",
        "template": {
         "data": {
          "bar": [
           {
            "error_x": {
             "color": "#2a3f5f"
            },
            "error_y": {
             "color": "#2a3f5f"
            },
            "marker": {
             "line": {
              "color": "#E5ECF6",
              "width": 0.5
             }
            },
            "type": "bar"
           }
          ],
          "barpolar": [
           {
            "marker": {
             "line": {
              "color": "#E5ECF6",
              "width": 0.5
             }
            },
            "type": "barpolar"
           }
          ],
          "carpet": [
           {
            "aaxis": {
             "endlinecolor": "#2a3f5f",
             "gridcolor": "white",
             "linecolor": "white",
             "minorgridcolor": "white",
             "startlinecolor": "#2a3f5f"
            },
            "baxis": {
             "endlinecolor": "#2a3f5f",
             "gridcolor": "white",
             "linecolor": "white",
             "minorgridcolor": "white",
             "startlinecolor": "#2a3f5f"
            },
            "type": "carpet"
           }
          ],
          "choropleth": [
           {
            "colorbar": {
             "outlinewidth": 0,
             "ticks": ""
            },
            "type": "choropleth"
           }
          ],
          "contour": [
           {
            "colorbar": {
             "outlinewidth": 0,
             "ticks": ""
            },
            "colorscale": [
             [
              0,
              "#0d0887"
             ],
             [
              0.1111111111111111,
              "#46039f"
             ],
             [
              0.2222222222222222,
              "#7201a8"
             ],
             [
              0.3333333333333333,
              "#9c179e"
             ],
             [
              0.4444444444444444,
              "#bd3786"
             ],
             [
              0.5555555555555556,
              "#d8576b"
             ],
             [
              0.6666666666666666,
              "#ed7953"
             ],
             [
              0.7777777777777778,
              "#fb9f3a"
             ],
             [
              0.8888888888888888,
              "#fdca26"
             ],
             [
              1,
              "#f0f921"
             ]
            ],
            "type": "contour"
           }
          ],
          "contourcarpet": [
           {
            "colorbar": {
             "outlinewidth": 0,
             "ticks": ""
            },
            "type": "contourcarpet"
           }
          ],
          "heatmap": [
           {
            "colorbar": {
             "outlinewidth": 0,
             "ticks": ""
            },
            "colorscale": [
             [
              0,
              "#0d0887"
             ],
             [
              0.1111111111111111,
              "#46039f"
             ],
             [
              0.2222222222222222,
              "#7201a8"
             ],
             [
              0.3333333333333333,
              "#9c179e"
             ],
             [
              0.4444444444444444,
              "#bd3786"
             ],
             [
              0.5555555555555556,
              "#d8576b"
             ],
             [
              0.6666666666666666,
              "#ed7953"
             ],
             [
              0.7777777777777778,
              "#fb9f3a"
             ],
             [
              0.8888888888888888,
              "#fdca26"
             ],
             [
              1,
              "#f0f921"
             ]
            ],
            "type": "heatmap"
           }
          ],
          "heatmapgl": [
           {
            "colorbar": {
             "outlinewidth": 0,
             "ticks": ""
            },
            "colorscale": [
             [
              0,
              "#0d0887"
             ],
             [
              0.1111111111111111,
              "#46039f"
             ],
             [
              0.2222222222222222,
              "#7201a8"
             ],
             [
              0.3333333333333333,
              "#9c179e"
             ],
             [
              0.4444444444444444,
              "#bd3786"
             ],
             [
              0.5555555555555556,
              "#d8576b"
             ],
             [
              0.6666666666666666,
              "#ed7953"
             ],
             [
              0.7777777777777778,
              "#fb9f3a"
             ],
             [
              0.8888888888888888,
              "#fdca26"
             ],
             [
              1,
              "#f0f921"
             ]
            ],
            "type": "heatmapgl"
           }
          ],
          "histogram": [
           {
            "marker": {
             "colorbar": {
              "outlinewidth": 0,
              "ticks": ""
             }
            },
            "type": "histogram"
           }
          ],
          "histogram2d": [
           {
            "colorbar": {
             "outlinewidth": 0,
             "ticks": ""
            },
            "colorscale": [
             [
              0,
              "#0d0887"
             ],
             [
              0.1111111111111111,
              "#46039f"
             ],
             [
              0.2222222222222222,
              "#7201a8"
             ],
             [
              0.3333333333333333,
              "#9c179e"
             ],
             [
              0.4444444444444444,
              "#bd3786"
             ],
             [
              0.5555555555555556,
              "#d8576b"
             ],
             [
              0.6666666666666666,
              "#ed7953"
             ],
             [
              0.7777777777777778,
              "#fb9f3a"
             ],
             [
              0.8888888888888888,
              "#fdca26"
             ],
             [
              1,
              "#f0f921"
             ]
            ],
            "type": "histogram2d"
           }
          ],
          "histogram2dcontour": [
           {
            "colorbar": {
             "outlinewidth": 0,
             "ticks": ""
            },
            "colorscale": [
             [
              0,
              "#0d0887"
             ],
             [
              0.1111111111111111,
              "#46039f"
             ],
             [
              0.2222222222222222,
              "#7201a8"
             ],
             [
              0.3333333333333333,
              "#9c179e"
             ],
             [
              0.4444444444444444,
              "#bd3786"
             ],
             [
              0.5555555555555556,
              "#d8576b"
             ],
             [
              0.6666666666666666,
              "#ed7953"
             ],
             [
              0.7777777777777778,
              "#fb9f3a"
             ],
             [
              0.8888888888888888,
              "#fdca26"
             ],
             [
              1,
              "#f0f921"
             ]
            ],
            "type": "histogram2dcontour"
           }
          ],
          "mesh3d": [
           {
            "colorbar": {
             "outlinewidth": 0,
             "ticks": ""
            },
            "type": "mesh3d"
           }
          ],
          "parcoords": [
           {
            "line": {
             "colorbar": {
              "outlinewidth": 0,
              "ticks": ""
             }
            },
            "type": "parcoords"
           }
          ],
          "pie": [
           {
            "automargin": true,
            "type": "pie"
           }
          ],
          "scatter": [
           {
            "marker": {
             "colorbar": {
              "outlinewidth": 0,
              "ticks": ""
             }
            },
            "type": "scatter"
           }
          ],
          "scatter3d": [
           {
            "line": {
             "colorbar": {
              "outlinewidth": 0,
              "ticks": ""
             }
            },
            "marker": {
             "colorbar": {
              "outlinewidth": 0,
              "ticks": ""
             }
            },
            "type": "scatter3d"
           }
          ],
          "scattercarpet": [
           {
            "marker": {
             "colorbar": {
              "outlinewidth": 0,
              "ticks": ""
             }
            },
            "type": "scattercarpet"
           }
          ],
          "scattergeo": [
           {
            "marker": {
             "colorbar": {
              "outlinewidth": 0,
              "ticks": ""
             }
            },
            "type": "scattergeo"
           }
          ],
          "scattergl": [
           {
            "marker": {
             "colorbar": {
              "outlinewidth": 0,
              "ticks": ""
             }
            },
            "type": "scattergl"
           }
          ],
          "scattermapbox": [
           {
            "marker": {
             "colorbar": {
              "outlinewidth": 0,
              "ticks": ""
             }
            },
            "type": "scattermapbox"
           }
          ],
          "scatterpolar": [
           {
            "marker": {
             "colorbar": {
              "outlinewidth": 0,
              "ticks": ""
             }
            },
            "type": "scatterpolar"
           }
          ],
          "scatterpolargl": [
           {
            "marker": {
             "colorbar": {
              "outlinewidth": 0,
              "ticks": ""
             }
            },
            "type": "scatterpolargl"
           }
          ],
          "scatterternary": [
           {
            "marker": {
             "colorbar": {
              "outlinewidth": 0,
              "ticks": ""
             }
            },
            "type": "scatterternary"
           }
          ],
          "surface": [
           {
            "colorbar": {
             "outlinewidth": 0,
             "ticks": ""
            },
            "colorscale": [
             [
              0,
              "#0d0887"
             ],
             [
              0.1111111111111111,
              "#46039f"
             ],
             [
              0.2222222222222222,
              "#7201a8"
             ],
             [
              0.3333333333333333,
              "#9c179e"
             ],
             [
              0.4444444444444444,
              "#bd3786"
             ],
             [
              0.5555555555555556,
              "#d8576b"
             ],
             [
              0.6666666666666666,
              "#ed7953"
             ],
             [
              0.7777777777777778,
              "#fb9f3a"
             ],
             [
              0.8888888888888888,
              "#fdca26"
             ],
             [
              1,
              "#f0f921"
             ]
            ],
            "type": "surface"
           }
          ],
          "table": [
           {
            "cells": {
             "fill": {
              "color": "#EBF0F8"
             },
             "line": {
              "color": "white"
             }
            },
            "header": {
             "fill": {
              "color": "#C8D4E3"
             },
             "line": {
              "color": "white"
             }
            },
            "type": "table"
           }
          ]
         },
         "layout": {
          "annotationdefaults": {
           "arrowcolor": "#2a3f5f",
           "arrowhead": 0,
           "arrowwidth": 1
          },
          "autotypenumbers": "strict",
          "coloraxis": {
           "colorbar": {
            "outlinewidth": 0,
            "ticks": ""
           }
          },
          "colorscale": {
           "diverging": [
            [
             0,
             "#8e0152"
            ],
            [
             0.1,
             "#c51b7d"
            ],
            [
             0.2,
             "#de77ae"
            ],
            [
             0.3,
             "#f1b6da"
            ],
            [
             0.4,
             "#fde0ef"
            ],
            [
             0.5,
             "#f7f7f7"
            ],
            [
             0.6,
             "#e6f5d0"
            ],
            [
             0.7,
             "#b8e186"
            ],
            [
             0.8,
             "#7fbc41"
            ],
            [
             0.9,
             "#4d9221"
            ],
            [
             1,
             "#276419"
            ]
           ],
           "sequential": [
            [
             0,
             "#0d0887"
            ],
            [
             0.1111111111111111,
             "#46039f"
            ],
            [
             0.2222222222222222,
             "#7201a8"
            ],
            [
             0.3333333333333333,
             "#9c179e"
            ],
            [
             0.4444444444444444,
             "#bd3786"
            ],
            [
             0.5555555555555556,
             "#d8576b"
            ],
            [
             0.6666666666666666,
             "#ed7953"
            ],
            [
             0.7777777777777778,
             "#fb9f3a"
            ],
            [
             0.8888888888888888,
             "#fdca26"
            ],
            [
             1,
             "#f0f921"
            ]
           ],
           "sequentialminus": [
            [
             0,
             "#0d0887"
            ],
            [
             0.1111111111111111,
             "#46039f"
            ],
            [
             0.2222222222222222,
             "#7201a8"
            ],
            [
             0.3333333333333333,
             "#9c179e"
            ],
            [
             0.4444444444444444,
             "#bd3786"
            ],
            [
             0.5555555555555556,
             "#d8576b"
            ],
            [
             0.6666666666666666,
             "#ed7953"
            ],
            [
             0.7777777777777778,
             "#fb9f3a"
            ],
            [
             0.8888888888888888,
             "#fdca26"
            ],
            [
             1,
             "#f0f921"
            ]
           ]
          },
          "colorway": [
           "#636efa",
           "#EF553B",
           "#00cc96",
           "#ab63fa",
           "#FFA15A",
           "#19d3f3",
           "#FF6692",
           "#B6E880",
           "#FF97FF",
           "#FECB52"
          ],
          "font": {
           "color": "#2a3f5f"
          },
          "geo": {
           "bgcolor": "white",
           "lakecolor": "white",
           "landcolor": "#E5ECF6",
           "showlakes": true,
           "showland": true,
           "subunitcolor": "white"
          },
          "hoverlabel": {
           "align": "left"
          },
          "hovermode": "closest",
          "mapbox": {
           "style": "light"
          },
          "paper_bgcolor": "white",
          "plot_bgcolor": "#E5ECF6",
          "polar": {
           "angularaxis": {
            "gridcolor": "white",
            "linecolor": "white",
            "ticks": ""
           },
           "bgcolor": "#E5ECF6",
           "radialaxis": {
            "gridcolor": "white",
            "linecolor": "white",
            "ticks": ""
           }
          },
          "scene": {
           "xaxis": {
            "backgroundcolor": "#E5ECF6",
            "gridcolor": "white",
            "gridwidth": 2,
            "linecolor": "white",
            "showbackground": true,
            "ticks": "",
            "zerolinecolor": "white"
           },
           "yaxis": {
            "backgroundcolor": "#E5ECF6",
            "gridcolor": "white",
            "gridwidth": 2,
            "linecolor": "white",
            "showbackground": true,
            "ticks": "",
            "zerolinecolor": "white"
           },
           "zaxis": {
            "backgroundcolor": "#E5ECF6",
            "gridcolor": "white",
            "gridwidth": 2,
            "linecolor": "white",
            "showbackground": true,
            "ticks": "",
            "zerolinecolor": "white"
           }
          },
          "shapedefaults": {
           "line": {
            "color": "#2a3f5f"
           }
          },
          "ternary": {
           "aaxis": {
            "gridcolor": "white",
            "linecolor": "white",
            "ticks": ""
           },
           "baxis": {
            "gridcolor": "white",
            "linecolor": "white",
            "ticks": ""
           },
           "bgcolor": "#E5ECF6",
           "caxis": {
            "gridcolor": "white",
            "linecolor": "white",
            "ticks": ""
           }
          },
          "title": {
           "x": 0.05
          },
          "xaxis": {
           "automargin": true,
           "gridcolor": "white",
           "linecolor": "white",
           "ticks": "",
           "title": {
            "standoff": 15
           },
           "zerolinecolor": "white",
           "zerolinewidth": 2
          },
          "yaxis": {
           "automargin": true,
           "gridcolor": "white",
           "linecolor": "white",
           "ticks": "",
           "title": {
            "standoff": 15
           },
           "zerolinecolor": "white",
           "zerolinewidth": 2
          }
         }
        },
        "title": {
         "font": {
          "color": "#4D5663"
         }
        },
        "xaxis": {
         "gridcolor": "#E1E5ED",
         "showgrid": true,
         "tickfont": {
          "color": "#4D5663"
         },
         "title": {
          "font": {
           "color": "#4D5663"
          },
          "text": ""
         },
         "zerolinecolor": "#E1E5ED"
        },
        "yaxis": {
         "gridcolor": "#E1E5ED",
         "showgrid": true,
         "tickfont": {
          "color": "#4D5663"
         },
         "title": {
          "font": {
           "color": "#4D5663"
          },
          "text": ""
         },
         "zerolinecolor": "#E1E5ED"
        }
       }
      },
      "text/html": [
       "<div>                            <div id=\"5af165f7-a7c3-4c7a-bb96-7e45382c1b80\" class=\"plotly-graph-div\" style=\"height:525px; width:100%;\"></div>            <script type=\"text/javascript\">                require([\"plotly\"], function(Plotly) {                    window.PLOTLYENV=window.PLOTLYENV || {};\n",
       "                    window.PLOTLYENV.BASE_URL='https://plot.ly';                                    if (document.getElementById(\"5af165f7-a7c3-4c7a-bb96-7e45382c1b80\")) {                    Plotly.newPlot(                        \"5af165f7-a7c3-4c7a-bb96-7e45382c1b80\",                        [{\"marker\": {\"color\": \"rgba(255, 153, 51, 0.6)\", \"line\": {\"color\": \"rgba(255, 153, 51, 1.0)\", \"width\": 1}}, \"name\": \"Values\", \"orientation\": \"v\", \"text\": \"\", \"type\": \"bar\", \"x\": [\"A\", \"B\", \"C\"], \"y\": [32, 43, 50]}],                        {\"legend\": {\"bgcolor\": \"#F5F6F9\", \"font\": {\"color\": \"#4D5663\"}}, \"paper_bgcolor\": \"#F5F6F9\", \"plot_bgcolor\": \"#F5F6F9\", \"template\": {\"data\": {\"bar\": [{\"error_x\": {\"color\": \"#2a3f5f\"}, \"error_y\": {\"color\": \"#2a3f5f\"}, \"marker\": {\"line\": {\"color\": \"#E5ECF6\", \"width\": 0.5}}, \"type\": \"bar\"}], \"barpolar\": [{\"marker\": {\"line\": {\"color\": \"#E5ECF6\", \"width\": 0.5}}, \"type\": \"barpolar\"}], \"carpet\": [{\"aaxis\": {\"endlinecolor\": \"#2a3f5f\", \"gridcolor\": \"white\", \"linecolor\": \"white\", \"minorgridcolor\": \"white\", \"startlinecolor\": \"#2a3f5f\"}, \"baxis\": {\"endlinecolor\": \"#2a3f5f\", \"gridcolor\": \"white\", \"linecolor\": \"white\", \"minorgridcolor\": \"white\", \"startlinecolor\": \"#2a3f5f\"}, \"type\": \"carpet\"}], \"choropleth\": [{\"colorbar\": {\"outlinewidth\": 0, \"ticks\": \"\"}, \"type\": \"choropleth\"}], \"contour\": [{\"colorbar\": {\"outlinewidth\": 0, \"ticks\": \"\"}, \"colorscale\": [[0.0, \"#0d0887\"], [0.1111111111111111, \"#46039f\"], [0.2222222222222222, \"#7201a8\"], [0.3333333333333333, \"#9c179e\"], [0.4444444444444444, \"#bd3786\"], [0.5555555555555556, \"#d8576b\"], [0.6666666666666666, \"#ed7953\"], [0.7777777777777778, \"#fb9f3a\"], [0.8888888888888888, \"#fdca26\"], [1.0, \"#f0f921\"]], \"type\": \"contour\"}], \"contourcarpet\": [{\"colorbar\": {\"outlinewidth\": 0, \"ticks\": \"\"}, \"type\": \"contourcarpet\"}], \"heatmap\": [{\"colorbar\": {\"outlinewidth\": 0, \"ticks\": \"\"}, \"colorscale\": [[0.0, \"#0d0887\"], [0.1111111111111111, \"#46039f\"], [0.2222222222222222, \"#7201a8\"], [0.3333333333333333, \"#9c179e\"], [0.4444444444444444, \"#bd3786\"], [0.5555555555555556, \"#d8576b\"], [0.6666666666666666, \"#ed7953\"], [0.7777777777777778, \"#fb9f3a\"], [0.8888888888888888, \"#fdca26\"], [1.0, \"#f0f921\"]], \"type\": \"heatmap\"}], \"heatmapgl\": [{\"colorbar\": {\"outlinewidth\": 0, \"ticks\": \"\"}, \"colorscale\": [[0.0, \"#0d0887\"], [0.1111111111111111, \"#46039f\"], [0.2222222222222222, \"#7201a8\"], [0.3333333333333333, \"#9c179e\"], [0.4444444444444444, \"#bd3786\"], [0.5555555555555556, \"#d8576b\"], [0.6666666666666666, \"#ed7953\"], [0.7777777777777778, \"#fb9f3a\"], [0.8888888888888888, \"#fdca26\"], [1.0, \"#f0f921\"]], \"type\": \"heatmapgl\"}], \"histogram\": [{\"marker\": {\"colorbar\": {\"outlinewidth\": 0, \"ticks\": \"\"}}, \"type\": \"histogram\"}], \"histogram2d\": [{\"colorbar\": {\"outlinewidth\": 0, \"ticks\": \"\"}, \"colorscale\": [[0.0, \"#0d0887\"], [0.1111111111111111, \"#46039f\"], [0.2222222222222222, \"#7201a8\"], [0.3333333333333333, \"#9c179e\"], [0.4444444444444444, \"#bd3786\"], [0.5555555555555556, \"#d8576b\"], [0.6666666666666666, \"#ed7953\"], [0.7777777777777778, \"#fb9f3a\"], [0.8888888888888888, \"#fdca26\"], [1.0, \"#f0f921\"]], \"type\": \"histogram2d\"}], \"histogram2dcontour\": [{\"colorbar\": {\"outlinewidth\": 0, \"ticks\": \"\"}, \"colorscale\": [[0.0, \"#0d0887\"], [0.1111111111111111, \"#46039f\"], [0.2222222222222222, \"#7201a8\"], [0.3333333333333333, \"#9c179e\"], [0.4444444444444444, \"#bd3786\"], [0.5555555555555556, \"#d8576b\"], [0.6666666666666666, \"#ed7953\"], [0.7777777777777778, \"#fb9f3a\"], [0.8888888888888888, \"#fdca26\"], [1.0, \"#f0f921\"]], \"type\": \"histogram2dcontour\"}], \"mesh3d\": [{\"colorbar\": {\"outlinewidth\": 0, \"ticks\": \"\"}, \"type\": \"mesh3d\"}], \"parcoords\": [{\"line\": {\"colorbar\": {\"outlinewidth\": 0, \"ticks\": \"\"}}, \"type\": \"parcoords\"}], \"pie\": [{\"automargin\": true, \"type\": \"pie\"}], \"scatter\": [{\"marker\": {\"colorbar\": {\"outlinewidth\": 0, \"ticks\": \"\"}}, \"type\": \"scatter\"}], \"scatter3d\": [{\"line\": {\"colorbar\": {\"outlinewidth\": 0, \"ticks\": \"\"}}, \"marker\": {\"colorbar\": {\"outlinewidth\": 0, \"ticks\": \"\"}}, \"type\": \"scatter3d\"}], \"scattercarpet\": [{\"marker\": {\"colorbar\": {\"outlinewidth\": 0, \"ticks\": \"\"}}, \"type\": \"scattercarpet\"}], \"scattergeo\": [{\"marker\": {\"colorbar\": {\"outlinewidth\": 0, \"ticks\": \"\"}}, \"type\": \"scattergeo\"}], \"scattergl\": [{\"marker\": {\"colorbar\": {\"outlinewidth\": 0, \"ticks\": \"\"}}, \"type\": \"scattergl\"}], \"scattermapbox\": [{\"marker\": {\"colorbar\": {\"outlinewidth\": 0, \"ticks\": \"\"}}, \"type\": \"scattermapbox\"}], \"scatterpolar\": [{\"marker\": {\"colorbar\": {\"outlinewidth\": 0, \"ticks\": \"\"}}, \"type\": \"scatterpolar\"}], \"scatterpolargl\": [{\"marker\": {\"colorbar\": {\"outlinewidth\": 0, \"ticks\": \"\"}}, \"type\": \"scatterpolargl\"}], \"scatterternary\": [{\"marker\": {\"colorbar\": {\"outlinewidth\": 0, \"ticks\": \"\"}}, \"type\": \"scatterternary\"}], \"surface\": [{\"colorbar\": {\"outlinewidth\": 0, \"ticks\": \"\"}, \"colorscale\": [[0.0, \"#0d0887\"], [0.1111111111111111, \"#46039f\"], [0.2222222222222222, \"#7201a8\"], [0.3333333333333333, \"#9c179e\"], [0.4444444444444444, \"#bd3786\"], [0.5555555555555556, \"#d8576b\"], [0.6666666666666666, \"#ed7953\"], [0.7777777777777778, \"#fb9f3a\"], [0.8888888888888888, \"#fdca26\"], [1.0, \"#f0f921\"]], \"type\": \"surface\"}], \"table\": [{\"cells\": {\"fill\": {\"color\": \"#EBF0F8\"}, \"line\": {\"color\": \"white\"}}, \"header\": {\"fill\": {\"color\": \"#C8D4E3\"}, \"line\": {\"color\": \"white\"}}, \"type\": \"table\"}]}, \"layout\": {\"annotationdefaults\": {\"arrowcolor\": \"#2a3f5f\", \"arrowhead\": 0, \"arrowwidth\": 1}, \"autotypenumbers\": \"strict\", \"coloraxis\": {\"colorbar\": {\"outlinewidth\": 0, \"ticks\": \"\"}}, \"colorscale\": {\"diverging\": [[0, \"#8e0152\"], [0.1, \"#c51b7d\"], [0.2, \"#de77ae\"], [0.3, \"#f1b6da\"], [0.4, \"#fde0ef\"], [0.5, \"#f7f7f7\"], [0.6, \"#e6f5d0\"], [0.7, \"#b8e186\"], [0.8, \"#7fbc41\"], [0.9, \"#4d9221\"], [1, \"#276419\"]], \"sequential\": [[0.0, \"#0d0887\"], [0.1111111111111111, \"#46039f\"], [0.2222222222222222, \"#7201a8\"], [0.3333333333333333, \"#9c179e\"], [0.4444444444444444, \"#bd3786\"], [0.5555555555555556, \"#d8576b\"], [0.6666666666666666, \"#ed7953\"], [0.7777777777777778, \"#fb9f3a\"], [0.8888888888888888, \"#fdca26\"], [1.0, \"#f0f921\"]], \"sequentialminus\": [[0.0, \"#0d0887\"], [0.1111111111111111, \"#46039f\"], [0.2222222222222222, \"#7201a8\"], [0.3333333333333333, \"#9c179e\"], [0.4444444444444444, \"#bd3786\"], [0.5555555555555556, \"#d8576b\"], [0.6666666666666666, \"#ed7953\"], [0.7777777777777778, \"#fb9f3a\"], [0.8888888888888888, \"#fdca26\"], [1.0, \"#f0f921\"]]}, \"colorway\": [\"#636efa\", \"#EF553B\", \"#00cc96\", \"#ab63fa\", \"#FFA15A\", \"#19d3f3\", \"#FF6692\", \"#B6E880\", \"#FF97FF\", \"#FECB52\"], \"font\": {\"color\": \"#2a3f5f\"}, \"geo\": {\"bgcolor\": \"white\", \"lakecolor\": \"white\", \"landcolor\": \"#E5ECF6\", \"showlakes\": true, \"showland\": true, \"subunitcolor\": \"white\"}, \"hoverlabel\": {\"align\": \"left\"}, \"hovermode\": \"closest\", \"mapbox\": {\"style\": \"light\"}, \"paper_bgcolor\": \"white\", \"plot_bgcolor\": \"#E5ECF6\", \"polar\": {\"angularaxis\": {\"gridcolor\": \"white\", \"linecolor\": \"white\", \"ticks\": \"\"}, \"bgcolor\": \"#E5ECF6\", \"radialaxis\": {\"gridcolor\": \"white\", \"linecolor\": \"white\", \"ticks\": \"\"}}, \"scene\": {\"xaxis\": {\"backgroundcolor\": \"#E5ECF6\", \"gridcolor\": \"white\", \"gridwidth\": 2, \"linecolor\": \"white\", \"showbackground\": true, \"ticks\": \"\", \"zerolinecolor\": \"white\"}, \"yaxis\": {\"backgroundcolor\": \"#E5ECF6\", \"gridcolor\": \"white\", \"gridwidth\": 2, \"linecolor\": \"white\", \"showbackground\": true, \"ticks\": \"\", \"zerolinecolor\": \"white\"}, \"zaxis\": {\"backgroundcolor\": \"#E5ECF6\", \"gridcolor\": \"white\", \"gridwidth\": 2, \"linecolor\": \"white\", \"showbackground\": true, \"ticks\": \"\", \"zerolinecolor\": \"white\"}}, \"shapedefaults\": {\"line\": {\"color\": \"#2a3f5f\"}}, \"ternary\": {\"aaxis\": {\"gridcolor\": \"white\", \"linecolor\": \"white\", \"ticks\": \"\"}, \"baxis\": {\"gridcolor\": \"white\", \"linecolor\": \"white\", \"ticks\": \"\"}, \"bgcolor\": \"#E5ECF6\", \"caxis\": {\"gridcolor\": \"white\", \"linecolor\": \"white\", \"ticks\": \"\"}}, \"title\": {\"x\": 0.05}, \"xaxis\": {\"automargin\": true, \"gridcolor\": \"white\", \"linecolor\": \"white\", \"ticks\": \"\", \"title\": {\"standoff\": 15}, \"zerolinecolor\": \"white\", \"zerolinewidth\": 2}, \"yaxis\": {\"automargin\": true, \"gridcolor\": \"white\", \"linecolor\": \"white\", \"ticks\": \"\", \"title\": {\"standoff\": 15}, \"zerolinecolor\": \"white\", \"zerolinewidth\": 2}}}, \"title\": {\"font\": {\"color\": \"#4D5663\"}}, \"xaxis\": {\"gridcolor\": \"#E1E5ED\", \"showgrid\": true, \"tickfont\": {\"color\": \"#4D5663\"}, \"title\": {\"font\": {\"color\": \"#4D5663\"}, \"text\": \"\"}, \"zerolinecolor\": \"#E1E5ED\"}, \"yaxis\": {\"gridcolor\": \"#E1E5ED\", \"showgrid\": true, \"tickfont\": {\"color\": \"#4D5663\"}, \"title\": {\"font\": {\"color\": \"#4D5663\"}, \"text\": \"\"}, \"zerolinecolor\": \"#E1E5ED\"}},                        {\"showLink\": true, \"linkText\": \"Export to plot.ly\", \"plotlyServerURL\": \"https://plot.ly\", \"responsive\": true}                    ).then(function(){\n",
       "                            \n",
       "var gd = document.getElementById('5af165f7-a7c3-4c7a-bb96-7e45382c1b80');\n",
       "var x = new MutationObserver(function (mutations, observer) {{\n",
       "        var display = window.getComputedStyle(gd).display;\n",
       "        if (!display || display === 'none') {{\n",
       "            console.log([gd, 'removed!']);\n",
       "            Plotly.purge(gd);\n",
       "            observer.disconnect();\n",
       "        }}\n",
       "}});\n",
       "\n",
       "// Listen for the removal of the full notebook cells\n",
       "var notebookContainer = gd.closest('#notebook-container');\n",
       "if (notebookContainer) {{\n",
       "    x.observe(notebookContainer, {childList: true});\n",
       "}}\n",
       "\n",
       "// Listen for the clearing of the current output cell\n",
       "var outputEl = gd.closest('.output');\n",
       "if (outputEl) {{\n",
       "    x.observe(outputEl, {childList: true});\n",
       "}}\n",
       "\n",
       "                        })                };                });            </script>        </div>"
      ]
     },
     "metadata": {},
     "output_type": "display_data"
    }
   ],
   "source": [
    "df2.iplot(kind='bar',x='Category',y='Values')"
   ]
  },
  {
   "cell_type": "code",
   "execution_count": 12,
   "metadata": {},
   "outputs": [
    {
     "data": {
      "application/vnd.plotly.v1+json": {
       "config": {
        "linkText": "Export to plot.ly",
        "plotlyServerURL": "https://plot.ly",
        "showLink": true
       },
       "data": [
        {
         "marker": {
          "color": "rgba(255, 153, 51, 0.6)",
          "line": {
           "color": "rgba(255, 153, 51, 1.0)",
           "width": 1
          }
         },
         "name": "None",
         "orientation": "v",
         "text": "",
         "type": "bar",
         "x": [
          "A",
          "B",
          "C",
          "D"
         ],
         "y": [
          100,
          100,
          100,
          100
         ]
        }
       ],
       "layout": {
        "legend": {
         "bgcolor": "#F5F6F9",
         "font": {
          "color": "#4D5663"
         }
        },
        "paper_bgcolor": "#F5F6F9",
        "plot_bgcolor": "#F5F6F9",
        "template": {
         "data": {
          "bar": [
           {
            "error_x": {
             "color": "#2a3f5f"
            },
            "error_y": {
             "color": "#2a3f5f"
            },
            "marker": {
             "line": {
              "color": "#E5ECF6",
              "width": 0.5
             }
            },
            "type": "bar"
           }
          ],
          "barpolar": [
           {
            "marker": {
             "line": {
              "color": "#E5ECF6",
              "width": 0.5
             }
            },
            "type": "barpolar"
           }
          ],
          "carpet": [
           {
            "aaxis": {
             "endlinecolor": "#2a3f5f",
             "gridcolor": "white",
             "linecolor": "white",
             "minorgridcolor": "white",
             "startlinecolor": "#2a3f5f"
            },
            "baxis": {
             "endlinecolor": "#2a3f5f",
             "gridcolor": "white",
             "linecolor": "white",
             "minorgridcolor": "white",
             "startlinecolor": "#2a3f5f"
            },
            "type": "carpet"
           }
          ],
          "choropleth": [
           {
            "colorbar": {
             "outlinewidth": 0,
             "ticks": ""
            },
            "type": "choropleth"
           }
          ],
          "contour": [
           {
            "colorbar": {
             "outlinewidth": 0,
             "ticks": ""
            },
            "colorscale": [
             [
              0,
              "#0d0887"
             ],
             [
              0.1111111111111111,
              "#46039f"
             ],
             [
              0.2222222222222222,
              "#7201a8"
             ],
             [
              0.3333333333333333,
              "#9c179e"
             ],
             [
              0.4444444444444444,
              "#bd3786"
             ],
             [
              0.5555555555555556,
              "#d8576b"
             ],
             [
              0.6666666666666666,
              "#ed7953"
             ],
             [
              0.7777777777777778,
              "#fb9f3a"
             ],
             [
              0.8888888888888888,
              "#fdca26"
             ],
             [
              1,
              "#f0f921"
             ]
            ],
            "type": "contour"
           }
          ],
          "contourcarpet": [
           {
            "colorbar": {
             "outlinewidth": 0,
             "ticks": ""
            },
            "type": "contourcarpet"
           }
          ],
          "heatmap": [
           {
            "colorbar": {
             "outlinewidth": 0,
             "ticks": ""
            },
            "colorscale": [
             [
              0,
              "#0d0887"
             ],
             [
              0.1111111111111111,
              "#46039f"
             ],
             [
              0.2222222222222222,
              "#7201a8"
             ],
             [
              0.3333333333333333,
              "#9c179e"
             ],
             [
              0.4444444444444444,
              "#bd3786"
             ],
             [
              0.5555555555555556,
              "#d8576b"
             ],
             [
              0.6666666666666666,
              "#ed7953"
             ],
             [
              0.7777777777777778,
              "#fb9f3a"
             ],
             [
              0.8888888888888888,
              "#fdca26"
             ],
             [
              1,
              "#f0f921"
             ]
            ],
            "type": "heatmap"
           }
          ],
          "heatmapgl": [
           {
            "colorbar": {
             "outlinewidth": 0,
             "ticks": ""
            },
            "colorscale": [
             [
              0,
              "#0d0887"
             ],
             [
              0.1111111111111111,
              "#46039f"
             ],
             [
              0.2222222222222222,
              "#7201a8"
             ],
             [
              0.3333333333333333,
              "#9c179e"
             ],
             [
              0.4444444444444444,
              "#bd3786"
             ],
             [
              0.5555555555555556,
              "#d8576b"
             ],
             [
              0.6666666666666666,
              "#ed7953"
             ],
             [
              0.7777777777777778,
              "#fb9f3a"
             ],
             [
              0.8888888888888888,
              "#fdca26"
             ],
             [
              1,
              "#f0f921"
             ]
            ],
            "type": "heatmapgl"
           }
          ],
          "histogram": [
           {
            "marker": {
             "colorbar": {
              "outlinewidth": 0,
              "ticks": ""
             }
            },
            "type": "histogram"
           }
          ],
          "histogram2d": [
           {
            "colorbar": {
             "outlinewidth": 0,
             "ticks": ""
            },
            "colorscale": [
             [
              0,
              "#0d0887"
             ],
             [
              0.1111111111111111,
              "#46039f"
             ],
             [
              0.2222222222222222,
              "#7201a8"
             ],
             [
              0.3333333333333333,
              "#9c179e"
             ],
             [
              0.4444444444444444,
              "#bd3786"
             ],
             [
              0.5555555555555556,
              "#d8576b"
             ],
             [
              0.6666666666666666,
              "#ed7953"
             ],
             [
              0.7777777777777778,
              "#fb9f3a"
             ],
             [
              0.8888888888888888,
              "#fdca26"
             ],
             [
              1,
              "#f0f921"
             ]
            ],
            "type": "histogram2d"
           }
          ],
          "histogram2dcontour": [
           {
            "colorbar": {
             "outlinewidth": 0,
             "ticks": ""
            },
            "colorscale": [
             [
              0,
              "#0d0887"
             ],
             [
              0.1111111111111111,
              "#46039f"
             ],
             [
              0.2222222222222222,
              "#7201a8"
             ],
             [
              0.3333333333333333,
              "#9c179e"
             ],
             [
              0.4444444444444444,
              "#bd3786"
             ],
             [
              0.5555555555555556,
              "#d8576b"
             ],
             [
              0.6666666666666666,
              "#ed7953"
             ],
             [
              0.7777777777777778,
              "#fb9f3a"
             ],
             [
              0.8888888888888888,
              "#fdca26"
             ],
             [
              1,
              "#f0f921"
             ]
            ],
            "type": "histogram2dcontour"
           }
          ],
          "mesh3d": [
           {
            "colorbar": {
             "outlinewidth": 0,
             "ticks": ""
            },
            "type": "mesh3d"
           }
          ],
          "parcoords": [
           {
            "line": {
             "colorbar": {
              "outlinewidth": 0,
              "ticks": ""
             }
            },
            "type": "parcoords"
           }
          ],
          "pie": [
           {
            "automargin": true,
            "type": "pie"
           }
          ],
          "scatter": [
           {
            "marker": {
             "colorbar": {
              "outlinewidth": 0,
              "ticks": ""
             }
            },
            "type": "scatter"
           }
          ],
          "scatter3d": [
           {
            "line": {
             "colorbar": {
              "outlinewidth": 0,
              "ticks": ""
             }
            },
            "marker": {
             "colorbar": {
              "outlinewidth": 0,
              "ticks": ""
             }
            },
            "type": "scatter3d"
           }
          ],
          "scattercarpet": [
           {
            "marker": {
             "colorbar": {
              "outlinewidth": 0,
              "ticks": ""
             }
            },
            "type": "scattercarpet"
           }
          ],
          "scattergeo": [
           {
            "marker": {
             "colorbar": {
              "outlinewidth": 0,
              "ticks": ""
             }
            },
            "type": "scattergeo"
           }
          ],
          "scattergl": [
           {
            "marker": {
             "colorbar": {
              "outlinewidth": 0,
              "ticks": ""
             }
            },
            "type": "scattergl"
           }
          ],
          "scattermapbox": [
           {
            "marker": {
             "colorbar": {
              "outlinewidth": 0,
              "ticks": ""
             }
            },
            "type": "scattermapbox"
           }
          ],
          "scatterpolar": [
           {
            "marker": {
             "colorbar": {
              "outlinewidth": 0,
              "ticks": ""
             }
            },
            "type": "scatterpolar"
           }
          ],
          "scatterpolargl": [
           {
            "marker": {
             "colorbar": {
              "outlinewidth": 0,
              "ticks": ""
             }
            },
            "type": "scatterpolargl"
           }
          ],
          "scatterternary": [
           {
            "marker": {
             "colorbar": {
              "outlinewidth": 0,
              "ticks": ""
             }
            },
            "type": "scatterternary"
           }
          ],
          "surface": [
           {
            "colorbar": {
             "outlinewidth": 0,
             "ticks": ""
            },
            "colorscale": [
             [
              0,
              "#0d0887"
             ],
             [
              0.1111111111111111,
              "#46039f"
             ],
             [
              0.2222222222222222,
              "#7201a8"
             ],
             [
              0.3333333333333333,
              "#9c179e"
             ],
             [
              0.4444444444444444,
              "#bd3786"
             ],
             [
              0.5555555555555556,
              "#d8576b"
             ],
             [
              0.6666666666666666,
              "#ed7953"
             ],
             [
              0.7777777777777778,
              "#fb9f3a"
             ],
             [
              0.8888888888888888,
              "#fdca26"
             ],
             [
              1,
              "#f0f921"
             ]
            ],
            "type": "surface"
           }
          ],
          "table": [
           {
            "cells": {
             "fill": {
              "color": "#EBF0F8"
             },
             "line": {
              "color": "white"
             }
            },
            "header": {
             "fill": {
              "color": "#C8D4E3"
             },
             "line": {
              "color": "white"
             }
            },
            "type": "table"
           }
          ]
         },
         "layout": {
          "annotationdefaults": {
           "arrowcolor": "#2a3f5f",
           "arrowhead": 0,
           "arrowwidth": 1
          },
          "autotypenumbers": "strict",
          "coloraxis": {
           "colorbar": {
            "outlinewidth": 0,
            "ticks": ""
           }
          },
          "colorscale": {
           "diverging": [
            [
             0,
             "#8e0152"
            ],
            [
             0.1,
             "#c51b7d"
            ],
            [
             0.2,
             "#de77ae"
            ],
            [
             0.3,
             "#f1b6da"
            ],
            [
             0.4,
             "#fde0ef"
            ],
            [
             0.5,
             "#f7f7f7"
            ],
            [
             0.6,
             "#e6f5d0"
            ],
            [
             0.7,
             "#b8e186"
            ],
            [
             0.8,
             "#7fbc41"
            ],
            [
             0.9,
             "#4d9221"
            ],
            [
             1,
             "#276419"
            ]
           ],
           "sequential": [
            [
             0,
             "#0d0887"
            ],
            [
             0.1111111111111111,
             "#46039f"
            ],
            [
             0.2222222222222222,
             "#7201a8"
            ],
            [
             0.3333333333333333,
             "#9c179e"
            ],
            [
             0.4444444444444444,
             "#bd3786"
            ],
            [
             0.5555555555555556,
             "#d8576b"
            ],
            [
             0.6666666666666666,
             "#ed7953"
            ],
            [
             0.7777777777777778,
             "#fb9f3a"
            ],
            [
             0.8888888888888888,
             "#fdca26"
            ],
            [
             1,
             "#f0f921"
            ]
           ],
           "sequentialminus": [
            [
             0,
             "#0d0887"
            ],
            [
             0.1111111111111111,
             "#46039f"
            ],
            [
             0.2222222222222222,
             "#7201a8"
            ],
            [
             0.3333333333333333,
             "#9c179e"
            ],
            [
             0.4444444444444444,
             "#bd3786"
            ],
            [
             0.5555555555555556,
             "#d8576b"
            ],
            [
             0.6666666666666666,
             "#ed7953"
            ],
            [
             0.7777777777777778,
             "#fb9f3a"
            ],
            [
             0.8888888888888888,
             "#fdca26"
            ],
            [
             1,
             "#f0f921"
            ]
           ]
          },
          "colorway": [
           "#636efa",
           "#EF553B",
           "#00cc96",
           "#ab63fa",
           "#FFA15A",
           "#19d3f3",
           "#FF6692",
           "#B6E880",
           "#FF97FF",
           "#FECB52"
          ],
          "font": {
           "color": "#2a3f5f"
          },
          "geo": {
           "bgcolor": "white",
           "lakecolor": "white",
           "landcolor": "#E5ECF6",
           "showlakes": true,
           "showland": true,
           "subunitcolor": "white"
          },
          "hoverlabel": {
           "align": "left"
          },
          "hovermode": "closest",
          "mapbox": {
           "style": "light"
          },
          "paper_bgcolor": "white",
          "plot_bgcolor": "#E5ECF6",
          "polar": {
           "angularaxis": {
            "gridcolor": "white",
            "linecolor": "white",
            "ticks": ""
           },
           "bgcolor": "#E5ECF6",
           "radialaxis": {
            "gridcolor": "white",
            "linecolor": "white",
            "ticks": ""
           }
          },
          "scene": {
           "xaxis": {
            "backgroundcolor": "#E5ECF6",
            "gridcolor": "white",
            "gridwidth": 2,
            "linecolor": "white",
            "showbackground": true,
            "ticks": "",
            "zerolinecolor": "white"
           },
           "yaxis": {
            "backgroundcolor": "#E5ECF6",
            "gridcolor": "white",
            "gridwidth": 2,
            "linecolor": "white",
            "showbackground": true,
            "ticks": "",
            "zerolinecolor": "white"
           },
           "zaxis": {
            "backgroundcolor": "#E5ECF6",
            "gridcolor": "white",
            "gridwidth": 2,
            "linecolor": "white",
            "showbackground": true,
            "ticks": "",
            "zerolinecolor": "white"
           }
          },
          "shapedefaults": {
           "line": {
            "color": "#2a3f5f"
           }
          },
          "ternary": {
           "aaxis": {
            "gridcolor": "white",
            "linecolor": "white",
            "ticks": ""
           },
           "baxis": {
            "gridcolor": "white",
            "linecolor": "white",
            "ticks": ""
           },
           "bgcolor": "#E5ECF6",
           "caxis": {
            "gridcolor": "white",
            "linecolor": "white",
            "ticks": ""
           }
          },
          "title": {
           "x": 0.05
          },
          "xaxis": {
           "automargin": true,
           "gridcolor": "white",
           "linecolor": "white",
           "ticks": "",
           "title": {
            "standoff": 15
           },
           "zerolinecolor": "white",
           "zerolinewidth": 2
          },
          "yaxis": {
           "automargin": true,
           "gridcolor": "white",
           "linecolor": "white",
           "ticks": "",
           "title": {
            "standoff": 15
           },
           "zerolinecolor": "white",
           "zerolinewidth": 2
          }
         }
        },
        "title": {
         "font": {
          "color": "#4D5663"
         }
        },
        "xaxis": {
         "gridcolor": "#E1E5ED",
         "showgrid": true,
         "tickfont": {
          "color": "#4D5663"
         },
         "title": {
          "font": {
           "color": "#4D5663"
          },
          "text": ""
         },
         "zerolinecolor": "#E1E5ED"
        },
        "yaxis": {
         "gridcolor": "#E1E5ED",
         "showgrid": true,
         "tickfont": {
          "color": "#4D5663"
         },
         "title": {
          "font": {
           "color": "#4D5663"
          },
          "text": ""
         },
         "zerolinecolor": "#E1E5ED"
        }
       }
      },
      "text/html": [
       "<div>                            <div id=\"3416dac3-4b25-45a7-99d2-832fb27e1aea\" class=\"plotly-graph-div\" style=\"height:525px; width:100%;\"></div>            <script type=\"text/javascript\">                require([\"plotly\"], function(Plotly) {                    window.PLOTLYENV=window.PLOTLYENV || {};\n",
       "                    window.PLOTLYENV.BASE_URL='https://plot.ly';                                    if (document.getElementById(\"3416dac3-4b25-45a7-99d2-832fb27e1aea\")) {                    Plotly.newPlot(                        \"3416dac3-4b25-45a7-99d2-832fb27e1aea\",                        [{\"marker\": {\"color\": \"rgba(255, 153, 51, 0.6)\", \"line\": {\"color\": \"rgba(255, 153, 51, 1.0)\", \"width\": 1}}, \"name\": \"None\", \"orientation\": \"v\", \"text\": \"\", \"type\": \"bar\", \"x\": [\"A\", \"B\", \"C\", \"D\"], \"y\": [100, 100, 100, 100]}],                        {\"legend\": {\"bgcolor\": \"#F5F6F9\", \"font\": {\"color\": \"#4D5663\"}}, \"paper_bgcolor\": \"#F5F6F9\", \"plot_bgcolor\": \"#F5F6F9\", \"template\": {\"data\": {\"bar\": [{\"error_x\": {\"color\": \"#2a3f5f\"}, \"error_y\": {\"color\": \"#2a3f5f\"}, \"marker\": {\"line\": {\"color\": \"#E5ECF6\", \"width\": 0.5}}, \"type\": \"bar\"}], \"barpolar\": [{\"marker\": {\"line\": {\"color\": \"#E5ECF6\", \"width\": 0.5}}, \"type\": \"barpolar\"}], \"carpet\": [{\"aaxis\": {\"endlinecolor\": \"#2a3f5f\", \"gridcolor\": \"white\", \"linecolor\": \"white\", \"minorgridcolor\": \"white\", \"startlinecolor\": \"#2a3f5f\"}, \"baxis\": {\"endlinecolor\": \"#2a3f5f\", \"gridcolor\": \"white\", \"linecolor\": \"white\", \"minorgridcolor\": \"white\", \"startlinecolor\": \"#2a3f5f\"}, \"type\": \"carpet\"}], \"choropleth\": [{\"colorbar\": {\"outlinewidth\": 0, \"ticks\": \"\"}, \"type\": \"choropleth\"}], \"contour\": [{\"colorbar\": {\"outlinewidth\": 0, \"ticks\": \"\"}, \"colorscale\": [[0.0, \"#0d0887\"], [0.1111111111111111, \"#46039f\"], [0.2222222222222222, \"#7201a8\"], [0.3333333333333333, \"#9c179e\"], [0.4444444444444444, \"#bd3786\"], [0.5555555555555556, \"#d8576b\"], [0.6666666666666666, \"#ed7953\"], [0.7777777777777778, \"#fb9f3a\"], [0.8888888888888888, \"#fdca26\"], [1.0, \"#f0f921\"]], \"type\": \"contour\"}], \"contourcarpet\": [{\"colorbar\": {\"outlinewidth\": 0, \"ticks\": \"\"}, \"type\": \"contourcarpet\"}], \"heatmap\": [{\"colorbar\": {\"outlinewidth\": 0, \"ticks\": \"\"}, \"colorscale\": [[0.0, \"#0d0887\"], [0.1111111111111111, \"#46039f\"], [0.2222222222222222, \"#7201a8\"], [0.3333333333333333, \"#9c179e\"], [0.4444444444444444, \"#bd3786\"], [0.5555555555555556, \"#d8576b\"], [0.6666666666666666, \"#ed7953\"], [0.7777777777777778, \"#fb9f3a\"], [0.8888888888888888, \"#fdca26\"], [1.0, \"#f0f921\"]], \"type\": \"heatmap\"}], \"heatmapgl\": [{\"colorbar\": {\"outlinewidth\": 0, \"ticks\": \"\"}, \"colorscale\": [[0.0, \"#0d0887\"], [0.1111111111111111, \"#46039f\"], [0.2222222222222222, \"#7201a8\"], [0.3333333333333333, \"#9c179e\"], [0.4444444444444444, \"#bd3786\"], [0.5555555555555556, \"#d8576b\"], [0.6666666666666666, \"#ed7953\"], [0.7777777777777778, \"#fb9f3a\"], [0.8888888888888888, \"#fdca26\"], [1.0, \"#f0f921\"]], \"type\": \"heatmapgl\"}], \"histogram\": [{\"marker\": {\"colorbar\": {\"outlinewidth\": 0, \"ticks\": \"\"}}, \"type\": \"histogram\"}], \"histogram2d\": [{\"colorbar\": {\"outlinewidth\": 0, \"ticks\": \"\"}, \"colorscale\": [[0.0, \"#0d0887\"], [0.1111111111111111, \"#46039f\"], [0.2222222222222222, \"#7201a8\"], [0.3333333333333333, \"#9c179e\"], [0.4444444444444444, \"#bd3786\"], [0.5555555555555556, \"#d8576b\"], [0.6666666666666666, \"#ed7953\"], [0.7777777777777778, \"#fb9f3a\"], [0.8888888888888888, \"#fdca26\"], [1.0, \"#f0f921\"]], \"type\": \"histogram2d\"}], \"histogram2dcontour\": [{\"colorbar\": {\"outlinewidth\": 0, \"ticks\": \"\"}, \"colorscale\": [[0.0, \"#0d0887\"], [0.1111111111111111, \"#46039f\"], [0.2222222222222222, \"#7201a8\"], [0.3333333333333333, \"#9c179e\"], [0.4444444444444444, \"#bd3786\"], [0.5555555555555556, \"#d8576b\"], [0.6666666666666666, \"#ed7953\"], [0.7777777777777778, \"#fb9f3a\"], [0.8888888888888888, \"#fdca26\"], [1.0, \"#f0f921\"]], \"type\": \"histogram2dcontour\"}], \"mesh3d\": [{\"colorbar\": {\"outlinewidth\": 0, \"ticks\": \"\"}, \"type\": \"mesh3d\"}], \"parcoords\": [{\"line\": {\"colorbar\": {\"outlinewidth\": 0, \"ticks\": \"\"}}, \"type\": \"parcoords\"}], \"pie\": [{\"automargin\": true, \"type\": \"pie\"}], \"scatter\": [{\"marker\": {\"colorbar\": {\"outlinewidth\": 0, \"ticks\": \"\"}}, \"type\": \"scatter\"}], \"scatter3d\": [{\"line\": {\"colorbar\": {\"outlinewidth\": 0, \"ticks\": \"\"}}, \"marker\": {\"colorbar\": {\"outlinewidth\": 0, \"ticks\": \"\"}}, \"type\": \"scatter3d\"}], \"scattercarpet\": [{\"marker\": {\"colorbar\": {\"outlinewidth\": 0, \"ticks\": \"\"}}, \"type\": \"scattercarpet\"}], \"scattergeo\": [{\"marker\": {\"colorbar\": {\"outlinewidth\": 0, \"ticks\": \"\"}}, \"type\": \"scattergeo\"}], \"scattergl\": [{\"marker\": {\"colorbar\": {\"outlinewidth\": 0, \"ticks\": \"\"}}, \"type\": \"scattergl\"}], \"scattermapbox\": [{\"marker\": {\"colorbar\": {\"outlinewidth\": 0, \"ticks\": \"\"}}, \"type\": \"scattermapbox\"}], \"scatterpolar\": [{\"marker\": {\"colorbar\": {\"outlinewidth\": 0, \"ticks\": \"\"}}, \"type\": \"scatterpolar\"}], \"scatterpolargl\": [{\"marker\": {\"colorbar\": {\"outlinewidth\": 0, \"ticks\": \"\"}}, \"type\": \"scatterpolargl\"}], \"scatterternary\": [{\"marker\": {\"colorbar\": {\"outlinewidth\": 0, \"ticks\": \"\"}}, \"type\": \"scatterternary\"}], \"surface\": [{\"colorbar\": {\"outlinewidth\": 0, \"ticks\": \"\"}, \"colorscale\": [[0.0, \"#0d0887\"], [0.1111111111111111, \"#46039f\"], [0.2222222222222222, \"#7201a8\"], [0.3333333333333333, \"#9c179e\"], [0.4444444444444444, \"#bd3786\"], [0.5555555555555556, \"#d8576b\"], [0.6666666666666666, \"#ed7953\"], [0.7777777777777778, \"#fb9f3a\"], [0.8888888888888888, \"#fdca26\"], [1.0, \"#f0f921\"]], \"type\": \"surface\"}], \"table\": [{\"cells\": {\"fill\": {\"color\": \"#EBF0F8\"}, \"line\": {\"color\": \"white\"}}, \"header\": {\"fill\": {\"color\": \"#C8D4E3\"}, \"line\": {\"color\": \"white\"}}, \"type\": \"table\"}]}, \"layout\": {\"annotationdefaults\": {\"arrowcolor\": \"#2a3f5f\", \"arrowhead\": 0, \"arrowwidth\": 1}, \"autotypenumbers\": \"strict\", \"coloraxis\": {\"colorbar\": {\"outlinewidth\": 0, \"ticks\": \"\"}}, \"colorscale\": {\"diverging\": [[0, \"#8e0152\"], [0.1, \"#c51b7d\"], [0.2, \"#de77ae\"], [0.3, \"#f1b6da\"], [0.4, \"#fde0ef\"], [0.5, \"#f7f7f7\"], [0.6, \"#e6f5d0\"], [0.7, \"#b8e186\"], [0.8, \"#7fbc41\"], [0.9, \"#4d9221\"], [1, \"#276419\"]], \"sequential\": [[0.0, \"#0d0887\"], [0.1111111111111111, \"#46039f\"], [0.2222222222222222, \"#7201a8\"], [0.3333333333333333, \"#9c179e\"], [0.4444444444444444, \"#bd3786\"], [0.5555555555555556, \"#d8576b\"], [0.6666666666666666, \"#ed7953\"], [0.7777777777777778, \"#fb9f3a\"], [0.8888888888888888, \"#fdca26\"], [1.0, \"#f0f921\"]], \"sequentialminus\": [[0.0, \"#0d0887\"], [0.1111111111111111, \"#46039f\"], [0.2222222222222222, \"#7201a8\"], [0.3333333333333333, \"#9c179e\"], [0.4444444444444444, \"#bd3786\"], [0.5555555555555556, \"#d8576b\"], [0.6666666666666666, \"#ed7953\"], [0.7777777777777778, \"#fb9f3a\"], [0.8888888888888888, \"#fdca26\"], [1.0, \"#f0f921\"]]}, \"colorway\": [\"#636efa\", \"#EF553B\", \"#00cc96\", \"#ab63fa\", \"#FFA15A\", \"#19d3f3\", \"#FF6692\", \"#B6E880\", \"#FF97FF\", \"#FECB52\"], \"font\": {\"color\": \"#2a3f5f\"}, \"geo\": {\"bgcolor\": \"white\", \"lakecolor\": \"white\", \"landcolor\": \"#E5ECF6\", \"showlakes\": true, \"showland\": true, \"subunitcolor\": \"white\"}, \"hoverlabel\": {\"align\": \"left\"}, \"hovermode\": \"closest\", \"mapbox\": {\"style\": \"light\"}, \"paper_bgcolor\": \"white\", \"plot_bgcolor\": \"#E5ECF6\", \"polar\": {\"angularaxis\": {\"gridcolor\": \"white\", \"linecolor\": \"white\", \"ticks\": \"\"}, \"bgcolor\": \"#E5ECF6\", \"radialaxis\": {\"gridcolor\": \"white\", \"linecolor\": \"white\", \"ticks\": \"\"}}, \"scene\": {\"xaxis\": {\"backgroundcolor\": \"#E5ECF6\", \"gridcolor\": \"white\", \"gridwidth\": 2, \"linecolor\": \"white\", \"showbackground\": true, \"ticks\": \"\", \"zerolinecolor\": \"white\"}, \"yaxis\": {\"backgroundcolor\": \"#E5ECF6\", \"gridcolor\": \"white\", \"gridwidth\": 2, \"linecolor\": \"white\", \"showbackground\": true, \"ticks\": \"\", \"zerolinecolor\": \"white\"}, \"zaxis\": {\"backgroundcolor\": \"#E5ECF6\", \"gridcolor\": \"white\", \"gridwidth\": 2, \"linecolor\": \"white\", \"showbackground\": true, \"ticks\": \"\", \"zerolinecolor\": \"white\"}}, \"shapedefaults\": {\"line\": {\"color\": \"#2a3f5f\"}}, \"ternary\": {\"aaxis\": {\"gridcolor\": \"white\", \"linecolor\": \"white\", \"ticks\": \"\"}, \"baxis\": {\"gridcolor\": \"white\", \"linecolor\": \"white\", \"ticks\": \"\"}, \"bgcolor\": \"#E5ECF6\", \"caxis\": {\"gridcolor\": \"white\", \"linecolor\": \"white\", \"ticks\": \"\"}}, \"title\": {\"x\": 0.05}, \"xaxis\": {\"automargin\": true, \"gridcolor\": \"white\", \"linecolor\": \"white\", \"ticks\": \"\", \"title\": {\"standoff\": 15}, \"zerolinecolor\": \"white\", \"zerolinewidth\": 2}, \"yaxis\": {\"automargin\": true, \"gridcolor\": \"white\", \"linecolor\": \"white\", \"ticks\": \"\", \"title\": {\"standoff\": 15}, \"zerolinecolor\": \"white\", \"zerolinewidth\": 2}}}, \"title\": {\"font\": {\"color\": \"#4D5663\"}}, \"xaxis\": {\"gridcolor\": \"#E1E5ED\", \"showgrid\": true, \"tickfont\": {\"color\": \"#4D5663\"}, \"title\": {\"font\": {\"color\": \"#4D5663\"}, \"text\": \"\"}, \"zerolinecolor\": \"#E1E5ED\"}, \"yaxis\": {\"gridcolor\": \"#E1E5ED\", \"showgrid\": true, \"tickfont\": {\"color\": \"#4D5663\"}, \"title\": {\"font\": {\"color\": \"#4D5663\"}, \"text\": \"\"}, \"zerolinecolor\": \"#E1E5ED\"}},                        {\"showLink\": true, \"linkText\": \"Export to plot.ly\", \"plotlyServerURL\": \"https://plot.ly\", \"responsive\": true}                    ).then(function(){\n",
       "                            \n",
       "var gd = document.getElementById('3416dac3-4b25-45a7-99d2-832fb27e1aea');\n",
       "var x = new MutationObserver(function (mutations, observer) {{\n",
       "        var display = window.getComputedStyle(gd).display;\n",
       "        if (!display || display === 'none') {{\n",
       "            console.log([gd, 'removed!']);\n",
       "            Plotly.purge(gd);\n",
       "            observer.disconnect();\n",
       "        }}\n",
       "}});\n",
       "\n",
       "// Listen for the removal of the full notebook cells\n",
       "var notebookContainer = gd.closest('#notebook-container');\n",
       "if (notebookContainer) {{\n",
       "    x.observe(notebookContainer, {childList: true});\n",
       "}}\n",
       "\n",
       "// Listen for the clearing of the current output cell\n",
       "var outputEl = gd.closest('.output');\n",
       "if (outputEl) {{\n",
       "    x.observe(outputEl, {childList: true});\n",
       "}}\n",
       "\n",
       "                        })                };                });            </script>        </div>"
      ]
     },
     "metadata": {},
     "output_type": "display_data"
    }
   ],
   "source": [
    "df.count().iplot(kind='bar')"
   ]
  },
  {
   "cell_type": "markdown",
   "metadata": {},
   "source": [
    "## Boxplots"
   ]
  },
  {
   "cell_type": "code",
   "execution_count": 13,
   "metadata": {},
   "outputs": [
    {
     "data": {
      "application/vnd.plotly.v1+json": {
       "config": {
        "linkText": "Export to plot.ly",
        "plotlyServerURL": "https://plot.ly",
        "showLink": true
       },
       "data": [
        {
         "boxpoints": false,
         "line": {
          "width": 1.3
         },
         "marker": {
          "color": "rgba(255, 153, 51, 1.0)"
         },
         "name": "A",
         "orientation": "v",
         "type": "box",
         "y": [
          -0.4388542745687468,
          0.38408546159996987,
          -0.7413763683855321,
          -2.0288498139440914,
          0.8624022381361729,
          -0.7390775027313098,
          -0.112055115702541,
          0.9806345007382388,
          -1.0309612695870745,
          -0.42208014577143504,
          -0.6589458881544358,
          1.6189909942527092,
          0.6280941855399383,
          0.5824415788359514,
          1.407947397974564,
          -0.6055181775783632,
          0.26145880753689704,
          -1.6728439093333693,
          1.6860521621788684,
          1.009329541212465,
          -1.8503028350686974,
          -0.20999184471500965,
          -2.2932587368033177,
          -1.052360060273866,
          0.7434586671733655,
          0.24587075068617625,
          -1.1941403964622943,
          -0.4868426790349285,
          0.8398227332351278,
          0.7617615697209622,
          0.14507569288658226,
          0.5443829206564472,
          0.937364315832808,
          1.2470954452432272,
          -0.5534980066811476,
          1.5123201135236342,
          0.8987462567974541,
          0.5791080389203644,
          -0.2169166729652307,
          1.1859624278722207,
          -1.0513105071512439,
          -0.5537498496696196,
          -1.1876608548600875,
          0.28581503368341776,
          -0.8373909670462102,
          -0.49908970926011703,
          -1.0529342880820247,
          -0.9248567740307652,
          1.764463447885169,
          0.5901326366414836,
          -1.142075713218274,
          -0.8946017497616889,
          0.0144652299158461,
          0.1279379505634851,
          -1.0120014602064225,
          0.0363380032435725,
          0.21366402851299293,
          -0.18459741491488368,
          0.550611238075139,
          -1.1964210420445283,
          0.27844714124707004,
          -0.601675012386725,
          0.09034648034734893,
          -1.019728088992673,
          -1.1810422893142594,
          -1.0302218578695155,
          -0.02807953192685473,
          2.1234225090964385,
          -1.7218913699279377,
          -1.107127947693045,
          0.07029646761054668,
          -0.44745598771982803,
          1.148766935793685,
          0.016377942985925025,
          -0.638644767078107,
          -0.6605524605312318,
          -0.12626451146059678,
          0.23314954919639108,
          0.13663921181967784,
          -1.0216268345305923,
          0.2665031884388046,
          0.35416299293513925,
          -0.053121967639487025,
          0.7862011170376131,
          -0.47712670671197815,
          0.7931940780649613,
          -0.32398602740064425,
          -0.7796188551276063,
          -1.0774772125396894,
          0.8366000799612457,
          -0.7252752826298803,
          0.47420209435821925,
          0.16479101958522108,
          0.7805292644873063,
          -0.1922784699312706,
          0.01984409354644912,
          -0.5905422812265733,
          0.2857750483391747,
          -0.8738282207287031,
          1.2715167674609458
         ]
        },
        {
         "boxpoints": false,
         "line": {
          "width": 1.3
         },
         "marker": {
          "color": "rgba(55, 128, 191, 1.0)"
         },
         "name": "B",
         "orientation": "v",
         "type": "box",
         "y": [
          -1.3627216013659846,
          0.2746479273419688,
          0.7009464451380578,
          -1.3811013400556857,
          -1.7428511959512216,
          -0.8905026557041102,
          -0.551282879317178,
          0.22107331559969615,
          -1.5843865530614263,
          -1.9578013663048495,
          1.6767888897250252,
          0.5704931064566529,
          -0.6314149241481537,
          0.2757322702947673,
          0.7876966927085246,
          -0.8981643739025043,
          0.2948816739619415,
          0.1826302665386844,
          -0.9359073662486931,
          -1.457757479610927,
          -0.30185223399542666,
          0.9177284159277574,
          -0.5013513777674213,
          2.9904562197653792,
          1.2102048203993276,
          0.3463027009884661,
          -0.14875933083792445,
          -0.7241462815090236,
          -0.25408636699024595,
          -0.1011944206256832,
          -0.9111289589894425,
          0.09146337137093262,
          1.6008067662713046,
          1.2746041957302874,
          0.9851969510533377,
          -0.8543754688768727,
          1.6107325176724772,
          -1.4755417524303547,
          0.2324101126295466,
          -1.1624830197173044,
          -1.3561431982536194,
          0.5618943121972119,
          0.3401447906679545,
          -1.6615229986560336,
          -0.2078537594217146,
          0.727184088179305,
          -0.311201502392996,
          -0.5015752565114187,
          -1.1721312285095038,
          -1.5649694918407073,
          -1.0939670201572929,
          0.3619889697652782,
          3.367931842022976,
          -0.2521367382602952,
          -0.314242196876435,
          0.28725557906216953,
          -2.3182561631414584,
          -0.5554086695260209,
          -0.42168125402643714,
          1.689241224802193,
          0.07370559648891448,
          -0.6359492421783562,
          0.40914626446901686,
          0.06893059954535942,
          1.0029731029083802,
          1.4683660981628652,
          0.5641680851054268,
          -0.23720583119416894,
          -1.3720094046379412,
          -0.06317150115552012,
          -0.4646886627983753,
          -0.4653757228572715,
          0.26066881226261535,
          0.6871616119462791,
          -0.4920968386727682,
          -0.7887370928876344,
          -2.001483326801323,
          1.679334471231441,
          1.7345100201822912,
          -0.9727078661032714,
          0.2919188486713192,
          0.4653106873555381,
          0.3891081605002875,
          1.1844211163842735,
          -0.3689456505251842,
          0.5046777558050485,
          0.5212098489901662,
          -0.2810122685636921,
          -0.14805919194277323,
          0.25379447016412093,
          -0.3485665898351345,
          0.8050525463698355,
          -0.17894394437635838,
          -0.51770392029611,
          2.074133165916208,
          1.6404422314144023,
          0.4178381849479696,
          -0.11527328671374554,
          0.0746127850615184,
          -0.7620958143342098
         ]
        },
        {
         "boxpoints": false,
         "line": {
          "width": 1.3
         },
         "marker": {
          "color": "rgba(50, 171, 96, 1.0)"
         },
         "name": "C",
         "orientation": "v",
         "type": "box",
         "y": [
          1.0529477368352136,
          0.2930617432357008,
          1.1119203484653744,
          1.6489383973038985,
          -0.44315194894339144,
          0.33971969885165815,
          -1.2679410723898759,
          0.878602412594766,
          -0.01701777700976262,
          -1.7074610983020595,
          -1.986927656815517,
          -1.1922110015564524,
          -0.5289785497095464,
          0.01680000042455843,
          -0.5837674106225055,
          -0.4871165230268496,
          -0.4014215872776401,
          0.2085731372016796,
          -0.12780879304509013,
          -0.3495255202499878,
          -0.4941769165686941,
          -0.39661867736678547,
          -0.38111518818973755,
          0.4645588365578656,
          -0.6501920276514084,
          -0.1738867804627645,
          -0.7370725898005802,
          0.44065890061618307,
          0.40199017395439596,
          0.6822320891666506,
          -1.0573519166387042,
          -0.06137487892316644,
          0.38170228423852337,
          0.21700616745257056,
          0.1449485329915072,
          -0.5553712189724804,
          0.8272280563703455,
          -1.0743848368044255,
          0.7104998921867854,
          -0.8218771784084514,
          0.434615961626369,
          1.156337788721006,
          -0.06593257759944639,
          0.043166423794045145,
          -1.1105345941936113,
          0.46687735229821237,
          -0.7385150046263226,
          -1.4786736135599818,
          1.1353388872144567,
          -0.13804718547003814,
          -0.15085226213919517,
          2.0103030052593036,
          -0.8861673395197391,
          0.369075423768828,
          0.621665384466069,
          0.13652870069573342,
          -1.4120431805131202,
          -0.0920764508822153,
          0.46260254889670127,
          0.22998224781090865,
          -3.4136647243792915,
          -0.6749090527451456,
          1.1486066977984637,
          0.2140483875336955,
          0.7817456798306535,
          -0.5811849698058041,
          -0.41280012512979136,
          -0.42266356181884757,
          -0.39396835572244737,
          -1.323045945410225,
          1.470867827972942,
          -0.20919148148767397,
          -0.9715729101680947,
          -0.039975048729562014,
          -0.23501017151791628,
          1.2913427255576981,
          0.2784273540941354,
          -0.5032400855247581,
          2.390414309104297,
          1.0777999460240182,
          2.4468066095748067,
          0.1925307180321371,
          0.8752229524577904,
          0.18515108533003463,
          -1.0288114749536927,
          -0.3161675038371752,
          -1.969130484252486,
          0.4105749890189144,
          1.8963874037587554,
          -1.0628751535799188,
          0.179513787835816,
          -1.1586864022523369,
          1.281450933600982,
          -0.868531842418097,
          0.5185875432864853,
          -1.2834058964357886,
          -0.05858961011572423,
          0.41515782596194695,
          -0.07699647435151223,
          -0.623214868362486
         ]
        },
        {
         "boxpoints": false,
         "line": {
          "width": 1.3
         },
         "marker": {
          "color": "rgba(128, 0, 128, 1.0)"
         },
         "name": "D",
         "orientation": "v",
         "type": "box",
         "y": [
          1.3201714568640348,
          0.8202669209189778,
          1.719151406541747,
          -1.2816376583613855,
          0.0831696363499211,
          0.6965366706057647,
          0.7935434244360957,
          -1.5622076183399023,
          -1.1796383832058777,
          1.6259450325083684,
          0.6490038637209604,
          0.048559327499800305,
          -0.9756752702190868,
          0.22351898637032006,
          0.21016851899244585,
          -0.1197094817674166,
          -0.7647835911925246,
          -1.6047579516933612,
          -0.7334694992514847,
          0.6962633130589095,
          -0.25738969061028455,
          0.5103413390193426,
          0.0031294517149671073,
          -0.11315603035653207,
          1.6101379403522884,
          -2.269959304915933,
          0.022594996453459457,
          1.0728758569526557,
          1.3683021274212308,
          0.8703140951807572,
          -1.89470981138138,
          -0.5875261922033744,
          -0.5797975626155121,
          -0.0518635076673208,
          1.4979498971398615,
          1.7553151946287406,
          0.543158041626994,
          -0.48111517813320376,
          1.462121838919327,
          -1.8928949164493165,
          0.8090004981305021,
          -0.5215255315362002,
          0.18508719447823002,
          0.7101244733780137,
          1.726453377077064,
          -0.030234066855630664,
          -0.6962107936911083,
          -0.6994994721452497,
          0.5282366821839588,
          1.1007476290378306,
          1.267079103387773,
          0.3456039247550511,
          -0.09217827397355612,
          -0.8804725228566794,
          -0.16722466082385853,
          -0.07994646029779469,
          0.05032870332012152,
          -1.0215178252859396,
          2.035751536649158,
          1.6095218128030624,
          -0.600345399297852,
          0.8039288968289282,
          -0.45561788304988565,
          -0.9707345674572707,
          1.5923413921458351,
          1.8318923987271796,
          -0.670126175132533,
          1.9242436712222672,
          0.4228120518043545,
          0.3974302445268368,
          0.8701900618201787,
          0.6675888402352415,
          -1.682852784395849,
          1.093724252130086,
          0.017097049355703428,
          0.35205905467001797,
          1.049157583084074,
          -1.7305791860346444,
          0.004692999260058379,
          0.5405958431147707,
          -0.4461736936294021,
          0.8825228776535895,
          0.030729494441852752,
          -0.3631565706132641,
          -0.1304528386430972,
          -1.3531048702277668,
          -0.724933648794998,
          0.3395751300210109,
          0.6883617240069344,
          -1.1796970103051465,
          -0.26005641368133126,
          -0.7072500700048227,
          -0.30407011152351004,
          -0.10921775006797968,
          0.18917774879848756,
          0.7349428949829958,
          -1.7326017742871818,
          0.2629551104312385,
          0.6088961688288745,
          2.184322882590267
         ]
        }
       ],
       "layout": {
        "legend": {
         "bgcolor": "#F5F6F9",
         "font": {
          "color": "#4D5663"
         }
        },
        "paper_bgcolor": "#F5F6F9",
        "plot_bgcolor": "#F5F6F9",
        "template": {
         "data": {
          "bar": [
           {
            "error_x": {
             "color": "#2a3f5f"
            },
            "error_y": {
             "color": "#2a3f5f"
            },
            "marker": {
             "line": {
              "color": "#E5ECF6",
              "width": 0.5
             }
            },
            "type": "bar"
           }
          ],
          "barpolar": [
           {
            "marker": {
             "line": {
              "color": "#E5ECF6",
              "width": 0.5
             }
            },
            "type": "barpolar"
           }
          ],
          "carpet": [
           {
            "aaxis": {
             "endlinecolor": "#2a3f5f",
             "gridcolor": "white",
             "linecolor": "white",
             "minorgridcolor": "white",
             "startlinecolor": "#2a3f5f"
            },
            "baxis": {
             "endlinecolor": "#2a3f5f",
             "gridcolor": "white",
             "linecolor": "white",
             "minorgridcolor": "white",
             "startlinecolor": "#2a3f5f"
            },
            "type": "carpet"
           }
          ],
          "choropleth": [
           {
            "colorbar": {
             "outlinewidth": 0,
             "ticks": ""
            },
            "type": "choropleth"
           }
          ],
          "contour": [
           {
            "colorbar": {
             "outlinewidth": 0,
             "ticks": ""
            },
            "colorscale": [
             [
              0,
              "#0d0887"
             ],
             [
              0.1111111111111111,
              "#46039f"
             ],
             [
              0.2222222222222222,
              "#7201a8"
             ],
             [
              0.3333333333333333,
              "#9c179e"
             ],
             [
              0.4444444444444444,
              "#bd3786"
             ],
             [
              0.5555555555555556,
              "#d8576b"
             ],
             [
              0.6666666666666666,
              "#ed7953"
             ],
             [
              0.7777777777777778,
              "#fb9f3a"
             ],
             [
              0.8888888888888888,
              "#fdca26"
             ],
             [
              1,
              "#f0f921"
             ]
            ],
            "type": "contour"
           }
          ],
          "contourcarpet": [
           {
            "colorbar": {
             "outlinewidth": 0,
             "ticks": ""
            },
            "type": "contourcarpet"
           }
          ],
          "heatmap": [
           {
            "colorbar": {
             "outlinewidth": 0,
             "ticks": ""
            },
            "colorscale": [
             [
              0,
              "#0d0887"
             ],
             [
              0.1111111111111111,
              "#46039f"
             ],
             [
              0.2222222222222222,
              "#7201a8"
             ],
             [
              0.3333333333333333,
              "#9c179e"
             ],
             [
              0.4444444444444444,
              "#bd3786"
             ],
             [
              0.5555555555555556,
              "#d8576b"
             ],
             [
              0.6666666666666666,
              "#ed7953"
             ],
             [
              0.7777777777777778,
              "#fb9f3a"
             ],
             [
              0.8888888888888888,
              "#fdca26"
             ],
             [
              1,
              "#f0f921"
             ]
            ],
            "type": "heatmap"
           }
          ],
          "heatmapgl": [
           {
            "colorbar": {
             "outlinewidth": 0,
             "ticks": ""
            },
            "colorscale": [
             [
              0,
              "#0d0887"
             ],
             [
              0.1111111111111111,
              "#46039f"
             ],
             [
              0.2222222222222222,
              "#7201a8"
             ],
             [
              0.3333333333333333,
              "#9c179e"
             ],
             [
              0.4444444444444444,
              "#bd3786"
             ],
             [
              0.5555555555555556,
              "#d8576b"
             ],
             [
              0.6666666666666666,
              "#ed7953"
             ],
             [
              0.7777777777777778,
              "#fb9f3a"
             ],
             [
              0.8888888888888888,
              "#fdca26"
             ],
             [
              1,
              "#f0f921"
             ]
            ],
            "type": "heatmapgl"
           }
          ],
          "histogram": [
           {
            "marker": {
             "colorbar": {
              "outlinewidth": 0,
              "ticks": ""
             }
            },
            "type": "histogram"
           }
          ],
          "histogram2d": [
           {
            "colorbar": {
             "outlinewidth": 0,
             "ticks": ""
            },
            "colorscale": [
             [
              0,
              "#0d0887"
             ],
             [
              0.1111111111111111,
              "#46039f"
             ],
             [
              0.2222222222222222,
              "#7201a8"
             ],
             [
              0.3333333333333333,
              "#9c179e"
             ],
             [
              0.4444444444444444,
              "#bd3786"
             ],
             [
              0.5555555555555556,
              "#d8576b"
             ],
             [
              0.6666666666666666,
              "#ed7953"
             ],
             [
              0.7777777777777778,
              "#fb9f3a"
             ],
             [
              0.8888888888888888,
              "#fdca26"
             ],
             [
              1,
              "#f0f921"
             ]
            ],
            "type": "histogram2d"
           }
          ],
          "histogram2dcontour": [
           {
            "colorbar": {
             "outlinewidth": 0,
             "ticks": ""
            },
            "colorscale": [
             [
              0,
              "#0d0887"
             ],
             [
              0.1111111111111111,
              "#46039f"
             ],
             [
              0.2222222222222222,
              "#7201a8"
             ],
             [
              0.3333333333333333,
              "#9c179e"
             ],
             [
              0.4444444444444444,
              "#bd3786"
             ],
             [
              0.5555555555555556,
              "#d8576b"
             ],
             [
              0.6666666666666666,
              "#ed7953"
             ],
             [
              0.7777777777777778,
              "#fb9f3a"
             ],
             [
              0.8888888888888888,
              "#fdca26"
             ],
             [
              1,
              "#f0f921"
             ]
            ],
            "type": "histogram2dcontour"
           }
          ],
          "mesh3d": [
           {
            "colorbar": {
             "outlinewidth": 0,
             "ticks": ""
            },
            "type": "mesh3d"
           }
          ],
          "parcoords": [
           {
            "line": {
             "colorbar": {
              "outlinewidth": 0,
              "ticks": ""
             }
            },
            "type": "parcoords"
           }
          ],
          "pie": [
           {
            "automargin": true,
            "type": "pie"
           }
          ],
          "scatter": [
           {
            "marker": {
             "colorbar": {
              "outlinewidth": 0,
              "ticks": ""
             }
            },
            "type": "scatter"
           }
          ],
          "scatter3d": [
           {
            "line": {
             "colorbar": {
              "outlinewidth": 0,
              "ticks": ""
             }
            },
            "marker": {
             "colorbar": {
              "outlinewidth": 0,
              "ticks": ""
             }
            },
            "type": "scatter3d"
           }
          ],
          "scattercarpet": [
           {
            "marker": {
             "colorbar": {
              "outlinewidth": 0,
              "ticks": ""
             }
            },
            "type": "scattercarpet"
           }
          ],
          "scattergeo": [
           {
            "marker": {
             "colorbar": {
              "outlinewidth": 0,
              "ticks": ""
             }
            },
            "type": "scattergeo"
           }
          ],
          "scattergl": [
           {
            "marker": {
             "colorbar": {
              "outlinewidth": 0,
              "ticks": ""
             }
            },
            "type": "scattergl"
           }
          ],
          "scattermapbox": [
           {
            "marker": {
             "colorbar": {
              "outlinewidth": 0,
              "ticks": ""
             }
            },
            "type": "scattermapbox"
           }
          ],
          "scatterpolar": [
           {
            "marker": {
             "colorbar": {
              "outlinewidth": 0,
              "ticks": ""
             }
            },
            "type": "scatterpolar"
           }
          ],
          "scatterpolargl": [
           {
            "marker": {
             "colorbar": {
              "outlinewidth": 0,
              "ticks": ""
             }
            },
            "type": "scatterpolargl"
           }
          ],
          "scatterternary": [
           {
            "marker": {
             "colorbar": {
              "outlinewidth": 0,
              "ticks": ""
             }
            },
            "type": "scatterternary"
           }
          ],
          "surface": [
           {
            "colorbar": {
             "outlinewidth": 0,
             "ticks": ""
            },
            "colorscale": [
             [
              0,
              "#0d0887"
             ],
             [
              0.1111111111111111,
              "#46039f"
             ],
             [
              0.2222222222222222,
              "#7201a8"
             ],
             [
              0.3333333333333333,
              "#9c179e"
             ],
             [
              0.4444444444444444,
              "#bd3786"
             ],
             [
              0.5555555555555556,
              "#d8576b"
             ],
             [
              0.6666666666666666,
              "#ed7953"
             ],
             [
              0.7777777777777778,
              "#fb9f3a"
             ],
             [
              0.8888888888888888,
              "#fdca26"
             ],
             [
              1,
              "#f0f921"
             ]
            ],
            "type": "surface"
           }
          ],
          "table": [
           {
            "cells": {
             "fill": {
              "color": "#EBF0F8"
             },
             "line": {
              "color": "white"
             }
            },
            "header": {
             "fill": {
              "color": "#C8D4E3"
             },
             "line": {
              "color": "white"
             }
            },
            "type": "table"
           }
          ]
         },
         "layout": {
          "annotationdefaults": {
           "arrowcolor": "#2a3f5f",
           "arrowhead": 0,
           "arrowwidth": 1
          },
          "autotypenumbers": "strict",
          "coloraxis": {
           "colorbar": {
            "outlinewidth": 0,
            "ticks": ""
           }
          },
          "colorscale": {
           "diverging": [
            [
             0,
             "#8e0152"
            ],
            [
             0.1,
             "#c51b7d"
            ],
            [
             0.2,
             "#de77ae"
            ],
            [
             0.3,
             "#f1b6da"
            ],
            [
             0.4,
             "#fde0ef"
            ],
            [
             0.5,
             "#f7f7f7"
            ],
            [
             0.6,
             "#e6f5d0"
            ],
            [
             0.7,
             "#b8e186"
            ],
            [
             0.8,
             "#7fbc41"
            ],
            [
             0.9,
             "#4d9221"
            ],
            [
             1,
             "#276419"
            ]
           ],
           "sequential": [
            [
             0,
             "#0d0887"
            ],
            [
             0.1111111111111111,
             "#46039f"
            ],
            [
             0.2222222222222222,
             "#7201a8"
            ],
            [
             0.3333333333333333,
             "#9c179e"
            ],
            [
             0.4444444444444444,
             "#bd3786"
            ],
            [
             0.5555555555555556,
             "#d8576b"
            ],
            [
             0.6666666666666666,
             "#ed7953"
            ],
            [
             0.7777777777777778,
             "#fb9f3a"
            ],
            [
             0.8888888888888888,
             "#fdca26"
            ],
            [
             1,
             "#f0f921"
            ]
           ],
           "sequentialminus": [
            [
             0,
             "#0d0887"
            ],
            [
             0.1111111111111111,
             "#46039f"
            ],
            [
             0.2222222222222222,
             "#7201a8"
            ],
            [
             0.3333333333333333,
             "#9c179e"
            ],
            [
             0.4444444444444444,
             "#bd3786"
            ],
            [
             0.5555555555555556,
             "#d8576b"
            ],
            [
             0.6666666666666666,
             "#ed7953"
            ],
            [
             0.7777777777777778,
             "#fb9f3a"
            ],
            [
             0.8888888888888888,
             "#fdca26"
            ],
            [
             1,
             "#f0f921"
            ]
           ]
          },
          "colorway": [
           "#636efa",
           "#EF553B",
           "#00cc96",
           "#ab63fa",
           "#FFA15A",
           "#19d3f3",
           "#FF6692",
           "#B6E880",
           "#FF97FF",
           "#FECB52"
          ],
          "font": {
           "color": "#2a3f5f"
          },
          "geo": {
           "bgcolor": "white",
           "lakecolor": "white",
           "landcolor": "#E5ECF6",
           "showlakes": true,
           "showland": true,
           "subunitcolor": "white"
          },
          "hoverlabel": {
           "align": "left"
          },
          "hovermode": "closest",
          "mapbox": {
           "style": "light"
          },
          "paper_bgcolor": "white",
          "plot_bgcolor": "#E5ECF6",
          "polar": {
           "angularaxis": {
            "gridcolor": "white",
            "linecolor": "white",
            "ticks": ""
           },
           "bgcolor": "#E5ECF6",
           "radialaxis": {
            "gridcolor": "white",
            "linecolor": "white",
            "ticks": ""
           }
          },
          "scene": {
           "xaxis": {
            "backgroundcolor": "#E5ECF6",
            "gridcolor": "white",
            "gridwidth": 2,
            "linecolor": "white",
            "showbackground": true,
            "ticks": "",
            "zerolinecolor": "white"
           },
           "yaxis": {
            "backgroundcolor": "#E5ECF6",
            "gridcolor": "white",
            "gridwidth": 2,
            "linecolor": "white",
            "showbackground": true,
            "ticks": "",
            "zerolinecolor": "white"
           },
           "zaxis": {
            "backgroundcolor": "#E5ECF6",
            "gridcolor": "white",
            "gridwidth": 2,
            "linecolor": "white",
            "showbackground": true,
            "ticks": "",
            "zerolinecolor": "white"
           }
          },
          "shapedefaults": {
           "line": {
            "color": "#2a3f5f"
           }
          },
          "ternary": {
           "aaxis": {
            "gridcolor": "white",
            "linecolor": "white",
            "ticks": ""
           },
           "baxis": {
            "gridcolor": "white",
            "linecolor": "white",
            "ticks": ""
           },
           "bgcolor": "#E5ECF6",
           "caxis": {
            "gridcolor": "white",
            "linecolor": "white",
            "ticks": ""
           }
          },
          "title": {
           "x": 0.05
          },
          "xaxis": {
           "automargin": true,
           "gridcolor": "white",
           "linecolor": "white",
           "ticks": "",
           "title": {
            "standoff": 15
           },
           "zerolinecolor": "white",
           "zerolinewidth": 2
          },
          "yaxis": {
           "automargin": true,
           "gridcolor": "white",
           "linecolor": "white",
           "ticks": "",
           "title": {
            "standoff": 15
           },
           "zerolinecolor": "white",
           "zerolinewidth": 2
          }
         }
        },
        "title": {
         "font": {
          "color": "#4D5663"
         }
        },
        "xaxis": {
         "gridcolor": "#E1E5ED",
         "showgrid": true,
         "tickfont": {
          "color": "#4D5663"
         },
         "title": {
          "font": {
           "color": "#4D5663"
          },
          "text": ""
         },
         "zerolinecolor": "#E1E5ED"
        },
        "yaxis": {
         "gridcolor": "#E1E5ED",
         "showgrid": true,
         "tickfont": {
          "color": "#4D5663"
         },
         "title": {
          "font": {
           "color": "#4D5663"
          },
          "text": ""
         },
         "zerolinecolor": "#E1E5ED"
        }
       }
      },
      "text/html": [
       "<div>                            <div id=\"ae6ca55f-bdf2-4fae-ad68-62e21e2d37d7\" class=\"plotly-graph-div\" style=\"height:525px; width:100%;\"></div>            <script type=\"text/javascript\">                require([\"plotly\"], function(Plotly) {                    window.PLOTLYENV=window.PLOTLYENV || {};\n",
       "                    window.PLOTLYENV.BASE_URL='https://plot.ly';                                    if (document.getElementById(\"ae6ca55f-bdf2-4fae-ad68-62e21e2d37d7\")) {                    Plotly.newPlot(                        \"ae6ca55f-bdf2-4fae-ad68-62e21e2d37d7\",                        [{\"boxpoints\": false, \"line\": {\"width\": 1.3}, \"marker\": {\"color\": \"rgba(255, 153, 51, 1.0)\"}, \"name\": \"A\", \"orientation\": \"v\", \"type\": \"box\", \"y\": [-0.4388542745687468, 0.38408546159996987, -0.7413763683855321, -2.0288498139440914, 0.8624022381361729, -0.7390775027313098, -0.112055115702541, 0.9806345007382388, -1.0309612695870745, -0.42208014577143504, -0.6589458881544358, 1.6189909942527092, 0.6280941855399383, 0.5824415788359514, 1.407947397974564, -0.6055181775783632, 0.26145880753689704, -1.6728439093333693, 1.6860521621788684, 1.009329541212465, -1.8503028350686974, -0.20999184471500965, -2.2932587368033177, -1.052360060273866, 0.7434586671733655, 0.24587075068617625, -1.1941403964622943, -0.4868426790349285, 0.8398227332351278, 0.7617615697209622, 0.14507569288658226, 0.5443829206564472, 0.937364315832808, 1.2470954452432272, -0.5534980066811476, 1.5123201135236342, 0.8987462567974541, 0.5791080389203644, -0.2169166729652307, 1.1859624278722207, -1.0513105071512439, -0.5537498496696196, -1.1876608548600875, 0.28581503368341776, -0.8373909670462102, -0.49908970926011703, -1.0529342880820247, -0.9248567740307652, 1.764463447885169, 0.5901326366414836, -1.142075713218274, -0.8946017497616889, 0.0144652299158461, 0.1279379505634851, -1.0120014602064225, 0.0363380032435725, 0.21366402851299293, -0.18459741491488368, 0.550611238075139, -1.1964210420445283, 0.27844714124707004, -0.601675012386725, 0.09034648034734893, -1.019728088992673, -1.1810422893142594, -1.0302218578695155, -0.02807953192685473, 2.1234225090964385, -1.7218913699279377, -1.107127947693045, 0.07029646761054668, -0.44745598771982803, 1.148766935793685, 0.016377942985925025, -0.638644767078107, -0.6605524605312318, -0.12626451146059678, 0.23314954919639108, 0.13663921181967784, -1.0216268345305923, 0.2665031884388046, 0.35416299293513925, -0.053121967639487025, 0.7862011170376131, -0.47712670671197815, 0.7931940780649613, -0.32398602740064425, -0.7796188551276063, -1.0774772125396894, 0.8366000799612457, -0.7252752826298803, 0.47420209435821925, 0.16479101958522108, 0.7805292644873063, -0.1922784699312706, 0.01984409354644912, -0.5905422812265733, 0.2857750483391747, -0.8738282207287031, 1.2715167674609458]}, {\"boxpoints\": false, \"line\": {\"width\": 1.3}, \"marker\": {\"color\": \"rgba(55, 128, 191, 1.0)\"}, \"name\": \"B\", \"orientation\": \"v\", \"type\": \"box\", \"y\": [-1.3627216013659846, 0.2746479273419688, 0.7009464451380578, -1.3811013400556857, -1.7428511959512216, -0.8905026557041102, -0.551282879317178, 0.22107331559969615, -1.5843865530614263, -1.9578013663048495, 1.6767888897250252, 0.5704931064566529, -0.6314149241481537, 0.2757322702947673, 0.7876966927085246, -0.8981643739025043, 0.2948816739619415, 0.1826302665386844, -0.9359073662486931, -1.457757479610927, -0.30185223399542666, 0.9177284159277574, -0.5013513777674213, 2.9904562197653792, 1.2102048203993276, 0.3463027009884661, -0.14875933083792445, -0.7241462815090236, -0.25408636699024595, -0.1011944206256832, -0.9111289589894425, 0.09146337137093262, 1.6008067662713046, 1.2746041957302874, 0.9851969510533377, -0.8543754688768727, 1.6107325176724772, -1.4755417524303547, 0.2324101126295466, -1.1624830197173044, -1.3561431982536194, 0.5618943121972119, 0.3401447906679545, -1.6615229986560336, -0.2078537594217146, 0.727184088179305, -0.311201502392996, -0.5015752565114187, -1.1721312285095038, -1.5649694918407073, -1.0939670201572929, 0.3619889697652782, 3.367931842022976, -0.2521367382602952, -0.314242196876435, 0.28725557906216953, -2.3182561631414584, -0.5554086695260209, -0.42168125402643714, 1.689241224802193, 0.07370559648891448, -0.6359492421783562, 0.40914626446901686, 0.06893059954535942, 1.0029731029083802, 1.4683660981628652, 0.5641680851054268, -0.23720583119416894, -1.3720094046379412, -0.06317150115552012, -0.4646886627983753, -0.4653757228572715, 0.26066881226261535, 0.6871616119462791, -0.4920968386727682, -0.7887370928876344, -2.001483326801323, 1.679334471231441, 1.7345100201822912, -0.9727078661032714, 0.2919188486713192, 0.4653106873555381, 0.3891081605002875, 1.1844211163842735, -0.3689456505251842, 0.5046777558050485, 0.5212098489901662, -0.2810122685636921, -0.14805919194277323, 0.25379447016412093, -0.3485665898351345, 0.8050525463698355, -0.17894394437635838, -0.51770392029611, 2.074133165916208, 1.6404422314144023, 0.4178381849479696, -0.11527328671374554, 0.0746127850615184, -0.7620958143342098]}, {\"boxpoints\": false, \"line\": {\"width\": 1.3}, \"marker\": {\"color\": \"rgba(50, 171, 96, 1.0)\"}, \"name\": \"C\", \"orientation\": \"v\", \"type\": \"box\", \"y\": [1.0529477368352136, 0.2930617432357008, 1.1119203484653744, 1.6489383973038985, -0.44315194894339144, 0.33971969885165815, -1.2679410723898759, 0.878602412594766, -0.01701777700976262, -1.7074610983020595, -1.986927656815517, -1.1922110015564524, -0.5289785497095464, 0.01680000042455843, -0.5837674106225055, -0.4871165230268496, -0.4014215872776401, 0.2085731372016796, -0.12780879304509013, -0.3495255202499878, -0.4941769165686941, -0.39661867736678547, -0.38111518818973755, 0.4645588365578656, -0.6501920276514084, -0.1738867804627645, -0.7370725898005802, 0.44065890061618307, 0.40199017395439596, 0.6822320891666506, -1.0573519166387042, -0.06137487892316644, 0.38170228423852337, 0.21700616745257056, 0.1449485329915072, -0.5553712189724804, 0.8272280563703455, -1.0743848368044255, 0.7104998921867854, -0.8218771784084514, 0.434615961626369, 1.156337788721006, -0.06593257759944639, 0.043166423794045145, -1.1105345941936113, 0.46687735229821237, -0.7385150046263226, -1.4786736135599818, 1.1353388872144567, -0.13804718547003814, -0.15085226213919517, 2.0103030052593036, -0.8861673395197391, 0.369075423768828, 0.621665384466069, 0.13652870069573342, -1.4120431805131202, -0.0920764508822153, 0.46260254889670127, 0.22998224781090865, -3.4136647243792915, -0.6749090527451456, 1.1486066977984637, 0.2140483875336955, 0.7817456798306535, -0.5811849698058041, -0.41280012512979136, -0.42266356181884757, -0.39396835572244737, -1.323045945410225, 1.470867827972942, -0.20919148148767397, -0.9715729101680947, -0.039975048729562014, -0.23501017151791628, 1.2913427255576981, 0.2784273540941354, -0.5032400855247581, 2.390414309104297, 1.0777999460240182, 2.4468066095748067, 0.1925307180321371, 0.8752229524577904, 0.18515108533003463, -1.0288114749536927, -0.3161675038371752, -1.969130484252486, 0.4105749890189144, 1.8963874037587554, -1.0628751535799188, 0.179513787835816, -1.1586864022523369, 1.281450933600982, -0.868531842418097, 0.5185875432864853, -1.2834058964357886, -0.05858961011572423, 0.41515782596194695, -0.07699647435151223, -0.623214868362486]}, {\"boxpoints\": false, \"line\": {\"width\": 1.3}, \"marker\": {\"color\": \"rgba(128, 0, 128, 1.0)\"}, \"name\": \"D\", \"orientation\": \"v\", \"type\": \"box\", \"y\": [1.3201714568640348, 0.8202669209189778, 1.719151406541747, -1.2816376583613855, 0.0831696363499211, 0.6965366706057647, 0.7935434244360957, -1.5622076183399023, -1.1796383832058777, 1.6259450325083684, 0.6490038637209604, 0.048559327499800305, -0.9756752702190868, 0.22351898637032006, 0.21016851899244585, -0.1197094817674166, -0.7647835911925246, -1.6047579516933612, -0.7334694992514847, 0.6962633130589095, -0.25738969061028455, 0.5103413390193426, 0.0031294517149671073, -0.11315603035653207, 1.6101379403522884, -2.269959304915933, 0.022594996453459457, 1.0728758569526557, 1.3683021274212308, 0.8703140951807572, -1.89470981138138, -0.5875261922033744, -0.5797975626155121, -0.0518635076673208, 1.4979498971398615, 1.7553151946287406, 0.543158041626994, -0.48111517813320376, 1.462121838919327, -1.8928949164493165, 0.8090004981305021, -0.5215255315362002, 0.18508719447823002, 0.7101244733780137, 1.726453377077064, -0.030234066855630664, -0.6962107936911083, -0.6994994721452497, 0.5282366821839588, 1.1007476290378306, 1.267079103387773, 0.3456039247550511, -0.09217827397355612, -0.8804725228566794, -0.16722466082385853, -0.07994646029779469, 0.05032870332012152, -1.0215178252859396, 2.035751536649158, 1.6095218128030624, -0.600345399297852, 0.8039288968289282, -0.45561788304988565, -0.9707345674572707, 1.5923413921458351, 1.8318923987271796, -0.670126175132533, 1.9242436712222672, 0.4228120518043545, 0.3974302445268368, 0.8701900618201787, 0.6675888402352415, -1.682852784395849, 1.093724252130086, 0.017097049355703428, 0.35205905467001797, 1.049157583084074, -1.7305791860346444, 0.004692999260058379, 0.5405958431147707, -0.4461736936294021, 0.8825228776535895, 0.030729494441852752, -0.3631565706132641, -0.1304528386430972, -1.3531048702277668, -0.724933648794998, 0.3395751300210109, 0.6883617240069344, -1.1796970103051465, -0.26005641368133126, -0.7072500700048227, -0.30407011152351004, -0.10921775006797968, 0.18917774879848756, 0.7349428949829958, -1.7326017742871818, 0.2629551104312385, 0.6088961688288745, 2.184322882590267]}],                        {\"legend\": {\"bgcolor\": \"#F5F6F9\", \"font\": {\"color\": \"#4D5663\"}}, \"paper_bgcolor\": \"#F5F6F9\", \"plot_bgcolor\": \"#F5F6F9\", \"template\": {\"data\": {\"bar\": [{\"error_x\": {\"color\": \"#2a3f5f\"}, \"error_y\": {\"color\": \"#2a3f5f\"}, \"marker\": {\"line\": {\"color\": \"#E5ECF6\", \"width\": 0.5}}, \"type\": \"bar\"}], \"barpolar\": [{\"marker\": {\"line\": {\"color\": \"#E5ECF6\", \"width\": 0.5}}, \"type\": \"barpolar\"}], \"carpet\": [{\"aaxis\": {\"endlinecolor\": \"#2a3f5f\", \"gridcolor\": \"white\", \"linecolor\": \"white\", \"minorgridcolor\": \"white\", \"startlinecolor\": \"#2a3f5f\"}, \"baxis\": {\"endlinecolor\": \"#2a3f5f\", \"gridcolor\": \"white\", \"linecolor\": \"white\", \"minorgridcolor\": \"white\", \"startlinecolor\": \"#2a3f5f\"}, \"type\": \"carpet\"}], \"choropleth\": [{\"colorbar\": {\"outlinewidth\": 0, \"ticks\": \"\"}, \"type\": \"choropleth\"}], \"contour\": [{\"colorbar\": {\"outlinewidth\": 0, \"ticks\": \"\"}, \"colorscale\": [[0.0, \"#0d0887\"], [0.1111111111111111, \"#46039f\"], [0.2222222222222222, \"#7201a8\"], [0.3333333333333333, \"#9c179e\"], [0.4444444444444444, \"#bd3786\"], [0.5555555555555556, \"#d8576b\"], [0.6666666666666666, \"#ed7953\"], [0.7777777777777778, \"#fb9f3a\"], [0.8888888888888888, \"#fdca26\"], [1.0, \"#f0f921\"]], \"type\": \"contour\"}], \"contourcarpet\": [{\"colorbar\": {\"outlinewidth\": 0, \"ticks\": \"\"}, \"type\": \"contourcarpet\"}], \"heatmap\": [{\"colorbar\": {\"outlinewidth\": 0, \"ticks\": \"\"}, \"colorscale\": [[0.0, \"#0d0887\"], [0.1111111111111111, \"#46039f\"], [0.2222222222222222, \"#7201a8\"], [0.3333333333333333, \"#9c179e\"], [0.4444444444444444, \"#bd3786\"], [0.5555555555555556, \"#d8576b\"], [0.6666666666666666, \"#ed7953\"], [0.7777777777777778, \"#fb9f3a\"], [0.8888888888888888, \"#fdca26\"], [1.0, \"#f0f921\"]], \"type\": \"heatmap\"}], \"heatmapgl\": [{\"colorbar\": {\"outlinewidth\": 0, \"ticks\": \"\"}, \"colorscale\": [[0.0, \"#0d0887\"], [0.1111111111111111, \"#46039f\"], [0.2222222222222222, \"#7201a8\"], [0.3333333333333333, \"#9c179e\"], [0.4444444444444444, \"#bd3786\"], [0.5555555555555556, \"#d8576b\"], [0.6666666666666666, \"#ed7953\"], [0.7777777777777778, \"#fb9f3a\"], [0.8888888888888888, \"#fdca26\"], [1.0, \"#f0f921\"]], \"type\": \"heatmapgl\"}], \"histogram\": [{\"marker\": {\"colorbar\": {\"outlinewidth\": 0, \"ticks\": \"\"}}, \"type\": \"histogram\"}], \"histogram2d\": [{\"colorbar\": {\"outlinewidth\": 0, \"ticks\": \"\"}, \"colorscale\": [[0.0, \"#0d0887\"], [0.1111111111111111, \"#46039f\"], [0.2222222222222222, \"#7201a8\"], [0.3333333333333333, \"#9c179e\"], [0.4444444444444444, \"#bd3786\"], [0.5555555555555556, \"#d8576b\"], [0.6666666666666666, \"#ed7953\"], [0.7777777777777778, \"#fb9f3a\"], [0.8888888888888888, \"#fdca26\"], [1.0, \"#f0f921\"]], \"type\": \"histogram2d\"}], \"histogram2dcontour\": [{\"colorbar\": {\"outlinewidth\": 0, \"ticks\": \"\"}, \"colorscale\": [[0.0, \"#0d0887\"], [0.1111111111111111, \"#46039f\"], [0.2222222222222222, \"#7201a8\"], [0.3333333333333333, \"#9c179e\"], [0.4444444444444444, \"#bd3786\"], [0.5555555555555556, \"#d8576b\"], [0.6666666666666666, \"#ed7953\"], [0.7777777777777778, \"#fb9f3a\"], [0.8888888888888888, \"#fdca26\"], [1.0, \"#f0f921\"]], \"type\": \"histogram2dcontour\"}], \"mesh3d\": [{\"colorbar\": {\"outlinewidth\": 0, \"ticks\": \"\"}, \"type\": \"mesh3d\"}], \"parcoords\": [{\"line\": {\"colorbar\": {\"outlinewidth\": 0, \"ticks\": \"\"}}, \"type\": \"parcoords\"}], \"pie\": [{\"automargin\": true, \"type\": \"pie\"}], \"scatter\": [{\"marker\": {\"colorbar\": {\"outlinewidth\": 0, \"ticks\": \"\"}}, \"type\": \"scatter\"}], \"scatter3d\": [{\"line\": {\"colorbar\": {\"outlinewidth\": 0, \"ticks\": \"\"}}, \"marker\": {\"colorbar\": {\"outlinewidth\": 0, \"ticks\": \"\"}}, \"type\": \"scatter3d\"}], \"scattercarpet\": [{\"marker\": {\"colorbar\": {\"outlinewidth\": 0, \"ticks\": \"\"}}, \"type\": \"scattercarpet\"}], \"scattergeo\": [{\"marker\": {\"colorbar\": {\"outlinewidth\": 0, \"ticks\": \"\"}}, \"type\": \"scattergeo\"}], \"scattergl\": [{\"marker\": {\"colorbar\": {\"outlinewidth\": 0, \"ticks\": \"\"}}, \"type\": \"scattergl\"}], \"scattermapbox\": [{\"marker\": {\"colorbar\": {\"outlinewidth\": 0, \"ticks\": \"\"}}, \"type\": \"scattermapbox\"}], \"scatterpolar\": [{\"marker\": {\"colorbar\": {\"outlinewidth\": 0, \"ticks\": \"\"}}, \"type\": \"scatterpolar\"}], \"scatterpolargl\": [{\"marker\": {\"colorbar\": {\"outlinewidth\": 0, \"ticks\": \"\"}}, \"type\": \"scatterpolargl\"}], \"scatterternary\": [{\"marker\": {\"colorbar\": {\"outlinewidth\": 0, \"ticks\": \"\"}}, \"type\": \"scatterternary\"}], \"surface\": [{\"colorbar\": {\"outlinewidth\": 0, \"ticks\": \"\"}, \"colorscale\": [[0.0, \"#0d0887\"], [0.1111111111111111, \"#46039f\"], [0.2222222222222222, \"#7201a8\"], [0.3333333333333333, \"#9c179e\"], [0.4444444444444444, \"#bd3786\"], [0.5555555555555556, \"#d8576b\"], [0.6666666666666666, \"#ed7953\"], [0.7777777777777778, \"#fb9f3a\"], [0.8888888888888888, \"#fdca26\"], [1.0, \"#f0f921\"]], \"type\": \"surface\"}], \"table\": [{\"cells\": {\"fill\": {\"color\": \"#EBF0F8\"}, \"line\": {\"color\": \"white\"}}, \"header\": {\"fill\": {\"color\": \"#C8D4E3\"}, \"line\": {\"color\": \"white\"}}, \"type\": \"table\"}]}, \"layout\": {\"annotationdefaults\": {\"arrowcolor\": \"#2a3f5f\", \"arrowhead\": 0, \"arrowwidth\": 1}, \"autotypenumbers\": \"strict\", \"coloraxis\": {\"colorbar\": {\"outlinewidth\": 0, \"ticks\": \"\"}}, \"colorscale\": {\"diverging\": [[0, \"#8e0152\"], [0.1, \"#c51b7d\"], [0.2, \"#de77ae\"], [0.3, \"#f1b6da\"], [0.4, \"#fde0ef\"], [0.5, \"#f7f7f7\"], [0.6, \"#e6f5d0\"], [0.7, \"#b8e186\"], [0.8, \"#7fbc41\"], [0.9, \"#4d9221\"], [1, \"#276419\"]], \"sequential\": [[0.0, \"#0d0887\"], [0.1111111111111111, \"#46039f\"], [0.2222222222222222, \"#7201a8\"], [0.3333333333333333, \"#9c179e\"], [0.4444444444444444, \"#bd3786\"], [0.5555555555555556, \"#d8576b\"], [0.6666666666666666, \"#ed7953\"], [0.7777777777777778, \"#fb9f3a\"], [0.8888888888888888, \"#fdca26\"], [1.0, \"#f0f921\"]], \"sequentialminus\": [[0.0, \"#0d0887\"], [0.1111111111111111, \"#46039f\"], [0.2222222222222222, \"#7201a8\"], [0.3333333333333333, \"#9c179e\"], [0.4444444444444444, \"#bd3786\"], [0.5555555555555556, \"#d8576b\"], [0.6666666666666666, \"#ed7953\"], [0.7777777777777778, \"#fb9f3a\"], [0.8888888888888888, \"#fdca26\"], [1.0, \"#f0f921\"]]}, \"colorway\": [\"#636efa\", \"#EF553B\", \"#00cc96\", \"#ab63fa\", \"#FFA15A\", \"#19d3f3\", \"#FF6692\", \"#B6E880\", \"#FF97FF\", \"#FECB52\"], \"font\": {\"color\": \"#2a3f5f\"}, \"geo\": {\"bgcolor\": \"white\", \"lakecolor\": \"white\", \"landcolor\": \"#E5ECF6\", \"showlakes\": true, \"showland\": true, \"subunitcolor\": \"white\"}, \"hoverlabel\": {\"align\": \"left\"}, \"hovermode\": \"closest\", \"mapbox\": {\"style\": \"light\"}, \"paper_bgcolor\": \"white\", \"plot_bgcolor\": \"#E5ECF6\", \"polar\": {\"angularaxis\": {\"gridcolor\": \"white\", \"linecolor\": \"white\", \"ticks\": \"\"}, \"bgcolor\": \"#E5ECF6\", \"radialaxis\": {\"gridcolor\": \"white\", \"linecolor\": \"white\", \"ticks\": \"\"}}, \"scene\": {\"xaxis\": {\"backgroundcolor\": \"#E5ECF6\", \"gridcolor\": \"white\", \"gridwidth\": 2, \"linecolor\": \"white\", \"showbackground\": true, \"ticks\": \"\", \"zerolinecolor\": \"white\"}, \"yaxis\": {\"backgroundcolor\": \"#E5ECF6\", \"gridcolor\": \"white\", \"gridwidth\": 2, \"linecolor\": \"white\", \"showbackground\": true, \"ticks\": \"\", \"zerolinecolor\": \"white\"}, \"zaxis\": {\"backgroundcolor\": \"#E5ECF6\", \"gridcolor\": \"white\", \"gridwidth\": 2, \"linecolor\": \"white\", \"showbackground\": true, \"ticks\": \"\", \"zerolinecolor\": \"white\"}}, \"shapedefaults\": {\"line\": {\"color\": \"#2a3f5f\"}}, \"ternary\": {\"aaxis\": {\"gridcolor\": \"white\", \"linecolor\": \"white\", \"ticks\": \"\"}, \"baxis\": {\"gridcolor\": \"white\", \"linecolor\": \"white\", \"ticks\": \"\"}, \"bgcolor\": \"#E5ECF6\", \"caxis\": {\"gridcolor\": \"white\", \"linecolor\": \"white\", \"ticks\": \"\"}}, \"title\": {\"x\": 0.05}, \"xaxis\": {\"automargin\": true, \"gridcolor\": \"white\", \"linecolor\": \"white\", \"ticks\": \"\", \"title\": {\"standoff\": 15}, \"zerolinecolor\": \"white\", \"zerolinewidth\": 2}, \"yaxis\": {\"automargin\": true, \"gridcolor\": \"white\", \"linecolor\": \"white\", \"ticks\": \"\", \"title\": {\"standoff\": 15}, \"zerolinecolor\": \"white\", \"zerolinewidth\": 2}}}, \"title\": {\"font\": {\"color\": \"#4D5663\"}}, \"xaxis\": {\"gridcolor\": \"#E1E5ED\", \"showgrid\": true, \"tickfont\": {\"color\": \"#4D5663\"}, \"title\": {\"font\": {\"color\": \"#4D5663\"}, \"text\": \"\"}, \"zerolinecolor\": \"#E1E5ED\"}, \"yaxis\": {\"gridcolor\": \"#E1E5ED\", \"showgrid\": true, \"tickfont\": {\"color\": \"#4D5663\"}, \"title\": {\"font\": {\"color\": \"#4D5663\"}, \"text\": \"\"}, \"zerolinecolor\": \"#E1E5ED\"}},                        {\"showLink\": true, \"linkText\": \"Export to plot.ly\", \"plotlyServerURL\": \"https://plot.ly\", \"responsive\": true}                    ).then(function(){\n",
       "                            \n",
       "var gd = document.getElementById('ae6ca55f-bdf2-4fae-ad68-62e21e2d37d7');\n",
       "var x = new MutationObserver(function (mutations, observer) {{\n",
       "        var display = window.getComputedStyle(gd).display;\n",
       "        if (!display || display === 'none') {{\n",
       "            console.log([gd, 'removed!']);\n",
       "            Plotly.purge(gd);\n",
       "            observer.disconnect();\n",
       "        }}\n",
       "}});\n",
       "\n",
       "// Listen for the removal of the full notebook cells\n",
       "var notebookContainer = gd.closest('#notebook-container');\n",
       "if (notebookContainer) {{\n",
       "    x.observe(notebookContainer, {childList: true});\n",
       "}}\n",
       "\n",
       "// Listen for the clearing of the current output cell\n",
       "var outputEl = gd.closest('.output');\n",
       "if (outputEl) {{\n",
       "    x.observe(outputEl, {childList: true});\n",
       "}}\n",
       "\n",
       "                        })                };                });            </script>        </div>"
      ]
     },
     "metadata": {},
     "output_type": "display_data"
    }
   ],
   "source": [
    "df.iplot(kind='box')"
   ]
  },
  {
   "cell_type": "markdown",
   "metadata": {},
   "source": [
    "## 3d Surface"
   ]
  },
  {
   "cell_type": "code",
   "execution_count": 14,
   "metadata": {},
   "outputs": [
    {
     "data": {
      "application/vnd.plotly.v1+json": {
       "config": {
        "linkText": "Export to plot.ly",
        "plotlyServerURL": "https://plot.ly",
        "showLink": true
       },
       "data": [
        {
         "colorscale": [
          [
           0,
           "rgb(165,0,38)"
          ],
          [
           0.1,
           "rgb(215,48,39)"
          ],
          [
           0.2,
           "rgb(244,109,67)"
          ],
          [
           0.3,
           "rgb(253,174,97)"
          ],
          [
           0.4,
           "rgb(254,224,144)"
          ],
          [
           0.5,
           "rgb(255,255,191)"
          ],
          [
           0.6,
           "rgb(224,243,248)"
          ],
          [
           0.7,
           "rgb(171,217,233)"
          ],
          [
           0.8,
           "rgb(116,173,209)"
          ],
          [
           0.9,
           "rgb(69,117,180)"
          ],
          [
           1,
           "rgb(49,54,149)"
          ]
         ],
         "type": "surface",
         "x": [
          0,
          1,
          2,
          3,
          4
         ],
         "y": [
          "x",
          "y",
          "z"
         ],
         "z": [
          [
           1,
           2,
           3,
           4,
           5
          ],
          [
           10,
           20,
           30,
           20,
           10
          ],
          [
           5,
           4,
           3,
           2,
           1
          ]
         ]
        }
       ],
       "layout": {
        "legend": {
         "bgcolor": "#F5F6F9",
         "font": {
          "color": "#4D5663"
         }
        },
        "paper_bgcolor": "#F5F6F9",
        "plot_bgcolor": "#F5F6F9",
        "template": {
         "data": {
          "bar": [
           {
            "error_x": {
             "color": "#2a3f5f"
            },
            "error_y": {
             "color": "#2a3f5f"
            },
            "marker": {
             "line": {
              "color": "#E5ECF6",
              "width": 0.5
             }
            },
            "type": "bar"
           }
          ],
          "barpolar": [
           {
            "marker": {
             "line": {
              "color": "#E5ECF6",
              "width": 0.5
             }
            },
            "type": "barpolar"
           }
          ],
          "carpet": [
           {
            "aaxis": {
             "endlinecolor": "#2a3f5f",
             "gridcolor": "white",
             "linecolor": "white",
             "minorgridcolor": "white",
             "startlinecolor": "#2a3f5f"
            },
            "baxis": {
             "endlinecolor": "#2a3f5f",
             "gridcolor": "white",
             "linecolor": "white",
             "minorgridcolor": "white",
             "startlinecolor": "#2a3f5f"
            },
            "type": "carpet"
           }
          ],
          "choropleth": [
           {
            "colorbar": {
             "outlinewidth": 0,
             "ticks": ""
            },
            "type": "choropleth"
           }
          ],
          "contour": [
           {
            "colorbar": {
             "outlinewidth": 0,
             "ticks": ""
            },
            "colorscale": [
             [
              0,
              "#0d0887"
             ],
             [
              0.1111111111111111,
              "#46039f"
             ],
             [
              0.2222222222222222,
              "#7201a8"
             ],
             [
              0.3333333333333333,
              "#9c179e"
             ],
             [
              0.4444444444444444,
              "#bd3786"
             ],
             [
              0.5555555555555556,
              "#d8576b"
             ],
             [
              0.6666666666666666,
              "#ed7953"
             ],
             [
              0.7777777777777778,
              "#fb9f3a"
             ],
             [
              0.8888888888888888,
              "#fdca26"
             ],
             [
              1,
              "#f0f921"
             ]
            ],
            "type": "contour"
           }
          ],
          "contourcarpet": [
           {
            "colorbar": {
             "outlinewidth": 0,
             "ticks": ""
            },
            "type": "contourcarpet"
           }
          ],
          "heatmap": [
           {
            "colorbar": {
             "outlinewidth": 0,
             "ticks": ""
            },
            "colorscale": [
             [
              0,
              "#0d0887"
             ],
             [
              0.1111111111111111,
              "#46039f"
             ],
             [
              0.2222222222222222,
              "#7201a8"
             ],
             [
              0.3333333333333333,
              "#9c179e"
             ],
             [
              0.4444444444444444,
              "#bd3786"
             ],
             [
              0.5555555555555556,
              "#d8576b"
             ],
             [
              0.6666666666666666,
              "#ed7953"
             ],
             [
              0.7777777777777778,
              "#fb9f3a"
             ],
             [
              0.8888888888888888,
              "#fdca26"
             ],
             [
              1,
              "#f0f921"
             ]
            ],
            "type": "heatmap"
           }
          ],
          "heatmapgl": [
           {
            "colorbar": {
             "outlinewidth": 0,
             "ticks": ""
            },
            "colorscale": [
             [
              0,
              "#0d0887"
             ],
             [
              0.1111111111111111,
              "#46039f"
             ],
             [
              0.2222222222222222,
              "#7201a8"
             ],
             [
              0.3333333333333333,
              "#9c179e"
             ],
             [
              0.4444444444444444,
              "#bd3786"
             ],
             [
              0.5555555555555556,
              "#d8576b"
             ],
             [
              0.6666666666666666,
              "#ed7953"
             ],
             [
              0.7777777777777778,
              "#fb9f3a"
             ],
             [
              0.8888888888888888,
              "#fdca26"
             ],
             [
              1,
              "#f0f921"
             ]
            ],
            "type": "heatmapgl"
           }
          ],
          "histogram": [
           {
            "marker": {
             "colorbar": {
              "outlinewidth": 0,
              "ticks": ""
             }
            },
            "type": "histogram"
           }
          ],
          "histogram2d": [
           {
            "colorbar": {
             "outlinewidth": 0,
             "ticks": ""
            },
            "colorscale": [
             [
              0,
              "#0d0887"
             ],
             [
              0.1111111111111111,
              "#46039f"
             ],
             [
              0.2222222222222222,
              "#7201a8"
             ],
             [
              0.3333333333333333,
              "#9c179e"
             ],
             [
              0.4444444444444444,
              "#bd3786"
             ],
             [
              0.5555555555555556,
              "#d8576b"
             ],
             [
              0.6666666666666666,
              "#ed7953"
             ],
             [
              0.7777777777777778,
              "#fb9f3a"
             ],
             [
              0.8888888888888888,
              "#fdca26"
             ],
             [
              1,
              "#f0f921"
             ]
            ],
            "type": "histogram2d"
           }
          ],
          "histogram2dcontour": [
           {
            "colorbar": {
             "outlinewidth": 0,
             "ticks": ""
            },
            "colorscale": [
             [
              0,
              "#0d0887"
             ],
             [
              0.1111111111111111,
              "#46039f"
             ],
             [
              0.2222222222222222,
              "#7201a8"
             ],
             [
              0.3333333333333333,
              "#9c179e"
             ],
             [
              0.4444444444444444,
              "#bd3786"
             ],
             [
              0.5555555555555556,
              "#d8576b"
             ],
             [
              0.6666666666666666,
              "#ed7953"
             ],
             [
              0.7777777777777778,
              "#fb9f3a"
             ],
             [
              0.8888888888888888,
              "#fdca26"
             ],
             [
              1,
              "#f0f921"
             ]
            ],
            "type": "histogram2dcontour"
           }
          ],
          "mesh3d": [
           {
            "colorbar": {
             "outlinewidth": 0,
             "ticks": ""
            },
            "type": "mesh3d"
           }
          ],
          "parcoords": [
           {
            "line": {
             "colorbar": {
              "outlinewidth": 0,
              "ticks": ""
             }
            },
            "type": "parcoords"
           }
          ],
          "pie": [
           {
            "automargin": true,
            "type": "pie"
           }
          ],
          "scatter": [
           {
            "marker": {
             "colorbar": {
              "outlinewidth": 0,
              "ticks": ""
             }
            },
            "type": "scatter"
           }
          ],
          "scatter3d": [
           {
            "line": {
             "colorbar": {
              "outlinewidth": 0,
              "ticks": ""
             }
            },
            "marker": {
             "colorbar": {
              "outlinewidth": 0,
              "ticks": ""
             }
            },
            "type": "scatter3d"
           }
          ],
          "scattercarpet": [
           {
            "marker": {
             "colorbar": {
              "outlinewidth": 0,
              "ticks": ""
             }
            },
            "type": "scattercarpet"
           }
          ],
          "scattergeo": [
           {
            "marker": {
             "colorbar": {
              "outlinewidth": 0,
              "ticks": ""
             }
            },
            "type": "scattergeo"
           }
          ],
          "scattergl": [
           {
            "marker": {
             "colorbar": {
              "outlinewidth": 0,
              "ticks": ""
             }
            },
            "type": "scattergl"
           }
          ],
          "scattermapbox": [
           {
            "marker": {
             "colorbar": {
              "outlinewidth": 0,
              "ticks": ""
             }
            },
            "type": "scattermapbox"
           }
          ],
          "scatterpolar": [
           {
            "marker": {
             "colorbar": {
              "outlinewidth": 0,
              "ticks": ""
             }
            },
            "type": "scatterpolar"
           }
          ],
          "scatterpolargl": [
           {
            "marker": {
             "colorbar": {
              "outlinewidth": 0,
              "ticks": ""
             }
            },
            "type": "scatterpolargl"
           }
          ],
          "scatterternary": [
           {
            "marker": {
             "colorbar": {
              "outlinewidth": 0,
              "ticks": ""
             }
            },
            "type": "scatterternary"
           }
          ],
          "surface": [
           {
            "colorbar": {
             "outlinewidth": 0,
             "ticks": ""
            },
            "colorscale": [
             [
              0,
              "#0d0887"
             ],
             [
              0.1111111111111111,
              "#46039f"
             ],
             [
              0.2222222222222222,
              "#7201a8"
             ],
             [
              0.3333333333333333,
              "#9c179e"
             ],
             [
              0.4444444444444444,
              "#bd3786"
             ],
             [
              0.5555555555555556,
              "#d8576b"
             ],
             [
              0.6666666666666666,
              "#ed7953"
             ],
             [
              0.7777777777777778,
              "#fb9f3a"
             ],
             [
              0.8888888888888888,
              "#fdca26"
             ],
             [
              1,
              "#f0f921"
             ]
            ],
            "type": "surface"
           }
          ],
          "table": [
           {
            "cells": {
             "fill": {
              "color": "#EBF0F8"
             },
             "line": {
              "color": "white"
             }
            },
            "header": {
             "fill": {
              "color": "#C8D4E3"
             },
             "line": {
              "color": "white"
             }
            },
            "type": "table"
           }
          ]
         },
         "layout": {
          "annotationdefaults": {
           "arrowcolor": "#2a3f5f",
           "arrowhead": 0,
           "arrowwidth": 1
          },
          "autotypenumbers": "strict",
          "coloraxis": {
           "colorbar": {
            "outlinewidth": 0,
            "ticks": ""
           }
          },
          "colorscale": {
           "diverging": [
            [
             0,
             "#8e0152"
            ],
            [
             0.1,
             "#c51b7d"
            ],
            [
             0.2,
             "#de77ae"
            ],
            [
             0.3,
             "#f1b6da"
            ],
            [
             0.4,
             "#fde0ef"
            ],
            [
             0.5,
             "#f7f7f7"
            ],
            [
             0.6,
             "#e6f5d0"
            ],
            [
             0.7,
             "#b8e186"
            ],
            [
             0.8,
             "#7fbc41"
            ],
            [
             0.9,
             "#4d9221"
            ],
            [
             1,
             "#276419"
            ]
           ],
           "sequential": [
            [
             0,
             "#0d0887"
            ],
            [
             0.1111111111111111,
             "#46039f"
            ],
            [
             0.2222222222222222,
             "#7201a8"
            ],
            [
             0.3333333333333333,
             "#9c179e"
            ],
            [
             0.4444444444444444,
             "#bd3786"
            ],
            [
             0.5555555555555556,
             "#d8576b"
            ],
            [
             0.6666666666666666,
             "#ed7953"
            ],
            [
             0.7777777777777778,
             "#fb9f3a"
            ],
            [
             0.8888888888888888,
             "#fdca26"
            ],
            [
             1,
             "#f0f921"
            ]
           ],
           "sequentialminus": [
            [
             0,
             "#0d0887"
            ],
            [
             0.1111111111111111,
             "#46039f"
            ],
            [
             0.2222222222222222,
             "#7201a8"
            ],
            [
             0.3333333333333333,
             "#9c179e"
            ],
            [
             0.4444444444444444,
             "#bd3786"
            ],
            [
             0.5555555555555556,
             "#d8576b"
            ],
            [
             0.6666666666666666,
             "#ed7953"
            ],
            [
             0.7777777777777778,
             "#fb9f3a"
            ],
            [
             0.8888888888888888,
             "#fdca26"
            ],
            [
             1,
             "#f0f921"
            ]
           ]
          },
          "colorway": [
           "#636efa",
           "#EF553B",
           "#00cc96",
           "#ab63fa",
           "#FFA15A",
           "#19d3f3",
           "#FF6692",
           "#B6E880",
           "#FF97FF",
           "#FECB52"
          ],
          "font": {
           "color": "#2a3f5f"
          },
          "geo": {
           "bgcolor": "white",
           "lakecolor": "white",
           "landcolor": "#E5ECF6",
           "showlakes": true,
           "showland": true,
           "subunitcolor": "white"
          },
          "hoverlabel": {
           "align": "left"
          },
          "hovermode": "closest",
          "mapbox": {
           "style": "light"
          },
          "paper_bgcolor": "white",
          "plot_bgcolor": "#E5ECF6",
          "polar": {
           "angularaxis": {
            "gridcolor": "white",
            "linecolor": "white",
            "ticks": ""
           },
           "bgcolor": "#E5ECF6",
           "radialaxis": {
            "gridcolor": "white",
            "linecolor": "white",
            "ticks": ""
           }
          },
          "scene": {
           "xaxis": {
            "backgroundcolor": "#E5ECF6",
            "gridcolor": "white",
            "gridwidth": 2,
            "linecolor": "white",
            "showbackground": true,
            "ticks": "",
            "zerolinecolor": "white"
           },
           "yaxis": {
            "backgroundcolor": "#E5ECF6",
            "gridcolor": "white",
            "gridwidth": 2,
            "linecolor": "white",
            "showbackground": true,
            "ticks": "",
            "zerolinecolor": "white"
           },
           "zaxis": {
            "backgroundcolor": "#E5ECF6",
            "gridcolor": "white",
            "gridwidth": 2,
            "linecolor": "white",
            "showbackground": true,
            "ticks": "",
            "zerolinecolor": "white"
           }
          },
          "shapedefaults": {
           "line": {
            "color": "#2a3f5f"
           }
          },
          "ternary": {
           "aaxis": {
            "gridcolor": "white",
            "linecolor": "white",
            "ticks": ""
           },
           "baxis": {
            "gridcolor": "white",
            "linecolor": "white",
            "ticks": ""
           },
           "bgcolor": "#E5ECF6",
           "caxis": {
            "gridcolor": "white",
            "linecolor": "white",
            "ticks": ""
           }
          },
          "title": {
           "x": 0.05
          },
          "xaxis": {
           "automargin": true,
           "gridcolor": "white",
           "linecolor": "white",
           "ticks": "",
           "title": {
            "standoff": 15
           },
           "zerolinecolor": "white",
           "zerolinewidth": 2
          },
          "yaxis": {
           "automargin": true,
           "gridcolor": "white",
           "linecolor": "white",
           "ticks": "",
           "title": {
            "standoff": 15
           },
           "zerolinecolor": "white",
           "zerolinewidth": 2
          }
         }
        },
        "title": {
         "font": {
          "color": "#4D5663"
         }
        },
        "xaxis": {
         "gridcolor": "#E1E5ED",
         "showgrid": true,
         "tickfont": {
          "color": "#4D5663"
         },
         "title": {
          "font": {
           "color": "#4D5663"
          },
          "text": ""
         },
         "zerolinecolor": "#E1E5ED"
        },
        "yaxis": {
         "gridcolor": "#E1E5ED",
         "showgrid": true,
         "tickfont": {
          "color": "#4D5663"
         },
         "title": {
          "font": {
           "color": "#4D5663"
          },
          "text": ""
         },
         "zerolinecolor": "#E1E5ED"
        }
       }
      },
      "text/html": [
       "<div>                            <div id=\"45bd1c34-7373-4827-8627-b702287b9f96\" class=\"plotly-graph-div\" style=\"height:525px; width:100%;\"></div>            <script type=\"text/javascript\">                require([\"plotly\"], function(Plotly) {                    window.PLOTLYENV=window.PLOTLYENV || {};\n",
       "                    window.PLOTLYENV.BASE_URL='https://plot.ly';                                    if (document.getElementById(\"45bd1c34-7373-4827-8627-b702287b9f96\")) {                    Plotly.newPlot(                        \"45bd1c34-7373-4827-8627-b702287b9f96\",                        [{\"colorscale\": [[0.0, \"rgb(165,0,38)\"], [0.1, \"rgb(215,48,39)\"], [0.2, \"rgb(244,109,67)\"], [0.3, \"rgb(253,174,97)\"], [0.4, \"rgb(254,224,144)\"], [0.5, \"rgb(255,255,191)\"], [0.6, \"rgb(224,243,248)\"], [0.7, \"rgb(171,217,233)\"], [0.8, \"rgb(116,173,209)\"], [0.9, \"rgb(69,117,180)\"], [1.0, \"rgb(49,54,149)\"]], \"type\": \"surface\", \"x\": [0, 1, 2, 3, 4], \"y\": [\"x\", \"y\", \"z\"], \"z\": [[1, 2, 3, 4, 5], [10, 20, 30, 20, 10], [5, 4, 3, 2, 1]]}],                        {\"legend\": {\"bgcolor\": \"#F5F6F9\", \"font\": {\"color\": \"#4D5663\"}}, \"paper_bgcolor\": \"#F5F6F9\", \"plot_bgcolor\": \"#F5F6F9\", \"template\": {\"data\": {\"bar\": [{\"error_x\": {\"color\": \"#2a3f5f\"}, \"error_y\": {\"color\": \"#2a3f5f\"}, \"marker\": {\"line\": {\"color\": \"#E5ECF6\", \"width\": 0.5}}, \"type\": \"bar\"}], \"barpolar\": [{\"marker\": {\"line\": {\"color\": \"#E5ECF6\", \"width\": 0.5}}, \"type\": \"barpolar\"}], \"carpet\": [{\"aaxis\": {\"endlinecolor\": \"#2a3f5f\", \"gridcolor\": \"white\", \"linecolor\": \"white\", \"minorgridcolor\": \"white\", \"startlinecolor\": \"#2a3f5f\"}, \"baxis\": {\"endlinecolor\": \"#2a3f5f\", \"gridcolor\": \"white\", \"linecolor\": \"white\", \"minorgridcolor\": \"white\", \"startlinecolor\": \"#2a3f5f\"}, \"type\": \"carpet\"}], \"choropleth\": [{\"colorbar\": {\"outlinewidth\": 0, \"ticks\": \"\"}, \"type\": \"choropleth\"}], \"contour\": [{\"colorbar\": {\"outlinewidth\": 0, \"ticks\": \"\"}, \"colorscale\": [[0.0, \"#0d0887\"], [0.1111111111111111, \"#46039f\"], [0.2222222222222222, \"#7201a8\"], [0.3333333333333333, \"#9c179e\"], [0.4444444444444444, \"#bd3786\"], [0.5555555555555556, \"#d8576b\"], [0.6666666666666666, \"#ed7953\"], [0.7777777777777778, \"#fb9f3a\"], [0.8888888888888888, \"#fdca26\"], [1.0, \"#f0f921\"]], \"type\": \"contour\"}], \"contourcarpet\": [{\"colorbar\": {\"outlinewidth\": 0, \"ticks\": \"\"}, \"type\": \"contourcarpet\"}], \"heatmap\": [{\"colorbar\": {\"outlinewidth\": 0, \"ticks\": \"\"}, \"colorscale\": [[0.0, \"#0d0887\"], [0.1111111111111111, \"#46039f\"], [0.2222222222222222, \"#7201a8\"], [0.3333333333333333, \"#9c179e\"], [0.4444444444444444, \"#bd3786\"], [0.5555555555555556, \"#d8576b\"], [0.6666666666666666, \"#ed7953\"], [0.7777777777777778, \"#fb9f3a\"], [0.8888888888888888, \"#fdca26\"], [1.0, \"#f0f921\"]], \"type\": \"heatmap\"}], \"heatmapgl\": [{\"colorbar\": {\"outlinewidth\": 0, \"ticks\": \"\"}, \"colorscale\": [[0.0, \"#0d0887\"], [0.1111111111111111, \"#46039f\"], [0.2222222222222222, \"#7201a8\"], [0.3333333333333333, \"#9c179e\"], [0.4444444444444444, \"#bd3786\"], [0.5555555555555556, \"#d8576b\"], [0.6666666666666666, \"#ed7953\"], [0.7777777777777778, \"#fb9f3a\"], [0.8888888888888888, \"#fdca26\"], [1.0, \"#f0f921\"]], \"type\": \"heatmapgl\"}], \"histogram\": [{\"marker\": {\"colorbar\": {\"outlinewidth\": 0, \"ticks\": \"\"}}, \"type\": \"histogram\"}], \"histogram2d\": [{\"colorbar\": {\"outlinewidth\": 0, \"ticks\": \"\"}, \"colorscale\": [[0.0, \"#0d0887\"], [0.1111111111111111, \"#46039f\"], [0.2222222222222222, \"#7201a8\"], [0.3333333333333333, \"#9c179e\"], [0.4444444444444444, \"#bd3786\"], [0.5555555555555556, \"#d8576b\"], [0.6666666666666666, \"#ed7953\"], [0.7777777777777778, \"#fb9f3a\"], [0.8888888888888888, \"#fdca26\"], [1.0, \"#f0f921\"]], \"type\": \"histogram2d\"}], \"histogram2dcontour\": [{\"colorbar\": {\"outlinewidth\": 0, \"ticks\": \"\"}, \"colorscale\": [[0.0, \"#0d0887\"], [0.1111111111111111, \"#46039f\"], [0.2222222222222222, \"#7201a8\"], [0.3333333333333333, \"#9c179e\"], [0.4444444444444444, \"#bd3786\"], [0.5555555555555556, \"#d8576b\"], [0.6666666666666666, \"#ed7953\"], [0.7777777777777778, \"#fb9f3a\"], [0.8888888888888888, \"#fdca26\"], [1.0, \"#f0f921\"]], \"type\": \"histogram2dcontour\"}], \"mesh3d\": [{\"colorbar\": {\"outlinewidth\": 0, \"ticks\": \"\"}, \"type\": \"mesh3d\"}], \"parcoords\": [{\"line\": {\"colorbar\": {\"outlinewidth\": 0, \"ticks\": \"\"}}, \"type\": \"parcoords\"}], \"pie\": [{\"automargin\": true, \"type\": \"pie\"}], \"scatter\": [{\"marker\": {\"colorbar\": {\"outlinewidth\": 0, \"ticks\": \"\"}}, \"type\": \"scatter\"}], \"scatter3d\": [{\"line\": {\"colorbar\": {\"outlinewidth\": 0, \"ticks\": \"\"}}, \"marker\": {\"colorbar\": {\"outlinewidth\": 0, \"ticks\": \"\"}}, \"type\": \"scatter3d\"}], \"scattercarpet\": [{\"marker\": {\"colorbar\": {\"outlinewidth\": 0, \"ticks\": \"\"}}, \"type\": \"scattercarpet\"}], \"scattergeo\": [{\"marker\": {\"colorbar\": {\"outlinewidth\": 0, \"ticks\": \"\"}}, \"type\": \"scattergeo\"}], \"scattergl\": [{\"marker\": {\"colorbar\": {\"outlinewidth\": 0, \"ticks\": \"\"}}, \"type\": \"scattergl\"}], \"scattermapbox\": [{\"marker\": {\"colorbar\": {\"outlinewidth\": 0, \"ticks\": \"\"}}, \"type\": \"scattermapbox\"}], \"scatterpolar\": [{\"marker\": {\"colorbar\": {\"outlinewidth\": 0, \"ticks\": \"\"}}, \"type\": \"scatterpolar\"}], \"scatterpolargl\": [{\"marker\": {\"colorbar\": {\"outlinewidth\": 0, \"ticks\": \"\"}}, \"type\": \"scatterpolargl\"}], \"scatterternary\": [{\"marker\": {\"colorbar\": {\"outlinewidth\": 0, \"ticks\": \"\"}}, \"type\": \"scatterternary\"}], \"surface\": [{\"colorbar\": {\"outlinewidth\": 0, \"ticks\": \"\"}, \"colorscale\": [[0.0, \"#0d0887\"], [0.1111111111111111, \"#46039f\"], [0.2222222222222222, \"#7201a8\"], [0.3333333333333333, \"#9c179e\"], [0.4444444444444444, \"#bd3786\"], [0.5555555555555556, \"#d8576b\"], [0.6666666666666666, \"#ed7953\"], [0.7777777777777778, \"#fb9f3a\"], [0.8888888888888888, \"#fdca26\"], [1.0, \"#f0f921\"]], \"type\": \"surface\"}], \"table\": [{\"cells\": {\"fill\": {\"color\": \"#EBF0F8\"}, \"line\": {\"color\": \"white\"}}, \"header\": {\"fill\": {\"color\": \"#C8D4E3\"}, \"line\": {\"color\": \"white\"}}, \"type\": \"table\"}]}, \"layout\": {\"annotationdefaults\": {\"arrowcolor\": \"#2a3f5f\", \"arrowhead\": 0, \"arrowwidth\": 1}, \"autotypenumbers\": \"strict\", \"coloraxis\": {\"colorbar\": {\"outlinewidth\": 0, \"ticks\": \"\"}}, \"colorscale\": {\"diverging\": [[0, \"#8e0152\"], [0.1, \"#c51b7d\"], [0.2, \"#de77ae\"], [0.3, \"#f1b6da\"], [0.4, \"#fde0ef\"], [0.5, \"#f7f7f7\"], [0.6, \"#e6f5d0\"], [0.7, \"#b8e186\"], [0.8, \"#7fbc41\"], [0.9, \"#4d9221\"], [1, \"#276419\"]], \"sequential\": [[0.0, \"#0d0887\"], [0.1111111111111111, \"#46039f\"], [0.2222222222222222, \"#7201a8\"], [0.3333333333333333, \"#9c179e\"], [0.4444444444444444, \"#bd3786\"], [0.5555555555555556, \"#d8576b\"], [0.6666666666666666, \"#ed7953\"], [0.7777777777777778, \"#fb9f3a\"], [0.8888888888888888, \"#fdca26\"], [1.0, \"#f0f921\"]], \"sequentialminus\": [[0.0, \"#0d0887\"], [0.1111111111111111, \"#46039f\"], [0.2222222222222222, \"#7201a8\"], [0.3333333333333333, \"#9c179e\"], [0.4444444444444444, \"#bd3786\"], [0.5555555555555556, \"#d8576b\"], [0.6666666666666666, \"#ed7953\"], [0.7777777777777778, \"#fb9f3a\"], [0.8888888888888888, \"#fdca26\"], [1.0, \"#f0f921\"]]}, \"colorway\": [\"#636efa\", \"#EF553B\", \"#00cc96\", \"#ab63fa\", \"#FFA15A\", \"#19d3f3\", \"#FF6692\", \"#B6E880\", \"#FF97FF\", \"#FECB52\"], \"font\": {\"color\": \"#2a3f5f\"}, \"geo\": {\"bgcolor\": \"white\", \"lakecolor\": \"white\", \"landcolor\": \"#E5ECF6\", \"showlakes\": true, \"showland\": true, \"subunitcolor\": \"white\"}, \"hoverlabel\": {\"align\": \"left\"}, \"hovermode\": \"closest\", \"mapbox\": {\"style\": \"light\"}, \"paper_bgcolor\": \"white\", \"plot_bgcolor\": \"#E5ECF6\", \"polar\": {\"angularaxis\": {\"gridcolor\": \"white\", \"linecolor\": \"white\", \"ticks\": \"\"}, \"bgcolor\": \"#E5ECF6\", \"radialaxis\": {\"gridcolor\": \"white\", \"linecolor\": \"white\", \"ticks\": \"\"}}, \"scene\": {\"xaxis\": {\"backgroundcolor\": \"#E5ECF6\", \"gridcolor\": \"white\", \"gridwidth\": 2, \"linecolor\": \"white\", \"showbackground\": true, \"ticks\": \"\", \"zerolinecolor\": \"white\"}, \"yaxis\": {\"backgroundcolor\": \"#E5ECF6\", \"gridcolor\": \"white\", \"gridwidth\": 2, \"linecolor\": \"white\", \"showbackground\": true, \"ticks\": \"\", \"zerolinecolor\": \"white\"}, \"zaxis\": {\"backgroundcolor\": \"#E5ECF6\", \"gridcolor\": \"white\", \"gridwidth\": 2, \"linecolor\": \"white\", \"showbackground\": true, \"ticks\": \"\", \"zerolinecolor\": \"white\"}}, \"shapedefaults\": {\"line\": {\"color\": \"#2a3f5f\"}}, \"ternary\": {\"aaxis\": {\"gridcolor\": \"white\", \"linecolor\": \"white\", \"ticks\": \"\"}, \"baxis\": {\"gridcolor\": \"white\", \"linecolor\": \"white\", \"ticks\": \"\"}, \"bgcolor\": \"#E5ECF6\", \"caxis\": {\"gridcolor\": \"white\", \"linecolor\": \"white\", \"ticks\": \"\"}}, \"title\": {\"x\": 0.05}, \"xaxis\": {\"automargin\": true, \"gridcolor\": \"white\", \"linecolor\": \"white\", \"ticks\": \"\", \"title\": {\"standoff\": 15}, \"zerolinecolor\": \"white\", \"zerolinewidth\": 2}, \"yaxis\": {\"automargin\": true, \"gridcolor\": \"white\", \"linecolor\": \"white\", \"ticks\": \"\", \"title\": {\"standoff\": 15}, \"zerolinecolor\": \"white\", \"zerolinewidth\": 2}}}, \"title\": {\"font\": {\"color\": \"#4D5663\"}}, \"xaxis\": {\"gridcolor\": \"#E1E5ED\", \"showgrid\": true, \"tickfont\": {\"color\": \"#4D5663\"}, \"title\": {\"font\": {\"color\": \"#4D5663\"}, \"text\": \"\"}, \"zerolinecolor\": \"#E1E5ED\"}, \"yaxis\": {\"gridcolor\": \"#E1E5ED\", \"showgrid\": true, \"tickfont\": {\"color\": \"#4D5663\"}, \"title\": {\"font\": {\"color\": \"#4D5663\"}, \"text\": \"\"}, \"zerolinecolor\": \"#E1E5ED\"}},                        {\"showLink\": true, \"linkText\": \"Export to plot.ly\", \"plotlyServerURL\": \"https://plot.ly\", \"responsive\": true}                    ).then(function(){\n",
       "                            \n",
       "var gd = document.getElementById('45bd1c34-7373-4827-8627-b702287b9f96');\n",
       "var x = new MutationObserver(function (mutations, observer) {{\n",
       "        var display = window.getComputedStyle(gd).display;\n",
       "        if (!display || display === 'none') {{\n",
       "            console.log([gd, 'removed!']);\n",
       "            Plotly.purge(gd);\n",
       "            observer.disconnect();\n",
       "        }}\n",
       "}});\n",
       "\n",
       "// Listen for the removal of the full notebook cells\n",
       "var notebookContainer = gd.closest('#notebook-container');\n",
       "if (notebookContainer) {{\n",
       "    x.observe(notebookContainer, {childList: true});\n",
       "}}\n",
       "\n",
       "// Listen for the clearing of the current output cell\n",
       "var outputEl = gd.closest('.output');\n",
       "if (outputEl) {{\n",
       "    x.observe(outputEl, {childList: true});\n",
       "}}\n",
       "\n",
       "                        })                };                });            </script>        </div>"
      ]
     },
     "metadata": {},
     "output_type": "display_data"
    }
   ],
   "source": [
    "df3 = pd.DataFrame({'x':[1,2,3,4,5],'y':[10,20,30,20,10],'z':[5,4,3,2,1]})\n",
    "df3.iplot(kind='surface',colorscale='rdylbu')"
   ]
  },
  {
   "cell_type": "markdown",
   "metadata": {},
   "source": [
    "## Spread"
   ]
  },
  {
   "cell_type": "code",
   "execution_count": 15,
   "metadata": {},
   "outputs": [
    {
     "name": "stderr",
     "output_type": "stream",
     "text": [
      "C:\\Users\\vinee\\anaconda3\\lib\\site-packages\\cufflinks\\plotlytools.py:849: FutureWarning:\n",
      "\n",
      "The pandas.np module is deprecated and will be removed from pandas in a future version. Import numpy directly instead\n",
      "\n",
      "C:\\Users\\vinee\\anaconda3\\lib\\site-packages\\cufflinks\\plotlytools.py:850: FutureWarning:\n",
      "\n",
      "The pandas.np module is deprecated and will be removed from pandas in a future version. Import numpy directly instead\n",
      "\n"
     ]
    },
    {
     "data": {
      "application/vnd.plotly.v1+json": {
       "config": {
        "linkText": "Export to plot.ly",
        "plotlyServerURL": "https://plot.ly",
        "showLink": true
       },
       "data": [
        {
         "line": {
          "color": "rgba(255, 153, 51, 1.0)",
          "dash": "solid",
          "shape": "linear",
          "width": 1.3
         },
         "mode": "lines",
         "name": "A",
         "text": "",
         "type": "scatter",
         "x": [
          0,
          1,
          2,
          3,
          4,
          5,
          6,
          7,
          8,
          9,
          10,
          11,
          12,
          13,
          14,
          15,
          16,
          17,
          18,
          19,
          20,
          21,
          22,
          23,
          24,
          25,
          26,
          27,
          28,
          29,
          30,
          31,
          32,
          33,
          34,
          35,
          36,
          37,
          38,
          39,
          40,
          41,
          42,
          43,
          44,
          45,
          46,
          47,
          48,
          49,
          50,
          51,
          52,
          53,
          54,
          55,
          56,
          57,
          58,
          59,
          60,
          61,
          62,
          63,
          64,
          65,
          66,
          67,
          68,
          69,
          70,
          71,
          72,
          73,
          74,
          75,
          76,
          77,
          78,
          79,
          80,
          81,
          82,
          83,
          84,
          85,
          86,
          87,
          88,
          89,
          90,
          91,
          92,
          93,
          94,
          95,
          96,
          97,
          98,
          99
         ],
         "y": [
          -0.4388542745687468,
          0.38408546159996987,
          -0.7413763683855321,
          -2.0288498139440914,
          0.8624022381361729,
          -0.7390775027313098,
          -0.112055115702541,
          0.9806345007382388,
          -1.0309612695870745,
          -0.42208014577143504,
          -0.6589458881544358,
          1.6189909942527092,
          0.6280941855399383,
          0.5824415788359514,
          1.407947397974564,
          -0.6055181775783632,
          0.26145880753689704,
          -1.6728439093333693,
          1.6860521621788684,
          1.009329541212465,
          -1.8503028350686974,
          -0.20999184471500965,
          -2.2932587368033177,
          -1.052360060273866,
          0.7434586671733655,
          0.24587075068617625,
          -1.1941403964622943,
          -0.4868426790349285,
          0.8398227332351278,
          0.7617615697209622,
          0.14507569288658226,
          0.5443829206564472,
          0.937364315832808,
          1.2470954452432272,
          -0.5534980066811476,
          1.5123201135236342,
          0.8987462567974541,
          0.5791080389203644,
          -0.2169166729652307,
          1.1859624278722207,
          -1.0513105071512439,
          -0.5537498496696196,
          -1.1876608548600875,
          0.28581503368341776,
          -0.8373909670462102,
          -0.49908970926011703,
          -1.0529342880820247,
          -0.9248567740307652,
          1.764463447885169,
          0.5901326366414836,
          -1.142075713218274,
          -0.8946017497616889,
          0.0144652299158461,
          0.1279379505634851,
          -1.0120014602064225,
          0.0363380032435725,
          0.21366402851299293,
          -0.18459741491488368,
          0.550611238075139,
          -1.1964210420445283,
          0.27844714124707004,
          -0.601675012386725,
          0.09034648034734893,
          -1.019728088992673,
          -1.1810422893142594,
          -1.0302218578695155,
          -0.02807953192685473,
          2.1234225090964385,
          -1.7218913699279377,
          -1.107127947693045,
          0.07029646761054668,
          -0.44745598771982803,
          1.148766935793685,
          0.016377942985925025,
          -0.638644767078107,
          -0.6605524605312318,
          -0.12626451146059678,
          0.23314954919639108,
          0.13663921181967784,
          -1.0216268345305923,
          0.2665031884388046,
          0.35416299293513925,
          -0.053121967639487025,
          0.7862011170376131,
          -0.47712670671197815,
          0.7931940780649613,
          -0.32398602740064425,
          -0.7796188551276063,
          -1.0774772125396894,
          0.8366000799612457,
          -0.7252752826298803,
          0.47420209435821925,
          0.16479101958522108,
          0.7805292644873063,
          -0.1922784699312706,
          0.01984409354644912,
          -0.5905422812265733,
          0.2857750483391747,
          -0.8738282207287031,
          1.2715167674609458
         ]
        },
        {
         "line": {
          "color": "rgba(55, 128, 191, 1.0)",
          "dash": "solid",
          "shape": "linear",
          "width": 1.3
         },
         "mode": "lines",
         "name": "B",
         "text": "",
         "type": "scatter",
         "x": [
          0,
          1,
          2,
          3,
          4,
          5,
          6,
          7,
          8,
          9,
          10,
          11,
          12,
          13,
          14,
          15,
          16,
          17,
          18,
          19,
          20,
          21,
          22,
          23,
          24,
          25,
          26,
          27,
          28,
          29,
          30,
          31,
          32,
          33,
          34,
          35,
          36,
          37,
          38,
          39,
          40,
          41,
          42,
          43,
          44,
          45,
          46,
          47,
          48,
          49,
          50,
          51,
          52,
          53,
          54,
          55,
          56,
          57,
          58,
          59,
          60,
          61,
          62,
          63,
          64,
          65,
          66,
          67,
          68,
          69,
          70,
          71,
          72,
          73,
          74,
          75,
          76,
          77,
          78,
          79,
          80,
          81,
          82,
          83,
          84,
          85,
          86,
          87,
          88,
          89,
          90,
          91,
          92,
          93,
          94,
          95,
          96,
          97,
          98,
          99
         ],
         "y": [
          -1.3627216013659846,
          0.2746479273419688,
          0.7009464451380578,
          -1.3811013400556857,
          -1.7428511959512216,
          -0.8905026557041102,
          -0.551282879317178,
          0.22107331559969615,
          -1.5843865530614263,
          -1.9578013663048495,
          1.6767888897250252,
          0.5704931064566529,
          -0.6314149241481537,
          0.2757322702947673,
          0.7876966927085246,
          -0.8981643739025043,
          0.2948816739619415,
          0.1826302665386844,
          -0.9359073662486931,
          -1.457757479610927,
          -0.30185223399542666,
          0.9177284159277574,
          -0.5013513777674213,
          2.9904562197653792,
          1.2102048203993276,
          0.3463027009884661,
          -0.14875933083792445,
          -0.7241462815090236,
          -0.25408636699024595,
          -0.1011944206256832,
          -0.9111289589894425,
          0.09146337137093262,
          1.6008067662713046,
          1.2746041957302874,
          0.9851969510533377,
          -0.8543754688768727,
          1.6107325176724772,
          -1.4755417524303547,
          0.2324101126295466,
          -1.1624830197173044,
          -1.3561431982536194,
          0.5618943121972119,
          0.3401447906679545,
          -1.6615229986560336,
          -0.2078537594217146,
          0.727184088179305,
          -0.311201502392996,
          -0.5015752565114187,
          -1.1721312285095038,
          -1.5649694918407073,
          -1.0939670201572929,
          0.3619889697652782,
          3.367931842022976,
          -0.2521367382602952,
          -0.314242196876435,
          0.28725557906216953,
          -2.3182561631414584,
          -0.5554086695260209,
          -0.42168125402643714,
          1.689241224802193,
          0.07370559648891448,
          -0.6359492421783562,
          0.40914626446901686,
          0.06893059954535942,
          1.0029731029083802,
          1.4683660981628652,
          0.5641680851054268,
          -0.23720583119416894,
          -1.3720094046379412,
          -0.06317150115552012,
          -0.4646886627983753,
          -0.4653757228572715,
          0.26066881226261535,
          0.6871616119462791,
          -0.4920968386727682,
          -0.7887370928876344,
          -2.001483326801323,
          1.679334471231441,
          1.7345100201822912,
          -0.9727078661032714,
          0.2919188486713192,
          0.4653106873555381,
          0.3891081605002875,
          1.1844211163842735,
          -0.3689456505251842,
          0.5046777558050485,
          0.5212098489901662,
          -0.2810122685636921,
          -0.14805919194277323,
          0.25379447016412093,
          -0.3485665898351345,
          0.8050525463698355,
          -0.17894394437635838,
          -0.51770392029611,
          2.074133165916208,
          1.6404422314144023,
          0.4178381849479696,
          -0.11527328671374554,
          0.0746127850615184,
          -0.7620958143342098
         ]
        },
        {
         "connectgaps": false,
         "fill": "tozeroy",
         "line": {
          "color": "green",
          "dash": "solid",
          "shape": "linear",
          "width": 0.5
         },
         "mode": "lines",
         "name": "Spread",
         "showlegend": false,
         "type": "scatter",
         "x": [
          0,
          1,
          2,
          3,
          4,
          5,
          6,
          7,
          8,
          9,
          10,
          11,
          12,
          13,
          14,
          15,
          16,
          17,
          18,
          19,
          20,
          21,
          22,
          23,
          24,
          25,
          26,
          27,
          28,
          29,
          30,
          31,
          32,
          33,
          34,
          35,
          36,
          37,
          38,
          39,
          40,
          41,
          42,
          43,
          44,
          45,
          46,
          47,
          48,
          49,
          50,
          51,
          52,
          53,
          54,
          55,
          56,
          57,
          58,
          59,
          60,
          61,
          62,
          63,
          64,
          65,
          66,
          67,
          68,
          69,
          70,
          71,
          72,
          73,
          74,
          75,
          76,
          77,
          78,
          79,
          80,
          81,
          82,
          83,
          84,
          85,
          86,
          87,
          88,
          89,
          90,
          91,
          92,
          93,
          94,
          95,
          96,
          97,
          98,
          99
         ],
         "xaxis": "x2",
         "y": [
          0.9238673267972378,
          0.10943753425800107,
          "",
          "",
          2.6052534340873947,
          0.15142515297280046,
          0.439227763614637,
          0.7595611851385426,
          0.5534252834743518,
          1.5357212205334143,
          "",
          1.0484978877960565,
          1.259509109688092,
          0.30670930854118406,
          0.6202507052660394,
          0.292646196324141,
          "",
          "",
          2.6219595284275616,
          2.467087020823392,
          "",
          "",
          "",
          "",
          "",
          "",
          "",
          0.2373036024740951,
          1.0939091002253738,
          0.8629559903466454,
          1.0562046518760246,
          0.4529195492855146,
          "",
          "",
          "",
          2.366695582400507,
          "",
          2.054649791350719,
          "",
          2.3484454475895253,
          0.30483269110237554,
          "",
          "",
          1.9473380323394514,
          "",
          "",
          "",
          "",
          2.936594676394673,
          2.155102128482191,
          "",
          "",
          "",
          0.38007468882378026,
          "",
          "",
          2.5319201916544514,
          0.3708112546111372,
          0.9722924921015761,
          "",
          0.20474154475815556,
          0.034274229791631194,
          "",
          "",
          "",
          "",
          "",
          2.3606283402906074,
          "",
          "",
          0.5349851304089219,
          0.017919735137443493,
          0.8880981235310696,
          "",
          "",
          0.12818463235640254,
          1.875218815340726,
          "",
          "",
          "",
          "",
          "",
          "",
          "",
          "",
          0.28851632225991286,
          "",
          "",
          "",
          0.5828056097971248,
          "",
          "",
          0.34373496396157943,
          1.2982331847834163,
          "",
          "",
          "",
          0.40104833505292026,
          "",
          2.033612581795156
         ],
         "yaxis": "y2"
        },
        {
         "connectgaps": false,
         "fill": "tozeroy",
         "line": {
          "color": "red",
          "dash": "solid",
          "shape": "linear",
          "width": 0.5
         },
         "mode": "lines",
         "name": "Spread",
         "showlegend": false,
         "type": "scatter",
         "x": [
          0,
          1,
          2,
          3,
          4,
          5,
          6,
          7,
          8,
          9,
          10,
          11,
          12,
          13,
          14,
          15,
          16,
          17,
          18,
          19,
          20,
          21,
          22,
          23,
          24,
          25,
          26,
          27,
          28,
          29,
          30,
          31,
          32,
          33,
          34,
          35,
          36,
          37,
          38,
          39,
          40,
          41,
          42,
          43,
          44,
          45,
          46,
          47,
          48,
          49,
          50,
          51,
          52,
          53,
          54,
          55,
          56,
          57,
          58,
          59,
          60,
          61,
          62,
          63,
          64,
          65,
          66,
          67,
          68,
          69,
          70,
          71,
          72,
          73,
          74,
          75,
          76,
          77,
          78,
          79,
          80,
          81,
          82,
          83,
          84,
          85,
          86,
          87,
          88,
          89,
          90,
          91,
          92,
          93,
          94,
          95,
          96,
          97,
          98,
          99
         ],
         "xaxis": "x2",
         "y": [
          "",
          "",
          -1.44232281352359,
          -0.6477484738884056,
          "",
          "",
          "",
          "",
          "",
          "",
          -2.335734777879461,
          "",
          "",
          "",
          "",
          "",
          -0.03342286642504444,
          -1.8554741758720537,
          "",
          "",
          -1.5484506010732708,
          -1.127720260642767,
          -1.7919073590358963,
          -4.042816280039245,
          -0.46674615322596213,
          -0.10043195030228985,
          -1.0453810656243698,
          "",
          "",
          "",
          "",
          "",
          -0.6634424504384966,
          -0.02750875048706014,
          -1.5386949577344853,
          "",
          -0.711986260875023,
          "",
          -0.44932678559477734,
          "",
          "",
          -1.1156441618668316,
          -1.527805645528042,
          "",
          -0.6295372076244956,
          -1.226273797439422,
          -0.7417327856890288,
          -0.4232815175193465,
          "",
          "",
          -0.04810869306098109,
          -1.2565907195269672,
          -3.3534666121071295,
          "",
          -0.6977592633299874,
          -0.250917575818597,
          "",
          "",
          "",
          -2.8856622668467216,
          "",
          "",
          -0.31879978412166793,
          -1.0886586885380325,
          -2.1840153922226397,
          -2.498587956032381,
          -0.5922476170322816,
          "",
          -0.3498819652899965,
          -1.0439564465375248,
          "",
          "",
          "",
          -0.6707836689603541,
          -0.1465479284053388,
          "",
          "",
          -1.44618492203505,
          -1.5978708083626134,
          -0.04891896842732091,
          -0.02541566023251457,
          -0.11114769442039885,
          -0.4422301281397745,
          -0.3982199993466604,
          -0.10818105618679397,
          "",
          -0.8451958763908105,
          -0.4986065865639142,
          -0.9294180205969163,
          "",
          -0.3767086927947458,
          -0.3308504520116162,
          "",
          "",
          -2.266411635847479,
          -1.620598137867953,
          -1.0083804661745428,
          "",
          -0.9484410057902215,
          ""
         ],
         "yaxis": "y2"
        }
       ],
       "layout": {
        "hovermode": "x",
        "legend": {
         "bgcolor": "#F5F6F9",
         "font": {
          "color": "#4D5663"
         }
        },
        "paper_bgcolor": "#F5F6F9",
        "plot_bgcolor": "#F5F6F9",
        "template": {
         "data": {
          "bar": [
           {
            "error_x": {
             "color": "#2a3f5f"
            },
            "error_y": {
             "color": "#2a3f5f"
            },
            "marker": {
             "line": {
              "color": "#E5ECF6",
              "width": 0.5
             }
            },
            "type": "bar"
           }
          ],
          "barpolar": [
           {
            "marker": {
             "line": {
              "color": "#E5ECF6",
              "width": 0.5
             }
            },
            "type": "barpolar"
           }
          ],
          "carpet": [
           {
            "aaxis": {
             "endlinecolor": "#2a3f5f",
             "gridcolor": "white",
             "linecolor": "white",
             "minorgridcolor": "white",
             "startlinecolor": "#2a3f5f"
            },
            "baxis": {
             "endlinecolor": "#2a3f5f",
             "gridcolor": "white",
             "linecolor": "white",
             "minorgridcolor": "white",
             "startlinecolor": "#2a3f5f"
            },
            "type": "carpet"
           }
          ],
          "choropleth": [
           {
            "colorbar": {
             "outlinewidth": 0,
             "ticks": ""
            },
            "type": "choropleth"
           }
          ],
          "contour": [
           {
            "colorbar": {
             "outlinewidth": 0,
             "ticks": ""
            },
            "colorscale": [
             [
              0,
              "#0d0887"
             ],
             [
              0.1111111111111111,
              "#46039f"
             ],
             [
              0.2222222222222222,
              "#7201a8"
             ],
             [
              0.3333333333333333,
              "#9c179e"
             ],
             [
              0.4444444444444444,
              "#bd3786"
             ],
             [
              0.5555555555555556,
              "#d8576b"
             ],
             [
              0.6666666666666666,
              "#ed7953"
             ],
             [
              0.7777777777777778,
              "#fb9f3a"
             ],
             [
              0.8888888888888888,
              "#fdca26"
             ],
             [
              1,
              "#f0f921"
             ]
            ],
            "type": "contour"
           }
          ],
          "contourcarpet": [
           {
            "colorbar": {
             "outlinewidth": 0,
             "ticks": ""
            },
            "type": "contourcarpet"
           }
          ],
          "heatmap": [
           {
            "colorbar": {
             "outlinewidth": 0,
             "ticks": ""
            },
            "colorscale": [
             [
              0,
              "#0d0887"
             ],
             [
              0.1111111111111111,
              "#46039f"
             ],
             [
              0.2222222222222222,
              "#7201a8"
             ],
             [
              0.3333333333333333,
              "#9c179e"
             ],
             [
              0.4444444444444444,
              "#bd3786"
             ],
             [
              0.5555555555555556,
              "#d8576b"
             ],
             [
              0.6666666666666666,
              "#ed7953"
             ],
             [
              0.7777777777777778,
              "#fb9f3a"
             ],
             [
              0.8888888888888888,
              "#fdca26"
             ],
             [
              1,
              "#f0f921"
             ]
            ],
            "type": "heatmap"
           }
          ],
          "heatmapgl": [
           {
            "colorbar": {
             "outlinewidth": 0,
             "ticks": ""
            },
            "colorscale": [
             [
              0,
              "#0d0887"
             ],
             [
              0.1111111111111111,
              "#46039f"
             ],
             [
              0.2222222222222222,
              "#7201a8"
             ],
             [
              0.3333333333333333,
              "#9c179e"
             ],
             [
              0.4444444444444444,
              "#bd3786"
             ],
             [
              0.5555555555555556,
              "#d8576b"
             ],
             [
              0.6666666666666666,
              "#ed7953"
             ],
             [
              0.7777777777777778,
              "#fb9f3a"
             ],
             [
              0.8888888888888888,
              "#fdca26"
             ],
             [
              1,
              "#f0f921"
             ]
            ],
            "type": "heatmapgl"
           }
          ],
          "histogram": [
           {
            "marker": {
             "colorbar": {
              "outlinewidth": 0,
              "ticks": ""
             }
            },
            "type": "histogram"
           }
          ],
          "histogram2d": [
           {
            "colorbar": {
             "outlinewidth": 0,
             "ticks": ""
            },
            "colorscale": [
             [
              0,
              "#0d0887"
             ],
             [
              0.1111111111111111,
              "#46039f"
             ],
             [
              0.2222222222222222,
              "#7201a8"
             ],
             [
              0.3333333333333333,
              "#9c179e"
             ],
             [
              0.4444444444444444,
              "#bd3786"
             ],
             [
              0.5555555555555556,
              "#d8576b"
             ],
             [
              0.6666666666666666,
              "#ed7953"
             ],
             [
              0.7777777777777778,
              "#fb9f3a"
             ],
             [
              0.8888888888888888,
              "#fdca26"
             ],
             [
              1,
              "#f0f921"
             ]
            ],
            "type": "histogram2d"
           }
          ],
          "histogram2dcontour": [
           {
            "colorbar": {
             "outlinewidth": 0,
             "ticks": ""
            },
            "colorscale": [
             [
              0,
              "#0d0887"
             ],
             [
              0.1111111111111111,
              "#46039f"
             ],
             [
              0.2222222222222222,
              "#7201a8"
             ],
             [
              0.3333333333333333,
              "#9c179e"
             ],
             [
              0.4444444444444444,
              "#bd3786"
             ],
             [
              0.5555555555555556,
              "#d8576b"
             ],
             [
              0.6666666666666666,
              "#ed7953"
             ],
             [
              0.7777777777777778,
              "#fb9f3a"
             ],
             [
              0.8888888888888888,
              "#fdca26"
             ],
             [
              1,
              "#f0f921"
             ]
            ],
            "type": "histogram2dcontour"
           }
          ],
          "mesh3d": [
           {
            "colorbar": {
             "outlinewidth": 0,
             "ticks": ""
            },
            "type": "mesh3d"
           }
          ],
          "parcoords": [
           {
            "line": {
             "colorbar": {
              "outlinewidth": 0,
              "ticks": ""
             }
            },
            "type": "parcoords"
           }
          ],
          "pie": [
           {
            "automargin": true,
            "type": "pie"
           }
          ],
          "scatter": [
           {
            "marker": {
             "colorbar": {
              "outlinewidth": 0,
              "ticks": ""
             }
            },
            "type": "scatter"
           }
          ],
          "scatter3d": [
           {
            "line": {
             "colorbar": {
              "outlinewidth": 0,
              "ticks": ""
             }
            },
            "marker": {
             "colorbar": {
              "outlinewidth": 0,
              "ticks": ""
             }
            },
            "type": "scatter3d"
           }
          ],
          "scattercarpet": [
           {
            "marker": {
             "colorbar": {
              "outlinewidth": 0,
              "ticks": ""
             }
            },
            "type": "scattercarpet"
           }
          ],
          "scattergeo": [
           {
            "marker": {
             "colorbar": {
              "outlinewidth": 0,
              "ticks": ""
             }
            },
            "type": "scattergeo"
           }
          ],
          "scattergl": [
           {
            "marker": {
             "colorbar": {
              "outlinewidth": 0,
              "ticks": ""
             }
            },
            "type": "scattergl"
           }
          ],
          "scattermapbox": [
           {
            "marker": {
             "colorbar": {
              "outlinewidth": 0,
              "ticks": ""
             }
            },
            "type": "scattermapbox"
           }
          ],
          "scatterpolar": [
           {
            "marker": {
             "colorbar": {
              "outlinewidth": 0,
              "ticks": ""
             }
            },
            "type": "scatterpolar"
           }
          ],
          "scatterpolargl": [
           {
            "marker": {
             "colorbar": {
              "outlinewidth": 0,
              "ticks": ""
             }
            },
            "type": "scatterpolargl"
           }
          ],
          "scatterternary": [
           {
            "marker": {
             "colorbar": {
              "outlinewidth": 0,
              "ticks": ""
             }
            },
            "type": "scatterternary"
           }
          ],
          "surface": [
           {
            "colorbar": {
             "outlinewidth": 0,
             "ticks": ""
            },
            "colorscale": [
             [
              0,
              "#0d0887"
             ],
             [
              0.1111111111111111,
              "#46039f"
             ],
             [
              0.2222222222222222,
              "#7201a8"
             ],
             [
              0.3333333333333333,
              "#9c179e"
             ],
             [
              0.4444444444444444,
              "#bd3786"
             ],
             [
              0.5555555555555556,
              "#d8576b"
             ],
             [
              0.6666666666666666,
              "#ed7953"
             ],
             [
              0.7777777777777778,
              "#fb9f3a"
             ],
             [
              0.8888888888888888,
              "#fdca26"
             ],
             [
              1,
              "#f0f921"
             ]
            ],
            "type": "surface"
           }
          ],
          "table": [
           {
            "cells": {
             "fill": {
              "color": "#EBF0F8"
             },
             "line": {
              "color": "white"
             }
            },
            "header": {
             "fill": {
              "color": "#C8D4E3"
             },
             "line": {
              "color": "white"
             }
            },
            "type": "table"
           }
          ]
         },
         "layout": {
          "annotationdefaults": {
           "arrowcolor": "#2a3f5f",
           "arrowhead": 0,
           "arrowwidth": 1
          },
          "autotypenumbers": "strict",
          "coloraxis": {
           "colorbar": {
            "outlinewidth": 0,
            "ticks": ""
           }
          },
          "colorscale": {
           "diverging": [
            [
             0,
             "#8e0152"
            ],
            [
             0.1,
             "#c51b7d"
            ],
            [
             0.2,
             "#de77ae"
            ],
            [
             0.3,
             "#f1b6da"
            ],
            [
             0.4,
             "#fde0ef"
            ],
            [
             0.5,
             "#f7f7f7"
            ],
            [
             0.6,
             "#e6f5d0"
            ],
            [
             0.7,
             "#b8e186"
            ],
            [
             0.8,
             "#7fbc41"
            ],
            [
             0.9,
             "#4d9221"
            ],
            [
             1,
             "#276419"
            ]
           ],
           "sequential": [
            [
             0,
             "#0d0887"
            ],
            [
             0.1111111111111111,
             "#46039f"
            ],
            [
             0.2222222222222222,
             "#7201a8"
            ],
            [
             0.3333333333333333,
             "#9c179e"
            ],
            [
             0.4444444444444444,
             "#bd3786"
            ],
            [
             0.5555555555555556,
             "#d8576b"
            ],
            [
             0.6666666666666666,
             "#ed7953"
            ],
            [
             0.7777777777777778,
             "#fb9f3a"
            ],
            [
             0.8888888888888888,
             "#fdca26"
            ],
            [
             1,
             "#f0f921"
            ]
           ],
           "sequentialminus": [
            [
             0,
             "#0d0887"
            ],
            [
             0.1111111111111111,
             "#46039f"
            ],
            [
             0.2222222222222222,
             "#7201a8"
            ],
            [
             0.3333333333333333,
             "#9c179e"
            ],
            [
             0.4444444444444444,
             "#bd3786"
            ],
            [
             0.5555555555555556,
             "#d8576b"
            ],
            [
             0.6666666666666666,
             "#ed7953"
            ],
            [
             0.7777777777777778,
             "#fb9f3a"
            ],
            [
             0.8888888888888888,
             "#fdca26"
            ],
            [
             1,
             "#f0f921"
            ]
           ]
          },
          "colorway": [
           "#636efa",
           "#EF553B",
           "#00cc96",
           "#ab63fa",
           "#FFA15A",
           "#19d3f3",
           "#FF6692",
           "#B6E880",
           "#FF97FF",
           "#FECB52"
          ],
          "font": {
           "color": "#2a3f5f"
          },
          "geo": {
           "bgcolor": "white",
           "lakecolor": "white",
           "landcolor": "#E5ECF6",
           "showlakes": true,
           "showland": true,
           "subunitcolor": "white"
          },
          "hoverlabel": {
           "align": "left"
          },
          "hovermode": "closest",
          "mapbox": {
           "style": "light"
          },
          "paper_bgcolor": "white",
          "plot_bgcolor": "#E5ECF6",
          "polar": {
           "angularaxis": {
            "gridcolor": "white",
            "linecolor": "white",
            "ticks": ""
           },
           "bgcolor": "#E5ECF6",
           "radialaxis": {
            "gridcolor": "white",
            "linecolor": "white",
            "ticks": ""
           }
          },
          "scene": {
           "xaxis": {
            "backgroundcolor": "#E5ECF6",
            "gridcolor": "white",
            "gridwidth": 2,
            "linecolor": "white",
            "showbackground": true,
            "ticks": "",
            "zerolinecolor": "white"
           },
           "yaxis": {
            "backgroundcolor": "#E5ECF6",
            "gridcolor": "white",
            "gridwidth": 2,
            "linecolor": "white",
            "showbackground": true,
            "ticks": "",
            "zerolinecolor": "white"
           },
           "zaxis": {
            "backgroundcolor": "#E5ECF6",
            "gridcolor": "white",
            "gridwidth": 2,
            "linecolor": "white",
            "showbackground": true,
            "ticks": "",
            "zerolinecolor": "white"
           }
          },
          "shapedefaults": {
           "line": {
            "color": "#2a3f5f"
           }
          },
          "ternary": {
           "aaxis": {
            "gridcolor": "white",
            "linecolor": "white",
            "ticks": ""
           },
           "baxis": {
            "gridcolor": "white",
            "linecolor": "white",
            "ticks": ""
           },
           "bgcolor": "#E5ECF6",
           "caxis": {
            "gridcolor": "white",
            "linecolor": "white",
            "ticks": ""
           }
          },
          "title": {
           "x": 0.05
          },
          "xaxis": {
           "automargin": true,
           "gridcolor": "white",
           "linecolor": "white",
           "ticks": "",
           "title": {
            "standoff": 15
           },
           "zerolinecolor": "white",
           "zerolinewidth": 2
          },
          "yaxis": {
           "automargin": true,
           "gridcolor": "white",
           "linecolor": "white",
           "ticks": "",
           "title": {
            "standoff": 15
           },
           "zerolinecolor": "white",
           "zerolinewidth": 2
          }
         }
        },
        "title": {
         "font": {
          "color": "#4D5663"
         }
        },
        "xaxis": {
         "gridcolor": "#E1E5ED",
         "showgrid": true,
         "tickfont": {
          "color": "#4D5663"
         },
         "title": {
          "font": {
           "color": "#4D5663"
          },
          "text": ""
         },
         "zerolinecolor": "#E1E5ED"
        },
        "xaxis2": {
         "anchor": "y2",
         "gridcolor": "#E1E5ED",
         "showgrid": true,
         "showticklabels": false,
         "tickfont": {
          "color": "#4D5663"
         },
         "title": {
          "font": {
           "color": "#4D5663"
          },
          "text": ""
         },
         "zerolinecolor": "#E1E5ED"
        },
        "yaxis": {
         "domain": [
          0.3,
          1
         ],
         "gridcolor": "#E1E5ED",
         "showgrid": true,
         "tickfont": {
          "color": "#4D5663"
         },
         "title": {
          "font": {
           "color": "#4D5663"
          },
          "text": ""
         },
         "zerolinecolor": "#E1E5ED"
        },
        "yaxis2": {
         "domain": [
          0,
          0.25
         ],
         "gridcolor": "#E1E5ED",
         "showgrid": true,
         "tickfont": {
          "color": "#4D5663"
         },
         "title": {
          "font": {
           "color": "#4D5663"
          },
          "text": "Spread"
         },
         "zerolinecolor": "#E1E5ED"
        }
       }
      },
      "text/html": [
       "<div>                            <div id=\"90ddbdb4-76d5-491d-ba80-ef89fc7ab13a\" class=\"plotly-graph-div\" style=\"height:525px; width:100%;\"></div>            <script type=\"text/javascript\">                require([\"plotly\"], function(Plotly) {                    window.PLOTLYENV=window.PLOTLYENV || {};\n",
       "                    window.PLOTLYENV.BASE_URL='https://plot.ly';                                    if (document.getElementById(\"90ddbdb4-76d5-491d-ba80-ef89fc7ab13a\")) {                    Plotly.newPlot(                        \"90ddbdb4-76d5-491d-ba80-ef89fc7ab13a\",                        [{\"line\": {\"color\": \"rgba(255, 153, 51, 1.0)\", \"dash\": \"solid\", \"shape\": \"linear\", \"width\": 1.3}, \"mode\": \"lines\", \"name\": \"A\", \"text\": \"\", \"type\": \"scatter\", \"x\": [0, 1, 2, 3, 4, 5, 6, 7, 8, 9, 10, 11, 12, 13, 14, 15, 16, 17, 18, 19, 20, 21, 22, 23, 24, 25, 26, 27, 28, 29, 30, 31, 32, 33, 34, 35, 36, 37, 38, 39, 40, 41, 42, 43, 44, 45, 46, 47, 48, 49, 50, 51, 52, 53, 54, 55, 56, 57, 58, 59, 60, 61, 62, 63, 64, 65, 66, 67, 68, 69, 70, 71, 72, 73, 74, 75, 76, 77, 78, 79, 80, 81, 82, 83, 84, 85, 86, 87, 88, 89, 90, 91, 92, 93, 94, 95, 96, 97, 98, 99], \"y\": [-0.4388542745687468, 0.38408546159996987, -0.7413763683855321, -2.0288498139440914, 0.8624022381361729, -0.7390775027313098, -0.112055115702541, 0.9806345007382388, -1.0309612695870745, -0.42208014577143504, -0.6589458881544358, 1.6189909942527092, 0.6280941855399383, 0.5824415788359514, 1.407947397974564, -0.6055181775783632, 0.26145880753689704, -1.6728439093333693, 1.6860521621788684, 1.009329541212465, -1.8503028350686974, -0.20999184471500965, -2.2932587368033177, -1.052360060273866, 0.7434586671733655, 0.24587075068617625, -1.1941403964622943, -0.4868426790349285, 0.8398227332351278, 0.7617615697209622, 0.14507569288658226, 0.5443829206564472, 0.937364315832808, 1.2470954452432272, -0.5534980066811476, 1.5123201135236342, 0.8987462567974541, 0.5791080389203644, -0.2169166729652307, 1.1859624278722207, -1.0513105071512439, -0.5537498496696196, -1.1876608548600875, 0.28581503368341776, -0.8373909670462102, -0.49908970926011703, -1.0529342880820247, -0.9248567740307652, 1.764463447885169, 0.5901326366414836, -1.142075713218274, -0.8946017497616889, 0.0144652299158461, 0.1279379505634851, -1.0120014602064225, 0.0363380032435725, 0.21366402851299293, -0.18459741491488368, 0.550611238075139, -1.1964210420445283, 0.27844714124707004, -0.601675012386725, 0.09034648034734893, -1.019728088992673, -1.1810422893142594, -1.0302218578695155, -0.02807953192685473, 2.1234225090964385, -1.7218913699279377, -1.107127947693045, 0.07029646761054668, -0.44745598771982803, 1.148766935793685, 0.016377942985925025, -0.638644767078107, -0.6605524605312318, -0.12626451146059678, 0.23314954919639108, 0.13663921181967784, -1.0216268345305923, 0.2665031884388046, 0.35416299293513925, -0.053121967639487025, 0.7862011170376131, -0.47712670671197815, 0.7931940780649613, -0.32398602740064425, -0.7796188551276063, -1.0774772125396894, 0.8366000799612457, -0.7252752826298803, 0.47420209435821925, 0.16479101958522108, 0.7805292644873063, -0.1922784699312706, 0.01984409354644912, -0.5905422812265733, 0.2857750483391747, -0.8738282207287031, 1.2715167674609458]}, {\"line\": {\"color\": \"rgba(55, 128, 191, 1.0)\", \"dash\": \"solid\", \"shape\": \"linear\", \"width\": 1.3}, \"mode\": \"lines\", \"name\": \"B\", \"text\": \"\", \"type\": \"scatter\", \"x\": [0, 1, 2, 3, 4, 5, 6, 7, 8, 9, 10, 11, 12, 13, 14, 15, 16, 17, 18, 19, 20, 21, 22, 23, 24, 25, 26, 27, 28, 29, 30, 31, 32, 33, 34, 35, 36, 37, 38, 39, 40, 41, 42, 43, 44, 45, 46, 47, 48, 49, 50, 51, 52, 53, 54, 55, 56, 57, 58, 59, 60, 61, 62, 63, 64, 65, 66, 67, 68, 69, 70, 71, 72, 73, 74, 75, 76, 77, 78, 79, 80, 81, 82, 83, 84, 85, 86, 87, 88, 89, 90, 91, 92, 93, 94, 95, 96, 97, 98, 99], \"y\": [-1.3627216013659846, 0.2746479273419688, 0.7009464451380578, -1.3811013400556857, -1.7428511959512216, -0.8905026557041102, -0.551282879317178, 0.22107331559969615, -1.5843865530614263, -1.9578013663048495, 1.6767888897250252, 0.5704931064566529, -0.6314149241481537, 0.2757322702947673, 0.7876966927085246, -0.8981643739025043, 0.2948816739619415, 0.1826302665386844, -0.9359073662486931, -1.457757479610927, -0.30185223399542666, 0.9177284159277574, -0.5013513777674213, 2.9904562197653792, 1.2102048203993276, 0.3463027009884661, -0.14875933083792445, -0.7241462815090236, -0.25408636699024595, -0.1011944206256832, -0.9111289589894425, 0.09146337137093262, 1.6008067662713046, 1.2746041957302874, 0.9851969510533377, -0.8543754688768727, 1.6107325176724772, -1.4755417524303547, 0.2324101126295466, -1.1624830197173044, -1.3561431982536194, 0.5618943121972119, 0.3401447906679545, -1.6615229986560336, -0.2078537594217146, 0.727184088179305, -0.311201502392996, -0.5015752565114187, -1.1721312285095038, -1.5649694918407073, -1.0939670201572929, 0.3619889697652782, 3.367931842022976, -0.2521367382602952, -0.314242196876435, 0.28725557906216953, -2.3182561631414584, -0.5554086695260209, -0.42168125402643714, 1.689241224802193, 0.07370559648891448, -0.6359492421783562, 0.40914626446901686, 0.06893059954535942, 1.0029731029083802, 1.4683660981628652, 0.5641680851054268, -0.23720583119416894, -1.3720094046379412, -0.06317150115552012, -0.4646886627983753, -0.4653757228572715, 0.26066881226261535, 0.6871616119462791, -0.4920968386727682, -0.7887370928876344, -2.001483326801323, 1.679334471231441, 1.7345100201822912, -0.9727078661032714, 0.2919188486713192, 0.4653106873555381, 0.3891081605002875, 1.1844211163842735, -0.3689456505251842, 0.5046777558050485, 0.5212098489901662, -0.2810122685636921, -0.14805919194277323, 0.25379447016412093, -0.3485665898351345, 0.8050525463698355, -0.17894394437635838, -0.51770392029611, 2.074133165916208, 1.6404422314144023, 0.4178381849479696, -0.11527328671374554, 0.0746127850615184, -0.7620958143342098]}, {\"connectgaps\": false, \"fill\": \"tozeroy\", \"line\": {\"color\": \"green\", \"dash\": \"solid\", \"shape\": \"linear\", \"width\": 0.5}, \"mode\": \"lines\", \"name\": \"Spread\", \"showlegend\": false, \"type\": \"scatter\", \"x\": [0, 1, 2, 3, 4, 5, 6, 7, 8, 9, 10, 11, 12, 13, 14, 15, 16, 17, 18, 19, 20, 21, 22, 23, 24, 25, 26, 27, 28, 29, 30, 31, 32, 33, 34, 35, 36, 37, 38, 39, 40, 41, 42, 43, 44, 45, 46, 47, 48, 49, 50, 51, 52, 53, 54, 55, 56, 57, 58, 59, 60, 61, 62, 63, 64, 65, 66, 67, 68, 69, 70, 71, 72, 73, 74, 75, 76, 77, 78, 79, 80, 81, 82, 83, 84, 85, 86, 87, 88, 89, 90, 91, 92, 93, 94, 95, 96, 97, 98, 99], \"xaxis\": \"x2\", \"y\": [0.9238673267972378, 0.10943753425800107, \"\", \"\", 2.6052534340873947, 0.15142515297280046, 0.439227763614637, 0.7595611851385426, 0.5534252834743518, 1.5357212205334143, \"\", 1.0484978877960565, 1.259509109688092, 0.30670930854118406, 0.6202507052660394, 0.292646196324141, \"\", \"\", 2.6219595284275616, 2.467087020823392, \"\", \"\", \"\", \"\", \"\", \"\", \"\", 0.2373036024740951, 1.0939091002253738, 0.8629559903466454, 1.0562046518760246, 0.4529195492855146, \"\", \"\", \"\", 2.366695582400507, \"\", 2.054649791350719, \"\", 2.3484454475895253, 0.30483269110237554, \"\", \"\", 1.9473380323394514, \"\", \"\", \"\", \"\", 2.936594676394673, 2.155102128482191, \"\", \"\", \"\", 0.38007468882378026, \"\", \"\", 2.5319201916544514, 0.3708112546111372, 0.9722924921015761, \"\", 0.20474154475815556, 0.034274229791631194, \"\", \"\", \"\", \"\", \"\", 2.3606283402906074, \"\", \"\", 0.5349851304089219, 0.017919735137443493, 0.8880981235310696, \"\", \"\", 0.12818463235640254, 1.875218815340726, \"\", \"\", \"\", \"\", \"\", \"\", \"\", \"\", 0.28851632225991286, \"\", \"\", \"\", 0.5828056097971248, \"\", \"\", 0.34373496396157943, 1.2982331847834163, \"\", \"\", \"\", 0.40104833505292026, \"\", 2.033612581795156], \"yaxis\": \"y2\"}, {\"connectgaps\": false, \"fill\": \"tozeroy\", \"line\": {\"color\": \"red\", \"dash\": \"solid\", \"shape\": \"linear\", \"width\": 0.5}, \"mode\": \"lines\", \"name\": \"Spread\", \"showlegend\": false, \"type\": \"scatter\", \"x\": [0, 1, 2, 3, 4, 5, 6, 7, 8, 9, 10, 11, 12, 13, 14, 15, 16, 17, 18, 19, 20, 21, 22, 23, 24, 25, 26, 27, 28, 29, 30, 31, 32, 33, 34, 35, 36, 37, 38, 39, 40, 41, 42, 43, 44, 45, 46, 47, 48, 49, 50, 51, 52, 53, 54, 55, 56, 57, 58, 59, 60, 61, 62, 63, 64, 65, 66, 67, 68, 69, 70, 71, 72, 73, 74, 75, 76, 77, 78, 79, 80, 81, 82, 83, 84, 85, 86, 87, 88, 89, 90, 91, 92, 93, 94, 95, 96, 97, 98, 99], \"xaxis\": \"x2\", \"y\": [\"\", \"\", -1.44232281352359, -0.6477484738884056, \"\", \"\", \"\", \"\", \"\", \"\", -2.335734777879461, \"\", \"\", \"\", \"\", \"\", -0.03342286642504444, -1.8554741758720537, \"\", \"\", -1.5484506010732708, -1.127720260642767, -1.7919073590358963, -4.042816280039245, -0.46674615322596213, -0.10043195030228985, -1.0453810656243698, \"\", \"\", \"\", \"\", \"\", -0.6634424504384966, -0.02750875048706014, -1.5386949577344853, \"\", -0.711986260875023, \"\", -0.44932678559477734, \"\", \"\", -1.1156441618668316, -1.527805645528042, \"\", -0.6295372076244956, -1.226273797439422, -0.7417327856890288, -0.4232815175193465, \"\", \"\", -0.04810869306098109, -1.2565907195269672, -3.3534666121071295, \"\", -0.6977592633299874, -0.250917575818597, \"\", \"\", \"\", -2.8856622668467216, \"\", \"\", -0.31879978412166793, -1.0886586885380325, -2.1840153922226397, -2.498587956032381, -0.5922476170322816, \"\", -0.3498819652899965, -1.0439564465375248, \"\", \"\", \"\", -0.6707836689603541, -0.1465479284053388, \"\", \"\", -1.44618492203505, -1.5978708083626134, -0.04891896842732091, -0.02541566023251457, -0.11114769442039885, -0.4422301281397745, -0.3982199993466604, -0.10818105618679397, \"\", -0.8451958763908105, -0.4986065865639142, -0.9294180205969163, \"\", -0.3767086927947458, -0.3308504520116162, \"\", \"\", -2.266411635847479, -1.620598137867953, -1.0083804661745428, \"\", -0.9484410057902215, \"\"], \"yaxis\": \"y2\"}],                        {\"hovermode\": \"x\", \"legend\": {\"bgcolor\": \"#F5F6F9\", \"font\": {\"color\": \"#4D5663\"}}, \"paper_bgcolor\": \"#F5F6F9\", \"plot_bgcolor\": \"#F5F6F9\", \"template\": {\"data\": {\"bar\": [{\"error_x\": {\"color\": \"#2a3f5f\"}, \"error_y\": {\"color\": \"#2a3f5f\"}, \"marker\": {\"line\": {\"color\": \"#E5ECF6\", \"width\": 0.5}}, \"type\": \"bar\"}], \"barpolar\": [{\"marker\": {\"line\": {\"color\": \"#E5ECF6\", \"width\": 0.5}}, \"type\": \"barpolar\"}], \"carpet\": [{\"aaxis\": {\"endlinecolor\": \"#2a3f5f\", \"gridcolor\": \"white\", \"linecolor\": \"white\", \"minorgridcolor\": \"white\", \"startlinecolor\": \"#2a3f5f\"}, \"baxis\": {\"endlinecolor\": \"#2a3f5f\", \"gridcolor\": \"white\", \"linecolor\": \"white\", \"minorgridcolor\": \"white\", \"startlinecolor\": \"#2a3f5f\"}, \"type\": \"carpet\"}], \"choropleth\": [{\"colorbar\": {\"outlinewidth\": 0, \"ticks\": \"\"}, \"type\": \"choropleth\"}], \"contour\": [{\"colorbar\": {\"outlinewidth\": 0, \"ticks\": \"\"}, \"colorscale\": [[0.0, \"#0d0887\"], [0.1111111111111111, \"#46039f\"], [0.2222222222222222, \"#7201a8\"], [0.3333333333333333, \"#9c179e\"], [0.4444444444444444, \"#bd3786\"], [0.5555555555555556, \"#d8576b\"], [0.6666666666666666, \"#ed7953\"], [0.7777777777777778, \"#fb9f3a\"], [0.8888888888888888, \"#fdca26\"], [1.0, \"#f0f921\"]], \"type\": \"contour\"}], \"contourcarpet\": [{\"colorbar\": {\"outlinewidth\": 0, \"ticks\": \"\"}, \"type\": \"contourcarpet\"}], \"heatmap\": [{\"colorbar\": {\"outlinewidth\": 0, \"ticks\": \"\"}, \"colorscale\": [[0.0, \"#0d0887\"], [0.1111111111111111, \"#46039f\"], [0.2222222222222222, \"#7201a8\"], [0.3333333333333333, \"#9c179e\"], [0.4444444444444444, \"#bd3786\"], [0.5555555555555556, \"#d8576b\"], [0.6666666666666666, \"#ed7953\"], [0.7777777777777778, \"#fb9f3a\"], [0.8888888888888888, \"#fdca26\"], [1.0, \"#f0f921\"]], \"type\": \"heatmap\"}], \"heatmapgl\": [{\"colorbar\": {\"outlinewidth\": 0, \"ticks\": \"\"}, \"colorscale\": [[0.0, \"#0d0887\"], [0.1111111111111111, \"#46039f\"], [0.2222222222222222, \"#7201a8\"], [0.3333333333333333, \"#9c179e\"], [0.4444444444444444, \"#bd3786\"], [0.5555555555555556, \"#d8576b\"], [0.6666666666666666, \"#ed7953\"], [0.7777777777777778, \"#fb9f3a\"], [0.8888888888888888, \"#fdca26\"], [1.0, \"#f0f921\"]], \"type\": \"heatmapgl\"}], \"histogram\": [{\"marker\": {\"colorbar\": {\"outlinewidth\": 0, \"ticks\": \"\"}}, \"type\": \"histogram\"}], \"histogram2d\": [{\"colorbar\": {\"outlinewidth\": 0, \"ticks\": \"\"}, \"colorscale\": [[0.0, \"#0d0887\"], [0.1111111111111111, \"#46039f\"], [0.2222222222222222, \"#7201a8\"], [0.3333333333333333, \"#9c179e\"], [0.4444444444444444, \"#bd3786\"], [0.5555555555555556, \"#d8576b\"], [0.6666666666666666, \"#ed7953\"], [0.7777777777777778, \"#fb9f3a\"], [0.8888888888888888, \"#fdca26\"], [1.0, \"#f0f921\"]], \"type\": \"histogram2d\"}], \"histogram2dcontour\": [{\"colorbar\": {\"outlinewidth\": 0, \"ticks\": \"\"}, \"colorscale\": [[0.0, \"#0d0887\"], [0.1111111111111111, \"#46039f\"], [0.2222222222222222, \"#7201a8\"], [0.3333333333333333, \"#9c179e\"], [0.4444444444444444, \"#bd3786\"], [0.5555555555555556, \"#d8576b\"], [0.6666666666666666, \"#ed7953\"], [0.7777777777777778, \"#fb9f3a\"], [0.8888888888888888, \"#fdca26\"], [1.0, \"#f0f921\"]], \"type\": \"histogram2dcontour\"}], \"mesh3d\": [{\"colorbar\": {\"outlinewidth\": 0, \"ticks\": \"\"}, \"type\": \"mesh3d\"}], \"parcoords\": [{\"line\": {\"colorbar\": {\"outlinewidth\": 0, \"ticks\": \"\"}}, \"type\": \"parcoords\"}], \"pie\": [{\"automargin\": true, \"type\": \"pie\"}], \"scatter\": [{\"marker\": {\"colorbar\": {\"outlinewidth\": 0, \"ticks\": \"\"}}, \"type\": \"scatter\"}], \"scatter3d\": [{\"line\": {\"colorbar\": {\"outlinewidth\": 0, \"ticks\": \"\"}}, \"marker\": {\"colorbar\": {\"outlinewidth\": 0, \"ticks\": \"\"}}, \"type\": \"scatter3d\"}], \"scattercarpet\": [{\"marker\": {\"colorbar\": {\"outlinewidth\": 0, \"ticks\": \"\"}}, \"type\": \"scattercarpet\"}], \"scattergeo\": [{\"marker\": {\"colorbar\": {\"outlinewidth\": 0, \"ticks\": \"\"}}, \"type\": \"scattergeo\"}], \"scattergl\": [{\"marker\": {\"colorbar\": {\"outlinewidth\": 0, \"ticks\": \"\"}}, \"type\": \"scattergl\"}], \"scattermapbox\": [{\"marker\": {\"colorbar\": {\"outlinewidth\": 0, \"ticks\": \"\"}}, \"type\": \"scattermapbox\"}], \"scatterpolar\": [{\"marker\": {\"colorbar\": {\"outlinewidth\": 0, \"ticks\": \"\"}}, \"type\": \"scatterpolar\"}], \"scatterpolargl\": [{\"marker\": {\"colorbar\": {\"outlinewidth\": 0, \"ticks\": \"\"}}, \"type\": \"scatterpolargl\"}], \"scatterternary\": [{\"marker\": {\"colorbar\": {\"outlinewidth\": 0, \"ticks\": \"\"}}, \"type\": \"scatterternary\"}], \"surface\": [{\"colorbar\": {\"outlinewidth\": 0, \"ticks\": \"\"}, \"colorscale\": [[0.0, \"#0d0887\"], [0.1111111111111111, \"#46039f\"], [0.2222222222222222, \"#7201a8\"], [0.3333333333333333, \"#9c179e\"], [0.4444444444444444, \"#bd3786\"], [0.5555555555555556, \"#d8576b\"], [0.6666666666666666, \"#ed7953\"], [0.7777777777777778, \"#fb9f3a\"], [0.8888888888888888, \"#fdca26\"], [1.0, \"#f0f921\"]], \"type\": \"surface\"}], \"table\": [{\"cells\": {\"fill\": {\"color\": \"#EBF0F8\"}, \"line\": {\"color\": \"white\"}}, \"header\": {\"fill\": {\"color\": \"#C8D4E3\"}, \"line\": {\"color\": \"white\"}}, \"type\": \"table\"}]}, \"layout\": {\"annotationdefaults\": {\"arrowcolor\": \"#2a3f5f\", \"arrowhead\": 0, \"arrowwidth\": 1}, \"autotypenumbers\": \"strict\", \"coloraxis\": {\"colorbar\": {\"outlinewidth\": 0, \"ticks\": \"\"}}, \"colorscale\": {\"diverging\": [[0, \"#8e0152\"], [0.1, \"#c51b7d\"], [0.2, \"#de77ae\"], [0.3, \"#f1b6da\"], [0.4, \"#fde0ef\"], [0.5, \"#f7f7f7\"], [0.6, \"#e6f5d0\"], [0.7, \"#b8e186\"], [0.8, \"#7fbc41\"], [0.9, \"#4d9221\"], [1, \"#276419\"]], \"sequential\": [[0.0, \"#0d0887\"], [0.1111111111111111, \"#46039f\"], [0.2222222222222222, \"#7201a8\"], [0.3333333333333333, \"#9c179e\"], [0.4444444444444444, \"#bd3786\"], [0.5555555555555556, \"#d8576b\"], [0.6666666666666666, \"#ed7953\"], [0.7777777777777778, \"#fb9f3a\"], [0.8888888888888888, \"#fdca26\"], [1.0, \"#f0f921\"]], \"sequentialminus\": [[0.0, \"#0d0887\"], [0.1111111111111111, \"#46039f\"], [0.2222222222222222, \"#7201a8\"], [0.3333333333333333, \"#9c179e\"], [0.4444444444444444, \"#bd3786\"], [0.5555555555555556, \"#d8576b\"], [0.6666666666666666, \"#ed7953\"], [0.7777777777777778, \"#fb9f3a\"], [0.8888888888888888, \"#fdca26\"], [1.0, \"#f0f921\"]]}, \"colorway\": [\"#636efa\", \"#EF553B\", \"#00cc96\", \"#ab63fa\", \"#FFA15A\", \"#19d3f3\", \"#FF6692\", \"#B6E880\", \"#FF97FF\", \"#FECB52\"], \"font\": {\"color\": \"#2a3f5f\"}, \"geo\": {\"bgcolor\": \"white\", \"lakecolor\": \"white\", \"landcolor\": \"#E5ECF6\", \"showlakes\": true, \"showland\": true, \"subunitcolor\": \"white\"}, \"hoverlabel\": {\"align\": \"left\"}, \"hovermode\": \"closest\", \"mapbox\": {\"style\": \"light\"}, \"paper_bgcolor\": \"white\", \"plot_bgcolor\": \"#E5ECF6\", \"polar\": {\"angularaxis\": {\"gridcolor\": \"white\", \"linecolor\": \"white\", \"ticks\": \"\"}, \"bgcolor\": \"#E5ECF6\", \"radialaxis\": {\"gridcolor\": \"white\", \"linecolor\": \"white\", \"ticks\": \"\"}}, \"scene\": {\"xaxis\": {\"backgroundcolor\": \"#E5ECF6\", \"gridcolor\": \"white\", \"gridwidth\": 2, \"linecolor\": \"white\", \"showbackground\": true, \"ticks\": \"\", \"zerolinecolor\": \"white\"}, \"yaxis\": {\"backgroundcolor\": \"#E5ECF6\", \"gridcolor\": \"white\", \"gridwidth\": 2, \"linecolor\": \"white\", \"showbackground\": true, \"ticks\": \"\", \"zerolinecolor\": \"white\"}, \"zaxis\": {\"backgroundcolor\": \"#E5ECF6\", \"gridcolor\": \"white\", \"gridwidth\": 2, \"linecolor\": \"white\", \"showbackground\": true, \"ticks\": \"\", \"zerolinecolor\": \"white\"}}, \"shapedefaults\": {\"line\": {\"color\": \"#2a3f5f\"}}, \"ternary\": {\"aaxis\": {\"gridcolor\": \"white\", \"linecolor\": \"white\", \"ticks\": \"\"}, \"baxis\": {\"gridcolor\": \"white\", \"linecolor\": \"white\", \"ticks\": \"\"}, \"bgcolor\": \"#E5ECF6\", \"caxis\": {\"gridcolor\": \"white\", \"linecolor\": \"white\", \"ticks\": \"\"}}, \"title\": {\"x\": 0.05}, \"xaxis\": {\"automargin\": true, \"gridcolor\": \"white\", \"linecolor\": \"white\", \"ticks\": \"\", \"title\": {\"standoff\": 15}, \"zerolinecolor\": \"white\", \"zerolinewidth\": 2}, \"yaxis\": {\"automargin\": true, \"gridcolor\": \"white\", \"linecolor\": \"white\", \"ticks\": \"\", \"title\": {\"standoff\": 15}, \"zerolinecolor\": \"white\", \"zerolinewidth\": 2}}}, \"title\": {\"font\": {\"color\": \"#4D5663\"}}, \"xaxis\": {\"gridcolor\": \"#E1E5ED\", \"showgrid\": true, \"tickfont\": {\"color\": \"#4D5663\"}, \"title\": {\"font\": {\"color\": \"#4D5663\"}, \"text\": \"\"}, \"zerolinecolor\": \"#E1E5ED\"}, \"xaxis2\": {\"anchor\": \"y2\", \"gridcolor\": \"#E1E5ED\", \"showgrid\": true, \"showticklabels\": false, \"tickfont\": {\"color\": \"#4D5663\"}, \"title\": {\"font\": {\"color\": \"#4D5663\"}, \"text\": \"\"}, \"zerolinecolor\": \"#E1E5ED\"}, \"yaxis\": {\"domain\": [0.3, 1], \"gridcolor\": \"#E1E5ED\", \"showgrid\": true, \"tickfont\": {\"color\": \"#4D5663\"}, \"title\": {\"font\": {\"color\": \"#4D5663\"}, \"text\": \"\"}, \"zerolinecolor\": \"#E1E5ED\"}, \"yaxis2\": {\"domain\": [0, 0.25], \"gridcolor\": \"#E1E5ED\", \"showgrid\": true, \"tickfont\": {\"color\": \"#4D5663\"}, \"title\": {\"font\": {\"color\": \"#4D5663\"}, \"text\": \"Spread\"}, \"zerolinecolor\": \"#E1E5ED\"}},                        {\"showLink\": true, \"linkText\": \"Export to plot.ly\", \"plotlyServerURL\": \"https://plot.ly\", \"responsive\": true}                    ).then(function(){\n",
       "                            \n",
       "var gd = document.getElementById('90ddbdb4-76d5-491d-ba80-ef89fc7ab13a');\n",
       "var x = new MutationObserver(function (mutations, observer) {{\n",
       "        var display = window.getComputedStyle(gd).display;\n",
       "        if (!display || display === 'none') {{\n",
       "            console.log([gd, 'removed!']);\n",
       "            Plotly.purge(gd);\n",
       "            observer.disconnect();\n",
       "        }}\n",
       "}});\n",
       "\n",
       "// Listen for the removal of the full notebook cells\n",
       "var notebookContainer = gd.closest('#notebook-container');\n",
       "if (notebookContainer) {{\n",
       "    x.observe(notebookContainer, {childList: true});\n",
       "}}\n",
       "\n",
       "// Listen for the clearing of the current output cell\n",
       "var outputEl = gd.closest('.output');\n",
       "if (outputEl) {{\n",
       "    x.observe(outputEl, {childList: true});\n",
       "}}\n",
       "\n",
       "                        })                };                });            </script>        </div>"
      ]
     },
     "metadata": {},
     "output_type": "display_data"
    }
   ],
   "source": [
    "df[['A','B']].iplot(kind='spread')"
   ]
  },
  {
   "cell_type": "markdown",
   "metadata": {},
   "source": [
    "## histogram"
   ]
  },
  {
   "cell_type": "code",
   "execution_count": 16,
   "metadata": {},
   "outputs": [
    {
     "data": {
      "application/vnd.plotly.v1+json": {
       "config": {
        "linkText": "Export to plot.ly",
        "plotlyServerURL": "https://plot.ly",
        "showLink": true
       },
       "data": [
        {
         "histfunc": "count",
         "histnorm": "",
         "marker": {
          "color": "rgba(255, 153, 51, 1.0)",
          "line": {
           "color": "#4D5663",
           "width": 1.3
          }
         },
         "name": "A",
         "nbinsx": 25,
         "opacity": 0.8,
         "orientation": "v",
         "type": "histogram",
         "x": [
          -0.4388542745687468,
          0.38408546159996987,
          -0.7413763683855321,
          -2.0288498139440914,
          0.8624022381361729,
          -0.7390775027313098,
          -0.112055115702541,
          0.9806345007382388,
          -1.0309612695870745,
          -0.42208014577143504,
          -0.6589458881544358,
          1.6189909942527092,
          0.6280941855399383,
          0.5824415788359514,
          1.407947397974564,
          -0.6055181775783632,
          0.26145880753689704,
          -1.6728439093333693,
          1.6860521621788684,
          1.009329541212465,
          -1.8503028350686974,
          -0.20999184471500965,
          -2.2932587368033177,
          -1.052360060273866,
          0.7434586671733655,
          0.24587075068617625,
          -1.1941403964622943,
          -0.4868426790349285,
          0.8398227332351278,
          0.7617615697209622,
          0.14507569288658226,
          0.5443829206564472,
          0.937364315832808,
          1.2470954452432272,
          -0.5534980066811476,
          1.5123201135236342,
          0.8987462567974541,
          0.5791080389203644,
          -0.2169166729652307,
          1.1859624278722207,
          -1.0513105071512439,
          -0.5537498496696196,
          -1.1876608548600875,
          0.28581503368341776,
          -0.8373909670462102,
          -0.49908970926011703,
          -1.0529342880820247,
          -0.9248567740307652,
          1.764463447885169,
          0.5901326366414836,
          -1.142075713218274,
          -0.8946017497616889,
          0.0144652299158461,
          0.1279379505634851,
          -1.0120014602064225,
          0.0363380032435725,
          0.21366402851299293,
          -0.18459741491488368,
          0.550611238075139,
          -1.1964210420445283,
          0.27844714124707004,
          -0.601675012386725,
          0.09034648034734893,
          -1.019728088992673,
          -1.1810422893142594,
          -1.0302218578695155,
          -0.02807953192685473,
          2.1234225090964385,
          -1.7218913699279377,
          -1.107127947693045,
          0.07029646761054668,
          -0.44745598771982803,
          1.148766935793685,
          0.016377942985925025,
          -0.638644767078107,
          -0.6605524605312318,
          -0.12626451146059678,
          0.23314954919639108,
          0.13663921181967784,
          -1.0216268345305923,
          0.2665031884388046,
          0.35416299293513925,
          -0.053121967639487025,
          0.7862011170376131,
          -0.47712670671197815,
          0.7931940780649613,
          -0.32398602740064425,
          -0.7796188551276063,
          -1.0774772125396894,
          0.8366000799612457,
          -0.7252752826298803,
          0.47420209435821925,
          0.16479101958522108,
          0.7805292644873063,
          -0.1922784699312706,
          0.01984409354644912,
          -0.5905422812265733,
          0.2857750483391747,
          -0.8738282207287031,
          1.2715167674609458
         ]
        }
       ],
       "layout": {
        "barmode": "overlay",
        "legend": {
         "bgcolor": "#F5F6F9",
         "font": {
          "color": "#4D5663"
         }
        },
        "paper_bgcolor": "#F5F6F9",
        "plot_bgcolor": "#F5F6F9",
        "template": {
         "data": {
          "bar": [
           {
            "error_x": {
             "color": "#2a3f5f"
            },
            "error_y": {
             "color": "#2a3f5f"
            },
            "marker": {
             "line": {
              "color": "#E5ECF6",
              "width": 0.5
             }
            },
            "type": "bar"
           }
          ],
          "barpolar": [
           {
            "marker": {
             "line": {
              "color": "#E5ECF6",
              "width": 0.5
             }
            },
            "type": "barpolar"
           }
          ],
          "carpet": [
           {
            "aaxis": {
             "endlinecolor": "#2a3f5f",
             "gridcolor": "white",
             "linecolor": "white",
             "minorgridcolor": "white",
             "startlinecolor": "#2a3f5f"
            },
            "baxis": {
             "endlinecolor": "#2a3f5f",
             "gridcolor": "white",
             "linecolor": "white",
             "minorgridcolor": "white",
             "startlinecolor": "#2a3f5f"
            },
            "type": "carpet"
           }
          ],
          "choropleth": [
           {
            "colorbar": {
             "outlinewidth": 0,
             "ticks": ""
            },
            "type": "choropleth"
           }
          ],
          "contour": [
           {
            "colorbar": {
             "outlinewidth": 0,
             "ticks": ""
            },
            "colorscale": [
             [
              0,
              "#0d0887"
             ],
             [
              0.1111111111111111,
              "#46039f"
             ],
             [
              0.2222222222222222,
              "#7201a8"
             ],
             [
              0.3333333333333333,
              "#9c179e"
             ],
             [
              0.4444444444444444,
              "#bd3786"
             ],
             [
              0.5555555555555556,
              "#d8576b"
             ],
             [
              0.6666666666666666,
              "#ed7953"
             ],
             [
              0.7777777777777778,
              "#fb9f3a"
             ],
             [
              0.8888888888888888,
              "#fdca26"
             ],
             [
              1,
              "#f0f921"
             ]
            ],
            "type": "contour"
           }
          ],
          "contourcarpet": [
           {
            "colorbar": {
             "outlinewidth": 0,
             "ticks": ""
            },
            "type": "contourcarpet"
           }
          ],
          "heatmap": [
           {
            "colorbar": {
             "outlinewidth": 0,
             "ticks": ""
            },
            "colorscale": [
             [
              0,
              "#0d0887"
             ],
             [
              0.1111111111111111,
              "#46039f"
             ],
             [
              0.2222222222222222,
              "#7201a8"
             ],
             [
              0.3333333333333333,
              "#9c179e"
             ],
             [
              0.4444444444444444,
              "#bd3786"
             ],
             [
              0.5555555555555556,
              "#d8576b"
             ],
             [
              0.6666666666666666,
              "#ed7953"
             ],
             [
              0.7777777777777778,
              "#fb9f3a"
             ],
             [
              0.8888888888888888,
              "#fdca26"
             ],
             [
              1,
              "#f0f921"
             ]
            ],
            "type": "heatmap"
           }
          ],
          "heatmapgl": [
           {
            "colorbar": {
             "outlinewidth": 0,
             "ticks": ""
            },
            "colorscale": [
             [
              0,
              "#0d0887"
             ],
             [
              0.1111111111111111,
              "#46039f"
             ],
             [
              0.2222222222222222,
              "#7201a8"
             ],
             [
              0.3333333333333333,
              "#9c179e"
             ],
             [
              0.4444444444444444,
              "#bd3786"
             ],
             [
              0.5555555555555556,
              "#d8576b"
             ],
             [
              0.6666666666666666,
              "#ed7953"
             ],
             [
              0.7777777777777778,
              "#fb9f3a"
             ],
             [
              0.8888888888888888,
              "#fdca26"
             ],
             [
              1,
              "#f0f921"
             ]
            ],
            "type": "heatmapgl"
           }
          ],
          "histogram": [
           {
            "marker": {
             "colorbar": {
              "outlinewidth": 0,
              "ticks": ""
             }
            },
            "type": "histogram"
           }
          ],
          "histogram2d": [
           {
            "colorbar": {
             "outlinewidth": 0,
             "ticks": ""
            },
            "colorscale": [
             [
              0,
              "#0d0887"
             ],
             [
              0.1111111111111111,
              "#46039f"
             ],
             [
              0.2222222222222222,
              "#7201a8"
             ],
             [
              0.3333333333333333,
              "#9c179e"
             ],
             [
              0.4444444444444444,
              "#bd3786"
             ],
             [
              0.5555555555555556,
              "#d8576b"
             ],
             [
              0.6666666666666666,
              "#ed7953"
             ],
             [
              0.7777777777777778,
              "#fb9f3a"
             ],
             [
              0.8888888888888888,
              "#fdca26"
             ],
             [
              1,
              "#f0f921"
             ]
            ],
            "type": "histogram2d"
           }
          ],
          "histogram2dcontour": [
           {
            "colorbar": {
             "outlinewidth": 0,
             "ticks": ""
            },
            "colorscale": [
             [
              0,
              "#0d0887"
             ],
             [
              0.1111111111111111,
              "#46039f"
             ],
             [
              0.2222222222222222,
              "#7201a8"
             ],
             [
              0.3333333333333333,
              "#9c179e"
             ],
             [
              0.4444444444444444,
              "#bd3786"
             ],
             [
              0.5555555555555556,
              "#d8576b"
             ],
             [
              0.6666666666666666,
              "#ed7953"
             ],
             [
              0.7777777777777778,
              "#fb9f3a"
             ],
             [
              0.8888888888888888,
              "#fdca26"
             ],
             [
              1,
              "#f0f921"
             ]
            ],
            "type": "histogram2dcontour"
           }
          ],
          "mesh3d": [
           {
            "colorbar": {
             "outlinewidth": 0,
             "ticks": ""
            },
            "type": "mesh3d"
           }
          ],
          "parcoords": [
           {
            "line": {
             "colorbar": {
              "outlinewidth": 0,
              "ticks": ""
             }
            },
            "type": "parcoords"
           }
          ],
          "pie": [
           {
            "automargin": true,
            "type": "pie"
           }
          ],
          "scatter": [
           {
            "marker": {
             "colorbar": {
              "outlinewidth": 0,
              "ticks": ""
             }
            },
            "type": "scatter"
           }
          ],
          "scatter3d": [
           {
            "line": {
             "colorbar": {
              "outlinewidth": 0,
              "ticks": ""
             }
            },
            "marker": {
             "colorbar": {
              "outlinewidth": 0,
              "ticks": ""
             }
            },
            "type": "scatter3d"
           }
          ],
          "scattercarpet": [
           {
            "marker": {
             "colorbar": {
              "outlinewidth": 0,
              "ticks": ""
             }
            },
            "type": "scattercarpet"
           }
          ],
          "scattergeo": [
           {
            "marker": {
             "colorbar": {
              "outlinewidth": 0,
              "ticks": ""
             }
            },
            "type": "scattergeo"
           }
          ],
          "scattergl": [
           {
            "marker": {
             "colorbar": {
              "outlinewidth": 0,
              "ticks": ""
             }
            },
            "type": "scattergl"
           }
          ],
          "scattermapbox": [
           {
            "marker": {
             "colorbar": {
              "outlinewidth": 0,
              "ticks": ""
             }
            },
            "type": "scattermapbox"
           }
          ],
          "scatterpolar": [
           {
            "marker": {
             "colorbar": {
              "outlinewidth": 0,
              "ticks": ""
             }
            },
            "type": "scatterpolar"
           }
          ],
          "scatterpolargl": [
           {
            "marker": {
             "colorbar": {
              "outlinewidth": 0,
              "ticks": ""
             }
            },
            "type": "scatterpolargl"
           }
          ],
          "scatterternary": [
           {
            "marker": {
             "colorbar": {
              "outlinewidth": 0,
              "ticks": ""
             }
            },
            "type": "scatterternary"
           }
          ],
          "surface": [
           {
            "colorbar": {
             "outlinewidth": 0,
             "ticks": ""
            },
            "colorscale": [
             [
              0,
              "#0d0887"
             ],
             [
              0.1111111111111111,
              "#46039f"
             ],
             [
              0.2222222222222222,
              "#7201a8"
             ],
             [
              0.3333333333333333,
              "#9c179e"
             ],
             [
              0.4444444444444444,
              "#bd3786"
             ],
             [
              0.5555555555555556,
              "#d8576b"
             ],
             [
              0.6666666666666666,
              "#ed7953"
             ],
             [
              0.7777777777777778,
              "#fb9f3a"
             ],
             [
              0.8888888888888888,
              "#fdca26"
             ],
             [
              1,
              "#f0f921"
             ]
            ],
            "type": "surface"
           }
          ],
          "table": [
           {
            "cells": {
             "fill": {
              "color": "#EBF0F8"
             },
             "line": {
              "color": "white"
             }
            },
            "header": {
             "fill": {
              "color": "#C8D4E3"
             },
             "line": {
              "color": "white"
             }
            },
            "type": "table"
           }
          ]
         },
         "layout": {
          "annotationdefaults": {
           "arrowcolor": "#2a3f5f",
           "arrowhead": 0,
           "arrowwidth": 1
          },
          "autotypenumbers": "strict",
          "coloraxis": {
           "colorbar": {
            "outlinewidth": 0,
            "ticks": ""
           }
          },
          "colorscale": {
           "diverging": [
            [
             0,
             "#8e0152"
            ],
            [
             0.1,
             "#c51b7d"
            ],
            [
             0.2,
             "#de77ae"
            ],
            [
             0.3,
             "#f1b6da"
            ],
            [
             0.4,
             "#fde0ef"
            ],
            [
             0.5,
             "#f7f7f7"
            ],
            [
             0.6,
             "#e6f5d0"
            ],
            [
             0.7,
             "#b8e186"
            ],
            [
             0.8,
             "#7fbc41"
            ],
            [
             0.9,
             "#4d9221"
            ],
            [
             1,
             "#276419"
            ]
           ],
           "sequential": [
            [
             0,
             "#0d0887"
            ],
            [
             0.1111111111111111,
             "#46039f"
            ],
            [
             0.2222222222222222,
             "#7201a8"
            ],
            [
             0.3333333333333333,
             "#9c179e"
            ],
            [
             0.4444444444444444,
             "#bd3786"
            ],
            [
             0.5555555555555556,
             "#d8576b"
            ],
            [
             0.6666666666666666,
             "#ed7953"
            ],
            [
             0.7777777777777778,
             "#fb9f3a"
            ],
            [
             0.8888888888888888,
             "#fdca26"
            ],
            [
             1,
             "#f0f921"
            ]
           ],
           "sequentialminus": [
            [
             0,
             "#0d0887"
            ],
            [
             0.1111111111111111,
             "#46039f"
            ],
            [
             0.2222222222222222,
             "#7201a8"
            ],
            [
             0.3333333333333333,
             "#9c179e"
            ],
            [
             0.4444444444444444,
             "#bd3786"
            ],
            [
             0.5555555555555556,
             "#d8576b"
            ],
            [
             0.6666666666666666,
             "#ed7953"
            ],
            [
             0.7777777777777778,
             "#fb9f3a"
            ],
            [
             0.8888888888888888,
             "#fdca26"
            ],
            [
             1,
             "#f0f921"
            ]
           ]
          },
          "colorway": [
           "#636efa",
           "#EF553B",
           "#00cc96",
           "#ab63fa",
           "#FFA15A",
           "#19d3f3",
           "#FF6692",
           "#B6E880",
           "#FF97FF",
           "#FECB52"
          ],
          "font": {
           "color": "#2a3f5f"
          },
          "geo": {
           "bgcolor": "white",
           "lakecolor": "white",
           "landcolor": "#E5ECF6",
           "showlakes": true,
           "showland": true,
           "subunitcolor": "white"
          },
          "hoverlabel": {
           "align": "left"
          },
          "hovermode": "closest",
          "mapbox": {
           "style": "light"
          },
          "paper_bgcolor": "white",
          "plot_bgcolor": "#E5ECF6",
          "polar": {
           "angularaxis": {
            "gridcolor": "white",
            "linecolor": "white",
            "ticks": ""
           },
           "bgcolor": "#E5ECF6",
           "radialaxis": {
            "gridcolor": "white",
            "linecolor": "white",
            "ticks": ""
           }
          },
          "scene": {
           "xaxis": {
            "backgroundcolor": "#E5ECF6",
            "gridcolor": "white",
            "gridwidth": 2,
            "linecolor": "white",
            "showbackground": true,
            "ticks": "",
            "zerolinecolor": "white"
           },
           "yaxis": {
            "backgroundcolor": "#E5ECF6",
            "gridcolor": "white",
            "gridwidth": 2,
            "linecolor": "white",
            "showbackground": true,
            "ticks": "",
            "zerolinecolor": "white"
           },
           "zaxis": {
            "backgroundcolor": "#E5ECF6",
            "gridcolor": "white",
            "gridwidth": 2,
            "linecolor": "white",
            "showbackground": true,
            "ticks": "",
            "zerolinecolor": "white"
           }
          },
          "shapedefaults": {
           "line": {
            "color": "#2a3f5f"
           }
          },
          "ternary": {
           "aaxis": {
            "gridcolor": "white",
            "linecolor": "white",
            "ticks": ""
           },
           "baxis": {
            "gridcolor": "white",
            "linecolor": "white",
            "ticks": ""
           },
           "bgcolor": "#E5ECF6",
           "caxis": {
            "gridcolor": "white",
            "linecolor": "white",
            "ticks": ""
           }
          },
          "title": {
           "x": 0.05
          },
          "xaxis": {
           "automargin": true,
           "gridcolor": "white",
           "linecolor": "white",
           "ticks": "",
           "title": {
            "standoff": 15
           },
           "zerolinecolor": "white",
           "zerolinewidth": 2
          },
          "yaxis": {
           "automargin": true,
           "gridcolor": "white",
           "linecolor": "white",
           "ticks": "",
           "title": {
            "standoff": 15
           },
           "zerolinecolor": "white",
           "zerolinewidth": 2
          }
         }
        },
        "title": {
         "font": {
          "color": "#4D5663"
         }
        },
        "xaxis": {
         "gridcolor": "#E1E5ED",
         "showgrid": true,
         "tickfont": {
          "color": "#4D5663"
         },
         "title": {
          "font": {
           "color": "#4D5663"
          },
          "text": ""
         },
         "zerolinecolor": "#E1E5ED"
        },
        "yaxis": {
         "gridcolor": "#E1E5ED",
         "showgrid": true,
         "tickfont": {
          "color": "#4D5663"
         },
         "title": {
          "font": {
           "color": "#4D5663"
          },
          "text": ""
         },
         "zerolinecolor": "#E1E5ED"
        }
       }
      },
      "text/html": [
       "<div>                            <div id=\"16f1e826-1936-42f4-a2ef-4c8442cef1e5\" class=\"plotly-graph-div\" style=\"height:525px; width:100%;\"></div>            <script type=\"text/javascript\">                require([\"plotly\"], function(Plotly) {                    window.PLOTLYENV=window.PLOTLYENV || {};\n",
       "                    window.PLOTLYENV.BASE_URL='https://plot.ly';                                    if (document.getElementById(\"16f1e826-1936-42f4-a2ef-4c8442cef1e5\")) {                    Plotly.newPlot(                        \"16f1e826-1936-42f4-a2ef-4c8442cef1e5\",                        [{\"histfunc\": \"count\", \"histnorm\": \"\", \"marker\": {\"color\": \"rgba(255, 153, 51, 1.0)\", \"line\": {\"color\": \"#4D5663\", \"width\": 1.3}}, \"name\": \"A\", \"nbinsx\": 25, \"opacity\": 0.8, \"orientation\": \"v\", \"type\": \"histogram\", \"x\": [-0.4388542745687468, 0.38408546159996987, -0.7413763683855321, -2.0288498139440914, 0.8624022381361729, -0.7390775027313098, -0.112055115702541, 0.9806345007382388, -1.0309612695870745, -0.42208014577143504, -0.6589458881544358, 1.6189909942527092, 0.6280941855399383, 0.5824415788359514, 1.407947397974564, -0.6055181775783632, 0.26145880753689704, -1.6728439093333693, 1.6860521621788684, 1.009329541212465, -1.8503028350686974, -0.20999184471500965, -2.2932587368033177, -1.052360060273866, 0.7434586671733655, 0.24587075068617625, -1.1941403964622943, -0.4868426790349285, 0.8398227332351278, 0.7617615697209622, 0.14507569288658226, 0.5443829206564472, 0.937364315832808, 1.2470954452432272, -0.5534980066811476, 1.5123201135236342, 0.8987462567974541, 0.5791080389203644, -0.2169166729652307, 1.1859624278722207, -1.0513105071512439, -0.5537498496696196, -1.1876608548600875, 0.28581503368341776, -0.8373909670462102, -0.49908970926011703, -1.0529342880820247, -0.9248567740307652, 1.764463447885169, 0.5901326366414836, -1.142075713218274, -0.8946017497616889, 0.0144652299158461, 0.1279379505634851, -1.0120014602064225, 0.0363380032435725, 0.21366402851299293, -0.18459741491488368, 0.550611238075139, -1.1964210420445283, 0.27844714124707004, -0.601675012386725, 0.09034648034734893, -1.019728088992673, -1.1810422893142594, -1.0302218578695155, -0.02807953192685473, 2.1234225090964385, -1.7218913699279377, -1.107127947693045, 0.07029646761054668, -0.44745598771982803, 1.148766935793685, 0.016377942985925025, -0.638644767078107, -0.6605524605312318, -0.12626451146059678, 0.23314954919639108, 0.13663921181967784, -1.0216268345305923, 0.2665031884388046, 0.35416299293513925, -0.053121967639487025, 0.7862011170376131, -0.47712670671197815, 0.7931940780649613, -0.32398602740064425, -0.7796188551276063, -1.0774772125396894, 0.8366000799612457, -0.7252752826298803, 0.47420209435821925, 0.16479101958522108, 0.7805292644873063, -0.1922784699312706, 0.01984409354644912, -0.5905422812265733, 0.2857750483391747, -0.8738282207287031, 1.2715167674609458]}],                        {\"barmode\": \"overlay\", \"legend\": {\"bgcolor\": \"#F5F6F9\", \"font\": {\"color\": \"#4D5663\"}}, \"paper_bgcolor\": \"#F5F6F9\", \"plot_bgcolor\": \"#F5F6F9\", \"template\": {\"data\": {\"bar\": [{\"error_x\": {\"color\": \"#2a3f5f\"}, \"error_y\": {\"color\": \"#2a3f5f\"}, \"marker\": {\"line\": {\"color\": \"#E5ECF6\", \"width\": 0.5}}, \"type\": \"bar\"}], \"barpolar\": [{\"marker\": {\"line\": {\"color\": \"#E5ECF6\", \"width\": 0.5}}, \"type\": \"barpolar\"}], \"carpet\": [{\"aaxis\": {\"endlinecolor\": \"#2a3f5f\", \"gridcolor\": \"white\", \"linecolor\": \"white\", \"minorgridcolor\": \"white\", \"startlinecolor\": \"#2a3f5f\"}, \"baxis\": {\"endlinecolor\": \"#2a3f5f\", \"gridcolor\": \"white\", \"linecolor\": \"white\", \"minorgridcolor\": \"white\", \"startlinecolor\": \"#2a3f5f\"}, \"type\": \"carpet\"}], \"choropleth\": [{\"colorbar\": {\"outlinewidth\": 0, \"ticks\": \"\"}, \"type\": \"choropleth\"}], \"contour\": [{\"colorbar\": {\"outlinewidth\": 0, \"ticks\": \"\"}, \"colorscale\": [[0.0, \"#0d0887\"], [0.1111111111111111, \"#46039f\"], [0.2222222222222222, \"#7201a8\"], [0.3333333333333333, \"#9c179e\"], [0.4444444444444444, \"#bd3786\"], [0.5555555555555556, \"#d8576b\"], [0.6666666666666666, \"#ed7953\"], [0.7777777777777778, \"#fb9f3a\"], [0.8888888888888888, \"#fdca26\"], [1.0, \"#f0f921\"]], \"type\": \"contour\"}], \"contourcarpet\": [{\"colorbar\": {\"outlinewidth\": 0, \"ticks\": \"\"}, \"type\": \"contourcarpet\"}], \"heatmap\": [{\"colorbar\": {\"outlinewidth\": 0, \"ticks\": \"\"}, \"colorscale\": [[0.0, \"#0d0887\"], [0.1111111111111111, \"#46039f\"], [0.2222222222222222, \"#7201a8\"], [0.3333333333333333, \"#9c179e\"], [0.4444444444444444, \"#bd3786\"], [0.5555555555555556, \"#d8576b\"], [0.6666666666666666, \"#ed7953\"], [0.7777777777777778, \"#fb9f3a\"], [0.8888888888888888, \"#fdca26\"], [1.0, \"#f0f921\"]], \"type\": \"heatmap\"}], \"heatmapgl\": [{\"colorbar\": {\"outlinewidth\": 0, \"ticks\": \"\"}, \"colorscale\": [[0.0, \"#0d0887\"], [0.1111111111111111, \"#46039f\"], [0.2222222222222222, \"#7201a8\"], [0.3333333333333333, \"#9c179e\"], [0.4444444444444444, \"#bd3786\"], [0.5555555555555556, \"#d8576b\"], [0.6666666666666666, \"#ed7953\"], [0.7777777777777778, \"#fb9f3a\"], [0.8888888888888888, \"#fdca26\"], [1.0, \"#f0f921\"]], \"type\": \"heatmapgl\"}], \"histogram\": [{\"marker\": {\"colorbar\": {\"outlinewidth\": 0, \"ticks\": \"\"}}, \"type\": \"histogram\"}], \"histogram2d\": [{\"colorbar\": {\"outlinewidth\": 0, \"ticks\": \"\"}, \"colorscale\": [[0.0, \"#0d0887\"], [0.1111111111111111, \"#46039f\"], [0.2222222222222222, \"#7201a8\"], [0.3333333333333333, \"#9c179e\"], [0.4444444444444444, \"#bd3786\"], [0.5555555555555556, \"#d8576b\"], [0.6666666666666666, \"#ed7953\"], [0.7777777777777778, \"#fb9f3a\"], [0.8888888888888888, \"#fdca26\"], [1.0, \"#f0f921\"]], \"type\": \"histogram2d\"}], \"histogram2dcontour\": [{\"colorbar\": {\"outlinewidth\": 0, \"ticks\": \"\"}, \"colorscale\": [[0.0, \"#0d0887\"], [0.1111111111111111, \"#46039f\"], [0.2222222222222222, \"#7201a8\"], [0.3333333333333333, \"#9c179e\"], [0.4444444444444444, \"#bd3786\"], [0.5555555555555556, \"#d8576b\"], [0.6666666666666666, \"#ed7953\"], [0.7777777777777778, \"#fb9f3a\"], [0.8888888888888888, \"#fdca26\"], [1.0, \"#f0f921\"]], \"type\": \"histogram2dcontour\"}], \"mesh3d\": [{\"colorbar\": {\"outlinewidth\": 0, \"ticks\": \"\"}, \"type\": \"mesh3d\"}], \"parcoords\": [{\"line\": {\"colorbar\": {\"outlinewidth\": 0, \"ticks\": \"\"}}, \"type\": \"parcoords\"}], \"pie\": [{\"automargin\": true, \"type\": \"pie\"}], \"scatter\": [{\"marker\": {\"colorbar\": {\"outlinewidth\": 0, \"ticks\": \"\"}}, \"type\": \"scatter\"}], \"scatter3d\": [{\"line\": {\"colorbar\": {\"outlinewidth\": 0, \"ticks\": \"\"}}, \"marker\": {\"colorbar\": {\"outlinewidth\": 0, \"ticks\": \"\"}}, \"type\": \"scatter3d\"}], \"scattercarpet\": [{\"marker\": {\"colorbar\": {\"outlinewidth\": 0, \"ticks\": \"\"}}, \"type\": \"scattercarpet\"}], \"scattergeo\": [{\"marker\": {\"colorbar\": {\"outlinewidth\": 0, \"ticks\": \"\"}}, \"type\": \"scattergeo\"}], \"scattergl\": [{\"marker\": {\"colorbar\": {\"outlinewidth\": 0, \"ticks\": \"\"}}, \"type\": \"scattergl\"}], \"scattermapbox\": [{\"marker\": {\"colorbar\": {\"outlinewidth\": 0, \"ticks\": \"\"}}, \"type\": \"scattermapbox\"}], \"scatterpolar\": [{\"marker\": {\"colorbar\": {\"outlinewidth\": 0, \"ticks\": \"\"}}, \"type\": \"scatterpolar\"}], \"scatterpolargl\": [{\"marker\": {\"colorbar\": {\"outlinewidth\": 0, \"ticks\": \"\"}}, \"type\": \"scatterpolargl\"}], \"scatterternary\": [{\"marker\": {\"colorbar\": {\"outlinewidth\": 0, \"ticks\": \"\"}}, \"type\": \"scatterternary\"}], \"surface\": [{\"colorbar\": {\"outlinewidth\": 0, \"ticks\": \"\"}, \"colorscale\": [[0.0, \"#0d0887\"], [0.1111111111111111, \"#46039f\"], [0.2222222222222222, \"#7201a8\"], [0.3333333333333333, \"#9c179e\"], [0.4444444444444444, \"#bd3786\"], [0.5555555555555556, \"#d8576b\"], [0.6666666666666666, \"#ed7953\"], [0.7777777777777778, \"#fb9f3a\"], [0.8888888888888888, \"#fdca26\"], [1.0, \"#f0f921\"]], \"type\": \"surface\"}], \"table\": [{\"cells\": {\"fill\": {\"color\": \"#EBF0F8\"}, \"line\": {\"color\": \"white\"}}, \"header\": {\"fill\": {\"color\": \"#C8D4E3\"}, \"line\": {\"color\": \"white\"}}, \"type\": \"table\"}]}, \"layout\": {\"annotationdefaults\": {\"arrowcolor\": \"#2a3f5f\", \"arrowhead\": 0, \"arrowwidth\": 1}, \"autotypenumbers\": \"strict\", \"coloraxis\": {\"colorbar\": {\"outlinewidth\": 0, \"ticks\": \"\"}}, \"colorscale\": {\"diverging\": [[0, \"#8e0152\"], [0.1, \"#c51b7d\"], [0.2, \"#de77ae\"], [0.3, \"#f1b6da\"], [0.4, \"#fde0ef\"], [0.5, \"#f7f7f7\"], [0.6, \"#e6f5d0\"], [0.7, \"#b8e186\"], [0.8, \"#7fbc41\"], [0.9, \"#4d9221\"], [1, \"#276419\"]], \"sequential\": [[0.0, \"#0d0887\"], [0.1111111111111111, \"#46039f\"], [0.2222222222222222, \"#7201a8\"], [0.3333333333333333, \"#9c179e\"], [0.4444444444444444, \"#bd3786\"], [0.5555555555555556, \"#d8576b\"], [0.6666666666666666, \"#ed7953\"], [0.7777777777777778, \"#fb9f3a\"], [0.8888888888888888, \"#fdca26\"], [1.0, \"#f0f921\"]], \"sequentialminus\": [[0.0, \"#0d0887\"], [0.1111111111111111, \"#46039f\"], [0.2222222222222222, \"#7201a8\"], [0.3333333333333333, \"#9c179e\"], [0.4444444444444444, \"#bd3786\"], [0.5555555555555556, \"#d8576b\"], [0.6666666666666666, \"#ed7953\"], [0.7777777777777778, \"#fb9f3a\"], [0.8888888888888888, \"#fdca26\"], [1.0, \"#f0f921\"]]}, \"colorway\": [\"#636efa\", \"#EF553B\", \"#00cc96\", \"#ab63fa\", \"#FFA15A\", \"#19d3f3\", \"#FF6692\", \"#B6E880\", \"#FF97FF\", \"#FECB52\"], \"font\": {\"color\": \"#2a3f5f\"}, \"geo\": {\"bgcolor\": \"white\", \"lakecolor\": \"white\", \"landcolor\": \"#E5ECF6\", \"showlakes\": true, \"showland\": true, \"subunitcolor\": \"white\"}, \"hoverlabel\": {\"align\": \"left\"}, \"hovermode\": \"closest\", \"mapbox\": {\"style\": \"light\"}, \"paper_bgcolor\": \"white\", \"plot_bgcolor\": \"#E5ECF6\", \"polar\": {\"angularaxis\": {\"gridcolor\": \"white\", \"linecolor\": \"white\", \"ticks\": \"\"}, \"bgcolor\": \"#E5ECF6\", \"radialaxis\": {\"gridcolor\": \"white\", \"linecolor\": \"white\", \"ticks\": \"\"}}, \"scene\": {\"xaxis\": {\"backgroundcolor\": \"#E5ECF6\", \"gridcolor\": \"white\", \"gridwidth\": 2, \"linecolor\": \"white\", \"showbackground\": true, \"ticks\": \"\", \"zerolinecolor\": \"white\"}, \"yaxis\": {\"backgroundcolor\": \"#E5ECF6\", \"gridcolor\": \"white\", \"gridwidth\": 2, \"linecolor\": \"white\", \"showbackground\": true, \"ticks\": \"\", \"zerolinecolor\": \"white\"}, \"zaxis\": {\"backgroundcolor\": \"#E5ECF6\", \"gridcolor\": \"white\", \"gridwidth\": 2, \"linecolor\": \"white\", \"showbackground\": true, \"ticks\": \"\", \"zerolinecolor\": \"white\"}}, \"shapedefaults\": {\"line\": {\"color\": \"#2a3f5f\"}}, \"ternary\": {\"aaxis\": {\"gridcolor\": \"white\", \"linecolor\": \"white\", \"ticks\": \"\"}, \"baxis\": {\"gridcolor\": \"white\", \"linecolor\": \"white\", \"ticks\": \"\"}, \"bgcolor\": \"#E5ECF6\", \"caxis\": {\"gridcolor\": \"white\", \"linecolor\": \"white\", \"ticks\": \"\"}}, \"title\": {\"x\": 0.05}, \"xaxis\": {\"automargin\": true, \"gridcolor\": \"white\", \"linecolor\": \"white\", \"ticks\": \"\", \"title\": {\"standoff\": 15}, \"zerolinecolor\": \"white\", \"zerolinewidth\": 2}, \"yaxis\": {\"automargin\": true, \"gridcolor\": \"white\", \"linecolor\": \"white\", \"ticks\": \"\", \"title\": {\"standoff\": 15}, \"zerolinecolor\": \"white\", \"zerolinewidth\": 2}}}, \"title\": {\"font\": {\"color\": \"#4D5663\"}}, \"xaxis\": {\"gridcolor\": \"#E1E5ED\", \"showgrid\": true, \"tickfont\": {\"color\": \"#4D5663\"}, \"title\": {\"font\": {\"color\": \"#4D5663\"}, \"text\": \"\"}, \"zerolinecolor\": \"#E1E5ED\"}, \"yaxis\": {\"gridcolor\": \"#E1E5ED\", \"showgrid\": true, \"tickfont\": {\"color\": \"#4D5663\"}, \"title\": {\"font\": {\"color\": \"#4D5663\"}, \"text\": \"\"}, \"zerolinecolor\": \"#E1E5ED\"}},                        {\"showLink\": true, \"linkText\": \"Export to plot.ly\", \"plotlyServerURL\": \"https://plot.ly\", \"responsive\": true}                    ).then(function(){\n",
       "                            \n",
       "var gd = document.getElementById('16f1e826-1936-42f4-a2ef-4c8442cef1e5');\n",
       "var x = new MutationObserver(function (mutations, observer) {{\n",
       "        var display = window.getComputedStyle(gd).display;\n",
       "        if (!display || display === 'none') {{\n",
       "            console.log([gd, 'removed!']);\n",
       "            Plotly.purge(gd);\n",
       "            observer.disconnect();\n",
       "        }}\n",
       "}});\n",
       "\n",
       "// Listen for the removal of the full notebook cells\n",
       "var notebookContainer = gd.closest('#notebook-container');\n",
       "if (notebookContainer) {{\n",
       "    x.observe(notebookContainer, {childList: true});\n",
       "}}\n",
       "\n",
       "// Listen for the clearing of the current output cell\n",
       "var outputEl = gd.closest('.output');\n",
       "if (outputEl) {{\n",
       "    x.observe(outputEl, {childList: true});\n",
       "}}\n",
       "\n",
       "                        })                };                });            </script>        </div>"
      ]
     },
     "metadata": {},
     "output_type": "display_data"
    }
   ],
   "source": [
    "df['A'].iplot(kind='hist',bins=25)"
   ]
  },
  {
   "cell_type": "code",
   "execution_count": 17,
   "metadata": {},
   "outputs": [
    {
     "data": {
      "application/vnd.plotly.v1+json": {
       "config": {
        "linkText": "Export to plot.ly",
        "plotlyServerURL": "https://plot.ly",
        "showLink": true
       },
       "data": [
        {
         "marker": {
          "color": [
           "rgb(255, 153, 51)",
           "rgb(55, 128, 191)",
           "rgb(50, 171, 96)",
           "rgb(128, 0, 128)",
           "rgb(219, 64, 82)",
           "rgb(0, 128, 128)",
           "rgb(255, 255, 51)",
           "rgb(128, 128, 0)",
           "rgb(251, 128, 114)",
           "rgb(128, 177, 211)"
          ],
          "line": {
           "width": 1.3
          },
          "size": [
           88,
           75,
           89,
           98,
           62,
           76,
           48,
           85,
           69,
           41,
           36,
           49,
           61,
           70,
           60,
           61,
           63,
           73,
           68,
           64,
           61,
           63,
           63,
           78,
           59,
           67,
           57,
           77,
           77,
           81,
           52,
           69,
           76,
           73,
           72,
           60,
           84,
           51,
           82,
           56,
           77,
           89,
           69,
           70,
           51,
           78,
           57,
           45,
           89,
           67,
           67,
           104,
           55,
           76,
           80,
           72,
           46,
           68,
           78,
           74,
           12,
           58,
           89,
           73,
           83,
           60,
           63,
           63,
           63,
           47,
           95,
           66,
           53,
           69,
           66,
           92,
           74,
           61,
           111,
           88,
           112,
           73,
           85,
           73,
           52,
           64,
           36,
           77,
           102,
           52,
           73,
           50,
           92,
           55,
           79,
           48,
           69,
           77,
           68,
           59
          ],
          "symbol": "circle"
         },
         "mode": "markers",
         "text": "",
         "type": "scatter",
         "x": [
          -0.4388542745687468,
          0.38408546159996987,
          -0.7413763683855321,
          -2.0288498139440914,
          0.8624022381361729,
          -0.7390775027313098,
          -0.112055115702541,
          0.9806345007382388,
          -1.0309612695870745,
          -0.42208014577143504,
          -0.6589458881544358,
          1.6189909942527092,
          0.6280941855399383,
          0.5824415788359514,
          1.407947397974564,
          -0.6055181775783632,
          0.26145880753689704,
          -1.6728439093333693,
          1.6860521621788684,
          1.009329541212465,
          -1.8503028350686974,
          -0.20999184471500965,
          -2.2932587368033177,
          -1.052360060273866,
          0.7434586671733655,
          0.24587075068617625,
          -1.1941403964622943,
          -0.4868426790349285,
          0.8398227332351278,
          0.7617615697209622,
          0.14507569288658226,
          0.5443829206564472,
          0.937364315832808,
          1.2470954452432272,
          -0.5534980066811476,
          1.5123201135236342,
          0.8987462567974541,
          0.5791080389203644,
          -0.2169166729652307,
          1.1859624278722207,
          -1.0513105071512439,
          -0.5537498496696196,
          -1.1876608548600875,
          0.28581503368341776,
          -0.8373909670462102,
          -0.49908970926011703,
          -1.0529342880820247,
          -0.9248567740307652,
          1.764463447885169,
          0.5901326366414836,
          -1.142075713218274,
          -0.8946017497616889,
          0.0144652299158461,
          0.1279379505634851,
          -1.0120014602064225,
          0.0363380032435725,
          0.21366402851299293,
          -0.18459741491488368,
          0.550611238075139,
          -1.1964210420445283,
          0.27844714124707004,
          -0.601675012386725,
          0.09034648034734893,
          -1.019728088992673,
          -1.1810422893142594,
          -1.0302218578695155,
          -0.02807953192685473,
          2.1234225090964385,
          -1.7218913699279377,
          -1.107127947693045,
          0.07029646761054668,
          -0.44745598771982803,
          1.148766935793685,
          0.016377942985925025,
          -0.638644767078107,
          -0.6605524605312318,
          -0.12626451146059678,
          0.23314954919639108,
          0.13663921181967784,
          -1.0216268345305923,
          0.2665031884388046,
          0.35416299293513925,
          -0.053121967639487025,
          0.7862011170376131,
          -0.47712670671197815,
          0.7931940780649613,
          -0.32398602740064425,
          -0.7796188551276063,
          -1.0774772125396894,
          0.8366000799612457,
          -0.7252752826298803,
          0.47420209435821925,
          0.16479101958522108,
          0.7805292644873063,
          -0.1922784699312706,
          0.01984409354644912,
          -0.5905422812265733,
          0.2857750483391747,
          -0.8738282207287031,
          1.2715167674609458
         ],
         "y": [
          -1.3627216013659846,
          0.2746479273419688,
          0.7009464451380578,
          -1.3811013400556857,
          -1.7428511959512216,
          -0.8905026557041102,
          -0.551282879317178,
          0.22107331559969615,
          -1.5843865530614263,
          -1.9578013663048495,
          1.6767888897250252,
          0.5704931064566529,
          -0.6314149241481537,
          0.2757322702947673,
          0.7876966927085246,
          -0.8981643739025043,
          0.2948816739619415,
          0.1826302665386844,
          -0.9359073662486931,
          -1.457757479610927,
          -0.30185223399542666,
          0.9177284159277574,
          -0.5013513777674213,
          2.9904562197653792,
          1.2102048203993276,
          0.3463027009884661,
          -0.14875933083792445,
          -0.7241462815090236,
          -0.25408636699024595,
          -0.1011944206256832,
          -0.9111289589894425,
          0.09146337137093262,
          1.6008067662713046,
          1.2746041957302874,
          0.9851969510533377,
          -0.8543754688768727,
          1.6107325176724772,
          -1.4755417524303547,
          0.2324101126295466,
          -1.1624830197173044,
          -1.3561431982536194,
          0.5618943121972119,
          0.3401447906679545,
          -1.6615229986560336,
          -0.2078537594217146,
          0.727184088179305,
          -0.311201502392996,
          -0.5015752565114187,
          -1.1721312285095038,
          -1.5649694918407073,
          -1.0939670201572929,
          0.3619889697652782,
          3.367931842022976,
          -0.2521367382602952,
          -0.314242196876435,
          0.28725557906216953,
          -2.3182561631414584,
          -0.5554086695260209,
          -0.42168125402643714,
          1.689241224802193,
          0.07370559648891448,
          -0.6359492421783562,
          0.40914626446901686,
          0.06893059954535942,
          1.0029731029083802,
          1.4683660981628652,
          0.5641680851054268,
          -0.23720583119416894,
          -1.3720094046379412,
          -0.06317150115552012,
          -0.4646886627983753,
          -0.4653757228572715,
          0.26066881226261535,
          0.6871616119462791,
          -0.4920968386727682,
          -0.7887370928876344,
          -2.001483326801323,
          1.679334471231441,
          1.7345100201822912,
          -0.9727078661032714,
          0.2919188486713192,
          0.4653106873555381,
          0.3891081605002875,
          1.1844211163842735,
          -0.3689456505251842,
          0.5046777558050485,
          0.5212098489901662,
          -0.2810122685636921,
          -0.14805919194277323,
          0.25379447016412093,
          -0.3485665898351345,
          0.8050525463698355,
          -0.17894394437635838,
          -0.51770392029611,
          2.074133165916208,
          1.6404422314144023,
          0.4178381849479696,
          -0.11527328671374554,
          0.0746127850615184,
          -0.7620958143342098
         ]
        }
       ],
       "layout": {
        "legend": {
         "bgcolor": "#F5F6F9",
         "font": {
          "color": "#4D5663"
         }
        },
        "paper_bgcolor": "#F5F6F9",
        "plot_bgcolor": "#F5F6F9",
        "template": {
         "data": {
          "bar": [
           {
            "error_x": {
             "color": "#2a3f5f"
            },
            "error_y": {
             "color": "#2a3f5f"
            },
            "marker": {
             "line": {
              "color": "#E5ECF6",
              "width": 0.5
             }
            },
            "type": "bar"
           }
          ],
          "barpolar": [
           {
            "marker": {
             "line": {
              "color": "#E5ECF6",
              "width": 0.5
             }
            },
            "type": "barpolar"
           }
          ],
          "carpet": [
           {
            "aaxis": {
             "endlinecolor": "#2a3f5f",
             "gridcolor": "white",
             "linecolor": "white",
             "minorgridcolor": "white",
             "startlinecolor": "#2a3f5f"
            },
            "baxis": {
             "endlinecolor": "#2a3f5f",
             "gridcolor": "white",
             "linecolor": "white",
             "minorgridcolor": "white",
             "startlinecolor": "#2a3f5f"
            },
            "type": "carpet"
           }
          ],
          "choropleth": [
           {
            "colorbar": {
             "outlinewidth": 0,
             "ticks": ""
            },
            "type": "choropleth"
           }
          ],
          "contour": [
           {
            "colorbar": {
             "outlinewidth": 0,
             "ticks": ""
            },
            "colorscale": [
             [
              0,
              "#0d0887"
             ],
             [
              0.1111111111111111,
              "#46039f"
             ],
             [
              0.2222222222222222,
              "#7201a8"
             ],
             [
              0.3333333333333333,
              "#9c179e"
             ],
             [
              0.4444444444444444,
              "#bd3786"
             ],
             [
              0.5555555555555556,
              "#d8576b"
             ],
             [
              0.6666666666666666,
              "#ed7953"
             ],
             [
              0.7777777777777778,
              "#fb9f3a"
             ],
             [
              0.8888888888888888,
              "#fdca26"
             ],
             [
              1,
              "#f0f921"
             ]
            ],
            "type": "contour"
           }
          ],
          "contourcarpet": [
           {
            "colorbar": {
             "outlinewidth": 0,
             "ticks": ""
            },
            "type": "contourcarpet"
           }
          ],
          "heatmap": [
           {
            "colorbar": {
             "outlinewidth": 0,
             "ticks": ""
            },
            "colorscale": [
             [
              0,
              "#0d0887"
             ],
             [
              0.1111111111111111,
              "#46039f"
             ],
             [
              0.2222222222222222,
              "#7201a8"
             ],
             [
              0.3333333333333333,
              "#9c179e"
             ],
             [
              0.4444444444444444,
              "#bd3786"
             ],
             [
              0.5555555555555556,
              "#d8576b"
             ],
             [
              0.6666666666666666,
              "#ed7953"
             ],
             [
              0.7777777777777778,
              "#fb9f3a"
             ],
             [
              0.8888888888888888,
              "#fdca26"
             ],
             [
              1,
              "#f0f921"
             ]
            ],
            "type": "heatmap"
           }
          ],
          "heatmapgl": [
           {
            "colorbar": {
             "outlinewidth": 0,
             "ticks": ""
            },
            "colorscale": [
             [
              0,
              "#0d0887"
             ],
             [
              0.1111111111111111,
              "#46039f"
             ],
             [
              0.2222222222222222,
              "#7201a8"
             ],
             [
              0.3333333333333333,
              "#9c179e"
             ],
             [
              0.4444444444444444,
              "#bd3786"
             ],
             [
              0.5555555555555556,
              "#d8576b"
             ],
             [
              0.6666666666666666,
              "#ed7953"
             ],
             [
              0.7777777777777778,
              "#fb9f3a"
             ],
             [
              0.8888888888888888,
              "#fdca26"
             ],
             [
              1,
              "#f0f921"
             ]
            ],
            "type": "heatmapgl"
           }
          ],
          "histogram": [
           {
            "marker": {
             "colorbar": {
              "outlinewidth": 0,
              "ticks": ""
             }
            },
            "type": "histogram"
           }
          ],
          "histogram2d": [
           {
            "colorbar": {
             "outlinewidth": 0,
             "ticks": ""
            },
            "colorscale": [
             [
              0,
              "#0d0887"
             ],
             [
              0.1111111111111111,
              "#46039f"
             ],
             [
              0.2222222222222222,
              "#7201a8"
             ],
             [
              0.3333333333333333,
              "#9c179e"
             ],
             [
              0.4444444444444444,
              "#bd3786"
             ],
             [
              0.5555555555555556,
              "#d8576b"
             ],
             [
              0.6666666666666666,
              "#ed7953"
             ],
             [
              0.7777777777777778,
              "#fb9f3a"
             ],
             [
              0.8888888888888888,
              "#fdca26"
             ],
             [
              1,
              "#f0f921"
             ]
            ],
            "type": "histogram2d"
           }
          ],
          "histogram2dcontour": [
           {
            "colorbar": {
             "outlinewidth": 0,
             "ticks": ""
            },
            "colorscale": [
             [
              0,
              "#0d0887"
             ],
             [
              0.1111111111111111,
              "#46039f"
             ],
             [
              0.2222222222222222,
              "#7201a8"
             ],
             [
              0.3333333333333333,
              "#9c179e"
             ],
             [
              0.4444444444444444,
              "#bd3786"
             ],
             [
              0.5555555555555556,
              "#d8576b"
             ],
             [
              0.6666666666666666,
              "#ed7953"
             ],
             [
              0.7777777777777778,
              "#fb9f3a"
             ],
             [
              0.8888888888888888,
              "#fdca26"
             ],
             [
              1,
              "#f0f921"
             ]
            ],
            "type": "histogram2dcontour"
           }
          ],
          "mesh3d": [
           {
            "colorbar": {
             "outlinewidth": 0,
             "ticks": ""
            },
            "type": "mesh3d"
           }
          ],
          "parcoords": [
           {
            "line": {
             "colorbar": {
              "outlinewidth": 0,
              "ticks": ""
             }
            },
            "type": "parcoords"
           }
          ],
          "pie": [
           {
            "automargin": true,
            "type": "pie"
           }
          ],
          "scatter": [
           {
            "marker": {
             "colorbar": {
              "outlinewidth": 0,
              "ticks": ""
             }
            },
            "type": "scatter"
           }
          ],
          "scatter3d": [
           {
            "line": {
             "colorbar": {
              "outlinewidth": 0,
              "ticks": ""
             }
            },
            "marker": {
             "colorbar": {
              "outlinewidth": 0,
              "ticks": ""
             }
            },
            "type": "scatter3d"
           }
          ],
          "scattercarpet": [
           {
            "marker": {
             "colorbar": {
              "outlinewidth": 0,
              "ticks": ""
             }
            },
            "type": "scattercarpet"
           }
          ],
          "scattergeo": [
           {
            "marker": {
             "colorbar": {
              "outlinewidth": 0,
              "ticks": ""
             }
            },
            "type": "scattergeo"
           }
          ],
          "scattergl": [
           {
            "marker": {
             "colorbar": {
              "outlinewidth": 0,
              "ticks": ""
             }
            },
            "type": "scattergl"
           }
          ],
          "scattermapbox": [
           {
            "marker": {
             "colorbar": {
              "outlinewidth": 0,
              "ticks": ""
             }
            },
            "type": "scattermapbox"
           }
          ],
          "scatterpolar": [
           {
            "marker": {
             "colorbar": {
              "outlinewidth": 0,
              "ticks": ""
             }
            },
            "type": "scatterpolar"
           }
          ],
          "scatterpolargl": [
           {
            "marker": {
             "colorbar": {
              "outlinewidth": 0,
              "ticks": ""
             }
            },
            "type": "scatterpolargl"
           }
          ],
          "scatterternary": [
           {
            "marker": {
             "colorbar": {
              "outlinewidth": 0,
              "ticks": ""
             }
            },
            "type": "scatterternary"
           }
          ],
          "surface": [
           {
            "colorbar": {
             "outlinewidth": 0,
             "ticks": ""
            },
            "colorscale": [
             [
              0,
              "#0d0887"
             ],
             [
              0.1111111111111111,
              "#46039f"
             ],
             [
              0.2222222222222222,
              "#7201a8"
             ],
             [
              0.3333333333333333,
              "#9c179e"
             ],
             [
              0.4444444444444444,
              "#bd3786"
             ],
             [
              0.5555555555555556,
              "#d8576b"
             ],
             [
              0.6666666666666666,
              "#ed7953"
             ],
             [
              0.7777777777777778,
              "#fb9f3a"
             ],
             [
              0.8888888888888888,
              "#fdca26"
             ],
             [
              1,
              "#f0f921"
             ]
            ],
            "type": "surface"
           }
          ],
          "table": [
           {
            "cells": {
             "fill": {
              "color": "#EBF0F8"
             },
             "line": {
              "color": "white"
             }
            },
            "header": {
             "fill": {
              "color": "#C8D4E3"
             },
             "line": {
              "color": "white"
             }
            },
            "type": "table"
           }
          ]
         },
         "layout": {
          "annotationdefaults": {
           "arrowcolor": "#2a3f5f",
           "arrowhead": 0,
           "arrowwidth": 1
          },
          "autotypenumbers": "strict",
          "coloraxis": {
           "colorbar": {
            "outlinewidth": 0,
            "ticks": ""
           }
          },
          "colorscale": {
           "diverging": [
            [
             0,
             "#8e0152"
            ],
            [
             0.1,
             "#c51b7d"
            ],
            [
             0.2,
             "#de77ae"
            ],
            [
             0.3,
             "#f1b6da"
            ],
            [
             0.4,
             "#fde0ef"
            ],
            [
             0.5,
             "#f7f7f7"
            ],
            [
             0.6,
             "#e6f5d0"
            ],
            [
             0.7,
             "#b8e186"
            ],
            [
             0.8,
             "#7fbc41"
            ],
            [
             0.9,
             "#4d9221"
            ],
            [
             1,
             "#276419"
            ]
           ],
           "sequential": [
            [
             0,
             "#0d0887"
            ],
            [
             0.1111111111111111,
             "#46039f"
            ],
            [
             0.2222222222222222,
             "#7201a8"
            ],
            [
             0.3333333333333333,
             "#9c179e"
            ],
            [
             0.4444444444444444,
             "#bd3786"
            ],
            [
             0.5555555555555556,
             "#d8576b"
            ],
            [
             0.6666666666666666,
             "#ed7953"
            ],
            [
             0.7777777777777778,
             "#fb9f3a"
            ],
            [
             0.8888888888888888,
             "#fdca26"
            ],
            [
             1,
             "#f0f921"
            ]
           ],
           "sequentialminus": [
            [
             0,
             "#0d0887"
            ],
            [
             0.1111111111111111,
             "#46039f"
            ],
            [
             0.2222222222222222,
             "#7201a8"
            ],
            [
             0.3333333333333333,
             "#9c179e"
            ],
            [
             0.4444444444444444,
             "#bd3786"
            ],
            [
             0.5555555555555556,
             "#d8576b"
            ],
            [
             0.6666666666666666,
             "#ed7953"
            ],
            [
             0.7777777777777778,
             "#fb9f3a"
            ],
            [
             0.8888888888888888,
             "#fdca26"
            ],
            [
             1,
             "#f0f921"
            ]
           ]
          },
          "colorway": [
           "#636efa",
           "#EF553B",
           "#00cc96",
           "#ab63fa",
           "#FFA15A",
           "#19d3f3",
           "#FF6692",
           "#B6E880",
           "#FF97FF",
           "#FECB52"
          ],
          "font": {
           "color": "#2a3f5f"
          },
          "geo": {
           "bgcolor": "white",
           "lakecolor": "white",
           "landcolor": "#E5ECF6",
           "showlakes": true,
           "showland": true,
           "subunitcolor": "white"
          },
          "hoverlabel": {
           "align": "left"
          },
          "hovermode": "closest",
          "mapbox": {
           "style": "light"
          },
          "paper_bgcolor": "white",
          "plot_bgcolor": "#E5ECF6",
          "polar": {
           "angularaxis": {
            "gridcolor": "white",
            "linecolor": "white",
            "ticks": ""
           },
           "bgcolor": "#E5ECF6",
           "radialaxis": {
            "gridcolor": "white",
            "linecolor": "white",
            "ticks": ""
           }
          },
          "scene": {
           "xaxis": {
            "backgroundcolor": "#E5ECF6",
            "gridcolor": "white",
            "gridwidth": 2,
            "linecolor": "white",
            "showbackground": true,
            "ticks": "",
            "zerolinecolor": "white"
           },
           "yaxis": {
            "backgroundcolor": "#E5ECF6",
            "gridcolor": "white",
            "gridwidth": 2,
            "linecolor": "white",
            "showbackground": true,
            "ticks": "",
            "zerolinecolor": "white"
           },
           "zaxis": {
            "backgroundcolor": "#E5ECF6",
            "gridcolor": "white",
            "gridwidth": 2,
            "linecolor": "white",
            "showbackground": true,
            "ticks": "",
            "zerolinecolor": "white"
           }
          },
          "shapedefaults": {
           "line": {
            "color": "#2a3f5f"
           }
          },
          "ternary": {
           "aaxis": {
            "gridcolor": "white",
            "linecolor": "white",
            "ticks": ""
           },
           "baxis": {
            "gridcolor": "white",
            "linecolor": "white",
            "ticks": ""
           },
           "bgcolor": "#E5ECF6",
           "caxis": {
            "gridcolor": "white",
            "linecolor": "white",
            "ticks": ""
           }
          },
          "title": {
           "x": 0.05
          },
          "xaxis": {
           "automargin": true,
           "gridcolor": "white",
           "linecolor": "white",
           "ticks": "",
           "title": {
            "standoff": 15
           },
           "zerolinecolor": "white",
           "zerolinewidth": 2
          },
          "yaxis": {
           "automargin": true,
           "gridcolor": "white",
           "linecolor": "white",
           "ticks": "",
           "title": {
            "standoff": 15
           },
           "zerolinecolor": "white",
           "zerolinewidth": 2
          }
         }
        },
        "title": {
         "font": {
          "color": "#4D5663"
         }
        },
        "xaxis": {
         "gridcolor": "#E1E5ED",
         "showgrid": true,
         "tickfont": {
          "color": "#4D5663"
         },
         "title": {
          "font": {
           "color": "#4D5663"
          },
          "text": ""
         },
         "zerolinecolor": "#E1E5ED"
        },
        "yaxis": {
         "gridcolor": "#E1E5ED",
         "showgrid": true,
         "tickfont": {
          "color": "#4D5663"
         },
         "title": {
          "font": {
           "color": "#4D5663"
          },
          "text": ""
         },
         "zerolinecolor": "#E1E5ED"
        }
       }
      },
      "text/html": [
       "<div>                            <div id=\"c77fc6c9-4b40-4326-856d-0a686275d7ab\" class=\"plotly-graph-div\" style=\"height:525px; width:100%;\"></div>            <script type=\"text/javascript\">                require([\"plotly\"], function(Plotly) {                    window.PLOTLYENV=window.PLOTLYENV || {};\n",
       "                    window.PLOTLYENV.BASE_URL='https://plot.ly';                                    if (document.getElementById(\"c77fc6c9-4b40-4326-856d-0a686275d7ab\")) {                    Plotly.newPlot(                        \"c77fc6c9-4b40-4326-856d-0a686275d7ab\",                        [{\"marker\": {\"color\": [\"rgb(255, 153, 51)\", \"rgb(55, 128, 191)\", \"rgb(50, 171, 96)\", \"rgb(128, 0, 128)\", \"rgb(219, 64, 82)\", \"rgb(0, 128, 128)\", \"rgb(255, 255, 51)\", \"rgb(128, 128, 0)\", \"rgb(251, 128, 114)\", \"rgb(128, 177, 211)\"], \"line\": {\"width\": 1.3}, \"size\": [88, 75, 89, 98, 62, 76, 48, 85, 69, 41, 36, 49, 61, 70, 60, 61, 63, 73, 68, 64, 61, 63, 63, 78, 59, 67, 57, 77, 77, 81, 52, 69, 76, 73, 72, 60, 84, 51, 82, 56, 77, 89, 69, 70, 51, 78, 57, 45, 89, 67, 67, 104, 55, 76, 80, 72, 46, 68, 78, 74, 12, 58, 89, 73, 83, 60, 63, 63, 63, 47, 95, 66, 53, 69, 66, 92, 74, 61, 111, 88, 112, 73, 85, 73, 52, 64, 36, 77, 102, 52, 73, 50, 92, 55, 79, 48, 69, 77, 68, 59], \"symbol\": \"circle\"}, \"mode\": \"markers\", \"text\": \"\", \"type\": \"scatter\", \"x\": [-0.4388542745687468, 0.38408546159996987, -0.7413763683855321, -2.0288498139440914, 0.8624022381361729, -0.7390775027313098, -0.112055115702541, 0.9806345007382388, -1.0309612695870745, -0.42208014577143504, -0.6589458881544358, 1.6189909942527092, 0.6280941855399383, 0.5824415788359514, 1.407947397974564, -0.6055181775783632, 0.26145880753689704, -1.6728439093333693, 1.6860521621788684, 1.009329541212465, -1.8503028350686974, -0.20999184471500965, -2.2932587368033177, -1.052360060273866, 0.7434586671733655, 0.24587075068617625, -1.1941403964622943, -0.4868426790349285, 0.8398227332351278, 0.7617615697209622, 0.14507569288658226, 0.5443829206564472, 0.937364315832808, 1.2470954452432272, -0.5534980066811476, 1.5123201135236342, 0.8987462567974541, 0.5791080389203644, -0.2169166729652307, 1.1859624278722207, -1.0513105071512439, -0.5537498496696196, -1.1876608548600875, 0.28581503368341776, -0.8373909670462102, -0.49908970926011703, -1.0529342880820247, -0.9248567740307652, 1.764463447885169, 0.5901326366414836, -1.142075713218274, -0.8946017497616889, 0.0144652299158461, 0.1279379505634851, -1.0120014602064225, 0.0363380032435725, 0.21366402851299293, -0.18459741491488368, 0.550611238075139, -1.1964210420445283, 0.27844714124707004, -0.601675012386725, 0.09034648034734893, -1.019728088992673, -1.1810422893142594, -1.0302218578695155, -0.02807953192685473, 2.1234225090964385, -1.7218913699279377, -1.107127947693045, 0.07029646761054668, -0.44745598771982803, 1.148766935793685, 0.016377942985925025, -0.638644767078107, -0.6605524605312318, -0.12626451146059678, 0.23314954919639108, 0.13663921181967784, -1.0216268345305923, 0.2665031884388046, 0.35416299293513925, -0.053121967639487025, 0.7862011170376131, -0.47712670671197815, 0.7931940780649613, -0.32398602740064425, -0.7796188551276063, -1.0774772125396894, 0.8366000799612457, -0.7252752826298803, 0.47420209435821925, 0.16479101958522108, 0.7805292644873063, -0.1922784699312706, 0.01984409354644912, -0.5905422812265733, 0.2857750483391747, -0.8738282207287031, 1.2715167674609458], \"y\": [-1.3627216013659846, 0.2746479273419688, 0.7009464451380578, -1.3811013400556857, -1.7428511959512216, -0.8905026557041102, -0.551282879317178, 0.22107331559969615, -1.5843865530614263, -1.9578013663048495, 1.6767888897250252, 0.5704931064566529, -0.6314149241481537, 0.2757322702947673, 0.7876966927085246, -0.8981643739025043, 0.2948816739619415, 0.1826302665386844, -0.9359073662486931, -1.457757479610927, -0.30185223399542666, 0.9177284159277574, -0.5013513777674213, 2.9904562197653792, 1.2102048203993276, 0.3463027009884661, -0.14875933083792445, -0.7241462815090236, -0.25408636699024595, -0.1011944206256832, -0.9111289589894425, 0.09146337137093262, 1.6008067662713046, 1.2746041957302874, 0.9851969510533377, -0.8543754688768727, 1.6107325176724772, -1.4755417524303547, 0.2324101126295466, -1.1624830197173044, -1.3561431982536194, 0.5618943121972119, 0.3401447906679545, -1.6615229986560336, -0.2078537594217146, 0.727184088179305, -0.311201502392996, -0.5015752565114187, -1.1721312285095038, -1.5649694918407073, -1.0939670201572929, 0.3619889697652782, 3.367931842022976, -0.2521367382602952, -0.314242196876435, 0.28725557906216953, -2.3182561631414584, -0.5554086695260209, -0.42168125402643714, 1.689241224802193, 0.07370559648891448, -0.6359492421783562, 0.40914626446901686, 0.06893059954535942, 1.0029731029083802, 1.4683660981628652, 0.5641680851054268, -0.23720583119416894, -1.3720094046379412, -0.06317150115552012, -0.4646886627983753, -0.4653757228572715, 0.26066881226261535, 0.6871616119462791, -0.4920968386727682, -0.7887370928876344, -2.001483326801323, 1.679334471231441, 1.7345100201822912, -0.9727078661032714, 0.2919188486713192, 0.4653106873555381, 0.3891081605002875, 1.1844211163842735, -0.3689456505251842, 0.5046777558050485, 0.5212098489901662, -0.2810122685636921, -0.14805919194277323, 0.25379447016412093, -0.3485665898351345, 0.8050525463698355, -0.17894394437635838, -0.51770392029611, 2.074133165916208, 1.6404422314144023, 0.4178381849479696, -0.11527328671374554, 0.0746127850615184, -0.7620958143342098]}],                        {\"legend\": {\"bgcolor\": \"#F5F6F9\", \"font\": {\"color\": \"#4D5663\"}}, \"paper_bgcolor\": \"#F5F6F9\", \"plot_bgcolor\": \"#F5F6F9\", \"template\": {\"data\": {\"bar\": [{\"error_x\": {\"color\": \"#2a3f5f\"}, \"error_y\": {\"color\": \"#2a3f5f\"}, \"marker\": {\"line\": {\"color\": \"#E5ECF6\", \"width\": 0.5}}, \"type\": \"bar\"}], \"barpolar\": [{\"marker\": {\"line\": {\"color\": \"#E5ECF6\", \"width\": 0.5}}, \"type\": \"barpolar\"}], \"carpet\": [{\"aaxis\": {\"endlinecolor\": \"#2a3f5f\", \"gridcolor\": \"white\", \"linecolor\": \"white\", \"minorgridcolor\": \"white\", \"startlinecolor\": \"#2a3f5f\"}, \"baxis\": {\"endlinecolor\": \"#2a3f5f\", \"gridcolor\": \"white\", \"linecolor\": \"white\", \"minorgridcolor\": \"white\", \"startlinecolor\": \"#2a3f5f\"}, \"type\": \"carpet\"}], \"choropleth\": [{\"colorbar\": {\"outlinewidth\": 0, \"ticks\": \"\"}, \"type\": \"choropleth\"}], \"contour\": [{\"colorbar\": {\"outlinewidth\": 0, \"ticks\": \"\"}, \"colorscale\": [[0.0, \"#0d0887\"], [0.1111111111111111, \"#46039f\"], [0.2222222222222222, \"#7201a8\"], [0.3333333333333333, \"#9c179e\"], [0.4444444444444444, \"#bd3786\"], [0.5555555555555556, \"#d8576b\"], [0.6666666666666666, \"#ed7953\"], [0.7777777777777778, \"#fb9f3a\"], [0.8888888888888888, \"#fdca26\"], [1.0, \"#f0f921\"]], \"type\": \"contour\"}], \"contourcarpet\": [{\"colorbar\": {\"outlinewidth\": 0, \"ticks\": \"\"}, \"type\": \"contourcarpet\"}], \"heatmap\": [{\"colorbar\": {\"outlinewidth\": 0, \"ticks\": \"\"}, \"colorscale\": [[0.0, \"#0d0887\"], [0.1111111111111111, \"#46039f\"], [0.2222222222222222, \"#7201a8\"], [0.3333333333333333, \"#9c179e\"], [0.4444444444444444, \"#bd3786\"], [0.5555555555555556, \"#d8576b\"], [0.6666666666666666, \"#ed7953\"], [0.7777777777777778, \"#fb9f3a\"], [0.8888888888888888, \"#fdca26\"], [1.0, \"#f0f921\"]], \"type\": \"heatmap\"}], \"heatmapgl\": [{\"colorbar\": {\"outlinewidth\": 0, \"ticks\": \"\"}, \"colorscale\": [[0.0, \"#0d0887\"], [0.1111111111111111, \"#46039f\"], [0.2222222222222222, \"#7201a8\"], [0.3333333333333333, \"#9c179e\"], [0.4444444444444444, \"#bd3786\"], [0.5555555555555556, \"#d8576b\"], [0.6666666666666666, \"#ed7953\"], [0.7777777777777778, \"#fb9f3a\"], [0.8888888888888888, \"#fdca26\"], [1.0, \"#f0f921\"]], \"type\": \"heatmapgl\"}], \"histogram\": [{\"marker\": {\"colorbar\": {\"outlinewidth\": 0, \"ticks\": \"\"}}, \"type\": \"histogram\"}], \"histogram2d\": [{\"colorbar\": {\"outlinewidth\": 0, \"ticks\": \"\"}, \"colorscale\": [[0.0, \"#0d0887\"], [0.1111111111111111, \"#46039f\"], [0.2222222222222222, \"#7201a8\"], [0.3333333333333333, \"#9c179e\"], [0.4444444444444444, \"#bd3786\"], [0.5555555555555556, \"#d8576b\"], [0.6666666666666666, \"#ed7953\"], [0.7777777777777778, \"#fb9f3a\"], [0.8888888888888888, \"#fdca26\"], [1.0, \"#f0f921\"]], \"type\": \"histogram2d\"}], \"histogram2dcontour\": [{\"colorbar\": {\"outlinewidth\": 0, \"ticks\": \"\"}, \"colorscale\": [[0.0, \"#0d0887\"], [0.1111111111111111, \"#46039f\"], [0.2222222222222222, \"#7201a8\"], [0.3333333333333333, \"#9c179e\"], [0.4444444444444444, \"#bd3786\"], [0.5555555555555556, \"#d8576b\"], [0.6666666666666666, \"#ed7953\"], [0.7777777777777778, \"#fb9f3a\"], [0.8888888888888888, \"#fdca26\"], [1.0, \"#f0f921\"]], \"type\": \"histogram2dcontour\"}], \"mesh3d\": [{\"colorbar\": {\"outlinewidth\": 0, \"ticks\": \"\"}, \"type\": \"mesh3d\"}], \"parcoords\": [{\"line\": {\"colorbar\": {\"outlinewidth\": 0, \"ticks\": \"\"}}, \"type\": \"parcoords\"}], \"pie\": [{\"automargin\": true, \"type\": \"pie\"}], \"scatter\": [{\"marker\": {\"colorbar\": {\"outlinewidth\": 0, \"ticks\": \"\"}}, \"type\": \"scatter\"}], \"scatter3d\": [{\"line\": {\"colorbar\": {\"outlinewidth\": 0, \"ticks\": \"\"}}, \"marker\": {\"colorbar\": {\"outlinewidth\": 0, \"ticks\": \"\"}}, \"type\": \"scatter3d\"}], \"scattercarpet\": [{\"marker\": {\"colorbar\": {\"outlinewidth\": 0, \"ticks\": \"\"}}, \"type\": \"scattercarpet\"}], \"scattergeo\": [{\"marker\": {\"colorbar\": {\"outlinewidth\": 0, \"ticks\": \"\"}}, \"type\": \"scattergeo\"}], \"scattergl\": [{\"marker\": {\"colorbar\": {\"outlinewidth\": 0, \"ticks\": \"\"}}, \"type\": \"scattergl\"}], \"scattermapbox\": [{\"marker\": {\"colorbar\": {\"outlinewidth\": 0, \"ticks\": \"\"}}, \"type\": \"scattermapbox\"}], \"scatterpolar\": [{\"marker\": {\"colorbar\": {\"outlinewidth\": 0, \"ticks\": \"\"}}, \"type\": \"scatterpolar\"}], \"scatterpolargl\": [{\"marker\": {\"colorbar\": {\"outlinewidth\": 0, \"ticks\": \"\"}}, \"type\": \"scatterpolargl\"}], \"scatterternary\": [{\"marker\": {\"colorbar\": {\"outlinewidth\": 0, \"ticks\": \"\"}}, \"type\": \"scatterternary\"}], \"surface\": [{\"colorbar\": {\"outlinewidth\": 0, \"ticks\": \"\"}, \"colorscale\": [[0.0, \"#0d0887\"], [0.1111111111111111, \"#46039f\"], [0.2222222222222222, \"#7201a8\"], [0.3333333333333333, \"#9c179e\"], [0.4444444444444444, \"#bd3786\"], [0.5555555555555556, \"#d8576b\"], [0.6666666666666666, \"#ed7953\"], [0.7777777777777778, \"#fb9f3a\"], [0.8888888888888888, \"#fdca26\"], [1.0, \"#f0f921\"]], \"type\": \"surface\"}], \"table\": [{\"cells\": {\"fill\": {\"color\": \"#EBF0F8\"}, \"line\": {\"color\": \"white\"}}, \"header\": {\"fill\": {\"color\": \"#C8D4E3\"}, \"line\": {\"color\": \"white\"}}, \"type\": \"table\"}]}, \"layout\": {\"annotationdefaults\": {\"arrowcolor\": \"#2a3f5f\", \"arrowhead\": 0, \"arrowwidth\": 1}, \"autotypenumbers\": \"strict\", \"coloraxis\": {\"colorbar\": {\"outlinewidth\": 0, \"ticks\": \"\"}}, \"colorscale\": {\"diverging\": [[0, \"#8e0152\"], [0.1, \"#c51b7d\"], [0.2, \"#de77ae\"], [0.3, \"#f1b6da\"], [0.4, \"#fde0ef\"], [0.5, \"#f7f7f7\"], [0.6, \"#e6f5d0\"], [0.7, \"#b8e186\"], [0.8, \"#7fbc41\"], [0.9, \"#4d9221\"], [1, \"#276419\"]], \"sequential\": [[0.0, \"#0d0887\"], [0.1111111111111111, \"#46039f\"], [0.2222222222222222, \"#7201a8\"], [0.3333333333333333, \"#9c179e\"], [0.4444444444444444, \"#bd3786\"], [0.5555555555555556, \"#d8576b\"], [0.6666666666666666, \"#ed7953\"], [0.7777777777777778, \"#fb9f3a\"], [0.8888888888888888, \"#fdca26\"], [1.0, \"#f0f921\"]], \"sequentialminus\": [[0.0, \"#0d0887\"], [0.1111111111111111, \"#46039f\"], [0.2222222222222222, \"#7201a8\"], [0.3333333333333333, \"#9c179e\"], [0.4444444444444444, \"#bd3786\"], [0.5555555555555556, \"#d8576b\"], [0.6666666666666666, \"#ed7953\"], [0.7777777777777778, \"#fb9f3a\"], [0.8888888888888888, \"#fdca26\"], [1.0, \"#f0f921\"]]}, \"colorway\": [\"#636efa\", \"#EF553B\", \"#00cc96\", \"#ab63fa\", \"#FFA15A\", \"#19d3f3\", \"#FF6692\", \"#B6E880\", \"#FF97FF\", \"#FECB52\"], \"font\": {\"color\": \"#2a3f5f\"}, \"geo\": {\"bgcolor\": \"white\", \"lakecolor\": \"white\", \"landcolor\": \"#E5ECF6\", \"showlakes\": true, \"showland\": true, \"subunitcolor\": \"white\"}, \"hoverlabel\": {\"align\": \"left\"}, \"hovermode\": \"closest\", \"mapbox\": {\"style\": \"light\"}, \"paper_bgcolor\": \"white\", \"plot_bgcolor\": \"#E5ECF6\", \"polar\": {\"angularaxis\": {\"gridcolor\": \"white\", \"linecolor\": \"white\", \"ticks\": \"\"}, \"bgcolor\": \"#E5ECF6\", \"radialaxis\": {\"gridcolor\": \"white\", \"linecolor\": \"white\", \"ticks\": \"\"}}, \"scene\": {\"xaxis\": {\"backgroundcolor\": \"#E5ECF6\", \"gridcolor\": \"white\", \"gridwidth\": 2, \"linecolor\": \"white\", \"showbackground\": true, \"ticks\": \"\", \"zerolinecolor\": \"white\"}, \"yaxis\": {\"backgroundcolor\": \"#E5ECF6\", \"gridcolor\": \"white\", \"gridwidth\": 2, \"linecolor\": \"white\", \"showbackground\": true, \"ticks\": \"\", \"zerolinecolor\": \"white\"}, \"zaxis\": {\"backgroundcolor\": \"#E5ECF6\", \"gridcolor\": \"white\", \"gridwidth\": 2, \"linecolor\": \"white\", \"showbackground\": true, \"ticks\": \"\", \"zerolinecolor\": \"white\"}}, \"shapedefaults\": {\"line\": {\"color\": \"#2a3f5f\"}}, \"ternary\": {\"aaxis\": {\"gridcolor\": \"white\", \"linecolor\": \"white\", \"ticks\": \"\"}, \"baxis\": {\"gridcolor\": \"white\", \"linecolor\": \"white\", \"ticks\": \"\"}, \"bgcolor\": \"#E5ECF6\", \"caxis\": {\"gridcolor\": \"white\", \"linecolor\": \"white\", \"ticks\": \"\"}}, \"title\": {\"x\": 0.05}, \"xaxis\": {\"automargin\": true, \"gridcolor\": \"white\", \"linecolor\": \"white\", \"ticks\": \"\", \"title\": {\"standoff\": 15}, \"zerolinecolor\": \"white\", \"zerolinewidth\": 2}, \"yaxis\": {\"automargin\": true, \"gridcolor\": \"white\", \"linecolor\": \"white\", \"ticks\": \"\", \"title\": {\"standoff\": 15}, \"zerolinecolor\": \"white\", \"zerolinewidth\": 2}}}, \"title\": {\"font\": {\"color\": \"#4D5663\"}}, \"xaxis\": {\"gridcolor\": \"#E1E5ED\", \"showgrid\": true, \"tickfont\": {\"color\": \"#4D5663\"}, \"title\": {\"font\": {\"color\": \"#4D5663\"}, \"text\": \"\"}, \"zerolinecolor\": \"#E1E5ED\"}, \"yaxis\": {\"gridcolor\": \"#E1E5ED\", \"showgrid\": true, \"tickfont\": {\"color\": \"#4D5663\"}, \"title\": {\"font\": {\"color\": \"#4D5663\"}, \"text\": \"\"}, \"zerolinecolor\": \"#E1E5ED\"}},                        {\"showLink\": true, \"linkText\": \"Export to plot.ly\", \"plotlyServerURL\": \"https://plot.ly\", \"responsive\": true}                    ).then(function(){\n",
       "                            \n",
       "var gd = document.getElementById('c77fc6c9-4b40-4326-856d-0a686275d7ab');\n",
       "var x = new MutationObserver(function (mutations, observer) {{\n",
       "        var display = window.getComputedStyle(gd).display;\n",
       "        if (!display || display === 'none') {{\n",
       "            console.log([gd, 'removed!']);\n",
       "            Plotly.purge(gd);\n",
       "            observer.disconnect();\n",
       "        }}\n",
       "}});\n",
       "\n",
       "// Listen for the removal of the full notebook cells\n",
       "var notebookContainer = gd.closest('#notebook-container');\n",
       "if (notebookContainer) {{\n",
       "    x.observe(notebookContainer, {childList: true});\n",
       "}}\n",
       "\n",
       "// Listen for the clearing of the current output cell\n",
       "var outputEl = gd.closest('.output');\n",
       "if (outputEl) {{\n",
       "    x.observe(outputEl, {childList: true});\n",
       "}}\n",
       "\n",
       "                        })                };                });            </script>        </div>"
      ]
     },
     "metadata": {},
     "output_type": "display_data"
    }
   ],
   "source": [
    "df.iplot(kind='bubble',x='A',y='B',size='C')"
   ]
  },
  {
   "cell_type": "markdown",
   "metadata": {},
   "source": [
    "## scatter_matrix()\n",
    "\n",
    "Similar to sns.pairplot()"
   ]
  },
  {
   "cell_type": "code",
   "execution_count": 18,
   "metadata": {},
   "outputs": [
    {
     "data": {
      "application/vnd.plotly.v1+json": {
       "config": {
        "linkText": "Export to plot.ly",
        "plotlyServerURL": "https://plot.ly",
        "showLink": true
       },
       "data": [
        {
         "histfunc": "count",
         "histnorm": "",
         "marker": {
          "color": "rgba(255, 153, 51, 1.0)",
          "line": {
           "color": "#4D5663",
           "width": 1.3
          }
         },
         "name": "A",
         "nbinsx": 10,
         "opacity": 0.8,
         "orientation": "v",
         "type": "histogram",
         "x": [
          -0.4388542745687468,
          0.38408546159996987,
          -0.7413763683855321,
          -2.0288498139440914,
          0.8624022381361729,
          -0.7390775027313098,
          -0.112055115702541,
          0.9806345007382388,
          -1.0309612695870745,
          -0.42208014577143504,
          -0.6589458881544358,
          1.6189909942527092,
          0.6280941855399383,
          0.5824415788359514,
          1.407947397974564,
          -0.6055181775783632,
          0.26145880753689704,
          -1.6728439093333693,
          1.6860521621788684,
          1.009329541212465,
          -1.8503028350686974,
          -0.20999184471500965,
          -2.2932587368033177,
          -1.052360060273866,
          0.7434586671733655,
          0.24587075068617625,
          -1.1941403964622943,
          -0.4868426790349285,
          0.8398227332351278,
          0.7617615697209622,
          0.14507569288658226,
          0.5443829206564472,
          0.937364315832808,
          1.2470954452432272,
          -0.5534980066811476,
          1.5123201135236342,
          0.8987462567974541,
          0.5791080389203644,
          -0.2169166729652307,
          1.1859624278722207,
          -1.0513105071512439,
          -0.5537498496696196,
          -1.1876608548600875,
          0.28581503368341776,
          -0.8373909670462102,
          -0.49908970926011703,
          -1.0529342880820247,
          -0.9248567740307652,
          1.764463447885169,
          0.5901326366414836,
          -1.142075713218274,
          -0.8946017497616889,
          0.0144652299158461,
          0.1279379505634851,
          -1.0120014602064225,
          0.0363380032435725,
          0.21366402851299293,
          -0.18459741491488368,
          0.550611238075139,
          -1.1964210420445283,
          0.27844714124707004,
          -0.601675012386725,
          0.09034648034734893,
          -1.019728088992673,
          -1.1810422893142594,
          -1.0302218578695155,
          -0.02807953192685473,
          2.1234225090964385,
          -1.7218913699279377,
          -1.107127947693045,
          0.07029646761054668,
          -0.44745598771982803,
          1.148766935793685,
          0.016377942985925025,
          -0.638644767078107,
          -0.6605524605312318,
          -0.12626451146059678,
          0.23314954919639108,
          0.13663921181967784,
          -1.0216268345305923,
          0.2665031884388046,
          0.35416299293513925,
          -0.053121967639487025,
          0.7862011170376131,
          -0.47712670671197815,
          0.7931940780649613,
          -0.32398602740064425,
          -0.7796188551276063,
          -1.0774772125396894,
          0.8366000799612457,
          -0.7252752826298803,
          0.47420209435821925,
          0.16479101958522108,
          0.7805292644873063,
          -0.1922784699312706,
          0.01984409354644912,
          -0.5905422812265733,
          0.2857750483391747,
          -0.8738282207287031,
          1.2715167674609458
         ],
         "xaxis": "x",
         "yaxis": "y"
        },
        {
         "line": {
          "color": "rgba(128, 128, 128, 1.0)",
          "dash": "solid",
          "shape": "linear",
          "width": 1.3
         },
         "marker": {
          "size": 2,
          "symbol": "circle"
         },
         "mode": "markers",
         "name": "A",
         "text": "",
         "type": "scatter",
         "x": [
          -1.3627216013659846,
          0.2746479273419688,
          0.7009464451380578,
          -1.3811013400556857,
          -1.7428511959512216,
          -0.8905026557041102,
          -0.551282879317178,
          0.22107331559969615,
          -1.5843865530614263,
          -1.9578013663048495,
          1.6767888897250252,
          0.5704931064566529,
          -0.6314149241481537,
          0.2757322702947673,
          0.7876966927085246,
          -0.8981643739025043,
          0.2948816739619415,
          0.1826302665386844,
          -0.9359073662486931,
          -1.457757479610927,
          -0.30185223399542666,
          0.9177284159277574,
          -0.5013513777674213,
          2.9904562197653792,
          1.2102048203993276,
          0.3463027009884661,
          -0.14875933083792445,
          -0.7241462815090236,
          -0.25408636699024595,
          -0.1011944206256832,
          -0.9111289589894425,
          0.09146337137093262,
          1.6008067662713046,
          1.2746041957302874,
          0.9851969510533377,
          -0.8543754688768727,
          1.6107325176724772,
          -1.4755417524303547,
          0.2324101126295466,
          -1.1624830197173044,
          -1.3561431982536194,
          0.5618943121972119,
          0.3401447906679545,
          -1.6615229986560336,
          -0.2078537594217146,
          0.727184088179305,
          -0.311201502392996,
          -0.5015752565114187,
          -1.1721312285095038,
          -1.5649694918407073,
          -1.0939670201572929,
          0.3619889697652782,
          3.367931842022976,
          -0.2521367382602952,
          -0.314242196876435,
          0.28725557906216953,
          -2.3182561631414584,
          -0.5554086695260209,
          -0.42168125402643714,
          1.689241224802193,
          0.07370559648891448,
          -0.6359492421783562,
          0.40914626446901686,
          0.06893059954535942,
          1.0029731029083802,
          1.4683660981628652,
          0.5641680851054268,
          -0.23720583119416894,
          -1.3720094046379412,
          -0.06317150115552012,
          -0.4646886627983753,
          -0.4653757228572715,
          0.26066881226261535,
          0.6871616119462791,
          -0.4920968386727682,
          -0.7887370928876344,
          -2.001483326801323,
          1.679334471231441,
          1.7345100201822912,
          -0.9727078661032714,
          0.2919188486713192,
          0.4653106873555381,
          0.3891081605002875,
          1.1844211163842735,
          -0.3689456505251842,
          0.5046777558050485,
          0.5212098489901662,
          -0.2810122685636921,
          -0.14805919194277323,
          0.25379447016412093,
          -0.3485665898351345,
          0.8050525463698355,
          -0.17894394437635838,
          -0.51770392029611,
          2.074133165916208,
          1.6404422314144023,
          0.4178381849479696,
          -0.11527328671374554,
          0.0746127850615184,
          -0.7620958143342098
         ],
         "xaxis": "x2",
         "y": [
          -0.4388542745687468,
          0.38408546159996987,
          -0.7413763683855321,
          -2.0288498139440914,
          0.8624022381361729,
          -0.7390775027313098,
          -0.112055115702541,
          0.9806345007382388,
          -1.0309612695870745,
          -0.42208014577143504,
          -0.6589458881544358,
          1.6189909942527092,
          0.6280941855399383,
          0.5824415788359514,
          1.407947397974564,
          -0.6055181775783632,
          0.26145880753689704,
          -1.6728439093333693,
          1.6860521621788684,
          1.009329541212465,
          -1.8503028350686974,
          -0.20999184471500965,
          -2.2932587368033177,
          -1.052360060273866,
          0.7434586671733655,
          0.24587075068617625,
          -1.1941403964622943,
          -0.4868426790349285,
          0.8398227332351278,
          0.7617615697209622,
          0.14507569288658226,
          0.5443829206564472,
          0.937364315832808,
          1.2470954452432272,
          -0.5534980066811476,
          1.5123201135236342,
          0.8987462567974541,
          0.5791080389203644,
          -0.2169166729652307,
          1.1859624278722207,
          -1.0513105071512439,
          -0.5537498496696196,
          -1.1876608548600875,
          0.28581503368341776,
          -0.8373909670462102,
          -0.49908970926011703,
          -1.0529342880820247,
          -0.9248567740307652,
          1.764463447885169,
          0.5901326366414836,
          -1.142075713218274,
          -0.8946017497616889,
          0.0144652299158461,
          0.1279379505634851,
          -1.0120014602064225,
          0.0363380032435725,
          0.21366402851299293,
          -0.18459741491488368,
          0.550611238075139,
          -1.1964210420445283,
          0.27844714124707004,
          -0.601675012386725,
          0.09034648034734893,
          -1.019728088992673,
          -1.1810422893142594,
          -1.0302218578695155,
          -0.02807953192685473,
          2.1234225090964385,
          -1.7218913699279377,
          -1.107127947693045,
          0.07029646761054668,
          -0.44745598771982803,
          1.148766935793685,
          0.016377942985925025,
          -0.638644767078107,
          -0.6605524605312318,
          -0.12626451146059678,
          0.23314954919639108,
          0.13663921181967784,
          -1.0216268345305923,
          0.2665031884388046,
          0.35416299293513925,
          -0.053121967639487025,
          0.7862011170376131,
          -0.47712670671197815,
          0.7931940780649613,
          -0.32398602740064425,
          -0.7796188551276063,
          -1.0774772125396894,
          0.8366000799612457,
          -0.7252752826298803,
          0.47420209435821925,
          0.16479101958522108,
          0.7805292644873063,
          -0.1922784699312706,
          0.01984409354644912,
          -0.5905422812265733,
          0.2857750483391747,
          -0.8738282207287031,
          1.2715167674609458
         ],
         "yaxis": "y2"
        },
        {
         "line": {
          "color": "rgba(128, 128, 128, 1.0)",
          "dash": "solid",
          "shape": "linear",
          "width": 1.3
         },
         "marker": {
          "size": 2,
          "symbol": "circle"
         },
         "mode": "markers",
         "name": "A",
         "text": "",
         "type": "scatter",
         "x": [
          1.0529477368352136,
          0.2930617432357008,
          1.1119203484653744,
          1.6489383973038985,
          -0.44315194894339144,
          0.33971969885165815,
          -1.2679410723898759,
          0.878602412594766,
          -0.01701777700976262,
          -1.7074610983020595,
          -1.986927656815517,
          -1.1922110015564524,
          -0.5289785497095464,
          0.01680000042455843,
          -0.5837674106225055,
          -0.4871165230268496,
          -0.4014215872776401,
          0.2085731372016796,
          -0.12780879304509013,
          -0.3495255202499878,
          -0.4941769165686941,
          -0.39661867736678547,
          -0.38111518818973755,
          0.4645588365578656,
          -0.6501920276514084,
          -0.1738867804627645,
          -0.7370725898005802,
          0.44065890061618307,
          0.40199017395439596,
          0.6822320891666506,
          -1.0573519166387042,
          -0.06137487892316644,
          0.38170228423852337,
          0.21700616745257056,
          0.1449485329915072,
          -0.5553712189724804,
          0.8272280563703455,
          -1.0743848368044255,
          0.7104998921867854,
          -0.8218771784084514,
          0.434615961626369,
          1.156337788721006,
          -0.06593257759944639,
          0.043166423794045145,
          -1.1105345941936113,
          0.46687735229821237,
          -0.7385150046263226,
          -1.4786736135599818,
          1.1353388872144567,
          -0.13804718547003814,
          -0.15085226213919517,
          2.0103030052593036,
          -0.8861673395197391,
          0.369075423768828,
          0.621665384466069,
          0.13652870069573342,
          -1.4120431805131202,
          -0.0920764508822153,
          0.46260254889670127,
          0.22998224781090865,
          -3.4136647243792915,
          -0.6749090527451456,
          1.1486066977984637,
          0.2140483875336955,
          0.7817456798306535,
          -0.5811849698058041,
          -0.41280012512979136,
          -0.42266356181884757,
          -0.39396835572244737,
          -1.323045945410225,
          1.470867827972942,
          -0.20919148148767397,
          -0.9715729101680947,
          -0.039975048729562014,
          -0.23501017151791628,
          1.2913427255576981,
          0.2784273540941354,
          -0.5032400855247581,
          2.390414309104297,
          1.0777999460240182,
          2.4468066095748067,
          0.1925307180321371,
          0.8752229524577904,
          0.18515108533003463,
          -1.0288114749536927,
          -0.3161675038371752,
          -1.969130484252486,
          0.4105749890189144,
          1.8963874037587554,
          -1.0628751535799188,
          0.179513787835816,
          -1.1586864022523369,
          1.281450933600982,
          -0.868531842418097,
          0.5185875432864853,
          -1.2834058964357886,
          -0.05858961011572423,
          0.41515782596194695,
          -0.07699647435151223,
          -0.623214868362486
         ],
         "xaxis": "x3",
         "y": [
          -0.4388542745687468,
          0.38408546159996987,
          -0.7413763683855321,
          -2.0288498139440914,
          0.8624022381361729,
          -0.7390775027313098,
          -0.112055115702541,
          0.9806345007382388,
          -1.0309612695870745,
          -0.42208014577143504,
          -0.6589458881544358,
          1.6189909942527092,
          0.6280941855399383,
          0.5824415788359514,
          1.407947397974564,
          -0.6055181775783632,
          0.26145880753689704,
          -1.6728439093333693,
          1.6860521621788684,
          1.009329541212465,
          -1.8503028350686974,
          -0.20999184471500965,
          -2.2932587368033177,
          -1.052360060273866,
          0.7434586671733655,
          0.24587075068617625,
          -1.1941403964622943,
          -0.4868426790349285,
          0.8398227332351278,
          0.7617615697209622,
          0.14507569288658226,
          0.5443829206564472,
          0.937364315832808,
          1.2470954452432272,
          -0.5534980066811476,
          1.5123201135236342,
          0.8987462567974541,
          0.5791080389203644,
          -0.2169166729652307,
          1.1859624278722207,
          -1.0513105071512439,
          -0.5537498496696196,
          -1.1876608548600875,
          0.28581503368341776,
          -0.8373909670462102,
          -0.49908970926011703,
          -1.0529342880820247,
          -0.9248567740307652,
          1.764463447885169,
          0.5901326366414836,
          -1.142075713218274,
          -0.8946017497616889,
          0.0144652299158461,
          0.1279379505634851,
          -1.0120014602064225,
          0.0363380032435725,
          0.21366402851299293,
          -0.18459741491488368,
          0.550611238075139,
          -1.1964210420445283,
          0.27844714124707004,
          -0.601675012386725,
          0.09034648034734893,
          -1.019728088992673,
          -1.1810422893142594,
          -1.0302218578695155,
          -0.02807953192685473,
          2.1234225090964385,
          -1.7218913699279377,
          -1.107127947693045,
          0.07029646761054668,
          -0.44745598771982803,
          1.148766935793685,
          0.016377942985925025,
          -0.638644767078107,
          -0.6605524605312318,
          -0.12626451146059678,
          0.23314954919639108,
          0.13663921181967784,
          -1.0216268345305923,
          0.2665031884388046,
          0.35416299293513925,
          -0.053121967639487025,
          0.7862011170376131,
          -0.47712670671197815,
          0.7931940780649613,
          -0.32398602740064425,
          -0.7796188551276063,
          -1.0774772125396894,
          0.8366000799612457,
          -0.7252752826298803,
          0.47420209435821925,
          0.16479101958522108,
          0.7805292644873063,
          -0.1922784699312706,
          0.01984409354644912,
          -0.5905422812265733,
          0.2857750483391747,
          -0.8738282207287031,
          1.2715167674609458
         ],
         "yaxis": "y3"
        },
        {
         "line": {
          "color": "rgba(128, 128, 128, 1.0)",
          "dash": "solid",
          "shape": "linear",
          "width": 1.3
         },
         "marker": {
          "size": 2,
          "symbol": "circle"
         },
         "mode": "markers",
         "name": "A",
         "text": "",
         "type": "scatter",
         "x": [
          1.3201714568640348,
          0.8202669209189778,
          1.719151406541747,
          -1.2816376583613855,
          0.0831696363499211,
          0.6965366706057647,
          0.7935434244360957,
          -1.5622076183399023,
          -1.1796383832058777,
          1.6259450325083684,
          0.6490038637209604,
          0.048559327499800305,
          -0.9756752702190868,
          0.22351898637032006,
          0.21016851899244585,
          -0.1197094817674166,
          -0.7647835911925246,
          -1.6047579516933612,
          -0.7334694992514847,
          0.6962633130589095,
          -0.25738969061028455,
          0.5103413390193426,
          0.0031294517149671073,
          -0.11315603035653207,
          1.6101379403522884,
          -2.269959304915933,
          0.022594996453459457,
          1.0728758569526557,
          1.3683021274212308,
          0.8703140951807572,
          -1.89470981138138,
          -0.5875261922033744,
          -0.5797975626155121,
          -0.0518635076673208,
          1.4979498971398615,
          1.7553151946287406,
          0.543158041626994,
          -0.48111517813320376,
          1.462121838919327,
          -1.8928949164493165,
          0.8090004981305021,
          -0.5215255315362002,
          0.18508719447823002,
          0.7101244733780137,
          1.726453377077064,
          -0.030234066855630664,
          -0.6962107936911083,
          -0.6994994721452497,
          0.5282366821839588,
          1.1007476290378306,
          1.267079103387773,
          0.3456039247550511,
          -0.09217827397355612,
          -0.8804725228566794,
          -0.16722466082385853,
          -0.07994646029779469,
          0.05032870332012152,
          -1.0215178252859396,
          2.035751536649158,
          1.6095218128030624,
          -0.600345399297852,
          0.8039288968289282,
          -0.45561788304988565,
          -0.9707345674572707,
          1.5923413921458351,
          1.8318923987271796,
          -0.670126175132533,
          1.9242436712222672,
          0.4228120518043545,
          0.3974302445268368,
          0.8701900618201787,
          0.6675888402352415,
          -1.682852784395849,
          1.093724252130086,
          0.017097049355703428,
          0.35205905467001797,
          1.049157583084074,
          -1.7305791860346444,
          0.004692999260058379,
          0.5405958431147707,
          -0.4461736936294021,
          0.8825228776535895,
          0.030729494441852752,
          -0.3631565706132641,
          -0.1304528386430972,
          -1.3531048702277668,
          -0.724933648794998,
          0.3395751300210109,
          0.6883617240069344,
          -1.1796970103051465,
          -0.26005641368133126,
          -0.7072500700048227,
          -0.30407011152351004,
          -0.10921775006797968,
          0.18917774879848756,
          0.7349428949829958,
          -1.7326017742871818,
          0.2629551104312385,
          0.6088961688288745,
          2.184322882590267
         ],
         "xaxis": "x4",
         "y": [
          -0.4388542745687468,
          0.38408546159996987,
          -0.7413763683855321,
          -2.0288498139440914,
          0.8624022381361729,
          -0.7390775027313098,
          -0.112055115702541,
          0.9806345007382388,
          -1.0309612695870745,
          -0.42208014577143504,
          -0.6589458881544358,
          1.6189909942527092,
          0.6280941855399383,
          0.5824415788359514,
          1.407947397974564,
          -0.6055181775783632,
          0.26145880753689704,
          -1.6728439093333693,
          1.6860521621788684,
          1.009329541212465,
          -1.8503028350686974,
          -0.20999184471500965,
          -2.2932587368033177,
          -1.052360060273866,
          0.7434586671733655,
          0.24587075068617625,
          -1.1941403964622943,
          -0.4868426790349285,
          0.8398227332351278,
          0.7617615697209622,
          0.14507569288658226,
          0.5443829206564472,
          0.937364315832808,
          1.2470954452432272,
          -0.5534980066811476,
          1.5123201135236342,
          0.8987462567974541,
          0.5791080389203644,
          -0.2169166729652307,
          1.1859624278722207,
          -1.0513105071512439,
          -0.5537498496696196,
          -1.1876608548600875,
          0.28581503368341776,
          -0.8373909670462102,
          -0.49908970926011703,
          -1.0529342880820247,
          -0.9248567740307652,
          1.764463447885169,
          0.5901326366414836,
          -1.142075713218274,
          -0.8946017497616889,
          0.0144652299158461,
          0.1279379505634851,
          -1.0120014602064225,
          0.0363380032435725,
          0.21366402851299293,
          -0.18459741491488368,
          0.550611238075139,
          -1.1964210420445283,
          0.27844714124707004,
          -0.601675012386725,
          0.09034648034734893,
          -1.019728088992673,
          -1.1810422893142594,
          -1.0302218578695155,
          -0.02807953192685473,
          2.1234225090964385,
          -1.7218913699279377,
          -1.107127947693045,
          0.07029646761054668,
          -0.44745598771982803,
          1.148766935793685,
          0.016377942985925025,
          -0.638644767078107,
          -0.6605524605312318,
          -0.12626451146059678,
          0.23314954919639108,
          0.13663921181967784,
          -1.0216268345305923,
          0.2665031884388046,
          0.35416299293513925,
          -0.053121967639487025,
          0.7862011170376131,
          -0.47712670671197815,
          0.7931940780649613,
          -0.32398602740064425,
          -0.7796188551276063,
          -1.0774772125396894,
          0.8366000799612457,
          -0.7252752826298803,
          0.47420209435821925,
          0.16479101958522108,
          0.7805292644873063,
          -0.1922784699312706,
          0.01984409354644912,
          -0.5905422812265733,
          0.2857750483391747,
          -0.8738282207287031,
          1.2715167674609458
         ],
         "yaxis": "y4"
        },
        {
         "line": {
          "color": "rgba(128, 128, 128, 1.0)",
          "dash": "solid",
          "shape": "linear",
          "width": 1.3
         },
         "marker": {
          "size": 2,
          "symbol": "circle"
         },
         "mode": "markers",
         "name": "B",
         "text": "",
         "type": "scatter",
         "x": [
          -0.4388542745687468,
          0.38408546159996987,
          -0.7413763683855321,
          -2.0288498139440914,
          0.8624022381361729,
          -0.7390775027313098,
          -0.112055115702541,
          0.9806345007382388,
          -1.0309612695870745,
          -0.42208014577143504,
          -0.6589458881544358,
          1.6189909942527092,
          0.6280941855399383,
          0.5824415788359514,
          1.407947397974564,
          -0.6055181775783632,
          0.26145880753689704,
          -1.6728439093333693,
          1.6860521621788684,
          1.009329541212465,
          -1.8503028350686974,
          -0.20999184471500965,
          -2.2932587368033177,
          -1.052360060273866,
          0.7434586671733655,
          0.24587075068617625,
          -1.1941403964622943,
          -0.4868426790349285,
          0.8398227332351278,
          0.7617615697209622,
          0.14507569288658226,
          0.5443829206564472,
          0.937364315832808,
          1.2470954452432272,
          -0.5534980066811476,
          1.5123201135236342,
          0.8987462567974541,
          0.5791080389203644,
          -0.2169166729652307,
          1.1859624278722207,
          -1.0513105071512439,
          -0.5537498496696196,
          -1.1876608548600875,
          0.28581503368341776,
          -0.8373909670462102,
          -0.49908970926011703,
          -1.0529342880820247,
          -0.9248567740307652,
          1.764463447885169,
          0.5901326366414836,
          -1.142075713218274,
          -0.8946017497616889,
          0.0144652299158461,
          0.1279379505634851,
          -1.0120014602064225,
          0.0363380032435725,
          0.21366402851299293,
          -0.18459741491488368,
          0.550611238075139,
          -1.1964210420445283,
          0.27844714124707004,
          -0.601675012386725,
          0.09034648034734893,
          -1.019728088992673,
          -1.1810422893142594,
          -1.0302218578695155,
          -0.02807953192685473,
          2.1234225090964385,
          -1.7218913699279377,
          -1.107127947693045,
          0.07029646761054668,
          -0.44745598771982803,
          1.148766935793685,
          0.016377942985925025,
          -0.638644767078107,
          -0.6605524605312318,
          -0.12626451146059678,
          0.23314954919639108,
          0.13663921181967784,
          -1.0216268345305923,
          0.2665031884388046,
          0.35416299293513925,
          -0.053121967639487025,
          0.7862011170376131,
          -0.47712670671197815,
          0.7931940780649613,
          -0.32398602740064425,
          -0.7796188551276063,
          -1.0774772125396894,
          0.8366000799612457,
          -0.7252752826298803,
          0.47420209435821925,
          0.16479101958522108,
          0.7805292644873063,
          -0.1922784699312706,
          0.01984409354644912,
          -0.5905422812265733,
          0.2857750483391747,
          -0.8738282207287031,
          1.2715167674609458
         ],
         "xaxis": "x5",
         "y": [
          -1.3627216013659846,
          0.2746479273419688,
          0.7009464451380578,
          -1.3811013400556857,
          -1.7428511959512216,
          -0.8905026557041102,
          -0.551282879317178,
          0.22107331559969615,
          -1.5843865530614263,
          -1.9578013663048495,
          1.6767888897250252,
          0.5704931064566529,
          -0.6314149241481537,
          0.2757322702947673,
          0.7876966927085246,
          -0.8981643739025043,
          0.2948816739619415,
          0.1826302665386844,
          -0.9359073662486931,
          -1.457757479610927,
          -0.30185223399542666,
          0.9177284159277574,
          -0.5013513777674213,
          2.9904562197653792,
          1.2102048203993276,
          0.3463027009884661,
          -0.14875933083792445,
          -0.7241462815090236,
          -0.25408636699024595,
          -0.1011944206256832,
          -0.9111289589894425,
          0.09146337137093262,
          1.6008067662713046,
          1.2746041957302874,
          0.9851969510533377,
          -0.8543754688768727,
          1.6107325176724772,
          -1.4755417524303547,
          0.2324101126295466,
          -1.1624830197173044,
          -1.3561431982536194,
          0.5618943121972119,
          0.3401447906679545,
          -1.6615229986560336,
          -0.2078537594217146,
          0.727184088179305,
          -0.311201502392996,
          -0.5015752565114187,
          -1.1721312285095038,
          -1.5649694918407073,
          -1.0939670201572929,
          0.3619889697652782,
          3.367931842022976,
          -0.2521367382602952,
          -0.314242196876435,
          0.28725557906216953,
          -2.3182561631414584,
          -0.5554086695260209,
          -0.42168125402643714,
          1.689241224802193,
          0.07370559648891448,
          -0.6359492421783562,
          0.40914626446901686,
          0.06893059954535942,
          1.0029731029083802,
          1.4683660981628652,
          0.5641680851054268,
          -0.23720583119416894,
          -1.3720094046379412,
          -0.06317150115552012,
          -0.4646886627983753,
          -0.4653757228572715,
          0.26066881226261535,
          0.6871616119462791,
          -0.4920968386727682,
          -0.7887370928876344,
          -2.001483326801323,
          1.679334471231441,
          1.7345100201822912,
          -0.9727078661032714,
          0.2919188486713192,
          0.4653106873555381,
          0.3891081605002875,
          1.1844211163842735,
          -0.3689456505251842,
          0.5046777558050485,
          0.5212098489901662,
          -0.2810122685636921,
          -0.14805919194277323,
          0.25379447016412093,
          -0.3485665898351345,
          0.8050525463698355,
          -0.17894394437635838,
          -0.51770392029611,
          2.074133165916208,
          1.6404422314144023,
          0.4178381849479696,
          -0.11527328671374554,
          0.0746127850615184,
          -0.7620958143342098
         ],
         "yaxis": "y5"
        },
        {
         "histfunc": "count",
         "histnorm": "",
         "marker": {
          "color": "rgba(55, 128, 191, 1.0)",
          "line": {
           "color": "#4D5663",
           "width": 1.3
          }
         },
         "name": "B",
         "nbinsx": 10,
         "opacity": 0.8,
         "orientation": "v",
         "type": "histogram",
         "x": [
          -1.3627216013659846,
          0.2746479273419688,
          0.7009464451380578,
          -1.3811013400556857,
          -1.7428511959512216,
          -0.8905026557041102,
          -0.551282879317178,
          0.22107331559969615,
          -1.5843865530614263,
          -1.9578013663048495,
          1.6767888897250252,
          0.5704931064566529,
          -0.6314149241481537,
          0.2757322702947673,
          0.7876966927085246,
          -0.8981643739025043,
          0.2948816739619415,
          0.1826302665386844,
          -0.9359073662486931,
          -1.457757479610927,
          -0.30185223399542666,
          0.9177284159277574,
          -0.5013513777674213,
          2.9904562197653792,
          1.2102048203993276,
          0.3463027009884661,
          -0.14875933083792445,
          -0.7241462815090236,
          -0.25408636699024595,
          -0.1011944206256832,
          -0.9111289589894425,
          0.09146337137093262,
          1.6008067662713046,
          1.2746041957302874,
          0.9851969510533377,
          -0.8543754688768727,
          1.6107325176724772,
          -1.4755417524303547,
          0.2324101126295466,
          -1.1624830197173044,
          -1.3561431982536194,
          0.5618943121972119,
          0.3401447906679545,
          -1.6615229986560336,
          -0.2078537594217146,
          0.727184088179305,
          -0.311201502392996,
          -0.5015752565114187,
          -1.1721312285095038,
          -1.5649694918407073,
          -1.0939670201572929,
          0.3619889697652782,
          3.367931842022976,
          -0.2521367382602952,
          -0.314242196876435,
          0.28725557906216953,
          -2.3182561631414584,
          -0.5554086695260209,
          -0.42168125402643714,
          1.689241224802193,
          0.07370559648891448,
          -0.6359492421783562,
          0.40914626446901686,
          0.06893059954535942,
          1.0029731029083802,
          1.4683660981628652,
          0.5641680851054268,
          -0.23720583119416894,
          -1.3720094046379412,
          -0.06317150115552012,
          -0.4646886627983753,
          -0.4653757228572715,
          0.26066881226261535,
          0.6871616119462791,
          -0.4920968386727682,
          -0.7887370928876344,
          -2.001483326801323,
          1.679334471231441,
          1.7345100201822912,
          -0.9727078661032714,
          0.2919188486713192,
          0.4653106873555381,
          0.3891081605002875,
          1.1844211163842735,
          -0.3689456505251842,
          0.5046777558050485,
          0.5212098489901662,
          -0.2810122685636921,
          -0.14805919194277323,
          0.25379447016412093,
          -0.3485665898351345,
          0.8050525463698355,
          -0.17894394437635838,
          -0.51770392029611,
          2.074133165916208,
          1.6404422314144023,
          0.4178381849479696,
          -0.11527328671374554,
          0.0746127850615184,
          -0.7620958143342098
         ],
         "xaxis": "x6",
         "yaxis": "y6"
        },
        {
         "line": {
          "color": "rgba(128, 128, 128, 1.0)",
          "dash": "solid",
          "shape": "linear",
          "width": 1.3
         },
         "marker": {
          "size": 2,
          "symbol": "circle"
         },
         "mode": "markers",
         "name": "B",
         "text": "",
         "type": "scatter",
         "x": [
          1.0529477368352136,
          0.2930617432357008,
          1.1119203484653744,
          1.6489383973038985,
          -0.44315194894339144,
          0.33971969885165815,
          -1.2679410723898759,
          0.878602412594766,
          -0.01701777700976262,
          -1.7074610983020595,
          -1.986927656815517,
          -1.1922110015564524,
          -0.5289785497095464,
          0.01680000042455843,
          -0.5837674106225055,
          -0.4871165230268496,
          -0.4014215872776401,
          0.2085731372016796,
          -0.12780879304509013,
          -0.3495255202499878,
          -0.4941769165686941,
          -0.39661867736678547,
          -0.38111518818973755,
          0.4645588365578656,
          -0.6501920276514084,
          -0.1738867804627645,
          -0.7370725898005802,
          0.44065890061618307,
          0.40199017395439596,
          0.6822320891666506,
          -1.0573519166387042,
          -0.06137487892316644,
          0.38170228423852337,
          0.21700616745257056,
          0.1449485329915072,
          -0.5553712189724804,
          0.8272280563703455,
          -1.0743848368044255,
          0.7104998921867854,
          -0.8218771784084514,
          0.434615961626369,
          1.156337788721006,
          -0.06593257759944639,
          0.043166423794045145,
          -1.1105345941936113,
          0.46687735229821237,
          -0.7385150046263226,
          -1.4786736135599818,
          1.1353388872144567,
          -0.13804718547003814,
          -0.15085226213919517,
          2.0103030052593036,
          -0.8861673395197391,
          0.369075423768828,
          0.621665384466069,
          0.13652870069573342,
          -1.4120431805131202,
          -0.0920764508822153,
          0.46260254889670127,
          0.22998224781090865,
          -3.4136647243792915,
          -0.6749090527451456,
          1.1486066977984637,
          0.2140483875336955,
          0.7817456798306535,
          -0.5811849698058041,
          -0.41280012512979136,
          -0.42266356181884757,
          -0.39396835572244737,
          -1.323045945410225,
          1.470867827972942,
          -0.20919148148767397,
          -0.9715729101680947,
          -0.039975048729562014,
          -0.23501017151791628,
          1.2913427255576981,
          0.2784273540941354,
          -0.5032400855247581,
          2.390414309104297,
          1.0777999460240182,
          2.4468066095748067,
          0.1925307180321371,
          0.8752229524577904,
          0.18515108533003463,
          -1.0288114749536927,
          -0.3161675038371752,
          -1.969130484252486,
          0.4105749890189144,
          1.8963874037587554,
          -1.0628751535799188,
          0.179513787835816,
          -1.1586864022523369,
          1.281450933600982,
          -0.868531842418097,
          0.5185875432864853,
          -1.2834058964357886,
          -0.05858961011572423,
          0.41515782596194695,
          -0.07699647435151223,
          -0.623214868362486
         ],
         "xaxis": "x7",
         "y": [
          -1.3627216013659846,
          0.2746479273419688,
          0.7009464451380578,
          -1.3811013400556857,
          -1.7428511959512216,
          -0.8905026557041102,
          -0.551282879317178,
          0.22107331559969615,
          -1.5843865530614263,
          -1.9578013663048495,
          1.6767888897250252,
          0.5704931064566529,
          -0.6314149241481537,
          0.2757322702947673,
          0.7876966927085246,
          -0.8981643739025043,
          0.2948816739619415,
          0.1826302665386844,
          -0.9359073662486931,
          -1.457757479610927,
          -0.30185223399542666,
          0.9177284159277574,
          -0.5013513777674213,
          2.9904562197653792,
          1.2102048203993276,
          0.3463027009884661,
          -0.14875933083792445,
          -0.7241462815090236,
          -0.25408636699024595,
          -0.1011944206256832,
          -0.9111289589894425,
          0.09146337137093262,
          1.6008067662713046,
          1.2746041957302874,
          0.9851969510533377,
          -0.8543754688768727,
          1.6107325176724772,
          -1.4755417524303547,
          0.2324101126295466,
          -1.1624830197173044,
          -1.3561431982536194,
          0.5618943121972119,
          0.3401447906679545,
          -1.6615229986560336,
          -0.2078537594217146,
          0.727184088179305,
          -0.311201502392996,
          -0.5015752565114187,
          -1.1721312285095038,
          -1.5649694918407073,
          -1.0939670201572929,
          0.3619889697652782,
          3.367931842022976,
          -0.2521367382602952,
          -0.314242196876435,
          0.28725557906216953,
          -2.3182561631414584,
          -0.5554086695260209,
          -0.42168125402643714,
          1.689241224802193,
          0.07370559648891448,
          -0.6359492421783562,
          0.40914626446901686,
          0.06893059954535942,
          1.0029731029083802,
          1.4683660981628652,
          0.5641680851054268,
          -0.23720583119416894,
          -1.3720094046379412,
          -0.06317150115552012,
          -0.4646886627983753,
          -0.4653757228572715,
          0.26066881226261535,
          0.6871616119462791,
          -0.4920968386727682,
          -0.7887370928876344,
          -2.001483326801323,
          1.679334471231441,
          1.7345100201822912,
          -0.9727078661032714,
          0.2919188486713192,
          0.4653106873555381,
          0.3891081605002875,
          1.1844211163842735,
          -0.3689456505251842,
          0.5046777558050485,
          0.5212098489901662,
          -0.2810122685636921,
          -0.14805919194277323,
          0.25379447016412093,
          -0.3485665898351345,
          0.8050525463698355,
          -0.17894394437635838,
          -0.51770392029611,
          2.074133165916208,
          1.6404422314144023,
          0.4178381849479696,
          -0.11527328671374554,
          0.0746127850615184,
          -0.7620958143342098
         ],
         "yaxis": "y7"
        },
        {
         "line": {
          "color": "rgba(128, 128, 128, 1.0)",
          "dash": "solid",
          "shape": "linear",
          "width": 1.3
         },
         "marker": {
          "size": 2,
          "symbol": "circle"
         },
         "mode": "markers",
         "name": "B",
         "text": "",
         "type": "scatter",
         "x": [
          1.3201714568640348,
          0.8202669209189778,
          1.719151406541747,
          -1.2816376583613855,
          0.0831696363499211,
          0.6965366706057647,
          0.7935434244360957,
          -1.5622076183399023,
          -1.1796383832058777,
          1.6259450325083684,
          0.6490038637209604,
          0.048559327499800305,
          -0.9756752702190868,
          0.22351898637032006,
          0.21016851899244585,
          -0.1197094817674166,
          -0.7647835911925246,
          -1.6047579516933612,
          -0.7334694992514847,
          0.6962633130589095,
          -0.25738969061028455,
          0.5103413390193426,
          0.0031294517149671073,
          -0.11315603035653207,
          1.6101379403522884,
          -2.269959304915933,
          0.022594996453459457,
          1.0728758569526557,
          1.3683021274212308,
          0.8703140951807572,
          -1.89470981138138,
          -0.5875261922033744,
          -0.5797975626155121,
          -0.0518635076673208,
          1.4979498971398615,
          1.7553151946287406,
          0.543158041626994,
          -0.48111517813320376,
          1.462121838919327,
          -1.8928949164493165,
          0.8090004981305021,
          -0.5215255315362002,
          0.18508719447823002,
          0.7101244733780137,
          1.726453377077064,
          -0.030234066855630664,
          -0.6962107936911083,
          -0.6994994721452497,
          0.5282366821839588,
          1.1007476290378306,
          1.267079103387773,
          0.3456039247550511,
          -0.09217827397355612,
          -0.8804725228566794,
          -0.16722466082385853,
          -0.07994646029779469,
          0.05032870332012152,
          -1.0215178252859396,
          2.035751536649158,
          1.6095218128030624,
          -0.600345399297852,
          0.8039288968289282,
          -0.45561788304988565,
          -0.9707345674572707,
          1.5923413921458351,
          1.8318923987271796,
          -0.670126175132533,
          1.9242436712222672,
          0.4228120518043545,
          0.3974302445268368,
          0.8701900618201787,
          0.6675888402352415,
          -1.682852784395849,
          1.093724252130086,
          0.017097049355703428,
          0.35205905467001797,
          1.049157583084074,
          -1.7305791860346444,
          0.004692999260058379,
          0.5405958431147707,
          -0.4461736936294021,
          0.8825228776535895,
          0.030729494441852752,
          -0.3631565706132641,
          -0.1304528386430972,
          -1.3531048702277668,
          -0.724933648794998,
          0.3395751300210109,
          0.6883617240069344,
          -1.1796970103051465,
          -0.26005641368133126,
          -0.7072500700048227,
          -0.30407011152351004,
          -0.10921775006797968,
          0.18917774879848756,
          0.7349428949829958,
          -1.7326017742871818,
          0.2629551104312385,
          0.6088961688288745,
          2.184322882590267
         ],
         "xaxis": "x8",
         "y": [
          -1.3627216013659846,
          0.2746479273419688,
          0.7009464451380578,
          -1.3811013400556857,
          -1.7428511959512216,
          -0.8905026557041102,
          -0.551282879317178,
          0.22107331559969615,
          -1.5843865530614263,
          -1.9578013663048495,
          1.6767888897250252,
          0.5704931064566529,
          -0.6314149241481537,
          0.2757322702947673,
          0.7876966927085246,
          -0.8981643739025043,
          0.2948816739619415,
          0.1826302665386844,
          -0.9359073662486931,
          -1.457757479610927,
          -0.30185223399542666,
          0.9177284159277574,
          -0.5013513777674213,
          2.9904562197653792,
          1.2102048203993276,
          0.3463027009884661,
          -0.14875933083792445,
          -0.7241462815090236,
          -0.25408636699024595,
          -0.1011944206256832,
          -0.9111289589894425,
          0.09146337137093262,
          1.6008067662713046,
          1.2746041957302874,
          0.9851969510533377,
          -0.8543754688768727,
          1.6107325176724772,
          -1.4755417524303547,
          0.2324101126295466,
          -1.1624830197173044,
          -1.3561431982536194,
          0.5618943121972119,
          0.3401447906679545,
          -1.6615229986560336,
          -0.2078537594217146,
          0.727184088179305,
          -0.311201502392996,
          -0.5015752565114187,
          -1.1721312285095038,
          -1.5649694918407073,
          -1.0939670201572929,
          0.3619889697652782,
          3.367931842022976,
          -0.2521367382602952,
          -0.314242196876435,
          0.28725557906216953,
          -2.3182561631414584,
          -0.5554086695260209,
          -0.42168125402643714,
          1.689241224802193,
          0.07370559648891448,
          -0.6359492421783562,
          0.40914626446901686,
          0.06893059954535942,
          1.0029731029083802,
          1.4683660981628652,
          0.5641680851054268,
          -0.23720583119416894,
          -1.3720094046379412,
          -0.06317150115552012,
          -0.4646886627983753,
          -0.4653757228572715,
          0.26066881226261535,
          0.6871616119462791,
          -0.4920968386727682,
          -0.7887370928876344,
          -2.001483326801323,
          1.679334471231441,
          1.7345100201822912,
          -0.9727078661032714,
          0.2919188486713192,
          0.4653106873555381,
          0.3891081605002875,
          1.1844211163842735,
          -0.3689456505251842,
          0.5046777558050485,
          0.5212098489901662,
          -0.2810122685636921,
          -0.14805919194277323,
          0.25379447016412093,
          -0.3485665898351345,
          0.8050525463698355,
          -0.17894394437635838,
          -0.51770392029611,
          2.074133165916208,
          1.6404422314144023,
          0.4178381849479696,
          -0.11527328671374554,
          0.0746127850615184,
          -0.7620958143342098
         ],
         "yaxis": "y8"
        },
        {
         "line": {
          "color": "rgba(128, 128, 128, 1.0)",
          "dash": "solid",
          "shape": "linear",
          "width": 1.3
         },
         "marker": {
          "size": 2,
          "symbol": "circle"
         },
         "mode": "markers",
         "name": "C",
         "text": "",
         "type": "scatter",
         "x": [
          -0.4388542745687468,
          0.38408546159996987,
          -0.7413763683855321,
          -2.0288498139440914,
          0.8624022381361729,
          -0.7390775027313098,
          -0.112055115702541,
          0.9806345007382388,
          -1.0309612695870745,
          -0.42208014577143504,
          -0.6589458881544358,
          1.6189909942527092,
          0.6280941855399383,
          0.5824415788359514,
          1.407947397974564,
          -0.6055181775783632,
          0.26145880753689704,
          -1.6728439093333693,
          1.6860521621788684,
          1.009329541212465,
          -1.8503028350686974,
          -0.20999184471500965,
          -2.2932587368033177,
          -1.052360060273866,
          0.7434586671733655,
          0.24587075068617625,
          -1.1941403964622943,
          -0.4868426790349285,
          0.8398227332351278,
          0.7617615697209622,
          0.14507569288658226,
          0.5443829206564472,
          0.937364315832808,
          1.2470954452432272,
          -0.5534980066811476,
          1.5123201135236342,
          0.8987462567974541,
          0.5791080389203644,
          -0.2169166729652307,
          1.1859624278722207,
          -1.0513105071512439,
          -0.5537498496696196,
          -1.1876608548600875,
          0.28581503368341776,
          -0.8373909670462102,
          -0.49908970926011703,
          -1.0529342880820247,
          -0.9248567740307652,
          1.764463447885169,
          0.5901326366414836,
          -1.142075713218274,
          -0.8946017497616889,
          0.0144652299158461,
          0.1279379505634851,
          -1.0120014602064225,
          0.0363380032435725,
          0.21366402851299293,
          -0.18459741491488368,
          0.550611238075139,
          -1.1964210420445283,
          0.27844714124707004,
          -0.601675012386725,
          0.09034648034734893,
          -1.019728088992673,
          -1.1810422893142594,
          -1.0302218578695155,
          -0.02807953192685473,
          2.1234225090964385,
          -1.7218913699279377,
          -1.107127947693045,
          0.07029646761054668,
          -0.44745598771982803,
          1.148766935793685,
          0.016377942985925025,
          -0.638644767078107,
          -0.6605524605312318,
          -0.12626451146059678,
          0.23314954919639108,
          0.13663921181967784,
          -1.0216268345305923,
          0.2665031884388046,
          0.35416299293513925,
          -0.053121967639487025,
          0.7862011170376131,
          -0.47712670671197815,
          0.7931940780649613,
          -0.32398602740064425,
          -0.7796188551276063,
          -1.0774772125396894,
          0.8366000799612457,
          -0.7252752826298803,
          0.47420209435821925,
          0.16479101958522108,
          0.7805292644873063,
          -0.1922784699312706,
          0.01984409354644912,
          -0.5905422812265733,
          0.2857750483391747,
          -0.8738282207287031,
          1.2715167674609458
         ],
         "xaxis": "x9",
         "y": [
          1.0529477368352136,
          0.2930617432357008,
          1.1119203484653744,
          1.6489383973038985,
          -0.44315194894339144,
          0.33971969885165815,
          -1.2679410723898759,
          0.878602412594766,
          -0.01701777700976262,
          -1.7074610983020595,
          -1.986927656815517,
          -1.1922110015564524,
          -0.5289785497095464,
          0.01680000042455843,
          -0.5837674106225055,
          -0.4871165230268496,
          -0.4014215872776401,
          0.2085731372016796,
          -0.12780879304509013,
          -0.3495255202499878,
          -0.4941769165686941,
          -0.39661867736678547,
          -0.38111518818973755,
          0.4645588365578656,
          -0.6501920276514084,
          -0.1738867804627645,
          -0.7370725898005802,
          0.44065890061618307,
          0.40199017395439596,
          0.6822320891666506,
          -1.0573519166387042,
          -0.06137487892316644,
          0.38170228423852337,
          0.21700616745257056,
          0.1449485329915072,
          -0.5553712189724804,
          0.8272280563703455,
          -1.0743848368044255,
          0.7104998921867854,
          -0.8218771784084514,
          0.434615961626369,
          1.156337788721006,
          -0.06593257759944639,
          0.043166423794045145,
          -1.1105345941936113,
          0.46687735229821237,
          -0.7385150046263226,
          -1.4786736135599818,
          1.1353388872144567,
          -0.13804718547003814,
          -0.15085226213919517,
          2.0103030052593036,
          -0.8861673395197391,
          0.369075423768828,
          0.621665384466069,
          0.13652870069573342,
          -1.4120431805131202,
          -0.0920764508822153,
          0.46260254889670127,
          0.22998224781090865,
          -3.4136647243792915,
          -0.6749090527451456,
          1.1486066977984637,
          0.2140483875336955,
          0.7817456798306535,
          -0.5811849698058041,
          -0.41280012512979136,
          -0.42266356181884757,
          -0.39396835572244737,
          -1.323045945410225,
          1.470867827972942,
          -0.20919148148767397,
          -0.9715729101680947,
          -0.039975048729562014,
          -0.23501017151791628,
          1.2913427255576981,
          0.2784273540941354,
          -0.5032400855247581,
          2.390414309104297,
          1.0777999460240182,
          2.4468066095748067,
          0.1925307180321371,
          0.8752229524577904,
          0.18515108533003463,
          -1.0288114749536927,
          -0.3161675038371752,
          -1.969130484252486,
          0.4105749890189144,
          1.8963874037587554,
          -1.0628751535799188,
          0.179513787835816,
          -1.1586864022523369,
          1.281450933600982,
          -0.868531842418097,
          0.5185875432864853,
          -1.2834058964357886,
          -0.05858961011572423,
          0.41515782596194695,
          -0.07699647435151223,
          -0.623214868362486
         ],
         "yaxis": "y9"
        },
        {
         "line": {
          "color": "rgba(128, 128, 128, 1.0)",
          "dash": "solid",
          "shape": "linear",
          "width": 1.3
         },
         "marker": {
          "size": 2,
          "symbol": "circle"
         },
         "mode": "markers",
         "name": "C",
         "text": "",
         "type": "scatter",
         "x": [
          -1.3627216013659846,
          0.2746479273419688,
          0.7009464451380578,
          -1.3811013400556857,
          -1.7428511959512216,
          -0.8905026557041102,
          -0.551282879317178,
          0.22107331559969615,
          -1.5843865530614263,
          -1.9578013663048495,
          1.6767888897250252,
          0.5704931064566529,
          -0.6314149241481537,
          0.2757322702947673,
          0.7876966927085246,
          -0.8981643739025043,
          0.2948816739619415,
          0.1826302665386844,
          -0.9359073662486931,
          -1.457757479610927,
          -0.30185223399542666,
          0.9177284159277574,
          -0.5013513777674213,
          2.9904562197653792,
          1.2102048203993276,
          0.3463027009884661,
          -0.14875933083792445,
          -0.7241462815090236,
          -0.25408636699024595,
          -0.1011944206256832,
          -0.9111289589894425,
          0.09146337137093262,
          1.6008067662713046,
          1.2746041957302874,
          0.9851969510533377,
          -0.8543754688768727,
          1.6107325176724772,
          -1.4755417524303547,
          0.2324101126295466,
          -1.1624830197173044,
          -1.3561431982536194,
          0.5618943121972119,
          0.3401447906679545,
          -1.6615229986560336,
          -0.2078537594217146,
          0.727184088179305,
          -0.311201502392996,
          -0.5015752565114187,
          -1.1721312285095038,
          -1.5649694918407073,
          -1.0939670201572929,
          0.3619889697652782,
          3.367931842022976,
          -0.2521367382602952,
          -0.314242196876435,
          0.28725557906216953,
          -2.3182561631414584,
          -0.5554086695260209,
          -0.42168125402643714,
          1.689241224802193,
          0.07370559648891448,
          -0.6359492421783562,
          0.40914626446901686,
          0.06893059954535942,
          1.0029731029083802,
          1.4683660981628652,
          0.5641680851054268,
          -0.23720583119416894,
          -1.3720094046379412,
          -0.06317150115552012,
          -0.4646886627983753,
          -0.4653757228572715,
          0.26066881226261535,
          0.6871616119462791,
          -0.4920968386727682,
          -0.7887370928876344,
          -2.001483326801323,
          1.679334471231441,
          1.7345100201822912,
          -0.9727078661032714,
          0.2919188486713192,
          0.4653106873555381,
          0.3891081605002875,
          1.1844211163842735,
          -0.3689456505251842,
          0.5046777558050485,
          0.5212098489901662,
          -0.2810122685636921,
          -0.14805919194277323,
          0.25379447016412093,
          -0.3485665898351345,
          0.8050525463698355,
          -0.17894394437635838,
          -0.51770392029611,
          2.074133165916208,
          1.6404422314144023,
          0.4178381849479696,
          -0.11527328671374554,
          0.0746127850615184,
          -0.7620958143342098
         ],
         "xaxis": "x10",
         "y": [
          1.0529477368352136,
          0.2930617432357008,
          1.1119203484653744,
          1.6489383973038985,
          -0.44315194894339144,
          0.33971969885165815,
          -1.2679410723898759,
          0.878602412594766,
          -0.01701777700976262,
          -1.7074610983020595,
          -1.986927656815517,
          -1.1922110015564524,
          -0.5289785497095464,
          0.01680000042455843,
          -0.5837674106225055,
          -0.4871165230268496,
          -0.4014215872776401,
          0.2085731372016796,
          -0.12780879304509013,
          -0.3495255202499878,
          -0.4941769165686941,
          -0.39661867736678547,
          -0.38111518818973755,
          0.4645588365578656,
          -0.6501920276514084,
          -0.1738867804627645,
          -0.7370725898005802,
          0.44065890061618307,
          0.40199017395439596,
          0.6822320891666506,
          -1.0573519166387042,
          -0.06137487892316644,
          0.38170228423852337,
          0.21700616745257056,
          0.1449485329915072,
          -0.5553712189724804,
          0.8272280563703455,
          -1.0743848368044255,
          0.7104998921867854,
          -0.8218771784084514,
          0.434615961626369,
          1.156337788721006,
          -0.06593257759944639,
          0.043166423794045145,
          -1.1105345941936113,
          0.46687735229821237,
          -0.7385150046263226,
          -1.4786736135599818,
          1.1353388872144567,
          -0.13804718547003814,
          -0.15085226213919517,
          2.0103030052593036,
          -0.8861673395197391,
          0.369075423768828,
          0.621665384466069,
          0.13652870069573342,
          -1.4120431805131202,
          -0.0920764508822153,
          0.46260254889670127,
          0.22998224781090865,
          -3.4136647243792915,
          -0.6749090527451456,
          1.1486066977984637,
          0.2140483875336955,
          0.7817456798306535,
          -0.5811849698058041,
          -0.41280012512979136,
          -0.42266356181884757,
          -0.39396835572244737,
          -1.323045945410225,
          1.470867827972942,
          -0.20919148148767397,
          -0.9715729101680947,
          -0.039975048729562014,
          -0.23501017151791628,
          1.2913427255576981,
          0.2784273540941354,
          -0.5032400855247581,
          2.390414309104297,
          1.0777999460240182,
          2.4468066095748067,
          0.1925307180321371,
          0.8752229524577904,
          0.18515108533003463,
          -1.0288114749536927,
          -0.3161675038371752,
          -1.969130484252486,
          0.4105749890189144,
          1.8963874037587554,
          -1.0628751535799188,
          0.179513787835816,
          -1.1586864022523369,
          1.281450933600982,
          -0.868531842418097,
          0.5185875432864853,
          -1.2834058964357886,
          -0.05858961011572423,
          0.41515782596194695,
          -0.07699647435151223,
          -0.623214868362486
         ],
         "yaxis": "y10"
        },
        {
         "histfunc": "count",
         "histnorm": "",
         "marker": {
          "color": "rgba(50, 171, 96, 1.0)",
          "line": {
           "color": "#4D5663",
           "width": 1.3
          }
         },
         "name": "C",
         "nbinsx": 10,
         "opacity": 0.8,
         "orientation": "v",
         "type": "histogram",
         "x": [
          1.0529477368352136,
          0.2930617432357008,
          1.1119203484653744,
          1.6489383973038985,
          -0.44315194894339144,
          0.33971969885165815,
          -1.2679410723898759,
          0.878602412594766,
          -0.01701777700976262,
          -1.7074610983020595,
          -1.986927656815517,
          -1.1922110015564524,
          -0.5289785497095464,
          0.01680000042455843,
          -0.5837674106225055,
          -0.4871165230268496,
          -0.4014215872776401,
          0.2085731372016796,
          -0.12780879304509013,
          -0.3495255202499878,
          -0.4941769165686941,
          -0.39661867736678547,
          -0.38111518818973755,
          0.4645588365578656,
          -0.6501920276514084,
          -0.1738867804627645,
          -0.7370725898005802,
          0.44065890061618307,
          0.40199017395439596,
          0.6822320891666506,
          -1.0573519166387042,
          -0.06137487892316644,
          0.38170228423852337,
          0.21700616745257056,
          0.1449485329915072,
          -0.5553712189724804,
          0.8272280563703455,
          -1.0743848368044255,
          0.7104998921867854,
          -0.8218771784084514,
          0.434615961626369,
          1.156337788721006,
          -0.06593257759944639,
          0.043166423794045145,
          -1.1105345941936113,
          0.46687735229821237,
          -0.7385150046263226,
          -1.4786736135599818,
          1.1353388872144567,
          -0.13804718547003814,
          -0.15085226213919517,
          2.0103030052593036,
          -0.8861673395197391,
          0.369075423768828,
          0.621665384466069,
          0.13652870069573342,
          -1.4120431805131202,
          -0.0920764508822153,
          0.46260254889670127,
          0.22998224781090865,
          -3.4136647243792915,
          -0.6749090527451456,
          1.1486066977984637,
          0.2140483875336955,
          0.7817456798306535,
          -0.5811849698058041,
          -0.41280012512979136,
          -0.42266356181884757,
          -0.39396835572244737,
          -1.323045945410225,
          1.470867827972942,
          -0.20919148148767397,
          -0.9715729101680947,
          -0.039975048729562014,
          -0.23501017151791628,
          1.2913427255576981,
          0.2784273540941354,
          -0.5032400855247581,
          2.390414309104297,
          1.0777999460240182,
          2.4468066095748067,
          0.1925307180321371,
          0.8752229524577904,
          0.18515108533003463,
          -1.0288114749536927,
          -0.3161675038371752,
          -1.969130484252486,
          0.4105749890189144,
          1.8963874037587554,
          -1.0628751535799188,
          0.179513787835816,
          -1.1586864022523369,
          1.281450933600982,
          -0.868531842418097,
          0.5185875432864853,
          -1.2834058964357886,
          -0.05858961011572423,
          0.41515782596194695,
          -0.07699647435151223,
          -0.623214868362486
         ],
         "xaxis": "x11",
         "yaxis": "y11"
        },
        {
         "line": {
          "color": "rgba(128, 128, 128, 1.0)",
          "dash": "solid",
          "shape": "linear",
          "width": 1.3
         },
         "marker": {
          "size": 2,
          "symbol": "circle"
         },
         "mode": "markers",
         "name": "C",
         "text": "",
         "type": "scatter",
         "x": [
          1.3201714568640348,
          0.8202669209189778,
          1.719151406541747,
          -1.2816376583613855,
          0.0831696363499211,
          0.6965366706057647,
          0.7935434244360957,
          -1.5622076183399023,
          -1.1796383832058777,
          1.6259450325083684,
          0.6490038637209604,
          0.048559327499800305,
          -0.9756752702190868,
          0.22351898637032006,
          0.21016851899244585,
          -0.1197094817674166,
          -0.7647835911925246,
          -1.6047579516933612,
          -0.7334694992514847,
          0.6962633130589095,
          -0.25738969061028455,
          0.5103413390193426,
          0.0031294517149671073,
          -0.11315603035653207,
          1.6101379403522884,
          -2.269959304915933,
          0.022594996453459457,
          1.0728758569526557,
          1.3683021274212308,
          0.8703140951807572,
          -1.89470981138138,
          -0.5875261922033744,
          -0.5797975626155121,
          -0.0518635076673208,
          1.4979498971398615,
          1.7553151946287406,
          0.543158041626994,
          -0.48111517813320376,
          1.462121838919327,
          -1.8928949164493165,
          0.8090004981305021,
          -0.5215255315362002,
          0.18508719447823002,
          0.7101244733780137,
          1.726453377077064,
          -0.030234066855630664,
          -0.6962107936911083,
          -0.6994994721452497,
          0.5282366821839588,
          1.1007476290378306,
          1.267079103387773,
          0.3456039247550511,
          -0.09217827397355612,
          -0.8804725228566794,
          -0.16722466082385853,
          -0.07994646029779469,
          0.05032870332012152,
          -1.0215178252859396,
          2.035751536649158,
          1.6095218128030624,
          -0.600345399297852,
          0.8039288968289282,
          -0.45561788304988565,
          -0.9707345674572707,
          1.5923413921458351,
          1.8318923987271796,
          -0.670126175132533,
          1.9242436712222672,
          0.4228120518043545,
          0.3974302445268368,
          0.8701900618201787,
          0.6675888402352415,
          -1.682852784395849,
          1.093724252130086,
          0.017097049355703428,
          0.35205905467001797,
          1.049157583084074,
          -1.7305791860346444,
          0.004692999260058379,
          0.5405958431147707,
          -0.4461736936294021,
          0.8825228776535895,
          0.030729494441852752,
          -0.3631565706132641,
          -0.1304528386430972,
          -1.3531048702277668,
          -0.724933648794998,
          0.3395751300210109,
          0.6883617240069344,
          -1.1796970103051465,
          -0.26005641368133126,
          -0.7072500700048227,
          -0.30407011152351004,
          -0.10921775006797968,
          0.18917774879848756,
          0.7349428949829958,
          -1.7326017742871818,
          0.2629551104312385,
          0.6088961688288745,
          2.184322882590267
         ],
         "xaxis": "x12",
         "y": [
          1.0529477368352136,
          0.2930617432357008,
          1.1119203484653744,
          1.6489383973038985,
          -0.44315194894339144,
          0.33971969885165815,
          -1.2679410723898759,
          0.878602412594766,
          -0.01701777700976262,
          -1.7074610983020595,
          -1.986927656815517,
          -1.1922110015564524,
          -0.5289785497095464,
          0.01680000042455843,
          -0.5837674106225055,
          -0.4871165230268496,
          -0.4014215872776401,
          0.2085731372016796,
          -0.12780879304509013,
          -0.3495255202499878,
          -0.4941769165686941,
          -0.39661867736678547,
          -0.38111518818973755,
          0.4645588365578656,
          -0.6501920276514084,
          -0.1738867804627645,
          -0.7370725898005802,
          0.44065890061618307,
          0.40199017395439596,
          0.6822320891666506,
          -1.0573519166387042,
          -0.06137487892316644,
          0.38170228423852337,
          0.21700616745257056,
          0.1449485329915072,
          -0.5553712189724804,
          0.8272280563703455,
          -1.0743848368044255,
          0.7104998921867854,
          -0.8218771784084514,
          0.434615961626369,
          1.156337788721006,
          -0.06593257759944639,
          0.043166423794045145,
          -1.1105345941936113,
          0.46687735229821237,
          -0.7385150046263226,
          -1.4786736135599818,
          1.1353388872144567,
          -0.13804718547003814,
          -0.15085226213919517,
          2.0103030052593036,
          -0.8861673395197391,
          0.369075423768828,
          0.621665384466069,
          0.13652870069573342,
          -1.4120431805131202,
          -0.0920764508822153,
          0.46260254889670127,
          0.22998224781090865,
          -3.4136647243792915,
          -0.6749090527451456,
          1.1486066977984637,
          0.2140483875336955,
          0.7817456798306535,
          -0.5811849698058041,
          -0.41280012512979136,
          -0.42266356181884757,
          -0.39396835572244737,
          -1.323045945410225,
          1.470867827972942,
          -0.20919148148767397,
          -0.9715729101680947,
          -0.039975048729562014,
          -0.23501017151791628,
          1.2913427255576981,
          0.2784273540941354,
          -0.5032400855247581,
          2.390414309104297,
          1.0777999460240182,
          2.4468066095748067,
          0.1925307180321371,
          0.8752229524577904,
          0.18515108533003463,
          -1.0288114749536927,
          -0.3161675038371752,
          -1.969130484252486,
          0.4105749890189144,
          1.8963874037587554,
          -1.0628751535799188,
          0.179513787835816,
          -1.1586864022523369,
          1.281450933600982,
          -0.868531842418097,
          0.5185875432864853,
          -1.2834058964357886,
          -0.05858961011572423,
          0.41515782596194695,
          -0.07699647435151223,
          -0.623214868362486
         ],
         "yaxis": "y12"
        },
        {
         "line": {
          "color": "rgba(128, 128, 128, 1.0)",
          "dash": "solid",
          "shape": "linear",
          "width": 1.3
         },
         "marker": {
          "size": 2,
          "symbol": "circle"
         },
         "mode": "markers",
         "name": "D",
         "text": "",
         "type": "scatter",
         "x": [
          -0.4388542745687468,
          0.38408546159996987,
          -0.7413763683855321,
          -2.0288498139440914,
          0.8624022381361729,
          -0.7390775027313098,
          -0.112055115702541,
          0.9806345007382388,
          -1.0309612695870745,
          -0.42208014577143504,
          -0.6589458881544358,
          1.6189909942527092,
          0.6280941855399383,
          0.5824415788359514,
          1.407947397974564,
          -0.6055181775783632,
          0.26145880753689704,
          -1.6728439093333693,
          1.6860521621788684,
          1.009329541212465,
          -1.8503028350686974,
          -0.20999184471500965,
          -2.2932587368033177,
          -1.052360060273866,
          0.7434586671733655,
          0.24587075068617625,
          -1.1941403964622943,
          -0.4868426790349285,
          0.8398227332351278,
          0.7617615697209622,
          0.14507569288658226,
          0.5443829206564472,
          0.937364315832808,
          1.2470954452432272,
          -0.5534980066811476,
          1.5123201135236342,
          0.8987462567974541,
          0.5791080389203644,
          -0.2169166729652307,
          1.1859624278722207,
          -1.0513105071512439,
          -0.5537498496696196,
          -1.1876608548600875,
          0.28581503368341776,
          -0.8373909670462102,
          -0.49908970926011703,
          -1.0529342880820247,
          -0.9248567740307652,
          1.764463447885169,
          0.5901326366414836,
          -1.142075713218274,
          -0.8946017497616889,
          0.0144652299158461,
          0.1279379505634851,
          -1.0120014602064225,
          0.0363380032435725,
          0.21366402851299293,
          -0.18459741491488368,
          0.550611238075139,
          -1.1964210420445283,
          0.27844714124707004,
          -0.601675012386725,
          0.09034648034734893,
          -1.019728088992673,
          -1.1810422893142594,
          -1.0302218578695155,
          -0.02807953192685473,
          2.1234225090964385,
          -1.7218913699279377,
          -1.107127947693045,
          0.07029646761054668,
          -0.44745598771982803,
          1.148766935793685,
          0.016377942985925025,
          -0.638644767078107,
          -0.6605524605312318,
          -0.12626451146059678,
          0.23314954919639108,
          0.13663921181967784,
          -1.0216268345305923,
          0.2665031884388046,
          0.35416299293513925,
          -0.053121967639487025,
          0.7862011170376131,
          -0.47712670671197815,
          0.7931940780649613,
          -0.32398602740064425,
          -0.7796188551276063,
          -1.0774772125396894,
          0.8366000799612457,
          -0.7252752826298803,
          0.47420209435821925,
          0.16479101958522108,
          0.7805292644873063,
          -0.1922784699312706,
          0.01984409354644912,
          -0.5905422812265733,
          0.2857750483391747,
          -0.8738282207287031,
          1.2715167674609458
         ],
         "xaxis": "x13",
         "y": [
          1.3201714568640348,
          0.8202669209189778,
          1.719151406541747,
          -1.2816376583613855,
          0.0831696363499211,
          0.6965366706057647,
          0.7935434244360957,
          -1.5622076183399023,
          -1.1796383832058777,
          1.6259450325083684,
          0.6490038637209604,
          0.048559327499800305,
          -0.9756752702190868,
          0.22351898637032006,
          0.21016851899244585,
          -0.1197094817674166,
          -0.7647835911925246,
          -1.6047579516933612,
          -0.7334694992514847,
          0.6962633130589095,
          -0.25738969061028455,
          0.5103413390193426,
          0.0031294517149671073,
          -0.11315603035653207,
          1.6101379403522884,
          -2.269959304915933,
          0.022594996453459457,
          1.0728758569526557,
          1.3683021274212308,
          0.8703140951807572,
          -1.89470981138138,
          -0.5875261922033744,
          -0.5797975626155121,
          -0.0518635076673208,
          1.4979498971398615,
          1.7553151946287406,
          0.543158041626994,
          -0.48111517813320376,
          1.462121838919327,
          -1.8928949164493165,
          0.8090004981305021,
          -0.5215255315362002,
          0.18508719447823002,
          0.7101244733780137,
          1.726453377077064,
          -0.030234066855630664,
          -0.6962107936911083,
          -0.6994994721452497,
          0.5282366821839588,
          1.1007476290378306,
          1.267079103387773,
          0.3456039247550511,
          -0.09217827397355612,
          -0.8804725228566794,
          -0.16722466082385853,
          -0.07994646029779469,
          0.05032870332012152,
          -1.0215178252859396,
          2.035751536649158,
          1.6095218128030624,
          -0.600345399297852,
          0.8039288968289282,
          -0.45561788304988565,
          -0.9707345674572707,
          1.5923413921458351,
          1.8318923987271796,
          -0.670126175132533,
          1.9242436712222672,
          0.4228120518043545,
          0.3974302445268368,
          0.8701900618201787,
          0.6675888402352415,
          -1.682852784395849,
          1.093724252130086,
          0.017097049355703428,
          0.35205905467001797,
          1.049157583084074,
          -1.7305791860346444,
          0.004692999260058379,
          0.5405958431147707,
          -0.4461736936294021,
          0.8825228776535895,
          0.030729494441852752,
          -0.3631565706132641,
          -0.1304528386430972,
          -1.3531048702277668,
          -0.724933648794998,
          0.3395751300210109,
          0.6883617240069344,
          -1.1796970103051465,
          -0.26005641368133126,
          -0.7072500700048227,
          -0.30407011152351004,
          -0.10921775006797968,
          0.18917774879848756,
          0.7349428949829958,
          -1.7326017742871818,
          0.2629551104312385,
          0.6088961688288745,
          2.184322882590267
         ],
         "yaxis": "y13"
        },
        {
         "line": {
          "color": "rgba(128, 128, 128, 1.0)",
          "dash": "solid",
          "shape": "linear",
          "width": 1.3
         },
         "marker": {
          "size": 2,
          "symbol": "circle"
         },
         "mode": "markers",
         "name": "D",
         "text": "",
         "type": "scatter",
         "x": [
          -1.3627216013659846,
          0.2746479273419688,
          0.7009464451380578,
          -1.3811013400556857,
          -1.7428511959512216,
          -0.8905026557041102,
          -0.551282879317178,
          0.22107331559969615,
          -1.5843865530614263,
          -1.9578013663048495,
          1.6767888897250252,
          0.5704931064566529,
          -0.6314149241481537,
          0.2757322702947673,
          0.7876966927085246,
          -0.8981643739025043,
          0.2948816739619415,
          0.1826302665386844,
          -0.9359073662486931,
          -1.457757479610927,
          -0.30185223399542666,
          0.9177284159277574,
          -0.5013513777674213,
          2.9904562197653792,
          1.2102048203993276,
          0.3463027009884661,
          -0.14875933083792445,
          -0.7241462815090236,
          -0.25408636699024595,
          -0.1011944206256832,
          -0.9111289589894425,
          0.09146337137093262,
          1.6008067662713046,
          1.2746041957302874,
          0.9851969510533377,
          -0.8543754688768727,
          1.6107325176724772,
          -1.4755417524303547,
          0.2324101126295466,
          -1.1624830197173044,
          -1.3561431982536194,
          0.5618943121972119,
          0.3401447906679545,
          -1.6615229986560336,
          -0.2078537594217146,
          0.727184088179305,
          -0.311201502392996,
          -0.5015752565114187,
          -1.1721312285095038,
          -1.5649694918407073,
          -1.0939670201572929,
          0.3619889697652782,
          3.367931842022976,
          -0.2521367382602952,
          -0.314242196876435,
          0.28725557906216953,
          -2.3182561631414584,
          -0.5554086695260209,
          -0.42168125402643714,
          1.689241224802193,
          0.07370559648891448,
          -0.6359492421783562,
          0.40914626446901686,
          0.06893059954535942,
          1.0029731029083802,
          1.4683660981628652,
          0.5641680851054268,
          -0.23720583119416894,
          -1.3720094046379412,
          -0.06317150115552012,
          -0.4646886627983753,
          -0.4653757228572715,
          0.26066881226261535,
          0.6871616119462791,
          -0.4920968386727682,
          -0.7887370928876344,
          -2.001483326801323,
          1.679334471231441,
          1.7345100201822912,
          -0.9727078661032714,
          0.2919188486713192,
          0.4653106873555381,
          0.3891081605002875,
          1.1844211163842735,
          -0.3689456505251842,
          0.5046777558050485,
          0.5212098489901662,
          -0.2810122685636921,
          -0.14805919194277323,
          0.25379447016412093,
          -0.3485665898351345,
          0.8050525463698355,
          -0.17894394437635838,
          -0.51770392029611,
          2.074133165916208,
          1.6404422314144023,
          0.4178381849479696,
          -0.11527328671374554,
          0.0746127850615184,
          -0.7620958143342098
         ],
         "xaxis": "x14",
         "y": [
          1.3201714568640348,
          0.8202669209189778,
          1.719151406541747,
          -1.2816376583613855,
          0.0831696363499211,
          0.6965366706057647,
          0.7935434244360957,
          -1.5622076183399023,
          -1.1796383832058777,
          1.6259450325083684,
          0.6490038637209604,
          0.048559327499800305,
          -0.9756752702190868,
          0.22351898637032006,
          0.21016851899244585,
          -0.1197094817674166,
          -0.7647835911925246,
          -1.6047579516933612,
          -0.7334694992514847,
          0.6962633130589095,
          -0.25738969061028455,
          0.5103413390193426,
          0.0031294517149671073,
          -0.11315603035653207,
          1.6101379403522884,
          -2.269959304915933,
          0.022594996453459457,
          1.0728758569526557,
          1.3683021274212308,
          0.8703140951807572,
          -1.89470981138138,
          -0.5875261922033744,
          -0.5797975626155121,
          -0.0518635076673208,
          1.4979498971398615,
          1.7553151946287406,
          0.543158041626994,
          -0.48111517813320376,
          1.462121838919327,
          -1.8928949164493165,
          0.8090004981305021,
          -0.5215255315362002,
          0.18508719447823002,
          0.7101244733780137,
          1.726453377077064,
          -0.030234066855630664,
          -0.6962107936911083,
          -0.6994994721452497,
          0.5282366821839588,
          1.1007476290378306,
          1.267079103387773,
          0.3456039247550511,
          -0.09217827397355612,
          -0.8804725228566794,
          -0.16722466082385853,
          -0.07994646029779469,
          0.05032870332012152,
          -1.0215178252859396,
          2.035751536649158,
          1.6095218128030624,
          -0.600345399297852,
          0.8039288968289282,
          -0.45561788304988565,
          -0.9707345674572707,
          1.5923413921458351,
          1.8318923987271796,
          -0.670126175132533,
          1.9242436712222672,
          0.4228120518043545,
          0.3974302445268368,
          0.8701900618201787,
          0.6675888402352415,
          -1.682852784395849,
          1.093724252130086,
          0.017097049355703428,
          0.35205905467001797,
          1.049157583084074,
          -1.7305791860346444,
          0.004692999260058379,
          0.5405958431147707,
          -0.4461736936294021,
          0.8825228776535895,
          0.030729494441852752,
          -0.3631565706132641,
          -0.1304528386430972,
          -1.3531048702277668,
          -0.724933648794998,
          0.3395751300210109,
          0.6883617240069344,
          -1.1796970103051465,
          -0.26005641368133126,
          -0.7072500700048227,
          -0.30407011152351004,
          -0.10921775006797968,
          0.18917774879848756,
          0.7349428949829958,
          -1.7326017742871818,
          0.2629551104312385,
          0.6088961688288745,
          2.184322882590267
         ],
         "yaxis": "y14"
        },
        {
         "line": {
          "color": "rgba(128, 128, 128, 1.0)",
          "dash": "solid",
          "shape": "linear",
          "width": 1.3
         },
         "marker": {
          "size": 2,
          "symbol": "circle"
         },
         "mode": "markers",
         "name": "D",
         "text": "",
         "type": "scatter",
         "x": [
          1.0529477368352136,
          0.2930617432357008,
          1.1119203484653744,
          1.6489383973038985,
          -0.44315194894339144,
          0.33971969885165815,
          -1.2679410723898759,
          0.878602412594766,
          -0.01701777700976262,
          -1.7074610983020595,
          -1.986927656815517,
          -1.1922110015564524,
          -0.5289785497095464,
          0.01680000042455843,
          -0.5837674106225055,
          -0.4871165230268496,
          -0.4014215872776401,
          0.2085731372016796,
          -0.12780879304509013,
          -0.3495255202499878,
          -0.4941769165686941,
          -0.39661867736678547,
          -0.38111518818973755,
          0.4645588365578656,
          -0.6501920276514084,
          -0.1738867804627645,
          -0.7370725898005802,
          0.44065890061618307,
          0.40199017395439596,
          0.6822320891666506,
          -1.0573519166387042,
          -0.06137487892316644,
          0.38170228423852337,
          0.21700616745257056,
          0.1449485329915072,
          -0.5553712189724804,
          0.8272280563703455,
          -1.0743848368044255,
          0.7104998921867854,
          -0.8218771784084514,
          0.434615961626369,
          1.156337788721006,
          -0.06593257759944639,
          0.043166423794045145,
          -1.1105345941936113,
          0.46687735229821237,
          -0.7385150046263226,
          -1.4786736135599818,
          1.1353388872144567,
          -0.13804718547003814,
          -0.15085226213919517,
          2.0103030052593036,
          -0.8861673395197391,
          0.369075423768828,
          0.621665384466069,
          0.13652870069573342,
          -1.4120431805131202,
          -0.0920764508822153,
          0.46260254889670127,
          0.22998224781090865,
          -3.4136647243792915,
          -0.6749090527451456,
          1.1486066977984637,
          0.2140483875336955,
          0.7817456798306535,
          -0.5811849698058041,
          -0.41280012512979136,
          -0.42266356181884757,
          -0.39396835572244737,
          -1.323045945410225,
          1.470867827972942,
          -0.20919148148767397,
          -0.9715729101680947,
          -0.039975048729562014,
          -0.23501017151791628,
          1.2913427255576981,
          0.2784273540941354,
          -0.5032400855247581,
          2.390414309104297,
          1.0777999460240182,
          2.4468066095748067,
          0.1925307180321371,
          0.8752229524577904,
          0.18515108533003463,
          -1.0288114749536927,
          -0.3161675038371752,
          -1.969130484252486,
          0.4105749890189144,
          1.8963874037587554,
          -1.0628751535799188,
          0.179513787835816,
          -1.1586864022523369,
          1.281450933600982,
          -0.868531842418097,
          0.5185875432864853,
          -1.2834058964357886,
          -0.05858961011572423,
          0.41515782596194695,
          -0.07699647435151223,
          -0.623214868362486
         ],
         "xaxis": "x15",
         "y": [
          1.3201714568640348,
          0.8202669209189778,
          1.719151406541747,
          -1.2816376583613855,
          0.0831696363499211,
          0.6965366706057647,
          0.7935434244360957,
          -1.5622076183399023,
          -1.1796383832058777,
          1.6259450325083684,
          0.6490038637209604,
          0.048559327499800305,
          -0.9756752702190868,
          0.22351898637032006,
          0.21016851899244585,
          -0.1197094817674166,
          -0.7647835911925246,
          -1.6047579516933612,
          -0.7334694992514847,
          0.6962633130589095,
          -0.25738969061028455,
          0.5103413390193426,
          0.0031294517149671073,
          -0.11315603035653207,
          1.6101379403522884,
          -2.269959304915933,
          0.022594996453459457,
          1.0728758569526557,
          1.3683021274212308,
          0.8703140951807572,
          -1.89470981138138,
          -0.5875261922033744,
          -0.5797975626155121,
          -0.0518635076673208,
          1.4979498971398615,
          1.7553151946287406,
          0.543158041626994,
          -0.48111517813320376,
          1.462121838919327,
          -1.8928949164493165,
          0.8090004981305021,
          -0.5215255315362002,
          0.18508719447823002,
          0.7101244733780137,
          1.726453377077064,
          -0.030234066855630664,
          -0.6962107936911083,
          -0.6994994721452497,
          0.5282366821839588,
          1.1007476290378306,
          1.267079103387773,
          0.3456039247550511,
          -0.09217827397355612,
          -0.8804725228566794,
          -0.16722466082385853,
          -0.07994646029779469,
          0.05032870332012152,
          -1.0215178252859396,
          2.035751536649158,
          1.6095218128030624,
          -0.600345399297852,
          0.8039288968289282,
          -0.45561788304988565,
          -0.9707345674572707,
          1.5923413921458351,
          1.8318923987271796,
          -0.670126175132533,
          1.9242436712222672,
          0.4228120518043545,
          0.3974302445268368,
          0.8701900618201787,
          0.6675888402352415,
          -1.682852784395849,
          1.093724252130086,
          0.017097049355703428,
          0.35205905467001797,
          1.049157583084074,
          -1.7305791860346444,
          0.004692999260058379,
          0.5405958431147707,
          -0.4461736936294021,
          0.8825228776535895,
          0.030729494441852752,
          -0.3631565706132641,
          -0.1304528386430972,
          -1.3531048702277668,
          -0.724933648794998,
          0.3395751300210109,
          0.6883617240069344,
          -1.1796970103051465,
          -0.26005641368133126,
          -0.7072500700048227,
          -0.30407011152351004,
          -0.10921775006797968,
          0.18917774879848756,
          0.7349428949829958,
          -1.7326017742871818,
          0.2629551104312385,
          0.6088961688288745,
          2.184322882590267
         ],
         "yaxis": "y15"
        },
        {
         "histfunc": "count",
         "histnorm": "",
         "marker": {
          "color": "rgba(128, 0, 128, 1.0)",
          "line": {
           "color": "#4D5663",
           "width": 1.3
          }
         },
         "name": "D",
         "nbinsx": 10,
         "opacity": 0.8,
         "orientation": "v",
         "type": "histogram",
         "x": [
          1.3201714568640348,
          0.8202669209189778,
          1.719151406541747,
          -1.2816376583613855,
          0.0831696363499211,
          0.6965366706057647,
          0.7935434244360957,
          -1.5622076183399023,
          -1.1796383832058777,
          1.6259450325083684,
          0.6490038637209604,
          0.048559327499800305,
          -0.9756752702190868,
          0.22351898637032006,
          0.21016851899244585,
          -0.1197094817674166,
          -0.7647835911925246,
          -1.6047579516933612,
          -0.7334694992514847,
          0.6962633130589095,
          -0.25738969061028455,
          0.5103413390193426,
          0.0031294517149671073,
          -0.11315603035653207,
          1.6101379403522884,
          -2.269959304915933,
          0.022594996453459457,
          1.0728758569526557,
          1.3683021274212308,
          0.8703140951807572,
          -1.89470981138138,
          -0.5875261922033744,
          -0.5797975626155121,
          -0.0518635076673208,
          1.4979498971398615,
          1.7553151946287406,
          0.543158041626994,
          -0.48111517813320376,
          1.462121838919327,
          -1.8928949164493165,
          0.8090004981305021,
          -0.5215255315362002,
          0.18508719447823002,
          0.7101244733780137,
          1.726453377077064,
          -0.030234066855630664,
          -0.6962107936911083,
          -0.6994994721452497,
          0.5282366821839588,
          1.1007476290378306,
          1.267079103387773,
          0.3456039247550511,
          -0.09217827397355612,
          -0.8804725228566794,
          -0.16722466082385853,
          -0.07994646029779469,
          0.05032870332012152,
          -1.0215178252859396,
          2.035751536649158,
          1.6095218128030624,
          -0.600345399297852,
          0.8039288968289282,
          -0.45561788304988565,
          -0.9707345674572707,
          1.5923413921458351,
          1.8318923987271796,
          -0.670126175132533,
          1.9242436712222672,
          0.4228120518043545,
          0.3974302445268368,
          0.8701900618201787,
          0.6675888402352415,
          -1.682852784395849,
          1.093724252130086,
          0.017097049355703428,
          0.35205905467001797,
          1.049157583084074,
          -1.7305791860346444,
          0.004692999260058379,
          0.5405958431147707,
          -0.4461736936294021,
          0.8825228776535895,
          0.030729494441852752,
          -0.3631565706132641,
          -0.1304528386430972,
          -1.3531048702277668,
          -0.724933648794998,
          0.3395751300210109,
          0.6883617240069344,
          -1.1796970103051465,
          -0.26005641368133126,
          -0.7072500700048227,
          -0.30407011152351004,
          -0.10921775006797968,
          0.18917774879848756,
          0.7349428949829958,
          -1.7326017742871818,
          0.2629551104312385,
          0.6088961688288745,
          2.184322882590267
         ],
         "xaxis": "x16",
         "yaxis": "y16"
        }
       ],
       "layout": {
        "bargap": 0.02,
        "legend": {
         "bgcolor": "#F5F6F9",
         "font": {
          "color": "#4D5663"
         }
        },
        "paper_bgcolor": "#F5F6F9",
        "plot_bgcolor": "#F5F6F9",
        "showlegend": false,
        "template": {
         "data": {
          "bar": [
           {
            "error_x": {
             "color": "#2a3f5f"
            },
            "error_y": {
             "color": "#2a3f5f"
            },
            "marker": {
             "line": {
              "color": "#E5ECF6",
              "width": 0.5
             }
            },
            "type": "bar"
           }
          ],
          "barpolar": [
           {
            "marker": {
             "line": {
              "color": "#E5ECF6",
              "width": 0.5
             }
            },
            "type": "barpolar"
           }
          ],
          "carpet": [
           {
            "aaxis": {
             "endlinecolor": "#2a3f5f",
             "gridcolor": "white",
             "linecolor": "white",
             "minorgridcolor": "white",
             "startlinecolor": "#2a3f5f"
            },
            "baxis": {
             "endlinecolor": "#2a3f5f",
             "gridcolor": "white",
             "linecolor": "white",
             "minorgridcolor": "white",
             "startlinecolor": "#2a3f5f"
            },
            "type": "carpet"
           }
          ],
          "choropleth": [
           {
            "colorbar": {
             "outlinewidth": 0,
             "ticks": ""
            },
            "type": "choropleth"
           }
          ],
          "contour": [
           {
            "colorbar": {
             "outlinewidth": 0,
             "ticks": ""
            },
            "colorscale": [
             [
              0,
              "#0d0887"
             ],
             [
              0.1111111111111111,
              "#46039f"
             ],
             [
              0.2222222222222222,
              "#7201a8"
             ],
             [
              0.3333333333333333,
              "#9c179e"
             ],
             [
              0.4444444444444444,
              "#bd3786"
             ],
             [
              0.5555555555555556,
              "#d8576b"
             ],
             [
              0.6666666666666666,
              "#ed7953"
             ],
             [
              0.7777777777777778,
              "#fb9f3a"
             ],
             [
              0.8888888888888888,
              "#fdca26"
             ],
             [
              1,
              "#f0f921"
             ]
            ],
            "type": "contour"
           }
          ],
          "contourcarpet": [
           {
            "colorbar": {
             "outlinewidth": 0,
             "ticks": ""
            },
            "type": "contourcarpet"
           }
          ],
          "heatmap": [
           {
            "colorbar": {
             "outlinewidth": 0,
             "ticks": ""
            },
            "colorscale": [
             [
              0,
              "#0d0887"
             ],
             [
              0.1111111111111111,
              "#46039f"
             ],
             [
              0.2222222222222222,
              "#7201a8"
             ],
             [
              0.3333333333333333,
              "#9c179e"
             ],
             [
              0.4444444444444444,
              "#bd3786"
             ],
             [
              0.5555555555555556,
              "#d8576b"
             ],
             [
              0.6666666666666666,
              "#ed7953"
             ],
             [
              0.7777777777777778,
              "#fb9f3a"
             ],
             [
              0.8888888888888888,
              "#fdca26"
             ],
             [
              1,
              "#f0f921"
             ]
            ],
            "type": "heatmap"
           }
          ],
          "heatmapgl": [
           {
            "colorbar": {
             "outlinewidth": 0,
             "ticks": ""
            },
            "colorscale": [
             [
              0,
              "#0d0887"
             ],
             [
              0.1111111111111111,
              "#46039f"
             ],
             [
              0.2222222222222222,
              "#7201a8"
             ],
             [
              0.3333333333333333,
              "#9c179e"
             ],
             [
              0.4444444444444444,
              "#bd3786"
             ],
             [
              0.5555555555555556,
              "#d8576b"
             ],
             [
              0.6666666666666666,
              "#ed7953"
             ],
             [
              0.7777777777777778,
              "#fb9f3a"
             ],
             [
              0.8888888888888888,
              "#fdca26"
             ],
             [
              1,
              "#f0f921"
             ]
            ],
            "type": "heatmapgl"
           }
          ],
          "histogram": [
           {
            "marker": {
             "colorbar": {
              "outlinewidth": 0,
              "ticks": ""
             }
            },
            "type": "histogram"
           }
          ],
          "histogram2d": [
           {
            "colorbar": {
             "outlinewidth": 0,
             "ticks": ""
            },
            "colorscale": [
             [
              0,
              "#0d0887"
             ],
             [
              0.1111111111111111,
              "#46039f"
             ],
             [
              0.2222222222222222,
              "#7201a8"
             ],
             [
              0.3333333333333333,
              "#9c179e"
             ],
             [
              0.4444444444444444,
              "#bd3786"
             ],
             [
              0.5555555555555556,
              "#d8576b"
             ],
             [
              0.6666666666666666,
              "#ed7953"
             ],
             [
              0.7777777777777778,
              "#fb9f3a"
             ],
             [
              0.8888888888888888,
              "#fdca26"
             ],
             [
              1,
              "#f0f921"
             ]
            ],
            "type": "histogram2d"
           }
          ],
          "histogram2dcontour": [
           {
            "colorbar": {
             "outlinewidth": 0,
             "ticks": ""
            },
            "colorscale": [
             [
              0,
              "#0d0887"
             ],
             [
              0.1111111111111111,
              "#46039f"
             ],
             [
              0.2222222222222222,
              "#7201a8"
             ],
             [
              0.3333333333333333,
              "#9c179e"
             ],
             [
              0.4444444444444444,
              "#bd3786"
             ],
             [
              0.5555555555555556,
              "#d8576b"
             ],
             [
              0.6666666666666666,
              "#ed7953"
             ],
             [
              0.7777777777777778,
              "#fb9f3a"
             ],
             [
              0.8888888888888888,
              "#fdca26"
             ],
             [
              1,
              "#f0f921"
             ]
            ],
            "type": "histogram2dcontour"
           }
          ],
          "mesh3d": [
           {
            "colorbar": {
             "outlinewidth": 0,
             "ticks": ""
            },
            "type": "mesh3d"
           }
          ],
          "parcoords": [
           {
            "line": {
             "colorbar": {
              "outlinewidth": 0,
              "ticks": ""
             }
            },
            "type": "parcoords"
           }
          ],
          "pie": [
           {
            "automargin": true,
            "type": "pie"
           }
          ],
          "scatter": [
           {
            "marker": {
             "colorbar": {
              "outlinewidth": 0,
              "ticks": ""
             }
            },
            "type": "scatter"
           }
          ],
          "scatter3d": [
           {
            "line": {
             "colorbar": {
              "outlinewidth": 0,
              "ticks": ""
             }
            },
            "marker": {
             "colorbar": {
              "outlinewidth": 0,
              "ticks": ""
             }
            },
            "type": "scatter3d"
           }
          ],
          "scattercarpet": [
           {
            "marker": {
             "colorbar": {
              "outlinewidth": 0,
              "ticks": ""
             }
            },
            "type": "scattercarpet"
           }
          ],
          "scattergeo": [
           {
            "marker": {
             "colorbar": {
              "outlinewidth": 0,
              "ticks": ""
             }
            },
            "type": "scattergeo"
           }
          ],
          "scattergl": [
           {
            "marker": {
             "colorbar": {
              "outlinewidth": 0,
              "ticks": ""
             }
            },
            "type": "scattergl"
           }
          ],
          "scattermapbox": [
           {
            "marker": {
             "colorbar": {
              "outlinewidth": 0,
              "ticks": ""
             }
            },
            "type": "scattermapbox"
           }
          ],
          "scatterpolar": [
           {
            "marker": {
             "colorbar": {
              "outlinewidth": 0,
              "ticks": ""
             }
            },
            "type": "scatterpolar"
           }
          ],
          "scatterpolargl": [
           {
            "marker": {
             "colorbar": {
              "outlinewidth": 0,
              "ticks": ""
             }
            },
            "type": "scatterpolargl"
           }
          ],
          "scatterternary": [
           {
            "marker": {
             "colorbar": {
              "outlinewidth": 0,
              "ticks": ""
             }
            },
            "type": "scatterternary"
           }
          ],
          "surface": [
           {
            "colorbar": {
             "outlinewidth": 0,
             "ticks": ""
            },
            "colorscale": [
             [
              0,
              "#0d0887"
             ],
             [
              0.1111111111111111,
              "#46039f"
             ],
             [
              0.2222222222222222,
              "#7201a8"
             ],
             [
              0.3333333333333333,
              "#9c179e"
             ],
             [
              0.4444444444444444,
              "#bd3786"
             ],
             [
              0.5555555555555556,
              "#d8576b"
             ],
             [
              0.6666666666666666,
              "#ed7953"
             ],
             [
              0.7777777777777778,
              "#fb9f3a"
             ],
             [
              0.8888888888888888,
              "#fdca26"
             ],
             [
              1,
              "#f0f921"
             ]
            ],
            "type": "surface"
           }
          ],
          "table": [
           {
            "cells": {
             "fill": {
              "color": "#EBF0F8"
             },
             "line": {
              "color": "white"
             }
            },
            "header": {
             "fill": {
              "color": "#C8D4E3"
             },
             "line": {
              "color": "white"
             }
            },
            "type": "table"
           }
          ]
         },
         "layout": {
          "annotationdefaults": {
           "arrowcolor": "#2a3f5f",
           "arrowhead": 0,
           "arrowwidth": 1
          },
          "autotypenumbers": "strict",
          "coloraxis": {
           "colorbar": {
            "outlinewidth": 0,
            "ticks": ""
           }
          },
          "colorscale": {
           "diverging": [
            [
             0,
             "#8e0152"
            ],
            [
             0.1,
             "#c51b7d"
            ],
            [
             0.2,
             "#de77ae"
            ],
            [
             0.3,
             "#f1b6da"
            ],
            [
             0.4,
             "#fde0ef"
            ],
            [
             0.5,
             "#f7f7f7"
            ],
            [
             0.6,
             "#e6f5d0"
            ],
            [
             0.7,
             "#b8e186"
            ],
            [
             0.8,
             "#7fbc41"
            ],
            [
             0.9,
             "#4d9221"
            ],
            [
             1,
             "#276419"
            ]
           ],
           "sequential": [
            [
             0,
             "#0d0887"
            ],
            [
             0.1111111111111111,
             "#46039f"
            ],
            [
             0.2222222222222222,
             "#7201a8"
            ],
            [
             0.3333333333333333,
             "#9c179e"
            ],
            [
             0.4444444444444444,
             "#bd3786"
            ],
            [
             0.5555555555555556,
             "#d8576b"
            ],
            [
             0.6666666666666666,
             "#ed7953"
            ],
            [
             0.7777777777777778,
             "#fb9f3a"
            ],
            [
             0.8888888888888888,
             "#fdca26"
            ],
            [
             1,
             "#f0f921"
            ]
           ],
           "sequentialminus": [
            [
             0,
             "#0d0887"
            ],
            [
             0.1111111111111111,
             "#46039f"
            ],
            [
             0.2222222222222222,
             "#7201a8"
            ],
            [
             0.3333333333333333,
             "#9c179e"
            ],
            [
             0.4444444444444444,
             "#bd3786"
            ],
            [
             0.5555555555555556,
             "#d8576b"
            ],
            [
             0.6666666666666666,
             "#ed7953"
            ],
            [
             0.7777777777777778,
             "#fb9f3a"
            ],
            [
             0.8888888888888888,
             "#fdca26"
            ],
            [
             1,
             "#f0f921"
            ]
           ]
          },
          "colorway": [
           "#636efa",
           "#EF553B",
           "#00cc96",
           "#ab63fa",
           "#FFA15A",
           "#19d3f3",
           "#FF6692",
           "#B6E880",
           "#FF97FF",
           "#FECB52"
          ],
          "font": {
           "color": "#2a3f5f"
          },
          "geo": {
           "bgcolor": "white",
           "lakecolor": "white",
           "landcolor": "#E5ECF6",
           "showlakes": true,
           "showland": true,
           "subunitcolor": "white"
          },
          "hoverlabel": {
           "align": "left"
          },
          "hovermode": "closest",
          "mapbox": {
           "style": "light"
          },
          "paper_bgcolor": "white",
          "plot_bgcolor": "#E5ECF6",
          "polar": {
           "angularaxis": {
            "gridcolor": "white",
            "linecolor": "white",
            "ticks": ""
           },
           "bgcolor": "#E5ECF6",
           "radialaxis": {
            "gridcolor": "white",
            "linecolor": "white",
            "ticks": ""
           }
          },
          "scene": {
           "xaxis": {
            "backgroundcolor": "#E5ECF6",
            "gridcolor": "white",
            "gridwidth": 2,
            "linecolor": "white",
            "showbackground": true,
            "ticks": "",
            "zerolinecolor": "white"
           },
           "yaxis": {
            "backgroundcolor": "#E5ECF6",
            "gridcolor": "white",
            "gridwidth": 2,
            "linecolor": "white",
            "showbackground": true,
            "ticks": "",
            "zerolinecolor": "white"
           },
           "zaxis": {
            "backgroundcolor": "#E5ECF6",
            "gridcolor": "white",
            "gridwidth": 2,
            "linecolor": "white",
            "showbackground": true,
            "ticks": "",
            "zerolinecolor": "white"
           }
          },
          "shapedefaults": {
           "line": {
            "color": "#2a3f5f"
           }
          },
          "ternary": {
           "aaxis": {
            "gridcolor": "white",
            "linecolor": "white",
            "ticks": ""
           },
           "baxis": {
            "gridcolor": "white",
            "linecolor": "white",
            "ticks": ""
           },
           "bgcolor": "#E5ECF6",
           "caxis": {
            "gridcolor": "white",
            "linecolor": "white",
            "ticks": ""
           }
          },
          "title": {
           "x": 0.05
          },
          "xaxis": {
           "automargin": true,
           "gridcolor": "white",
           "linecolor": "white",
           "ticks": "",
           "title": {
            "standoff": 15
           },
           "zerolinecolor": "white",
           "zerolinewidth": 2
          },
          "yaxis": {
           "automargin": true,
           "gridcolor": "white",
           "linecolor": "white",
           "ticks": "",
           "title": {
            "standoff": 15
           },
           "zerolinecolor": "white",
           "zerolinewidth": 2
          }
         }
        },
        "title": {
         "font": {
          "color": "#4D5663"
         }
        },
        "xaxis": {
         "anchor": "y",
         "domain": [
          0,
          0.2125
         ],
         "gridcolor": "#E1E5ED",
         "showgrid": false,
         "tickfont": {
          "color": "#4D5663"
         },
         "title": {
          "font": {
           "color": "#4D5663"
          },
          "text": ""
         },
         "zerolinecolor": "#E1E5ED"
        },
        "xaxis10": {
         "anchor": "y10",
         "domain": [
          0.2625,
          0.475
         ],
         "gridcolor": "#E1E5ED",
         "showgrid": false,
         "tickfont": {
          "color": "#4D5663"
         },
         "title": {
          "font": {
           "color": "#4D5663"
          },
          "text": ""
         },
         "zerolinecolor": "#E1E5ED"
        },
        "xaxis11": {
         "anchor": "y11",
         "domain": [
          0.525,
          0.7375
         ],
         "gridcolor": "#E1E5ED",
         "showgrid": false,
         "tickfont": {
          "color": "#4D5663"
         },
         "title": {
          "font": {
           "color": "#4D5663"
          },
          "text": ""
         },
         "zerolinecolor": "#E1E5ED"
        },
        "xaxis12": {
         "anchor": "y12",
         "domain": [
          0.7875,
          1
         ],
         "gridcolor": "#E1E5ED",
         "showgrid": false,
         "tickfont": {
          "color": "#4D5663"
         },
         "title": {
          "font": {
           "color": "#4D5663"
          },
          "text": ""
         },
         "zerolinecolor": "#E1E5ED"
        },
        "xaxis13": {
         "anchor": "y13",
         "domain": [
          0,
          0.2125
         ],
         "gridcolor": "#E1E5ED",
         "showgrid": false,
         "tickfont": {
          "color": "#4D5663"
         },
         "title": {
          "font": {
           "color": "#4D5663"
          },
          "text": ""
         },
         "zerolinecolor": "#E1E5ED"
        },
        "xaxis14": {
         "anchor": "y14",
         "domain": [
          0.2625,
          0.475
         ],
         "gridcolor": "#E1E5ED",
         "showgrid": false,
         "tickfont": {
          "color": "#4D5663"
         },
         "title": {
          "font": {
           "color": "#4D5663"
          },
          "text": ""
         },
         "zerolinecolor": "#E1E5ED"
        },
        "xaxis15": {
         "anchor": "y15",
         "domain": [
          0.525,
          0.7375
         ],
         "gridcolor": "#E1E5ED",
         "showgrid": false,
         "tickfont": {
          "color": "#4D5663"
         },
         "title": {
          "font": {
           "color": "#4D5663"
          },
          "text": ""
         },
         "zerolinecolor": "#E1E5ED"
        },
        "xaxis16": {
         "anchor": "y16",
         "domain": [
          0.7875,
          1
         ],
         "gridcolor": "#E1E5ED",
         "showgrid": false,
         "tickfont": {
          "color": "#4D5663"
         },
         "title": {
          "font": {
           "color": "#4D5663"
          },
          "text": ""
         },
         "zerolinecolor": "#E1E5ED"
        },
        "xaxis2": {
         "anchor": "y2",
         "domain": [
          0.2625,
          0.475
         ],
         "gridcolor": "#E1E5ED",
         "showgrid": false,
         "tickfont": {
          "color": "#4D5663"
         },
         "title": {
          "font": {
           "color": "#4D5663"
          },
          "text": ""
         },
         "zerolinecolor": "#E1E5ED"
        },
        "xaxis3": {
         "anchor": "y3",
         "domain": [
          0.525,
          0.7375
         ],
         "gridcolor": "#E1E5ED",
         "showgrid": false,
         "tickfont": {
          "color": "#4D5663"
         },
         "title": {
          "font": {
           "color": "#4D5663"
          },
          "text": ""
         },
         "zerolinecolor": "#E1E5ED"
        },
        "xaxis4": {
         "anchor": "y4",
         "domain": [
          0.7875,
          1
         ],
         "gridcolor": "#E1E5ED",
         "showgrid": false,
         "tickfont": {
          "color": "#4D5663"
         },
         "title": {
          "font": {
           "color": "#4D5663"
          },
          "text": ""
         },
         "zerolinecolor": "#E1E5ED"
        },
        "xaxis5": {
         "anchor": "y5",
         "domain": [
          0,
          0.2125
         ],
         "gridcolor": "#E1E5ED",
         "showgrid": false,
         "tickfont": {
          "color": "#4D5663"
         },
         "title": {
          "font": {
           "color": "#4D5663"
          },
          "text": ""
         },
         "zerolinecolor": "#E1E5ED"
        },
        "xaxis6": {
         "anchor": "y6",
         "domain": [
          0.2625,
          0.475
         ],
         "gridcolor": "#E1E5ED",
         "showgrid": false,
         "tickfont": {
          "color": "#4D5663"
         },
         "title": {
          "font": {
           "color": "#4D5663"
          },
          "text": ""
         },
         "zerolinecolor": "#E1E5ED"
        },
        "xaxis7": {
         "anchor": "y7",
         "domain": [
          0.525,
          0.7375
         ],
         "gridcolor": "#E1E5ED",
         "showgrid": false,
         "tickfont": {
          "color": "#4D5663"
         },
         "title": {
          "font": {
           "color": "#4D5663"
          },
          "text": ""
         },
         "zerolinecolor": "#E1E5ED"
        },
        "xaxis8": {
         "anchor": "y8",
         "domain": [
          0.7875,
          1
         ],
         "gridcolor": "#E1E5ED",
         "showgrid": false,
         "tickfont": {
          "color": "#4D5663"
         },
         "title": {
          "font": {
           "color": "#4D5663"
          },
          "text": ""
         },
         "zerolinecolor": "#E1E5ED"
        },
        "xaxis9": {
         "anchor": "y9",
         "domain": [
          0,
          0.2125
         ],
         "gridcolor": "#E1E5ED",
         "showgrid": false,
         "tickfont": {
          "color": "#4D5663"
         },
         "title": {
          "font": {
           "color": "#4D5663"
          },
          "text": ""
         },
         "zerolinecolor": "#E1E5ED"
        },
        "yaxis": {
         "anchor": "x",
         "domain": [
          0.8025,
          1
         ],
         "gridcolor": "#E1E5ED",
         "showgrid": false,
         "tickfont": {
          "color": "#4D5663"
         },
         "title": {
          "font": {
           "color": "#4D5663"
          },
          "text": ""
         },
         "zerolinecolor": "#E1E5ED"
        },
        "yaxis10": {
         "anchor": "x10",
         "domain": [
          0.2675,
          0.465
         ],
         "gridcolor": "#E1E5ED",
         "showgrid": false,
         "tickfont": {
          "color": "#4D5663"
         },
         "title": {
          "font": {
           "color": "#4D5663"
          },
          "text": ""
         },
         "zerolinecolor": "#E1E5ED"
        },
        "yaxis11": {
         "anchor": "x11",
         "domain": [
          0.2675,
          0.465
         ],
         "gridcolor": "#E1E5ED",
         "showgrid": false,
         "tickfont": {
          "color": "#4D5663"
         },
         "title": {
          "font": {
           "color": "#4D5663"
          },
          "text": ""
         },
         "zerolinecolor": "#E1E5ED"
        },
        "yaxis12": {
         "anchor": "x12",
         "domain": [
          0.2675,
          0.465
         ],
         "gridcolor": "#E1E5ED",
         "showgrid": false,
         "tickfont": {
          "color": "#4D5663"
         },
         "title": {
          "font": {
           "color": "#4D5663"
          },
          "text": ""
         },
         "zerolinecolor": "#E1E5ED"
        },
        "yaxis13": {
         "anchor": "x13",
         "domain": [
          0,
          0.1975
         ],
         "gridcolor": "#E1E5ED",
         "showgrid": false,
         "tickfont": {
          "color": "#4D5663"
         },
         "title": {
          "font": {
           "color": "#4D5663"
          },
          "text": ""
         },
         "zerolinecolor": "#E1E5ED"
        },
        "yaxis14": {
         "anchor": "x14",
         "domain": [
          0,
          0.1975
         ],
         "gridcolor": "#E1E5ED",
         "showgrid": false,
         "tickfont": {
          "color": "#4D5663"
         },
         "title": {
          "font": {
           "color": "#4D5663"
          },
          "text": ""
         },
         "zerolinecolor": "#E1E5ED"
        },
        "yaxis15": {
         "anchor": "x15",
         "domain": [
          0,
          0.1975
         ],
         "gridcolor": "#E1E5ED",
         "showgrid": false,
         "tickfont": {
          "color": "#4D5663"
         },
         "title": {
          "font": {
           "color": "#4D5663"
          },
          "text": ""
         },
         "zerolinecolor": "#E1E5ED"
        },
        "yaxis16": {
         "anchor": "x16",
         "domain": [
          0,
          0.1975
         ],
         "gridcolor": "#E1E5ED",
         "showgrid": false,
         "tickfont": {
          "color": "#4D5663"
         },
         "title": {
          "font": {
           "color": "#4D5663"
          },
          "text": ""
         },
         "zerolinecolor": "#E1E5ED"
        },
        "yaxis2": {
         "anchor": "x2",
         "domain": [
          0.8025,
          1
         ],
         "gridcolor": "#E1E5ED",
         "showgrid": false,
         "tickfont": {
          "color": "#4D5663"
         },
         "title": {
          "font": {
           "color": "#4D5663"
          },
          "text": ""
         },
         "zerolinecolor": "#E1E5ED"
        },
        "yaxis3": {
         "anchor": "x3",
         "domain": [
          0.8025,
          1
         ],
         "gridcolor": "#E1E5ED",
         "showgrid": false,
         "tickfont": {
          "color": "#4D5663"
         },
         "title": {
          "font": {
           "color": "#4D5663"
          },
          "text": ""
         },
         "zerolinecolor": "#E1E5ED"
        },
        "yaxis4": {
         "anchor": "x4",
         "domain": [
          0.8025,
          1
         ],
         "gridcolor": "#E1E5ED",
         "showgrid": false,
         "tickfont": {
          "color": "#4D5663"
         },
         "title": {
          "font": {
           "color": "#4D5663"
          },
          "text": ""
         },
         "zerolinecolor": "#E1E5ED"
        },
        "yaxis5": {
         "anchor": "x5",
         "domain": [
          0.535,
          0.7325
         ],
         "gridcolor": "#E1E5ED",
         "showgrid": false,
         "tickfont": {
          "color": "#4D5663"
         },
         "title": {
          "font": {
           "color": "#4D5663"
          },
          "text": ""
         },
         "zerolinecolor": "#E1E5ED"
        },
        "yaxis6": {
         "anchor": "x6",
         "domain": [
          0.535,
          0.7325
         ],
         "gridcolor": "#E1E5ED",
         "showgrid": false,
         "tickfont": {
          "color": "#4D5663"
         },
         "title": {
          "font": {
           "color": "#4D5663"
          },
          "text": ""
         },
         "zerolinecolor": "#E1E5ED"
        },
        "yaxis7": {
         "anchor": "x7",
         "domain": [
          0.535,
          0.7325
         ],
         "gridcolor": "#E1E5ED",
         "showgrid": false,
         "tickfont": {
          "color": "#4D5663"
         },
         "title": {
          "font": {
           "color": "#4D5663"
          },
          "text": ""
         },
         "zerolinecolor": "#E1E5ED"
        },
        "yaxis8": {
         "anchor": "x8",
         "domain": [
          0.535,
          0.7325
         ],
         "gridcolor": "#E1E5ED",
         "showgrid": false,
         "tickfont": {
          "color": "#4D5663"
         },
         "title": {
          "font": {
           "color": "#4D5663"
          },
          "text": ""
         },
         "zerolinecolor": "#E1E5ED"
        },
        "yaxis9": {
         "anchor": "x9",
         "domain": [
          0.2675,
          0.465
         ],
         "gridcolor": "#E1E5ED",
         "showgrid": false,
         "tickfont": {
          "color": "#4D5663"
         },
         "title": {
          "font": {
           "color": "#4D5663"
          },
          "text": ""
         },
         "zerolinecolor": "#E1E5ED"
        }
       }
      },
      "text/html": [
       "<div>                            <div id=\"d14b4936-8472-44a5-94cb-d89e33eec689\" class=\"plotly-graph-div\" style=\"height:525px; width:100%;\"></div>            <script type=\"text/javascript\">                require([\"plotly\"], function(Plotly) {                    window.PLOTLYENV=window.PLOTLYENV || {};\n",
       "                    window.PLOTLYENV.BASE_URL='https://plot.ly';                                    if (document.getElementById(\"d14b4936-8472-44a5-94cb-d89e33eec689\")) {                    Plotly.newPlot(                        \"d14b4936-8472-44a5-94cb-d89e33eec689\",                        [{\"histfunc\": \"count\", \"histnorm\": \"\", \"marker\": {\"color\": \"rgba(255, 153, 51, 1.0)\", \"line\": {\"color\": \"#4D5663\", \"width\": 1.3}}, \"name\": \"A\", \"nbinsx\": 10, \"opacity\": 0.8, \"orientation\": \"v\", \"type\": \"histogram\", \"x\": [-0.4388542745687468, 0.38408546159996987, -0.7413763683855321, -2.0288498139440914, 0.8624022381361729, -0.7390775027313098, -0.112055115702541, 0.9806345007382388, -1.0309612695870745, -0.42208014577143504, -0.6589458881544358, 1.6189909942527092, 0.6280941855399383, 0.5824415788359514, 1.407947397974564, -0.6055181775783632, 0.26145880753689704, -1.6728439093333693, 1.6860521621788684, 1.009329541212465, -1.8503028350686974, -0.20999184471500965, -2.2932587368033177, -1.052360060273866, 0.7434586671733655, 0.24587075068617625, -1.1941403964622943, -0.4868426790349285, 0.8398227332351278, 0.7617615697209622, 0.14507569288658226, 0.5443829206564472, 0.937364315832808, 1.2470954452432272, -0.5534980066811476, 1.5123201135236342, 0.8987462567974541, 0.5791080389203644, -0.2169166729652307, 1.1859624278722207, -1.0513105071512439, -0.5537498496696196, -1.1876608548600875, 0.28581503368341776, -0.8373909670462102, -0.49908970926011703, -1.0529342880820247, -0.9248567740307652, 1.764463447885169, 0.5901326366414836, -1.142075713218274, -0.8946017497616889, 0.0144652299158461, 0.1279379505634851, -1.0120014602064225, 0.0363380032435725, 0.21366402851299293, -0.18459741491488368, 0.550611238075139, -1.1964210420445283, 0.27844714124707004, -0.601675012386725, 0.09034648034734893, -1.019728088992673, -1.1810422893142594, -1.0302218578695155, -0.02807953192685473, 2.1234225090964385, -1.7218913699279377, -1.107127947693045, 0.07029646761054668, -0.44745598771982803, 1.148766935793685, 0.016377942985925025, -0.638644767078107, -0.6605524605312318, -0.12626451146059678, 0.23314954919639108, 0.13663921181967784, -1.0216268345305923, 0.2665031884388046, 0.35416299293513925, -0.053121967639487025, 0.7862011170376131, -0.47712670671197815, 0.7931940780649613, -0.32398602740064425, -0.7796188551276063, -1.0774772125396894, 0.8366000799612457, -0.7252752826298803, 0.47420209435821925, 0.16479101958522108, 0.7805292644873063, -0.1922784699312706, 0.01984409354644912, -0.5905422812265733, 0.2857750483391747, -0.8738282207287031, 1.2715167674609458], \"xaxis\": \"x\", \"yaxis\": \"y\"}, {\"line\": {\"color\": \"rgba(128, 128, 128, 1.0)\", \"dash\": \"solid\", \"shape\": \"linear\", \"width\": 1.3}, \"marker\": {\"size\": 2, \"symbol\": \"circle\"}, \"mode\": \"markers\", \"name\": \"A\", \"text\": \"\", \"type\": \"scatter\", \"x\": [-1.3627216013659846, 0.2746479273419688, 0.7009464451380578, -1.3811013400556857, -1.7428511959512216, -0.8905026557041102, -0.551282879317178, 0.22107331559969615, -1.5843865530614263, -1.9578013663048495, 1.6767888897250252, 0.5704931064566529, -0.6314149241481537, 0.2757322702947673, 0.7876966927085246, -0.8981643739025043, 0.2948816739619415, 0.1826302665386844, -0.9359073662486931, -1.457757479610927, -0.30185223399542666, 0.9177284159277574, -0.5013513777674213, 2.9904562197653792, 1.2102048203993276, 0.3463027009884661, -0.14875933083792445, -0.7241462815090236, -0.25408636699024595, -0.1011944206256832, -0.9111289589894425, 0.09146337137093262, 1.6008067662713046, 1.2746041957302874, 0.9851969510533377, -0.8543754688768727, 1.6107325176724772, -1.4755417524303547, 0.2324101126295466, -1.1624830197173044, -1.3561431982536194, 0.5618943121972119, 0.3401447906679545, -1.6615229986560336, -0.2078537594217146, 0.727184088179305, -0.311201502392996, -0.5015752565114187, -1.1721312285095038, -1.5649694918407073, -1.0939670201572929, 0.3619889697652782, 3.367931842022976, -0.2521367382602952, -0.314242196876435, 0.28725557906216953, -2.3182561631414584, -0.5554086695260209, -0.42168125402643714, 1.689241224802193, 0.07370559648891448, -0.6359492421783562, 0.40914626446901686, 0.06893059954535942, 1.0029731029083802, 1.4683660981628652, 0.5641680851054268, -0.23720583119416894, -1.3720094046379412, -0.06317150115552012, -0.4646886627983753, -0.4653757228572715, 0.26066881226261535, 0.6871616119462791, -0.4920968386727682, -0.7887370928876344, -2.001483326801323, 1.679334471231441, 1.7345100201822912, -0.9727078661032714, 0.2919188486713192, 0.4653106873555381, 0.3891081605002875, 1.1844211163842735, -0.3689456505251842, 0.5046777558050485, 0.5212098489901662, -0.2810122685636921, -0.14805919194277323, 0.25379447016412093, -0.3485665898351345, 0.8050525463698355, -0.17894394437635838, -0.51770392029611, 2.074133165916208, 1.6404422314144023, 0.4178381849479696, -0.11527328671374554, 0.0746127850615184, -0.7620958143342098], \"xaxis\": \"x2\", \"y\": [-0.4388542745687468, 0.38408546159996987, -0.7413763683855321, -2.0288498139440914, 0.8624022381361729, -0.7390775027313098, -0.112055115702541, 0.9806345007382388, -1.0309612695870745, -0.42208014577143504, -0.6589458881544358, 1.6189909942527092, 0.6280941855399383, 0.5824415788359514, 1.407947397974564, -0.6055181775783632, 0.26145880753689704, -1.6728439093333693, 1.6860521621788684, 1.009329541212465, -1.8503028350686974, -0.20999184471500965, -2.2932587368033177, -1.052360060273866, 0.7434586671733655, 0.24587075068617625, -1.1941403964622943, -0.4868426790349285, 0.8398227332351278, 0.7617615697209622, 0.14507569288658226, 0.5443829206564472, 0.937364315832808, 1.2470954452432272, -0.5534980066811476, 1.5123201135236342, 0.8987462567974541, 0.5791080389203644, -0.2169166729652307, 1.1859624278722207, -1.0513105071512439, -0.5537498496696196, -1.1876608548600875, 0.28581503368341776, -0.8373909670462102, -0.49908970926011703, -1.0529342880820247, -0.9248567740307652, 1.764463447885169, 0.5901326366414836, -1.142075713218274, -0.8946017497616889, 0.0144652299158461, 0.1279379505634851, -1.0120014602064225, 0.0363380032435725, 0.21366402851299293, -0.18459741491488368, 0.550611238075139, -1.1964210420445283, 0.27844714124707004, -0.601675012386725, 0.09034648034734893, -1.019728088992673, -1.1810422893142594, -1.0302218578695155, -0.02807953192685473, 2.1234225090964385, -1.7218913699279377, -1.107127947693045, 0.07029646761054668, -0.44745598771982803, 1.148766935793685, 0.016377942985925025, -0.638644767078107, -0.6605524605312318, -0.12626451146059678, 0.23314954919639108, 0.13663921181967784, -1.0216268345305923, 0.2665031884388046, 0.35416299293513925, -0.053121967639487025, 0.7862011170376131, -0.47712670671197815, 0.7931940780649613, -0.32398602740064425, -0.7796188551276063, -1.0774772125396894, 0.8366000799612457, -0.7252752826298803, 0.47420209435821925, 0.16479101958522108, 0.7805292644873063, -0.1922784699312706, 0.01984409354644912, -0.5905422812265733, 0.2857750483391747, -0.8738282207287031, 1.2715167674609458], \"yaxis\": \"y2\"}, {\"line\": {\"color\": \"rgba(128, 128, 128, 1.0)\", \"dash\": \"solid\", \"shape\": \"linear\", \"width\": 1.3}, \"marker\": {\"size\": 2, \"symbol\": \"circle\"}, \"mode\": \"markers\", \"name\": \"A\", \"text\": \"\", \"type\": \"scatter\", \"x\": [1.0529477368352136, 0.2930617432357008, 1.1119203484653744, 1.6489383973038985, -0.44315194894339144, 0.33971969885165815, -1.2679410723898759, 0.878602412594766, -0.01701777700976262, -1.7074610983020595, -1.986927656815517, -1.1922110015564524, -0.5289785497095464, 0.01680000042455843, -0.5837674106225055, -0.4871165230268496, -0.4014215872776401, 0.2085731372016796, -0.12780879304509013, -0.3495255202499878, -0.4941769165686941, -0.39661867736678547, -0.38111518818973755, 0.4645588365578656, -0.6501920276514084, -0.1738867804627645, -0.7370725898005802, 0.44065890061618307, 0.40199017395439596, 0.6822320891666506, -1.0573519166387042, -0.06137487892316644, 0.38170228423852337, 0.21700616745257056, 0.1449485329915072, -0.5553712189724804, 0.8272280563703455, -1.0743848368044255, 0.7104998921867854, -0.8218771784084514, 0.434615961626369, 1.156337788721006, -0.06593257759944639, 0.043166423794045145, -1.1105345941936113, 0.46687735229821237, -0.7385150046263226, -1.4786736135599818, 1.1353388872144567, -0.13804718547003814, -0.15085226213919517, 2.0103030052593036, -0.8861673395197391, 0.369075423768828, 0.621665384466069, 0.13652870069573342, -1.4120431805131202, -0.0920764508822153, 0.46260254889670127, 0.22998224781090865, -3.4136647243792915, -0.6749090527451456, 1.1486066977984637, 0.2140483875336955, 0.7817456798306535, -0.5811849698058041, -0.41280012512979136, -0.42266356181884757, -0.39396835572244737, -1.323045945410225, 1.470867827972942, -0.20919148148767397, -0.9715729101680947, -0.039975048729562014, -0.23501017151791628, 1.2913427255576981, 0.2784273540941354, -0.5032400855247581, 2.390414309104297, 1.0777999460240182, 2.4468066095748067, 0.1925307180321371, 0.8752229524577904, 0.18515108533003463, -1.0288114749536927, -0.3161675038371752, -1.969130484252486, 0.4105749890189144, 1.8963874037587554, -1.0628751535799188, 0.179513787835816, -1.1586864022523369, 1.281450933600982, -0.868531842418097, 0.5185875432864853, -1.2834058964357886, -0.05858961011572423, 0.41515782596194695, -0.07699647435151223, -0.623214868362486], \"xaxis\": \"x3\", \"y\": [-0.4388542745687468, 0.38408546159996987, -0.7413763683855321, -2.0288498139440914, 0.8624022381361729, -0.7390775027313098, -0.112055115702541, 0.9806345007382388, -1.0309612695870745, -0.42208014577143504, -0.6589458881544358, 1.6189909942527092, 0.6280941855399383, 0.5824415788359514, 1.407947397974564, -0.6055181775783632, 0.26145880753689704, -1.6728439093333693, 1.6860521621788684, 1.009329541212465, -1.8503028350686974, -0.20999184471500965, -2.2932587368033177, -1.052360060273866, 0.7434586671733655, 0.24587075068617625, -1.1941403964622943, -0.4868426790349285, 0.8398227332351278, 0.7617615697209622, 0.14507569288658226, 0.5443829206564472, 0.937364315832808, 1.2470954452432272, -0.5534980066811476, 1.5123201135236342, 0.8987462567974541, 0.5791080389203644, -0.2169166729652307, 1.1859624278722207, -1.0513105071512439, -0.5537498496696196, -1.1876608548600875, 0.28581503368341776, -0.8373909670462102, -0.49908970926011703, -1.0529342880820247, -0.9248567740307652, 1.764463447885169, 0.5901326366414836, -1.142075713218274, -0.8946017497616889, 0.0144652299158461, 0.1279379505634851, -1.0120014602064225, 0.0363380032435725, 0.21366402851299293, -0.18459741491488368, 0.550611238075139, -1.1964210420445283, 0.27844714124707004, -0.601675012386725, 0.09034648034734893, -1.019728088992673, -1.1810422893142594, -1.0302218578695155, -0.02807953192685473, 2.1234225090964385, -1.7218913699279377, -1.107127947693045, 0.07029646761054668, -0.44745598771982803, 1.148766935793685, 0.016377942985925025, -0.638644767078107, -0.6605524605312318, -0.12626451146059678, 0.23314954919639108, 0.13663921181967784, -1.0216268345305923, 0.2665031884388046, 0.35416299293513925, -0.053121967639487025, 0.7862011170376131, -0.47712670671197815, 0.7931940780649613, -0.32398602740064425, -0.7796188551276063, -1.0774772125396894, 0.8366000799612457, -0.7252752826298803, 0.47420209435821925, 0.16479101958522108, 0.7805292644873063, -0.1922784699312706, 0.01984409354644912, -0.5905422812265733, 0.2857750483391747, -0.8738282207287031, 1.2715167674609458], \"yaxis\": \"y3\"}, {\"line\": {\"color\": \"rgba(128, 128, 128, 1.0)\", \"dash\": \"solid\", \"shape\": \"linear\", \"width\": 1.3}, \"marker\": {\"size\": 2, \"symbol\": \"circle\"}, \"mode\": \"markers\", \"name\": \"A\", \"text\": \"\", \"type\": \"scatter\", \"x\": [1.3201714568640348, 0.8202669209189778, 1.719151406541747, -1.2816376583613855, 0.0831696363499211, 0.6965366706057647, 0.7935434244360957, -1.5622076183399023, -1.1796383832058777, 1.6259450325083684, 0.6490038637209604, 0.048559327499800305, -0.9756752702190868, 0.22351898637032006, 0.21016851899244585, -0.1197094817674166, -0.7647835911925246, -1.6047579516933612, -0.7334694992514847, 0.6962633130589095, -0.25738969061028455, 0.5103413390193426, 0.0031294517149671073, -0.11315603035653207, 1.6101379403522884, -2.269959304915933, 0.022594996453459457, 1.0728758569526557, 1.3683021274212308, 0.8703140951807572, -1.89470981138138, -0.5875261922033744, -0.5797975626155121, -0.0518635076673208, 1.4979498971398615, 1.7553151946287406, 0.543158041626994, -0.48111517813320376, 1.462121838919327, -1.8928949164493165, 0.8090004981305021, -0.5215255315362002, 0.18508719447823002, 0.7101244733780137, 1.726453377077064, -0.030234066855630664, -0.6962107936911083, -0.6994994721452497, 0.5282366821839588, 1.1007476290378306, 1.267079103387773, 0.3456039247550511, -0.09217827397355612, -0.8804725228566794, -0.16722466082385853, -0.07994646029779469, 0.05032870332012152, -1.0215178252859396, 2.035751536649158, 1.6095218128030624, -0.600345399297852, 0.8039288968289282, -0.45561788304988565, -0.9707345674572707, 1.5923413921458351, 1.8318923987271796, -0.670126175132533, 1.9242436712222672, 0.4228120518043545, 0.3974302445268368, 0.8701900618201787, 0.6675888402352415, -1.682852784395849, 1.093724252130086, 0.017097049355703428, 0.35205905467001797, 1.049157583084074, -1.7305791860346444, 0.004692999260058379, 0.5405958431147707, -0.4461736936294021, 0.8825228776535895, 0.030729494441852752, -0.3631565706132641, -0.1304528386430972, -1.3531048702277668, -0.724933648794998, 0.3395751300210109, 0.6883617240069344, -1.1796970103051465, -0.26005641368133126, -0.7072500700048227, -0.30407011152351004, -0.10921775006797968, 0.18917774879848756, 0.7349428949829958, -1.7326017742871818, 0.2629551104312385, 0.6088961688288745, 2.184322882590267], \"xaxis\": \"x4\", \"y\": [-0.4388542745687468, 0.38408546159996987, -0.7413763683855321, -2.0288498139440914, 0.8624022381361729, -0.7390775027313098, -0.112055115702541, 0.9806345007382388, -1.0309612695870745, -0.42208014577143504, -0.6589458881544358, 1.6189909942527092, 0.6280941855399383, 0.5824415788359514, 1.407947397974564, -0.6055181775783632, 0.26145880753689704, -1.6728439093333693, 1.6860521621788684, 1.009329541212465, -1.8503028350686974, -0.20999184471500965, -2.2932587368033177, -1.052360060273866, 0.7434586671733655, 0.24587075068617625, -1.1941403964622943, -0.4868426790349285, 0.8398227332351278, 0.7617615697209622, 0.14507569288658226, 0.5443829206564472, 0.937364315832808, 1.2470954452432272, -0.5534980066811476, 1.5123201135236342, 0.8987462567974541, 0.5791080389203644, -0.2169166729652307, 1.1859624278722207, -1.0513105071512439, -0.5537498496696196, -1.1876608548600875, 0.28581503368341776, -0.8373909670462102, -0.49908970926011703, -1.0529342880820247, -0.9248567740307652, 1.764463447885169, 0.5901326366414836, -1.142075713218274, -0.8946017497616889, 0.0144652299158461, 0.1279379505634851, -1.0120014602064225, 0.0363380032435725, 0.21366402851299293, -0.18459741491488368, 0.550611238075139, -1.1964210420445283, 0.27844714124707004, -0.601675012386725, 0.09034648034734893, -1.019728088992673, -1.1810422893142594, -1.0302218578695155, -0.02807953192685473, 2.1234225090964385, -1.7218913699279377, -1.107127947693045, 0.07029646761054668, -0.44745598771982803, 1.148766935793685, 0.016377942985925025, -0.638644767078107, -0.6605524605312318, -0.12626451146059678, 0.23314954919639108, 0.13663921181967784, -1.0216268345305923, 0.2665031884388046, 0.35416299293513925, -0.053121967639487025, 0.7862011170376131, -0.47712670671197815, 0.7931940780649613, -0.32398602740064425, -0.7796188551276063, -1.0774772125396894, 0.8366000799612457, -0.7252752826298803, 0.47420209435821925, 0.16479101958522108, 0.7805292644873063, -0.1922784699312706, 0.01984409354644912, -0.5905422812265733, 0.2857750483391747, -0.8738282207287031, 1.2715167674609458], \"yaxis\": \"y4\"}, {\"line\": {\"color\": \"rgba(128, 128, 128, 1.0)\", \"dash\": \"solid\", \"shape\": \"linear\", \"width\": 1.3}, \"marker\": {\"size\": 2, \"symbol\": \"circle\"}, \"mode\": \"markers\", \"name\": \"B\", \"text\": \"\", \"type\": \"scatter\", \"x\": [-0.4388542745687468, 0.38408546159996987, -0.7413763683855321, -2.0288498139440914, 0.8624022381361729, -0.7390775027313098, -0.112055115702541, 0.9806345007382388, -1.0309612695870745, -0.42208014577143504, -0.6589458881544358, 1.6189909942527092, 0.6280941855399383, 0.5824415788359514, 1.407947397974564, -0.6055181775783632, 0.26145880753689704, -1.6728439093333693, 1.6860521621788684, 1.009329541212465, -1.8503028350686974, -0.20999184471500965, -2.2932587368033177, -1.052360060273866, 0.7434586671733655, 0.24587075068617625, -1.1941403964622943, -0.4868426790349285, 0.8398227332351278, 0.7617615697209622, 0.14507569288658226, 0.5443829206564472, 0.937364315832808, 1.2470954452432272, -0.5534980066811476, 1.5123201135236342, 0.8987462567974541, 0.5791080389203644, -0.2169166729652307, 1.1859624278722207, -1.0513105071512439, -0.5537498496696196, -1.1876608548600875, 0.28581503368341776, -0.8373909670462102, -0.49908970926011703, -1.0529342880820247, -0.9248567740307652, 1.764463447885169, 0.5901326366414836, -1.142075713218274, -0.8946017497616889, 0.0144652299158461, 0.1279379505634851, -1.0120014602064225, 0.0363380032435725, 0.21366402851299293, -0.18459741491488368, 0.550611238075139, -1.1964210420445283, 0.27844714124707004, -0.601675012386725, 0.09034648034734893, -1.019728088992673, -1.1810422893142594, -1.0302218578695155, -0.02807953192685473, 2.1234225090964385, -1.7218913699279377, -1.107127947693045, 0.07029646761054668, -0.44745598771982803, 1.148766935793685, 0.016377942985925025, -0.638644767078107, -0.6605524605312318, -0.12626451146059678, 0.23314954919639108, 0.13663921181967784, -1.0216268345305923, 0.2665031884388046, 0.35416299293513925, -0.053121967639487025, 0.7862011170376131, -0.47712670671197815, 0.7931940780649613, -0.32398602740064425, -0.7796188551276063, -1.0774772125396894, 0.8366000799612457, -0.7252752826298803, 0.47420209435821925, 0.16479101958522108, 0.7805292644873063, -0.1922784699312706, 0.01984409354644912, -0.5905422812265733, 0.2857750483391747, -0.8738282207287031, 1.2715167674609458], \"xaxis\": \"x5\", \"y\": [-1.3627216013659846, 0.2746479273419688, 0.7009464451380578, -1.3811013400556857, -1.7428511959512216, -0.8905026557041102, -0.551282879317178, 0.22107331559969615, -1.5843865530614263, -1.9578013663048495, 1.6767888897250252, 0.5704931064566529, -0.6314149241481537, 0.2757322702947673, 0.7876966927085246, -0.8981643739025043, 0.2948816739619415, 0.1826302665386844, -0.9359073662486931, -1.457757479610927, -0.30185223399542666, 0.9177284159277574, -0.5013513777674213, 2.9904562197653792, 1.2102048203993276, 0.3463027009884661, -0.14875933083792445, -0.7241462815090236, -0.25408636699024595, -0.1011944206256832, -0.9111289589894425, 0.09146337137093262, 1.6008067662713046, 1.2746041957302874, 0.9851969510533377, -0.8543754688768727, 1.6107325176724772, -1.4755417524303547, 0.2324101126295466, -1.1624830197173044, -1.3561431982536194, 0.5618943121972119, 0.3401447906679545, -1.6615229986560336, -0.2078537594217146, 0.727184088179305, -0.311201502392996, -0.5015752565114187, -1.1721312285095038, -1.5649694918407073, -1.0939670201572929, 0.3619889697652782, 3.367931842022976, -0.2521367382602952, -0.314242196876435, 0.28725557906216953, -2.3182561631414584, -0.5554086695260209, -0.42168125402643714, 1.689241224802193, 0.07370559648891448, -0.6359492421783562, 0.40914626446901686, 0.06893059954535942, 1.0029731029083802, 1.4683660981628652, 0.5641680851054268, -0.23720583119416894, -1.3720094046379412, -0.06317150115552012, -0.4646886627983753, -0.4653757228572715, 0.26066881226261535, 0.6871616119462791, -0.4920968386727682, -0.7887370928876344, -2.001483326801323, 1.679334471231441, 1.7345100201822912, -0.9727078661032714, 0.2919188486713192, 0.4653106873555381, 0.3891081605002875, 1.1844211163842735, -0.3689456505251842, 0.5046777558050485, 0.5212098489901662, -0.2810122685636921, -0.14805919194277323, 0.25379447016412093, -0.3485665898351345, 0.8050525463698355, -0.17894394437635838, -0.51770392029611, 2.074133165916208, 1.6404422314144023, 0.4178381849479696, -0.11527328671374554, 0.0746127850615184, -0.7620958143342098], \"yaxis\": \"y5\"}, {\"histfunc\": \"count\", \"histnorm\": \"\", \"marker\": {\"color\": \"rgba(55, 128, 191, 1.0)\", \"line\": {\"color\": \"#4D5663\", \"width\": 1.3}}, \"name\": \"B\", \"nbinsx\": 10, \"opacity\": 0.8, \"orientation\": \"v\", \"type\": \"histogram\", \"x\": [-1.3627216013659846, 0.2746479273419688, 0.7009464451380578, -1.3811013400556857, -1.7428511959512216, -0.8905026557041102, -0.551282879317178, 0.22107331559969615, -1.5843865530614263, -1.9578013663048495, 1.6767888897250252, 0.5704931064566529, -0.6314149241481537, 0.2757322702947673, 0.7876966927085246, -0.8981643739025043, 0.2948816739619415, 0.1826302665386844, -0.9359073662486931, -1.457757479610927, -0.30185223399542666, 0.9177284159277574, -0.5013513777674213, 2.9904562197653792, 1.2102048203993276, 0.3463027009884661, -0.14875933083792445, -0.7241462815090236, -0.25408636699024595, -0.1011944206256832, -0.9111289589894425, 0.09146337137093262, 1.6008067662713046, 1.2746041957302874, 0.9851969510533377, -0.8543754688768727, 1.6107325176724772, -1.4755417524303547, 0.2324101126295466, -1.1624830197173044, -1.3561431982536194, 0.5618943121972119, 0.3401447906679545, -1.6615229986560336, -0.2078537594217146, 0.727184088179305, -0.311201502392996, -0.5015752565114187, -1.1721312285095038, -1.5649694918407073, -1.0939670201572929, 0.3619889697652782, 3.367931842022976, -0.2521367382602952, -0.314242196876435, 0.28725557906216953, -2.3182561631414584, -0.5554086695260209, -0.42168125402643714, 1.689241224802193, 0.07370559648891448, -0.6359492421783562, 0.40914626446901686, 0.06893059954535942, 1.0029731029083802, 1.4683660981628652, 0.5641680851054268, -0.23720583119416894, -1.3720094046379412, -0.06317150115552012, -0.4646886627983753, -0.4653757228572715, 0.26066881226261535, 0.6871616119462791, -0.4920968386727682, -0.7887370928876344, -2.001483326801323, 1.679334471231441, 1.7345100201822912, -0.9727078661032714, 0.2919188486713192, 0.4653106873555381, 0.3891081605002875, 1.1844211163842735, -0.3689456505251842, 0.5046777558050485, 0.5212098489901662, -0.2810122685636921, -0.14805919194277323, 0.25379447016412093, -0.3485665898351345, 0.8050525463698355, -0.17894394437635838, -0.51770392029611, 2.074133165916208, 1.6404422314144023, 0.4178381849479696, -0.11527328671374554, 0.0746127850615184, -0.7620958143342098], \"xaxis\": \"x6\", \"yaxis\": \"y6\"}, {\"line\": {\"color\": \"rgba(128, 128, 128, 1.0)\", \"dash\": \"solid\", \"shape\": \"linear\", \"width\": 1.3}, \"marker\": {\"size\": 2, \"symbol\": \"circle\"}, \"mode\": \"markers\", \"name\": \"B\", \"text\": \"\", \"type\": \"scatter\", \"x\": [1.0529477368352136, 0.2930617432357008, 1.1119203484653744, 1.6489383973038985, -0.44315194894339144, 0.33971969885165815, -1.2679410723898759, 0.878602412594766, -0.01701777700976262, -1.7074610983020595, -1.986927656815517, -1.1922110015564524, -0.5289785497095464, 0.01680000042455843, -0.5837674106225055, -0.4871165230268496, -0.4014215872776401, 0.2085731372016796, -0.12780879304509013, -0.3495255202499878, -0.4941769165686941, -0.39661867736678547, -0.38111518818973755, 0.4645588365578656, -0.6501920276514084, -0.1738867804627645, -0.7370725898005802, 0.44065890061618307, 0.40199017395439596, 0.6822320891666506, -1.0573519166387042, -0.06137487892316644, 0.38170228423852337, 0.21700616745257056, 0.1449485329915072, -0.5553712189724804, 0.8272280563703455, -1.0743848368044255, 0.7104998921867854, -0.8218771784084514, 0.434615961626369, 1.156337788721006, -0.06593257759944639, 0.043166423794045145, -1.1105345941936113, 0.46687735229821237, -0.7385150046263226, -1.4786736135599818, 1.1353388872144567, -0.13804718547003814, -0.15085226213919517, 2.0103030052593036, -0.8861673395197391, 0.369075423768828, 0.621665384466069, 0.13652870069573342, -1.4120431805131202, -0.0920764508822153, 0.46260254889670127, 0.22998224781090865, -3.4136647243792915, -0.6749090527451456, 1.1486066977984637, 0.2140483875336955, 0.7817456798306535, -0.5811849698058041, -0.41280012512979136, -0.42266356181884757, -0.39396835572244737, -1.323045945410225, 1.470867827972942, -0.20919148148767397, -0.9715729101680947, -0.039975048729562014, -0.23501017151791628, 1.2913427255576981, 0.2784273540941354, -0.5032400855247581, 2.390414309104297, 1.0777999460240182, 2.4468066095748067, 0.1925307180321371, 0.8752229524577904, 0.18515108533003463, -1.0288114749536927, -0.3161675038371752, -1.969130484252486, 0.4105749890189144, 1.8963874037587554, -1.0628751535799188, 0.179513787835816, -1.1586864022523369, 1.281450933600982, -0.868531842418097, 0.5185875432864853, -1.2834058964357886, -0.05858961011572423, 0.41515782596194695, -0.07699647435151223, -0.623214868362486], \"xaxis\": \"x7\", \"y\": [-1.3627216013659846, 0.2746479273419688, 0.7009464451380578, -1.3811013400556857, -1.7428511959512216, -0.8905026557041102, -0.551282879317178, 0.22107331559969615, -1.5843865530614263, -1.9578013663048495, 1.6767888897250252, 0.5704931064566529, -0.6314149241481537, 0.2757322702947673, 0.7876966927085246, -0.8981643739025043, 0.2948816739619415, 0.1826302665386844, -0.9359073662486931, -1.457757479610927, -0.30185223399542666, 0.9177284159277574, -0.5013513777674213, 2.9904562197653792, 1.2102048203993276, 0.3463027009884661, -0.14875933083792445, -0.7241462815090236, -0.25408636699024595, -0.1011944206256832, -0.9111289589894425, 0.09146337137093262, 1.6008067662713046, 1.2746041957302874, 0.9851969510533377, -0.8543754688768727, 1.6107325176724772, -1.4755417524303547, 0.2324101126295466, -1.1624830197173044, -1.3561431982536194, 0.5618943121972119, 0.3401447906679545, -1.6615229986560336, -0.2078537594217146, 0.727184088179305, -0.311201502392996, -0.5015752565114187, -1.1721312285095038, -1.5649694918407073, -1.0939670201572929, 0.3619889697652782, 3.367931842022976, -0.2521367382602952, -0.314242196876435, 0.28725557906216953, -2.3182561631414584, -0.5554086695260209, -0.42168125402643714, 1.689241224802193, 0.07370559648891448, -0.6359492421783562, 0.40914626446901686, 0.06893059954535942, 1.0029731029083802, 1.4683660981628652, 0.5641680851054268, -0.23720583119416894, -1.3720094046379412, -0.06317150115552012, -0.4646886627983753, -0.4653757228572715, 0.26066881226261535, 0.6871616119462791, -0.4920968386727682, -0.7887370928876344, -2.001483326801323, 1.679334471231441, 1.7345100201822912, -0.9727078661032714, 0.2919188486713192, 0.4653106873555381, 0.3891081605002875, 1.1844211163842735, -0.3689456505251842, 0.5046777558050485, 0.5212098489901662, -0.2810122685636921, -0.14805919194277323, 0.25379447016412093, -0.3485665898351345, 0.8050525463698355, -0.17894394437635838, -0.51770392029611, 2.074133165916208, 1.6404422314144023, 0.4178381849479696, -0.11527328671374554, 0.0746127850615184, -0.7620958143342098], \"yaxis\": \"y7\"}, {\"line\": {\"color\": \"rgba(128, 128, 128, 1.0)\", \"dash\": \"solid\", \"shape\": \"linear\", \"width\": 1.3}, \"marker\": {\"size\": 2, \"symbol\": \"circle\"}, \"mode\": \"markers\", \"name\": \"B\", \"text\": \"\", \"type\": \"scatter\", \"x\": [1.3201714568640348, 0.8202669209189778, 1.719151406541747, -1.2816376583613855, 0.0831696363499211, 0.6965366706057647, 0.7935434244360957, -1.5622076183399023, -1.1796383832058777, 1.6259450325083684, 0.6490038637209604, 0.048559327499800305, -0.9756752702190868, 0.22351898637032006, 0.21016851899244585, -0.1197094817674166, -0.7647835911925246, -1.6047579516933612, -0.7334694992514847, 0.6962633130589095, -0.25738969061028455, 0.5103413390193426, 0.0031294517149671073, -0.11315603035653207, 1.6101379403522884, -2.269959304915933, 0.022594996453459457, 1.0728758569526557, 1.3683021274212308, 0.8703140951807572, -1.89470981138138, -0.5875261922033744, -0.5797975626155121, -0.0518635076673208, 1.4979498971398615, 1.7553151946287406, 0.543158041626994, -0.48111517813320376, 1.462121838919327, -1.8928949164493165, 0.8090004981305021, -0.5215255315362002, 0.18508719447823002, 0.7101244733780137, 1.726453377077064, -0.030234066855630664, -0.6962107936911083, -0.6994994721452497, 0.5282366821839588, 1.1007476290378306, 1.267079103387773, 0.3456039247550511, -0.09217827397355612, -0.8804725228566794, -0.16722466082385853, -0.07994646029779469, 0.05032870332012152, -1.0215178252859396, 2.035751536649158, 1.6095218128030624, -0.600345399297852, 0.8039288968289282, -0.45561788304988565, -0.9707345674572707, 1.5923413921458351, 1.8318923987271796, -0.670126175132533, 1.9242436712222672, 0.4228120518043545, 0.3974302445268368, 0.8701900618201787, 0.6675888402352415, -1.682852784395849, 1.093724252130086, 0.017097049355703428, 0.35205905467001797, 1.049157583084074, -1.7305791860346444, 0.004692999260058379, 0.5405958431147707, -0.4461736936294021, 0.8825228776535895, 0.030729494441852752, -0.3631565706132641, -0.1304528386430972, -1.3531048702277668, -0.724933648794998, 0.3395751300210109, 0.6883617240069344, -1.1796970103051465, -0.26005641368133126, -0.7072500700048227, -0.30407011152351004, -0.10921775006797968, 0.18917774879848756, 0.7349428949829958, -1.7326017742871818, 0.2629551104312385, 0.6088961688288745, 2.184322882590267], \"xaxis\": \"x8\", \"y\": [-1.3627216013659846, 0.2746479273419688, 0.7009464451380578, -1.3811013400556857, -1.7428511959512216, -0.8905026557041102, -0.551282879317178, 0.22107331559969615, -1.5843865530614263, -1.9578013663048495, 1.6767888897250252, 0.5704931064566529, -0.6314149241481537, 0.2757322702947673, 0.7876966927085246, -0.8981643739025043, 0.2948816739619415, 0.1826302665386844, -0.9359073662486931, -1.457757479610927, -0.30185223399542666, 0.9177284159277574, -0.5013513777674213, 2.9904562197653792, 1.2102048203993276, 0.3463027009884661, -0.14875933083792445, -0.7241462815090236, -0.25408636699024595, -0.1011944206256832, -0.9111289589894425, 0.09146337137093262, 1.6008067662713046, 1.2746041957302874, 0.9851969510533377, -0.8543754688768727, 1.6107325176724772, -1.4755417524303547, 0.2324101126295466, -1.1624830197173044, -1.3561431982536194, 0.5618943121972119, 0.3401447906679545, -1.6615229986560336, -0.2078537594217146, 0.727184088179305, -0.311201502392996, -0.5015752565114187, -1.1721312285095038, -1.5649694918407073, -1.0939670201572929, 0.3619889697652782, 3.367931842022976, -0.2521367382602952, -0.314242196876435, 0.28725557906216953, -2.3182561631414584, -0.5554086695260209, -0.42168125402643714, 1.689241224802193, 0.07370559648891448, -0.6359492421783562, 0.40914626446901686, 0.06893059954535942, 1.0029731029083802, 1.4683660981628652, 0.5641680851054268, -0.23720583119416894, -1.3720094046379412, -0.06317150115552012, -0.4646886627983753, -0.4653757228572715, 0.26066881226261535, 0.6871616119462791, -0.4920968386727682, -0.7887370928876344, -2.001483326801323, 1.679334471231441, 1.7345100201822912, -0.9727078661032714, 0.2919188486713192, 0.4653106873555381, 0.3891081605002875, 1.1844211163842735, -0.3689456505251842, 0.5046777558050485, 0.5212098489901662, -0.2810122685636921, -0.14805919194277323, 0.25379447016412093, -0.3485665898351345, 0.8050525463698355, -0.17894394437635838, -0.51770392029611, 2.074133165916208, 1.6404422314144023, 0.4178381849479696, -0.11527328671374554, 0.0746127850615184, -0.7620958143342098], \"yaxis\": \"y8\"}, {\"line\": {\"color\": \"rgba(128, 128, 128, 1.0)\", \"dash\": \"solid\", \"shape\": \"linear\", \"width\": 1.3}, \"marker\": {\"size\": 2, \"symbol\": \"circle\"}, \"mode\": \"markers\", \"name\": \"C\", \"text\": \"\", \"type\": \"scatter\", \"x\": [-0.4388542745687468, 0.38408546159996987, -0.7413763683855321, -2.0288498139440914, 0.8624022381361729, -0.7390775027313098, -0.112055115702541, 0.9806345007382388, -1.0309612695870745, -0.42208014577143504, -0.6589458881544358, 1.6189909942527092, 0.6280941855399383, 0.5824415788359514, 1.407947397974564, -0.6055181775783632, 0.26145880753689704, -1.6728439093333693, 1.6860521621788684, 1.009329541212465, -1.8503028350686974, -0.20999184471500965, -2.2932587368033177, -1.052360060273866, 0.7434586671733655, 0.24587075068617625, -1.1941403964622943, -0.4868426790349285, 0.8398227332351278, 0.7617615697209622, 0.14507569288658226, 0.5443829206564472, 0.937364315832808, 1.2470954452432272, -0.5534980066811476, 1.5123201135236342, 0.8987462567974541, 0.5791080389203644, -0.2169166729652307, 1.1859624278722207, -1.0513105071512439, -0.5537498496696196, -1.1876608548600875, 0.28581503368341776, -0.8373909670462102, -0.49908970926011703, -1.0529342880820247, -0.9248567740307652, 1.764463447885169, 0.5901326366414836, -1.142075713218274, -0.8946017497616889, 0.0144652299158461, 0.1279379505634851, -1.0120014602064225, 0.0363380032435725, 0.21366402851299293, -0.18459741491488368, 0.550611238075139, -1.1964210420445283, 0.27844714124707004, -0.601675012386725, 0.09034648034734893, -1.019728088992673, -1.1810422893142594, -1.0302218578695155, -0.02807953192685473, 2.1234225090964385, -1.7218913699279377, -1.107127947693045, 0.07029646761054668, -0.44745598771982803, 1.148766935793685, 0.016377942985925025, -0.638644767078107, -0.6605524605312318, -0.12626451146059678, 0.23314954919639108, 0.13663921181967784, -1.0216268345305923, 0.2665031884388046, 0.35416299293513925, -0.053121967639487025, 0.7862011170376131, -0.47712670671197815, 0.7931940780649613, -0.32398602740064425, -0.7796188551276063, -1.0774772125396894, 0.8366000799612457, -0.7252752826298803, 0.47420209435821925, 0.16479101958522108, 0.7805292644873063, -0.1922784699312706, 0.01984409354644912, -0.5905422812265733, 0.2857750483391747, -0.8738282207287031, 1.2715167674609458], \"xaxis\": \"x9\", \"y\": [1.0529477368352136, 0.2930617432357008, 1.1119203484653744, 1.6489383973038985, -0.44315194894339144, 0.33971969885165815, -1.2679410723898759, 0.878602412594766, -0.01701777700976262, -1.7074610983020595, -1.986927656815517, -1.1922110015564524, -0.5289785497095464, 0.01680000042455843, -0.5837674106225055, -0.4871165230268496, -0.4014215872776401, 0.2085731372016796, -0.12780879304509013, -0.3495255202499878, -0.4941769165686941, -0.39661867736678547, -0.38111518818973755, 0.4645588365578656, -0.6501920276514084, -0.1738867804627645, -0.7370725898005802, 0.44065890061618307, 0.40199017395439596, 0.6822320891666506, -1.0573519166387042, -0.06137487892316644, 0.38170228423852337, 0.21700616745257056, 0.1449485329915072, -0.5553712189724804, 0.8272280563703455, -1.0743848368044255, 0.7104998921867854, -0.8218771784084514, 0.434615961626369, 1.156337788721006, -0.06593257759944639, 0.043166423794045145, -1.1105345941936113, 0.46687735229821237, -0.7385150046263226, -1.4786736135599818, 1.1353388872144567, -0.13804718547003814, -0.15085226213919517, 2.0103030052593036, -0.8861673395197391, 0.369075423768828, 0.621665384466069, 0.13652870069573342, -1.4120431805131202, -0.0920764508822153, 0.46260254889670127, 0.22998224781090865, -3.4136647243792915, -0.6749090527451456, 1.1486066977984637, 0.2140483875336955, 0.7817456798306535, -0.5811849698058041, -0.41280012512979136, -0.42266356181884757, -0.39396835572244737, -1.323045945410225, 1.470867827972942, -0.20919148148767397, -0.9715729101680947, -0.039975048729562014, -0.23501017151791628, 1.2913427255576981, 0.2784273540941354, -0.5032400855247581, 2.390414309104297, 1.0777999460240182, 2.4468066095748067, 0.1925307180321371, 0.8752229524577904, 0.18515108533003463, -1.0288114749536927, -0.3161675038371752, -1.969130484252486, 0.4105749890189144, 1.8963874037587554, -1.0628751535799188, 0.179513787835816, -1.1586864022523369, 1.281450933600982, -0.868531842418097, 0.5185875432864853, -1.2834058964357886, -0.05858961011572423, 0.41515782596194695, -0.07699647435151223, -0.623214868362486], \"yaxis\": \"y9\"}, {\"line\": {\"color\": \"rgba(128, 128, 128, 1.0)\", \"dash\": \"solid\", \"shape\": \"linear\", \"width\": 1.3}, \"marker\": {\"size\": 2, \"symbol\": \"circle\"}, \"mode\": \"markers\", \"name\": \"C\", \"text\": \"\", \"type\": \"scatter\", \"x\": [-1.3627216013659846, 0.2746479273419688, 0.7009464451380578, -1.3811013400556857, -1.7428511959512216, -0.8905026557041102, -0.551282879317178, 0.22107331559969615, -1.5843865530614263, -1.9578013663048495, 1.6767888897250252, 0.5704931064566529, -0.6314149241481537, 0.2757322702947673, 0.7876966927085246, -0.8981643739025043, 0.2948816739619415, 0.1826302665386844, -0.9359073662486931, -1.457757479610927, -0.30185223399542666, 0.9177284159277574, -0.5013513777674213, 2.9904562197653792, 1.2102048203993276, 0.3463027009884661, -0.14875933083792445, -0.7241462815090236, -0.25408636699024595, -0.1011944206256832, -0.9111289589894425, 0.09146337137093262, 1.6008067662713046, 1.2746041957302874, 0.9851969510533377, -0.8543754688768727, 1.6107325176724772, -1.4755417524303547, 0.2324101126295466, -1.1624830197173044, -1.3561431982536194, 0.5618943121972119, 0.3401447906679545, -1.6615229986560336, -0.2078537594217146, 0.727184088179305, -0.311201502392996, -0.5015752565114187, -1.1721312285095038, -1.5649694918407073, -1.0939670201572929, 0.3619889697652782, 3.367931842022976, -0.2521367382602952, -0.314242196876435, 0.28725557906216953, -2.3182561631414584, -0.5554086695260209, -0.42168125402643714, 1.689241224802193, 0.07370559648891448, -0.6359492421783562, 0.40914626446901686, 0.06893059954535942, 1.0029731029083802, 1.4683660981628652, 0.5641680851054268, -0.23720583119416894, -1.3720094046379412, -0.06317150115552012, -0.4646886627983753, -0.4653757228572715, 0.26066881226261535, 0.6871616119462791, -0.4920968386727682, -0.7887370928876344, -2.001483326801323, 1.679334471231441, 1.7345100201822912, -0.9727078661032714, 0.2919188486713192, 0.4653106873555381, 0.3891081605002875, 1.1844211163842735, -0.3689456505251842, 0.5046777558050485, 0.5212098489901662, -0.2810122685636921, -0.14805919194277323, 0.25379447016412093, -0.3485665898351345, 0.8050525463698355, -0.17894394437635838, -0.51770392029611, 2.074133165916208, 1.6404422314144023, 0.4178381849479696, -0.11527328671374554, 0.0746127850615184, -0.7620958143342098], \"xaxis\": \"x10\", \"y\": [1.0529477368352136, 0.2930617432357008, 1.1119203484653744, 1.6489383973038985, -0.44315194894339144, 0.33971969885165815, -1.2679410723898759, 0.878602412594766, -0.01701777700976262, -1.7074610983020595, -1.986927656815517, -1.1922110015564524, -0.5289785497095464, 0.01680000042455843, -0.5837674106225055, -0.4871165230268496, -0.4014215872776401, 0.2085731372016796, -0.12780879304509013, -0.3495255202499878, -0.4941769165686941, -0.39661867736678547, -0.38111518818973755, 0.4645588365578656, -0.6501920276514084, -0.1738867804627645, -0.7370725898005802, 0.44065890061618307, 0.40199017395439596, 0.6822320891666506, -1.0573519166387042, -0.06137487892316644, 0.38170228423852337, 0.21700616745257056, 0.1449485329915072, -0.5553712189724804, 0.8272280563703455, -1.0743848368044255, 0.7104998921867854, -0.8218771784084514, 0.434615961626369, 1.156337788721006, -0.06593257759944639, 0.043166423794045145, -1.1105345941936113, 0.46687735229821237, -0.7385150046263226, -1.4786736135599818, 1.1353388872144567, -0.13804718547003814, -0.15085226213919517, 2.0103030052593036, -0.8861673395197391, 0.369075423768828, 0.621665384466069, 0.13652870069573342, -1.4120431805131202, -0.0920764508822153, 0.46260254889670127, 0.22998224781090865, -3.4136647243792915, -0.6749090527451456, 1.1486066977984637, 0.2140483875336955, 0.7817456798306535, -0.5811849698058041, -0.41280012512979136, -0.42266356181884757, -0.39396835572244737, -1.323045945410225, 1.470867827972942, -0.20919148148767397, -0.9715729101680947, -0.039975048729562014, -0.23501017151791628, 1.2913427255576981, 0.2784273540941354, -0.5032400855247581, 2.390414309104297, 1.0777999460240182, 2.4468066095748067, 0.1925307180321371, 0.8752229524577904, 0.18515108533003463, -1.0288114749536927, -0.3161675038371752, -1.969130484252486, 0.4105749890189144, 1.8963874037587554, -1.0628751535799188, 0.179513787835816, -1.1586864022523369, 1.281450933600982, -0.868531842418097, 0.5185875432864853, -1.2834058964357886, -0.05858961011572423, 0.41515782596194695, -0.07699647435151223, -0.623214868362486], \"yaxis\": \"y10\"}, {\"histfunc\": \"count\", \"histnorm\": \"\", \"marker\": {\"color\": \"rgba(50, 171, 96, 1.0)\", \"line\": {\"color\": \"#4D5663\", \"width\": 1.3}}, \"name\": \"C\", \"nbinsx\": 10, \"opacity\": 0.8, \"orientation\": \"v\", \"type\": \"histogram\", \"x\": [1.0529477368352136, 0.2930617432357008, 1.1119203484653744, 1.6489383973038985, -0.44315194894339144, 0.33971969885165815, -1.2679410723898759, 0.878602412594766, -0.01701777700976262, -1.7074610983020595, -1.986927656815517, -1.1922110015564524, -0.5289785497095464, 0.01680000042455843, -0.5837674106225055, -0.4871165230268496, -0.4014215872776401, 0.2085731372016796, -0.12780879304509013, -0.3495255202499878, -0.4941769165686941, -0.39661867736678547, -0.38111518818973755, 0.4645588365578656, -0.6501920276514084, -0.1738867804627645, -0.7370725898005802, 0.44065890061618307, 0.40199017395439596, 0.6822320891666506, -1.0573519166387042, -0.06137487892316644, 0.38170228423852337, 0.21700616745257056, 0.1449485329915072, -0.5553712189724804, 0.8272280563703455, -1.0743848368044255, 0.7104998921867854, -0.8218771784084514, 0.434615961626369, 1.156337788721006, -0.06593257759944639, 0.043166423794045145, -1.1105345941936113, 0.46687735229821237, -0.7385150046263226, -1.4786736135599818, 1.1353388872144567, -0.13804718547003814, -0.15085226213919517, 2.0103030052593036, -0.8861673395197391, 0.369075423768828, 0.621665384466069, 0.13652870069573342, -1.4120431805131202, -0.0920764508822153, 0.46260254889670127, 0.22998224781090865, -3.4136647243792915, -0.6749090527451456, 1.1486066977984637, 0.2140483875336955, 0.7817456798306535, -0.5811849698058041, -0.41280012512979136, -0.42266356181884757, -0.39396835572244737, -1.323045945410225, 1.470867827972942, -0.20919148148767397, -0.9715729101680947, -0.039975048729562014, -0.23501017151791628, 1.2913427255576981, 0.2784273540941354, -0.5032400855247581, 2.390414309104297, 1.0777999460240182, 2.4468066095748067, 0.1925307180321371, 0.8752229524577904, 0.18515108533003463, -1.0288114749536927, -0.3161675038371752, -1.969130484252486, 0.4105749890189144, 1.8963874037587554, -1.0628751535799188, 0.179513787835816, -1.1586864022523369, 1.281450933600982, -0.868531842418097, 0.5185875432864853, -1.2834058964357886, -0.05858961011572423, 0.41515782596194695, -0.07699647435151223, -0.623214868362486], \"xaxis\": \"x11\", \"yaxis\": \"y11\"}, {\"line\": {\"color\": \"rgba(128, 128, 128, 1.0)\", \"dash\": \"solid\", \"shape\": \"linear\", \"width\": 1.3}, \"marker\": {\"size\": 2, \"symbol\": \"circle\"}, \"mode\": \"markers\", \"name\": \"C\", \"text\": \"\", \"type\": \"scatter\", \"x\": [1.3201714568640348, 0.8202669209189778, 1.719151406541747, -1.2816376583613855, 0.0831696363499211, 0.6965366706057647, 0.7935434244360957, -1.5622076183399023, -1.1796383832058777, 1.6259450325083684, 0.6490038637209604, 0.048559327499800305, -0.9756752702190868, 0.22351898637032006, 0.21016851899244585, -0.1197094817674166, -0.7647835911925246, -1.6047579516933612, -0.7334694992514847, 0.6962633130589095, -0.25738969061028455, 0.5103413390193426, 0.0031294517149671073, -0.11315603035653207, 1.6101379403522884, -2.269959304915933, 0.022594996453459457, 1.0728758569526557, 1.3683021274212308, 0.8703140951807572, -1.89470981138138, -0.5875261922033744, -0.5797975626155121, -0.0518635076673208, 1.4979498971398615, 1.7553151946287406, 0.543158041626994, -0.48111517813320376, 1.462121838919327, -1.8928949164493165, 0.8090004981305021, -0.5215255315362002, 0.18508719447823002, 0.7101244733780137, 1.726453377077064, -0.030234066855630664, -0.6962107936911083, -0.6994994721452497, 0.5282366821839588, 1.1007476290378306, 1.267079103387773, 0.3456039247550511, -0.09217827397355612, -0.8804725228566794, -0.16722466082385853, -0.07994646029779469, 0.05032870332012152, -1.0215178252859396, 2.035751536649158, 1.6095218128030624, -0.600345399297852, 0.8039288968289282, -0.45561788304988565, -0.9707345674572707, 1.5923413921458351, 1.8318923987271796, -0.670126175132533, 1.9242436712222672, 0.4228120518043545, 0.3974302445268368, 0.8701900618201787, 0.6675888402352415, -1.682852784395849, 1.093724252130086, 0.017097049355703428, 0.35205905467001797, 1.049157583084074, -1.7305791860346444, 0.004692999260058379, 0.5405958431147707, -0.4461736936294021, 0.8825228776535895, 0.030729494441852752, -0.3631565706132641, -0.1304528386430972, -1.3531048702277668, -0.724933648794998, 0.3395751300210109, 0.6883617240069344, -1.1796970103051465, -0.26005641368133126, -0.7072500700048227, -0.30407011152351004, -0.10921775006797968, 0.18917774879848756, 0.7349428949829958, -1.7326017742871818, 0.2629551104312385, 0.6088961688288745, 2.184322882590267], \"xaxis\": \"x12\", \"y\": [1.0529477368352136, 0.2930617432357008, 1.1119203484653744, 1.6489383973038985, -0.44315194894339144, 0.33971969885165815, -1.2679410723898759, 0.878602412594766, -0.01701777700976262, -1.7074610983020595, -1.986927656815517, -1.1922110015564524, -0.5289785497095464, 0.01680000042455843, -0.5837674106225055, -0.4871165230268496, -0.4014215872776401, 0.2085731372016796, -0.12780879304509013, -0.3495255202499878, -0.4941769165686941, -0.39661867736678547, -0.38111518818973755, 0.4645588365578656, -0.6501920276514084, -0.1738867804627645, -0.7370725898005802, 0.44065890061618307, 0.40199017395439596, 0.6822320891666506, -1.0573519166387042, -0.06137487892316644, 0.38170228423852337, 0.21700616745257056, 0.1449485329915072, -0.5553712189724804, 0.8272280563703455, -1.0743848368044255, 0.7104998921867854, -0.8218771784084514, 0.434615961626369, 1.156337788721006, -0.06593257759944639, 0.043166423794045145, -1.1105345941936113, 0.46687735229821237, -0.7385150046263226, -1.4786736135599818, 1.1353388872144567, -0.13804718547003814, -0.15085226213919517, 2.0103030052593036, -0.8861673395197391, 0.369075423768828, 0.621665384466069, 0.13652870069573342, -1.4120431805131202, -0.0920764508822153, 0.46260254889670127, 0.22998224781090865, -3.4136647243792915, -0.6749090527451456, 1.1486066977984637, 0.2140483875336955, 0.7817456798306535, -0.5811849698058041, -0.41280012512979136, -0.42266356181884757, -0.39396835572244737, -1.323045945410225, 1.470867827972942, -0.20919148148767397, -0.9715729101680947, -0.039975048729562014, -0.23501017151791628, 1.2913427255576981, 0.2784273540941354, -0.5032400855247581, 2.390414309104297, 1.0777999460240182, 2.4468066095748067, 0.1925307180321371, 0.8752229524577904, 0.18515108533003463, -1.0288114749536927, -0.3161675038371752, -1.969130484252486, 0.4105749890189144, 1.8963874037587554, -1.0628751535799188, 0.179513787835816, -1.1586864022523369, 1.281450933600982, -0.868531842418097, 0.5185875432864853, -1.2834058964357886, -0.05858961011572423, 0.41515782596194695, -0.07699647435151223, -0.623214868362486], \"yaxis\": \"y12\"}, {\"line\": {\"color\": \"rgba(128, 128, 128, 1.0)\", \"dash\": \"solid\", \"shape\": \"linear\", \"width\": 1.3}, \"marker\": {\"size\": 2, \"symbol\": \"circle\"}, \"mode\": \"markers\", \"name\": \"D\", \"text\": \"\", \"type\": \"scatter\", \"x\": [-0.4388542745687468, 0.38408546159996987, -0.7413763683855321, -2.0288498139440914, 0.8624022381361729, -0.7390775027313098, -0.112055115702541, 0.9806345007382388, -1.0309612695870745, -0.42208014577143504, -0.6589458881544358, 1.6189909942527092, 0.6280941855399383, 0.5824415788359514, 1.407947397974564, -0.6055181775783632, 0.26145880753689704, -1.6728439093333693, 1.6860521621788684, 1.009329541212465, -1.8503028350686974, -0.20999184471500965, -2.2932587368033177, -1.052360060273866, 0.7434586671733655, 0.24587075068617625, -1.1941403964622943, -0.4868426790349285, 0.8398227332351278, 0.7617615697209622, 0.14507569288658226, 0.5443829206564472, 0.937364315832808, 1.2470954452432272, -0.5534980066811476, 1.5123201135236342, 0.8987462567974541, 0.5791080389203644, -0.2169166729652307, 1.1859624278722207, -1.0513105071512439, -0.5537498496696196, -1.1876608548600875, 0.28581503368341776, -0.8373909670462102, -0.49908970926011703, -1.0529342880820247, -0.9248567740307652, 1.764463447885169, 0.5901326366414836, -1.142075713218274, -0.8946017497616889, 0.0144652299158461, 0.1279379505634851, -1.0120014602064225, 0.0363380032435725, 0.21366402851299293, -0.18459741491488368, 0.550611238075139, -1.1964210420445283, 0.27844714124707004, -0.601675012386725, 0.09034648034734893, -1.019728088992673, -1.1810422893142594, -1.0302218578695155, -0.02807953192685473, 2.1234225090964385, -1.7218913699279377, -1.107127947693045, 0.07029646761054668, -0.44745598771982803, 1.148766935793685, 0.016377942985925025, -0.638644767078107, -0.6605524605312318, -0.12626451146059678, 0.23314954919639108, 0.13663921181967784, -1.0216268345305923, 0.2665031884388046, 0.35416299293513925, -0.053121967639487025, 0.7862011170376131, -0.47712670671197815, 0.7931940780649613, -0.32398602740064425, -0.7796188551276063, -1.0774772125396894, 0.8366000799612457, -0.7252752826298803, 0.47420209435821925, 0.16479101958522108, 0.7805292644873063, -0.1922784699312706, 0.01984409354644912, -0.5905422812265733, 0.2857750483391747, -0.8738282207287031, 1.2715167674609458], \"xaxis\": \"x13\", \"y\": [1.3201714568640348, 0.8202669209189778, 1.719151406541747, -1.2816376583613855, 0.0831696363499211, 0.6965366706057647, 0.7935434244360957, -1.5622076183399023, -1.1796383832058777, 1.6259450325083684, 0.6490038637209604, 0.048559327499800305, -0.9756752702190868, 0.22351898637032006, 0.21016851899244585, -0.1197094817674166, -0.7647835911925246, -1.6047579516933612, -0.7334694992514847, 0.6962633130589095, -0.25738969061028455, 0.5103413390193426, 0.0031294517149671073, -0.11315603035653207, 1.6101379403522884, -2.269959304915933, 0.022594996453459457, 1.0728758569526557, 1.3683021274212308, 0.8703140951807572, -1.89470981138138, -0.5875261922033744, -0.5797975626155121, -0.0518635076673208, 1.4979498971398615, 1.7553151946287406, 0.543158041626994, -0.48111517813320376, 1.462121838919327, -1.8928949164493165, 0.8090004981305021, -0.5215255315362002, 0.18508719447823002, 0.7101244733780137, 1.726453377077064, -0.030234066855630664, -0.6962107936911083, -0.6994994721452497, 0.5282366821839588, 1.1007476290378306, 1.267079103387773, 0.3456039247550511, -0.09217827397355612, -0.8804725228566794, -0.16722466082385853, -0.07994646029779469, 0.05032870332012152, -1.0215178252859396, 2.035751536649158, 1.6095218128030624, -0.600345399297852, 0.8039288968289282, -0.45561788304988565, -0.9707345674572707, 1.5923413921458351, 1.8318923987271796, -0.670126175132533, 1.9242436712222672, 0.4228120518043545, 0.3974302445268368, 0.8701900618201787, 0.6675888402352415, -1.682852784395849, 1.093724252130086, 0.017097049355703428, 0.35205905467001797, 1.049157583084074, -1.7305791860346444, 0.004692999260058379, 0.5405958431147707, -0.4461736936294021, 0.8825228776535895, 0.030729494441852752, -0.3631565706132641, -0.1304528386430972, -1.3531048702277668, -0.724933648794998, 0.3395751300210109, 0.6883617240069344, -1.1796970103051465, -0.26005641368133126, -0.7072500700048227, -0.30407011152351004, -0.10921775006797968, 0.18917774879848756, 0.7349428949829958, -1.7326017742871818, 0.2629551104312385, 0.6088961688288745, 2.184322882590267], \"yaxis\": \"y13\"}, {\"line\": {\"color\": \"rgba(128, 128, 128, 1.0)\", \"dash\": \"solid\", \"shape\": \"linear\", \"width\": 1.3}, \"marker\": {\"size\": 2, \"symbol\": \"circle\"}, \"mode\": \"markers\", \"name\": \"D\", \"text\": \"\", \"type\": \"scatter\", \"x\": [-1.3627216013659846, 0.2746479273419688, 0.7009464451380578, -1.3811013400556857, -1.7428511959512216, -0.8905026557041102, -0.551282879317178, 0.22107331559969615, -1.5843865530614263, -1.9578013663048495, 1.6767888897250252, 0.5704931064566529, -0.6314149241481537, 0.2757322702947673, 0.7876966927085246, -0.8981643739025043, 0.2948816739619415, 0.1826302665386844, -0.9359073662486931, -1.457757479610927, -0.30185223399542666, 0.9177284159277574, -0.5013513777674213, 2.9904562197653792, 1.2102048203993276, 0.3463027009884661, -0.14875933083792445, -0.7241462815090236, -0.25408636699024595, -0.1011944206256832, -0.9111289589894425, 0.09146337137093262, 1.6008067662713046, 1.2746041957302874, 0.9851969510533377, -0.8543754688768727, 1.6107325176724772, -1.4755417524303547, 0.2324101126295466, -1.1624830197173044, -1.3561431982536194, 0.5618943121972119, 0.3401447906679545, -1.6615229986560336, -0.2078537594217146, 0.727184088179305, -0.311201502392996, -0.5015752565114187, -1.1721312285095038, -1.5649694918407073, -1.0939670201572929, 0.3619889697652782, 3.367931842022976, -0.2521367382602952, -0.314242196876435, 0.28725557906216953, -2.3182561631414584, -0.5554086695260209, -0.42168125402643714, 1.689241224802193, 0.07370559648891448, -0.6359492421783562, 0.40914626446901686, 0.06893059954535942, 1.0029731029083802, 1.4683660981628652, 0.5641680851054268, -0.23720583119416894, -1.3720094046379412, -0.06317150115552012, -0.4646886627983753, -0.4653757228572715, 0.26066881226261535, 0.6871616119462791, -0.4920968386727682, -0.7887370928876344, -2.001483326801323, 1.679334471231441, 1.7345100201822912, -0.9727078661032714, 0.2919188486713192, 0.4653106873555381, 0.3891081605002875, 1.1844211163842735, -0.3689456505251842, 0.5046777558050485, 0.5212098489901662, -0.2810122685636921, -0.14805919194277323, 0.25379447016412093, -0.3485665898351345, 0.8050525463698355, -0.17894394437635838, -0.51770392029611, 2.074133165916208, 1.6404422314144023, 0.4178381849479696, -0.11527328671374554, 0.0746127850615184, -0.7620958143342098], \"xaxis\": \"x14\", \"y\": [1.3201714568640348, 0.8202669209189778, 1.719151406541747, -1.2816376583613855, 0.0831696363499211, 0.6965366706057647, 0.7935434244360957, -1.5622076183399023, -1.1796383832058777, 1.6259450325083684, 0.6490038637209604, 0.048559327499800305, -0.9756752702190868, 0.22351898637032006, 0.21016851899244585, -0.1197094817674166, -0.7647835911925246, -1.6047579516933612, -0.7334694992514847, 0.6962633130589095, -0.25738969061028455, 0.5103413390193426, 0.0031294517149671073, -0.11315603035653207, 1.6101379403522884, -2.269959304915933, 0.022594996453459457, 1.0728758569526557, 1.3683021274212308, 0.8703140951807572, -1.89470981138138, -0.5875261922033744, -0.5797975626155121, -0.0518635076673208, 1.4979498971398615, 1.7553151946287406, 0.543158041626994, -0.48111517813320376, 1.462121838919327, -1.8928949164493165, 0.8090004981305021, -0.5215255315362002, 0.18508719447823002, 0.7101244733780137, 1.726453377077064, -0.030234066855630664, -0.6962107936911083, -0.6994994721452497, 0.5282366821839588, 1.1007476290378306, 1.267079103387773, 0.3456039247550511, -0.09217827397355612, -0.8804725228566794, -0.16722466082385853, -0.07994646029779469, 0.05032870332012152, -1.0215178252859396, 2.035751536649158, 1.6095218128030624, -0.600345399297852, 0.8039288968289282, -0.45561788304988565, -0.9707345674572707, 1.5923413921458351, 1.8318923987271796, -0.670126175132533, 1.9242436712222672, 0.4228120518043545, 0.3974302445268368, 0.8701900618201787, 0.6675888402352415, -1.682852784395849, 1.093724252130086, 0.017097049355703428, 0.35205905467001797, 1.049157583084074, -1.7305791860346444, 0.004692999260058379, 0.5405958431147707, -0.4461736936294021, 0.8825228776535895, 0.030729494441852752, -0.3631565706132641, -0.1304528386430972, -1.3531048702277668, -0.724933648794998, 0.3395751300210109, 0.6883617240069344, -1.1796970103051465, -0.26005641368133126, -0.7072500700048227, -0.30407011152351004, -0.10921775006797968, 0.18917774879848756, 0.7349428949829958, -1.7326017742871818, 0.2629551104312385, 0.6088961688288745, 2.184322882590267], \"yaxis\": \"y14\"}, {\"line\": {\"color\": \"rgba(128, 128, 128, 1.0)\", \"dash\": \"solid\", \"shape\": \"linear\", \"width\": 1.3}, \"marker\": {\"size\": 2, \"symbol\": \"circle\"}, \"mode\": \"markers\", \"name\": \"D\", \"text\": \"\", \"type\": \"scatter\", \"x\": [1.0529477368352136, 0.2930617432357008, 1.1119203484653744, 1.6489383973038985, -0.44315194894339144, 0.33971969885165815, -1.2679410723898759, 0.878602412594766, -0.01701777700976262, -1.7074610983020595, -1.986927656815517, -1.1922110015564524, -0.5289785497095464, 0.01680000042455843, -0.5837674106225055, -0.4871165230268496, -0.4014215872776401, 0.2085731372016796, -0.12780879304509013, -0.3495255202499878, -0.4941769165686941, -0.39661867736678547, -0.38111518818973755, 0.4645588365578656, -0.6501920276514084, -0.1738867804627645, -0.7370725898005802, 0.44065890061618307, 0.40199017395439596, 0.6822320891666506, -1.0573519166387042, -0.06137487892316644, 0.38170228423852337, 0.21700616745257056, 0.1449485329915072, -0.5553712189724804, 0.8272280563703455, -1.0743848368044255, 0.7104998921867854, -0.8218771784084514, 0.434615961626369, 1.156337788721006, -0.06593257759944639, 0.043166423794045145, -1.1105345941936113, 0.46687735229821237, -0.7385150046263226, -1.4786736135599818, 1.1353388872144567, -0.13804718547003814, -0.15085226213919517, 2.0103030052593036, -0.8861673395197391, 0.369075423768828, 0.621665384466069, 0.13652870069573342, -1.4120431805131202, -0.0920764508822153, 0.46260254889670127, 0.22998224781090865, -3.4136647243792915, -0.6749090527451456, 1.1486066977984637, 0.2140483875336955, 0.7817456798306535, -0.5811849698058041, -0.41280012512979136, -0.42266356181884757, -0.39396835572244737, -1.323045945410225, 1.470867827972942, -0.20919148148767397, -0.9715729101680947, -0.039975048729562014, -0.23501017151791628, 1.2913427255576981, 0.2784273540941354, -0.5032400855247581, 2.390414309104297, 1.0777999460240182, 2.4468066095748067, 0.1925307180321371, 0.8752229524577904, 0.18515108533003463, -1.0288114749536927, -0.3161675038371752, -1.969130484252486, 0.4105749890189144, 1.8963874037587554, -1.0628751535799188, 0.179513787835816, -1.1586864022523369, 1.281450933600982, -0.868531842418097, 0.5185875432864853, -1.2834058964357886, -0.05858961011572423, 0.41515782596194695, -0.07699647435151223, -0.623214868362486], \"xaxis\": \"x15\", \"y\": [1.3201714568640348, 0.8202669209189778, 1.719151406541747, -1.2816376583613855, 0.0831696363499211, 0.6965366706057647, 0.7935434244360957, -1.5622076183399023, -1.1796383832058777, 1.6259450325083684, 0.6490038637209604, 0.048559327499800305, -0.9756752702190868, 0.22351898637032006, 0.21016851899244585, -0.1197094817674166, -0.7647835911925246, -1.6047579516933612, -0.7334694992514847, 0.6962633130589095, -0.25738969061028455, 0.5103413390193426, 0.0031294517149671073, -0.11315603035653207, 1.6101379403522884, -2.269959304915933, 0.022594996453459457, 1.0728758569526557, 1.3683021274212308, 0.8703140951807572, -1.89470981138138, -0.5875261922033744, -0.5797975626155121, -0.0518635076673208, 1.4979498971398615, 1.7553151946287406, 0.543158041626994, -0.48111517813320376, 1.462121838919327, -1.8928949164493165, 0.8090004981305021, -0.5215255315362002, 0.18508719447823002, 0.7101244733780137, 1.726453377077064, -0.030234066855630664, -0.6962107936911083, -0.6994994721452497, 0.5282366821839588, 1.1007476290378306, 1.267079103387773, 0.3456039247550511, -0.09217827397355612, -0.8804725228566794, -0.16722466082385853, -0.07994646029779469, 0.05032870332012152, -1.0215178252859396, 2.035751536649158, 1.6095218128030624, -0.600345399297852, 0.8039288968289282, -0.45561788304988565, -0.9707345674572707, 1.5923413921458351, 1.8318923987271796, -0.670126175132533, 1.9242436712222672, 0.4228120518043545, 0.3974302445268368, 0.8701900618201787, 0.6675888402352415, -1.682852784395849, 1.093724252130086, 0.017097049355703428, 0.35205905467001797, 1.049157583084074, -1.7305791860346444, 0.004692999260058379, 0.5405958431147707, -0.4461736936294021, 0.8825228776535895, 0.030729494441852752, -0.3631565706132641, -0.1304528386430972, -1.3531048702277668, -0.724933648794998, 0.3395751300210109, 0.6883617240069344, -1.1796970103051465, -0.26005641368133126, -0.7072500700048227, -0.30407011152351004, -0.10921775006797968, 0.18917774879848756, 0.7349428949829958, -1.7326017742871818, 0.2629551104312385, 0.6088961688288745, 2.184322882590267], \"yaxis\": \"y15\"}, {\"histfunc\": \"count\", \"histnorm\": \"\", \"marker\": {\"color\": \"rgba(128, 0, 128, 1.0)\", \"line\": {\"color\": \"#4D5663\", \"width\": 1.3}}, \"name\": \"D\", \"nbinsx\": 10, \"opacity\": 0.8, \"orientation\": \"v\", \"type\": \"histogram\", \"x\": [1.3201714568640348, 0.8202669209189778, 1.719151406541747, -1.2816376583613855, 0.0831696363499211, 0.6965366706057647, 0.7935434244360957, -1.5622076183399023, -1.1796383832058777, 1.6259450325083684, 0.6490038637209604, 0.048559327499800305, -0.9756752702190868, 0.22351898637032006, 0.21016851899244585, -0.1197094817674166, -0.7647835911925246, -1.6047579516933612, -0.7334694992514847, 0.6962633130589095, -0.25738969061028455, 0.5103413390193426, 0.0031294517149671073, -0.11315603035653207, 1.6101379403522884, -2.269959304915933, 0.022594996453459457, 1.0728758569526557, 1.3683021274212308, 0.8703140951807572, -1.89470981138138, -0.5875261922033744, -0.5797975626155121, -0.0518635076673208, 1.4979498971398615, 1.7553151946287406, 0.543158041626994, -0.48111517813320376, 1.462121838919327, -1.8928949164493165, 0.8090004981305021, -0.5215255315362002, 0.18508719447823002, 0.7101244733780137, 1.726453377077064, -0.030234066855630664, -0.6962107936911083, -0.6994994721452497, 0.5282366821839588, 1.1007476290378306, 1.267079103387773, 0.3456039247550511, -0.09217827397355612, -0.8804725228566794, -0.16722466082385853, -0.07994646029779469, 0.05032870332012152, -1.0215178252859396, 2.035751536649158, 1.6095218128030624, -0.600345399297852, 0.8039288968289282, -0.45561788304988565, -0.9707345674572707, 1.5923413921458351, 1.8318923987271796, -0.670126175132533, 1.9242436712222672, 0.4228120518043545, 0.3974302445268368, 0.8701900618201787, 0.6675888402352415, -1.682852784395849, 1.093724252130086, 0.017097049355703428, 0.35205905467001797, 1.049157583084074, -1.7305791860346444, 0.004692999260058379, 0.5405958431147707, -0.4461736936294021, 0.8825228776535895, 0.030729494441852752, -0.3631565706132641, -0.1304528386430972, -1.3531048702277668, -0.724933648794998, 0.3395751300210109, 0.6883617240069344, -1.1796970103051465, -0.26005641368133126, -0.7072500700048227, -0.30407011152351004, -0.10921775006797968, 0.18917774879848756, 0.7349428949829958, -1.7326017742871818, 0.2629551104312385, 0.6088961688288745, 2.184322882590267], \"xaxis\": \"x16\", \"yaxis\": \"y16\"}],                        {\"bargap\": 0.02, \"legend\": {\"bgcolor\": \"#F5F6F9\", \"font\": {\"color\": \"#4D5663\"}}, \"paper_bgcolor\": \"#F5F6F9\", \"plot_bgcolor\": \"#F5F6F9\", \"showlegend\": false, \"template\": {\"data\": {\"bar\": [{\"error_x\": {\"color\": \"#2a3f5f\"}, \"error_y\": {\"color\": \"#2a3f5f\"}, \"marker\": {\"line\": {\"color\": \"#E5ECF6\", \"width\": 0.5}}, \"type\": \"bar\"}], \"barpolar\": [{\"marker\": {\"line\": {\"color\": \"#E5ECF6\", \"width\": 0.5}}, \"type\": \"barpolar\"}], \"carpet\": [{\"aaxis\": {\"endlinecolor\": \"#2a3f5f\", \"gridcolor\": \"white\", \"linecolor\": \"white\", \"minorgridcolor\": \"white\", \"startlinecolor\": \"#2a3f5f\"}, \"baxis\": {\"endlinecolor\": \"#2a3f5f\", \"gridcolor\": \"white\", \"linecolor\": \"white\", \"minorgridcolor\": \"white\", \"startlinecolor\": \"#2a3f5f\"}, \"type\": \"carpet\"}], \"choropleth\": [{\"colorbar\": {\"outlinewidth\": 0, \"ticks\": \"\"}, \"type\": \"choropleth\"}], \"contour\": [{\"colorbar\": {\"outlinewidth\": 0, \"ticks\": \"\"}, \"colorscale\": [[0.0, \"#0d0887\"], [0.1111111111111111, \"#46039f\"], [0.2222222222222222, \"#7201a8\"], [0.3333333333333333, \"#9c179e\"], [0.4444444444444444, \"#bd3786\"], [0.5555555555555556, \"#d8576b\"], [0.6666666666666666, \"#ed7953\"], [0.7777777777777778, \"#fb9f3a\"], [0.8888888888888888, \"#fdca26\"], [1.0, \"#f0f921\"]], \"type\": \"contour\"}], \"contourcarpet\": [{\"colorbar\": {\"outlinewidth\": 0, \"ticks\": \"\"}, \"type\": \"contourcarpet\"}], \"heatmap\": [{\"colorbar\": {\"outlinewidth\": 0, \"ticks\": \"\"}, \"colorscale\": [[0.0, \"#0d0887\"], [0.1111111111111111, \"#46039f\"], [0.2222222222222222, \"#7201a8\"], [0.3333333333333333, \"#9c179e\"], [0.4444444444444444, \"#bd3786\"], [0.5555555555555556, \"#d8576b\"], [0.6666666666666666, \"#ed7953\"], [0.7777777777777778, \"#fb9f3a\"], [0.8888888888888888, \"#fdca26\"], [1.0, \"#f0f921\"]], \"type\": \"heatmap\"}], \"heatmapgl\": [{\"colorbar\": {\"outlinewidth\": 0, \"ticks\": \"\"}, \"colorscale\": [[0.0, \"#0d0887\"], [0.1111111111111111, \"#46039f\"], [0.2222222222222222, \"#7201a8\"], [0.3333333333333333, \"#9c179e\"], [0.4444444444444444, \"#bd3786\"], [0.5555555555555556, \"#d8576b\"], [0.6666666666666666, \"#ed7953\"], [0.7777777777777778, \"#fb9f3a\"], [0.8888888888888888, \"#fdca26\"], [1.0, \"#f0f921\"]], \"type\": \"heatmapgl\"}], \"histogram\": [{\"marker\": {\"colorbar\": {\"outlinewidth\": 0, \"ticks\": \"\"}}, \"type\": \"histogram\"}], \"histogram2d\": [{\"colorbar\": {\"outlinewidth\": 0, \"ticks\": \"\"}, \"colorscale\": [[0.0, \"#0d0887\"], [0.1111111111111111, \"#46039f\"], [0.2222222222222222, \"#7201a8\"], [0.3333333333333333, \"#9c179e\"], [0.4444444444444444, \"#bd3786\"], [0.5555555555555556, \"#d8576b\"], [0.6666666666666666, \"#ed7953\"], [0.7777777777777778, \"#fb9f3a\"], [0.8888888888888888, \"#fdca26\"], [1.0, \"#f0f921\"]], \"type\": \"histogram2d\"}], \"histogram2dcontour\": [{\"colorbar\": {\"outlinewidth\": 0, \"ticks\": \"\"}, \"colorscale\": [[0.0, \"#0d0887\"], [0.1111111111111111, \"#46039f\"], [0.2222222222222222, \"#7201a8\"], [0.3333333333333333, \"#9c179e\"], [0.4444444444444444, \"#bd3786\"], [0.5555555555555556, \"#d8576b\"], [0.6666666666666666, \"#ed7953\"], [0.7777777777777778, \"#fb9f3a\"], [0.8888888888888888, \"#fdca26\"], [1.0, \"#f0f921\"]], \"type\": \"histogram2dcontour\"}], \"mesh3d\": [{\"colorbar\": {\"outlinewidth\": 0, \"ticks\": \"\"}, \"type\": \"mesh3d\"}], \"parcoords\": [{\"line\": {\"colorbar\": {\"outlinewidth\": 0, \"ticks\": \"\"}}, \"type\": \"parcoords\"}], \"pie\": [{\"automargin\": true, \"type\": \"pie\"}], \"scatter\": [{\"marker\": {\"colorbar\": {\"outlinewidth\": 0, \"ticks\": \"\"}}, \"type\": \"scatter\"}], \"scatter3d\": [{\"line\": {\"colorbar\": {\"outlinewidth\": 0, \"ticks\": \"\"}}, \"marker\": {\"colorbar\": {\"outlinewidth\": 0, \"ticks\": \"\"}}, \"type\": \"scatter3d\"}], \"scattercarpet\": [{\"marker\": {\"colorbar\": {\"outlinewidth\": 0, \"ticks\": \"\"}}, \"type\": \"scattercarpet\"}], \"scattergeo\": [{\"marker\": {\"colorbar\": {\"outlinewidth\": 0, \"ticks\": \"\"}}, \"type\": \"scattergeo\"}], \"scattergl\": [{\"marker\": {\"colorbar\": {\"outlinewidth\": 0, \"ticks\": \"\"}}, \"type\": \"scattergl\"}], \"scattermapbox\": [{\"marker\": {\"colorbar\": {\"outlinewidth\": 0, \"ticks\": \"\"}}, \"type\": \"scattermapbox\"}], \"scatterpolar\": [{\"marker\": {\"colorbar\": {\"outlinewidth\": 0, \"ticks\": \"\"}}, \"type\": \"scatterpolar\"}], \"scatterpolargl\": [{\"marker\": {\"colorbar\": {\"outlinewidth\": 0, \"ticks\": \"\"}}, \"type\": \"scatterpolargl\"}], \"scatterternary\": [{\"marker\": {\"colorbar\": {\"outlinewidth\": 0, \"ticks\": \"\"}}, \"type\": \"scatterternary\"}], \"surface\": [{\"colorbar\": {\"outlinewidth\": 0, \"ticks\": \"\"}, \"colorscale\": [[0.0, \"#0d0887\"], [0.1111111111111111, \"#46039f\"], [0.2222222222222222, \"#7201a8\"], [0.3333333333333333, \"#9c179e\"], [0.4444444444444444, \"#bd3786\"], [0.5555555555555556, \"#d8576b\"], [0.6666666666666666, \"#ed7953\"], [0.7777777777777778, \"#fb9f3a\"], [0.8888888888888888, \"#fdca26\"], [1.0, \"#f0f921\"]], \"type\": \"surface\"}], \"table\": [{\"cells\": {\"fill\": {\"color\": \"#EBF0F8\"}, \"line\": {\"color\": \"white\"}}, \"header\": {\"fill\": {\"color\": \"#C8D4E3\"}, \"line\": {\"color\": \"white\"}}, \"type\": \"table\"}]}, \"layout\": {\"annotationdefaults\": {\"arrowcolor\": \"#2a3f5f\", \"arrowhead\": 0, \"arrowwidth\": 1}, \"autotypenumbers\": \"strict\", \"coloraxis\": {\"colorbar\": {\"outlinewidth\": 0, \"ticks\": \"\"}}, \"colorscale\": {\"diverging\": [[0, \"#8e0152\"], [0.1, \"#c51b7d\"], [0.2, \"#de77ae\"], [0.3, \"#f1b6da\"], [0.4, \"#fde0ef\"], [0.5, \"#f7f7f7\"], [0.6, \"#e6f5d0\"], [0.7, \"#b8e186\"], [0.8, \"#7fbc41\"], [0.9, \"#4d9221\"], [1, \"#276419\"]], \"sequential\": [[0.0, \"#0d0887\"], [0.1111111111111111, \"#46039f\"], [0.2222222222222222, \"#7201a8\"], [0.3333333333333333, \"#9c179e\"], [0.4444444444444444, \"#bd3786\"], [0.5555555555555556, \"#d8576b\"], [0.6666666666666666, \"#ed7953\"], [0.7777777777777778, \"#fb9f3a\"], [0.8888888888888888, \"#fdca26\"], [1.0, \"#f0f921\"]], \"sequentialminus\": [[0.0, \"#0d0887\"], [0.1111111111111111, \"#46039f\"], [0.2222222222222222, \"#7201a8\"], [0.3333333333333333, \"#9c179e\"], [0.4444444444444444, \"#bd3786\"], [0.5555555555555556, \"#d8576b\"], [0.6666666666666666, \"#ed7953\"], [0.7777777777777778, \"#fb9f3a\"], [0.8888888888888888, \"#fdca26\"], [1.0, \"#f0f921\"]]}, \"colorway\": [\"#636efa\", \"#EF553B\", \"#00cc96\", \"#ab63fa\", \"#FFA15A\", \"#19d3f3\", \"#FF6692\", \"#B6E880\", \"#FF97FF\", \"#FECB52\"], \"font\": {\"color\": \"#2a3f5f\"}, \"geo\": {\"bgcolor\": \"white\", \"lakecolor\": \"white\", \"landcolor\": \"#E5ECF6\", \"showlakes\": true, \"showland\": true, \"subunitcolor\": \"white\"}, \"hoverlabel\": {\"align\": \"left\"}, \"hovermode\": \"closest\", \"mapbox\": {\"style\": \"light\"}, \"paper_bgcolor\": \"white\", \"plot_bgcolor\": \"#E5ECF6\", \"polar\": {\"angularaxis\": {\"gridcolor\": \"white\", \"linecolor\": \"white\", \"ticks\": \"\"}, \"bgcolor\": \"#E5ECF6\", \"radialaxis\": {\"gridcolor\": \"white\", \"linecolor\": \"white\", \"ticks\": \"\"}}, \"scene\": {\"xaxis\": {\"backgroundcolor\": \"#E5ECF6\", \"gridcolor\": \"white\", \"gridwidth\": 2, \"linecolor\": \"white\", \"showbackground\": true, \"ticks\": \"\", \"zerolinecolor\": \"white\"}, \"yaxis\": {\"backgroundcolor\": \"#E5ECF6\", \"gridcolor\": \"white\", \"gridwidth\": 2, \"linecolor\": \"white\", \"showbackground\": true, \"ticks\": \"\", \"zerolinecolor\": \"white\"}, \"zaxis\": {\"backgroundcolor\": \"#E5ECF6\", \"gridcolor\": \"white\", \"gridwidth\": 2, \"linecolor\": \"white\", \"showbackground\": true, \"ticks\": \"\", \"zerolinecolor\": \"white\"}}, \"shapedefaults\": {\"line\": {\"color\": \"#2a3f5f\"}}, \"ternary\": {\"aaxis\": {\"gridcolor\": \"white\", \"linecolor\": \"white\", \"ticks\": \"\"}, \"baxis\": {\"gridcolor\": \"white\", \"linecolor\": \"white\", \"ticks\": \"\"}, \"bgcolor\": \"#E5ECF6\", \"caxis\": {\"gridcolor\": \"white\", \"linecolor\": \"white\", \"ticks\": \"\"}}, \"title\": {\"x\": 0.05}, \"xaxis\": {\"automargin\": true, \"gridcolor\": \"white\", \"linecolor\": \"white\", \"ticks\": \"\", \"title\": {\"standoff\": 15}, \"zerolinecolor\": \"white\", \"zerolinewidth\": 2}, \"yaxis\": {\"automargin\": true, \"gridcolor\": \"white\", \"linecolor\": \"white\", \"ticks\": \"\", \"title\": {\"standoff\": 15}, \"zerolinecolor\": \"white\", \"zerolinewidth\": 2}}}, \"title\": {\"font\": {\"color\": \"#4D5663\"}}, \"xaxis\": {\"anchor\": \"y\", \"domain\": [0.0, 0.2125], \"gridcolor\": \"#E1E5ED\", \"showgrid\": false, \"tickfont\": {\"color\": \"#4D5663\"}, \"title\": {\"font\": {\"color\": \"#4D5663\"}, \"text\": \"\"}, \"zerolinecolor\": \"#E1E5ED\"}, \"xaxis10\": {\"anchor\": \"y10\", \"domain\": [0.2625, 0.475], \"gridcolor\": \"#E1E5ED\", \"showgrid\": false, \"tickfont\": {\"color\": \"#4D5663\"}, \"title\": {\"font\": {\"color\": \"#4D5663\"}, \"text\": \"\"}, \"zerolinecolor\": \"#E1E5ED\"}, \"xaxis11\": {\"anchor\": \"y11\", \"domain\": [0.525, 0.7375], \"gridcolor\": \"#E1E5ED\", \"showgrid\": false, \"tickfont\": {\"color\": \"#4D5663\"}, \"title\": {\"font\": {\"color\": \"#4D5663\"}, \"text\": \"\"}, \"zerolinecolor\": \"#E1E5ED\"}, \"xaxis12\": {\"anchor\": \"y12\", \"domain\": [0.7875, 1.0], \"gridcolor\": \"#E1E5ED\", \"showgrid\": false, \"tickfont\": {\"color\": \"#4D5663\"}, \"title\": {\"font\": {\"color\": \"#4D5663\"}, \"text\": \"\"}, \"zerolinecolor\": \"#E1E5ED\"}, \"xaxis13\": {\"anchor\": \"y13\", \"domain\": [0.0, 0.2125], \"gridcolor\": \"#E1E5ED\", \"showgrid\": false, \"tickfont\": {\"color\": \"#4D5663\"}, \"title\": {\"font\": {\"color\": \"#4D5663\"}, \"text\": \"\"}, \"zerolinecolor\": \"#E1E5ED\"}, \"xaxis14\": {\"anchor\": \"y14\", \"domain\": [0.2625, 0.475], \"gridcolor\": \"#E1E5ED\", \"showgrid\": false, \"tickfont\": {\"color\": \"#4D5663\"}, \"title\": {\"font\": {\"color\": \"#4D5663\"}, \"text\": \"\"}, \"zerolinecolor\": \"#E1E5ED\"}, \"xaxis15\": {\"anchor\": \"y15\", \"domain\": [0.525, 0.7375], \"gridcolor\": \"#E1E5ED\", \"showgrid\": false, \"tickfont\": {\"color\": \"#4D5663\"}, \"title\": {\"font\": {\"color\": \"#4D5663\"}, \"text\": \"\"}, \"zerolinecolor\": \"#E1E5ED\"}, \"xaxis16\": {\"anchor\": \"y16\", \"domain\": [0.7875, 1.0], \"gridcolor\": \"#E1E5ED\", \"showgrid\": false, \"tickfont\": {\"color\": \"#4D5663\"}, \"title\": {\"font\": {\"color\": \"#4D5663\"}, \"text\": \"\"}, \"zerolinecolor\": \"#E1E5ED\"}, \"xaxis2\": {\"anchor\": \"y2\", \"domain\": [0.2625, 0.475], \"gridcolor\": \"#E1E5ED\", \"showgrid\": false, \"tickfont\": {\"color\": \"#4D5663\"}, \"title\": {\"font\": {\"color\": \"#4D5663\"}, \"text\": \"\"}, \"zerolinecolor\": \"#E1E5ED\"}, \"xaxis3\": {\"anchor\": \"y3\", \"domain\": [0.525, 0.7375], \"gridcolor\": \"#E1E5ED\", \"showgrid\": false, \"tickfont\": {\"color\": \"#4D5663\"}, \"title\": {\"font\": {\"color\": \"#4D5663\"}, \"text\": \"\"}, \"zerolinecolor\": \"#E1E5ED\"}, \"xaxis4\": {\"anchor\": \"y4\", \"domain\": [0.7875, 1.0], \"gridcolor\": \"#E1E5ED\", \"showgrid\": false, \"tickfont\": {\"color\": \"#4D5663\"}, \"title\": {\"font\": {\"color\": \"#4D5663\"}, \"text\": \"\"}, \"zerolinecolor\": \"#E1E5ED\"}, \"xaxis5\": {\"anchor\": \"y5\", \"domain\": [0.0, 0.2125], \"gridcolor\": \"#E1E5ED\", \"showgrid\": false, \"tickfont\": {\"color\": \"#4D5663\"}, \"title\": {\"font\": {\"color\": \"#4D5663\"}, \"text\": \"\"}, \"zerolinecolor\": \"#E1E5ED\"}, \"xaxis6\": {\"anchor\": \"y6\", \"domain\": [0.2625, 0.475], \"gridcolor\": \"#E1E5ED\", \"showgrid\": false, \"tickfont\": {\"color\": \"#4D5663\"}, \"title\": {\"font\": {\"color\": \"#4D5663\"}, \"text\": \"\"}, \"zerolinecolor\": \"#E1E5ED\"}, \"xaxis7\": {\"anchor\": \"y7\", \"domain\": [0.525, 0.7375], \"gridcolor\": \"#E1E5ED\", \"showgrid\": false, \"tickfont\": {\"color\": \"#4D5663\"}, \"title\": {\"font\": {\"color\": \"#4D5663\"}, \"text\": \"\"}, \"zerolinecolor\": \"#E1E5ED\"}, \"xaxis8\": {\"anchor\": \"y8\", \"domain\": [0.7875, 1.0], \"gridcolor\": \"#E1E5ED\", \"showgrid\": false, \"tickfont\": {\"color\": \"#4D5663\"}, \"title\": {\"font\": {\"color\": \"#4D5663\"}, \"text\": \"\"}, \"zerolinecolor\": \"#E1E5ED\"}, \"xaxis9\": {\"anchor\": \"y9\", \"domain\": [0.0, 0.2125], \"gridcolor\": \"#E1E5ED\", \"showgrid\": false, \"tickfont\": {\"color\": \"#4D5663\"}, \"title\": {\"font\": {\"color\": \"#4D5663\"}, \"text\": \"\"}, \"zerolinecolor\": \"#E1E5ED\"}, \"yaxis\": {\"anchor\": \"x\", \"domain\": [0.8025, 1.0], \"gridcolor\": \"#E1E5ED\", \"showgrid\": false, \"tickfont\": {\"color\": \"#4D5663\"}, \"title\": {\"font\": {\"color\": \"#4D5663\"}, \"text\": \"\"}, \"zerolinecolor\": \"#E1E5ED\"}, \"yaxis10\": {\"anchor\": \"x10\", \"domain\": [0.2675, 0.465], \"gridcolor\": \"#E1E5ED\", \"showgrid\": false, \"tickfont\": {\"color\": \"#4D5663\"}, \"title\": {\"font\": {\"color\": \"#4D5663\"}, \"text\": \"\"}, \"zerolinecolor\": \"#E1E5ED\"}, \"yaxis11\": {\"anchor\": \"x11\", \"domain\": [0.2675, 0.465], \"gridcolor\": \"#E1E5ED\", \"showgrid\": false, \"tickfont\": {\"color\": \"#4D5663\"}, \"title\": {\"font\": {\"color\": \"#4D5663\"}, \"text\": \"\"}, \"zerolinecolor\": \"#E1E5ED\"}, \"yaxis12\": {\"anchor\": \"x12\", \"domain\": [0.2675, 0.465], \"gridcolor\": \"#E1E5ED\", \"showgrid\": false, \"tickfont\": {\"color\": \"#4D5663\"}, \"title\": {\"font\": {\"color\": \"#4D5663\"}, \"text\": \"\"}, \"zerolinecolor\": \"#E1E5ED\"}, \"yaxis13\": {\"anchor\": \"x13\", \"domain\": [0.0, 0.1975], \"gridcolor\": \"#E1E5ED\", \"showgrid\": false, \"tickfont\": {\"color\": \"#4D5663\"}, \"title\": {\"font\": {\"color\": \"#4D5663\"}, \"text\": \"\"}, \"zerolinecolor\": \"#E1E5ED\"}, \"yaxis14\": {\"anchor\": \"x14\", \"domain\": [0.0, 0.1975], \"gridcolor\": \"#E1E5ED\", \"showgrid\": false, \"tickfont\": {\"color\": \"#4D5663\"}, \"title\": {\"font\": {\"color\": \"#4D5663\"}, \"text\": \"\"}, \"zerolinecolor\": \"#E1E5ED\"}, \"yaxis15\": {\"anchor\": \"x15\", \"domain\": [0.0, 0.1975], \"gridcolor\": \"#E1E5ED\", \"showgrid\": false, \"tickfont\": {\"color\": \"#4D5663\"}, \"title\": {\"font\": {\"color\": \"#4D5663\"}, \"text\": \"\"}, \"zerolinecolor\": \"#E1E5ED\"}, \"yaxis16\": {\"anchor\": \"x16\", \"domain\": [0.0, 0.1975], \"gridcolor\": \"#E1E5ED\", \"showgrid\": false, \"tickfont\": {\"color\": \"#4D5663\"}, \"title\": {\"font\": {\"color\": \"#4D5663\"}, \"text\": \"\"}, \"zerolinecolor\": \"#E1E5ED\"}, \"yaxis2\": {\"anchor\": \"x2\", \"domain\": [0.8025, 1.0], \"gridcolor\": \"#E1E5ED\", \"showgrid\": false, \"tickfont\": {\"color\": \"#4D5663\"}, \"title\": {\"font\": {\"color\": \"#4D5663\"}, \"text\": \"\"}, \"zerolinecolor\": \"#E1E5ED\"}, \"yaxis3\": {\"anchor\": \"x3\", \"domain\": [0.8025, 1.0], \"gridcolor\": \"#E1E5ED\", \"showgrid\": false, \"tickfont\": {\"color\": \"#4D5663\"}, \"title\": {\"font\": {\"color\": \"#4D5663\"}, \"text\": \"\"}, \"zerolinecolor\": \"#E1E5ED\"}, \"yaxis4\": {\"anchor\": \"x4\", \"domain\": [0.8025, 1.0], \"gridcolor\": \"#E1E5ED\", \"showgrid\": false, \"tickfont\": {\"color\": \"#4D5663\"}, \"title\": {\"font\": {\"color\": \"#4D5663\"}, \"text\": \"\"}, \"zerolinecolor\": \"#E1E5ED\"}, \"yaxis5\": {\"anchor\": \"x5\", \"domain\": [0.535, 0.7325], \"gridcolor\": \"#E1E5ED\", \"showgrid\": false, \"tickfont\": {\"color\": \"#4D5663\"}, \"title\": {\"font\": {\"color\": \"#4D5663\"}, \"text\": \"\"}, \"zerolinecolor\": \"#E1E5ED\"}, \"yaxis6\": {\"anchor\": \"x6\", \"domain\": [0.535, 0.7325], \"gridcolor\": \"#E1E5ED\", \"showgrid\": false, \"tickfont\": {\"color\": \"#4D5663\"}, \"title\": {\"font\": {\"color\": \"#4D5663\"}, \"text\": \"\"}, \"zerolinecolor\": \"#E1E5ED\"}, \"yaxis7\": {\"anchor\": \"x7\", \"domain\": [0.535, 0.7325], \"gridcolor\": \"#E1E5ED\", \"showgrid\": false, \"tickfont\": {\"color\": \"#4D5663\"}, \"title\": {\"font\": {\"color\": \"#4D5663\"}, \"text\": \"\"}, \"zerolinecolor\": \"#E1E5ED\"}, \"yaxis8\": {\"anchor\": \"x8\", \"domain\": [0.535, 0.7325], \"gridcolor\": \"#E1E5ED\", \"showgrid\": false, \"tickfont\": {\"color\": \"#4D5663\"}, \"title\": {\"font\": {\"color\": \"#4D5663\"}, \"text\": \"\"}, \"zerolinecolor\": \"#E1E5ED\"}, \"yaxis9\": {\"anchor\": \"x9\", \"domain\": [0.2675, 0.465], \"gridcolor\": \"#E1E5ED\", \"showgrid\": false, \"tickfont\": {\"color\": \"#4D5663\"}, \"title\": {\"font\": {\"color\": \"#4D5663\"}, \"text\": \"\"}, \"zerolinecolor\": \"#E1E5ED\"}},                        {\"showLink\": true, \"linkText\": \"Export to plot.ly\", \"plotlyServerURL\": \"https://plot.ly\", \"responsive\": true}                    ).then(function(){\n",
       "                            \n",
       "var gd = document.getElementById('d14b4936-8472-44a5-94cb-d89e33eec689');\n",
       "var x = new MutationObserver(function (mutations, observer) {{\n",
       "        var display = window.getComputedStyle(gd).display;\n",
       "        if (!display || display === 'none') {{\n",
       "            console.log([gd, 'removed!']);\n",
       "            Plotly.purge(gd);\n",
       "            observer.disconnect();\n",
       "        }}\n",
       "}});\n",
       "\n",
       "// Listen for the removal of the full notebook cells\n",
       "var notebookContainer = gd.closest('#notebook-container');\n",
       "if (notebookContainer) {{\n",
       "    x.observe(notebookContainer, {childList: true});\n",
       "}}\n",
       "\n",
       "// Listen for the clearing of the current output cell\n",
       "var outputEl = gd.closest('.output');\n",
       "if (outputEl) {{\n",
       "    x.observe(outputEl, {childList: true});\n",
       "}}\n",
       "\n",
       "                        })                };                });            </script>        </div>"
      ]
     },
     "metadata": {},
     "output_type": "display_data"
    }
   ],
   "source": [
    "df.scatter_matrix()"
   ]
  },
  {
   "cell_type": "markdown",
   "metadata": {
    "collapsed": true
   },
   "source": [
    "# Great Job!"
   ]
  }
 ],
 "metadata": {
  "kernelspec": {
   "display_name": "Python 3 (ipykernel)",
   "language": "python",
   "name": "python3"
  },
  "language_info": {
   "codemirror_mode": {
    "name": "ipython",
    "version": 3
   },
   "file_extension": ".py",
   "mimetype": "text/x-python",
   "name": "python",
   "nbconvert_exporter": "python",
   "pygments_lexer": "ipython3",
   "version": "3.9.7"
  }
 },
 "nbformat": 4,
 "nbformat_minor": 1
}
